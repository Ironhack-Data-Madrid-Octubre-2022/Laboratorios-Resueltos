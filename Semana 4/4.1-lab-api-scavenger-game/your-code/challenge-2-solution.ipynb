{
 "cells": [
  {
   "cell_type": "markdown",
   "id": "threaded-asbestos",
   "metadata": {},
   "source": [
    "# Challenge 2: Count Commits\n",
    "\n",
    "Count how many commits were made in the past week.\n",
    "\n",
    "Obtain all the commits made in the past week via API, which is a JSON array that contains multiple commit objects.\n",
    "\n",
    "Count how many commit objects are contained in the array."
   ]
  },
  {
   "cell_type": "markdown",
   "id": "norwegian-praise",
   "metadata": {},
   "source": [
    "⚠️ **Remember to limit your output before submission**."
   ]
  },
  {
   "cell_type": "code",
   "execution_count": 1,
   "id": "developing-printing",
   "metadata": {},
   "outputs": [],
   "source": [
    "#Your code\n",
    "import os\n",
    "from dotenv import load_dotenv\n",
    "import re\n",
    "load_dotenv()\n",
    "import json\n",
    "import requests"
   ]
  },
  {
   "cell_type": "code",
   "execution_count": 2,
   "id": "394a3795",
   "metadata": {},
   "outputs": [],
   "source": [
    "commits = \"/repos/Ironhack-Data-Madrid-Agosto-2022/Apuntes-de-clase/commits\""
   ]
  },
  {
   "cell_type": "code",
   "execution_count": 3,
   "id": "bd9773b3",
   "metadata": {},
   "outputs": [],
   "source": [
    "def requestGithub (endpoint):\n",
    "    \n",
    "    \n",
    "    '''This function get an endopoint as argument and returns a list with the response from GitHub API.\n",
    "    It imports the github token from the .env file(not uploaded to github) and gets the authentication ready.s\n",
    "    If you don't have your token in the .env file, it will raise an error.\n",
    "    The function takes the base url https://api.github.com for github API and adds the endpoint that gets as argument'''\n",
    "    \n",
    "    \n",
    "    token = os.getenv(\"GITHUB_APIKEY\")\n",
    "    with open('token.txt', 'r') as f:\n",
    "        token = f.read()\n",
    "    if not token:\n",
    "        raise ValueError (\"Necesitas un token\")\n",
    "    direccion=\"https://api.github.com\"\n",
    "    url = direccion+endpoint\n",
    "\n",
    "    print(f\"Haciendo request a {url}\")\n",
    "    headers = {\n",
    "        \"Authorization\": f\"token {token}\"}\n",
    "\n",
    "    res = requests.get(url, headers=headers)\n",
    "    return res.json()"
   ]
  },
  {
   "cell_type": "code",
   "execution_count": 4,
   "id": "adb8ca26",
   "metadata": {},
   "outputs": [
    {
     "name": "stdout",
     "output_type": "stream",
     "text": [
      "Haciendo request a https://api.github.com/repos/Ironhack-Data-Madrid-Agosto-2022/Apuntes-de-clase/commits\n"
     ]
    }
   ],
   "source": [
    "com = requestGithub(commits)"
   ]
  },
  {
   "cell_type": "code",
   "execution_count": 15,
   "id": "9ada6c02",
   "metadata": {},
   "outputs": [
    {
     "data": {
      "text/plain": [
       "'2022-08-29T10:50:39Z'"
      ]
     },
     "execution_count": 15,
     "metadata": {},
     "output_type": "execute_result"
    }
   ],
   "source": [
    "com[0]['commit']['author']['date']"
   ]
  },
  {
   "cell_type": "code",
   "execution_count": 17,
   "id": "creative-stable",
   "metadata": {},
   "outputs": [
    {
     "data": {
      "text/plain": [
       "(21,\n",
       " ['2022-08-29T10:50:39Z',\n",
       "  '2022-08-29T09:21:58Z',\n",
       "  '2022-08-29T06:46:47Z',\n",
       "  '2022-08-27T15:55:10Z',\n",
       "  '2022-08-25T10:51:12Z',\n",
       "  '2022-08-25T09:41:21Z',\n",
       "  '2022-08-25T09:15:03Z',\n",
       "  '2022-08-25T08:05:39Z',\n",
       "  '2022-08-25T07:02:00Z',\n",
       "  '2022-08-24T16:08:31Z',\n",
       "  '2022-08-24T10:56:16Z',\n",
       "  '2022-08-24T10:55:44Z',\n",
       "  '2022-08-24T09:22:53Z',\n",
       "  '2022-08-24T07:51:40Z',\n",
       "  '2022-08-24T07:37:33Z',\n",
       "  '2022-08-23T10:50:15Z',\n",
       "  '2022-08-23T09:56:43Z',\n",
       "  '2022-08-23T07:12:41Z',\n",
       "  '2022-08-22T07:30:44Z',\n",
       "  '2022-08-22T07:30:14Z',\n",
       "  '2022-08-22T06:46:12Z'])"
      ]
     },
     "execution_count": 17,
     "metadata": {},
     "output_type": "execute_result"
    }
   ],
   "source": [
    "num_com = 0\n",
    "com_lst = []\n",
    "for i in range(len(com)):\n",
    "    if com[i]['commit']['author']['date'] > '2022-08-22T00:00:00Z':\n",
    "        com_lst.append(com[i]['commit']['author']['date'])\n",
    "        num_com += 1\n",
    "\n",
    "num_com, com_lst"
   ]
  },
  {
   "cell_type": "code",
   "execution_count": null,
   "id": "ongoing-taylor",
   "metadata": {},
   "outputs": [],
   "source": []
  }
 ],
 "metadata": {
  "kernelspec": {
   "display_name": "Python 3 (ipykernel)",
   "language": "python",
   "name": "python3"
  },
  "language_info": {
   "codemirror_mode": {
    "name": "ipython",
    "version": 3
   },
   "file_extension": ".py",
   "mimetype": "text/x-python",
   "name": "python",
   "nbconvert_exporter": "python",
   "pygments_lexer": "ipython3",
   "version": "3.9.12"
  },
  "toc": {
   "base_numbering": 1,
   "nav_menu": {},
   "number_sections": true,
   "sideBar": true,
   "skip_h1_title": true,
   "title_cell": "Table of Contents",
   "title_sidebar": "Contents",
   "toc_cell": false,
   "toc_position": {
    "height": "calc(100% - 180px)",
    "left": "10px",
    "top": "150px",
    "width": "288px"
   },
   "toc_section_display": true,
   "toc_window_display": true
  }
 },
 "nbformat": 4,
 "nbformat_minor": 5
}
