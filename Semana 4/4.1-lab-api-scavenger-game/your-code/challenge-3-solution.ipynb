{
 "cells": [
  {
   "cell_type": "markdown",
   "id": "defensive-clock",
   "metadata": {},
   "source": [
    "# Challenge 3: Hidden Cold Joke\n",
    "\n",
    "Using Python, call Github API to find out the cold joke contained in the 24 secret files in the following repo:\n",
    "\n",
    "https://github.com/ironhack-datalabs/scavenger\n",
    "\n",
    "The filenames of the secret files contain .scavengerhunt and they are scattered in different directories of this repo. The secret files are named from .0001.scavengerhunt to .0024.scavengerhunt. They are scattered randomly throughout this repo. You need to search for these files by calling the Github API, not searching the local files on your computer.\n",
    "\n",
    "\n",
    "After you find out the secrete files:\n",
    "\n",
    "Sort the filenames ascendingly.\n",
    "\n",
    "Read the content of each secret files into an array of strings.\n",
    "\n",
    "Concatenate the strings in the array separating each two with a whitespace.\n",
    "\n",
    "Print out the joke."
   ]
  },
  {
   "cell_type": "markdown",
   "id": "universal-length",
   "metadata": {},
   "source": [
    "⚠️ **Remember to limit your output before submission**."
   ]
  },
  {
   "cell_type": "code",
   "execution_count": 26,
   "id": "5dac09a1",
   "metadata": {},
   "outputs": [],
   "source": [
    "import os\n",
    "import base64\n",
    "from dotenv import load_dotenv\n",
    "import re\n",
    "load_dotenv()\n",
    "import json\n",
    "import requests"
   ]
  },
  {
   "cell_type": "code",
   "execution_count": 22,
   "id": "toxic-trading",
   "metadata": {},
   "outputs": [],
   "source": [
    "url = '/repos/ironhack-datalabs/scavenger/contents?extension:scavengerhunt'\n",
    "\n",
    "# Your code"
   ]
  },
  {
   "cell_type": "code",
   "execution_count": 23,
   "id": "83d76fe0",
   "metadata": {},
   "outputs": [],
   "source": [
    "def requestGithub (endpoint):\n",
    "    \n",
    "    \n",
    "    '''This function get an endopoint as argument and returns a list with the response from GitHub API.\n",
    "    It imports the github token from the .env file(not uploaded to github) and gets the authentication ready.s\n",
    "    If you don't have your token in the .env file, it will raise an error.\n",
    "    The function takes the base url https://api.github.com for github API and adds the endpoint that gets as argument'''\n",
    "    \n",
    "    \n",
    "    token = os.getenv(\"GITHUB_APIKEY\")\n",
    "    with open('token.txt', 'r') as f:\n",
    "        token = f.read()\n",
    "    if not token:\n",
    "        raise ValueError (\"Necesitas un token\")\n",
    "    direccion=\"https://api.github.com\"\n",
    "    url = direccion+endpoint\n",
    "\n",
    "    print(f\"Haciendo request a {url}\")\n",
    "    headers = {\n",
    "        \"Authorization\": f\"token {token}\"}\n",
    "\n",
    "    res = requests.get(url, headers=headers)\n",
    "    return res.json()"
   ]
  },
  {
   "cell_type": "code",
   "execution_count": 24,
   "id": "559bb2ca",
   "metadata": {},
   "outputs": [
    {
     "name": "stdout",
     "output_type": "stream",
     "text": [
      "Haciendo request a https://api.github.com/repos/ironhack-datalabs/scavenger/contents?extension:scavengerhunt\n"
     ]
    }
   ],
   "source": [
    "sca = requestGithub(url)"
   ]
  },
  {
   "cell_type": "code",
   "execution_count": 32,
   "id": "d2d556cb",
   "metadata": {},
   "outputs": [
    {
     "data": {
      "text/plain": [
       "['15024',\n",
       " '15534',\n",
       " '17020',\n",
       " '30351',\n",
       " '40303',\n",
       " '44639',\n",
       " '45525',\n",
       " '47222',\n",
       " '47830',\n",
       " '49418',\n",
       " '50896',\n",
       " '55417',\n",
       " '55685',\n",
       " '60224',\n",
       " '64880',\n",
       " '66032',\n",
       " '68848',\n",
       " '70751',\n",
       " '70985',\n",
       " '88596',\n",
       " '89046',\n",
       " '89338',\n",
       " '91701',\n",
       " '97881',\n",
       " '98750']"
      ]
     },
     "execution_count": 32,
     "metadata": {},
     "output_type": "execute_result"
    }
   ],
   "source": [
    "carpetas = [c['name'] for c in sca][1:] #desde el primero pare eliminar el archivo .gitignore\n",
    "carpetas"
   ]
  },
  {
   "cell_type": "code",
   "execution_count": 33,
   "id": "static-stopping",
   "metadata": {},
   "outputs": [],
   "source": [
    "url = '/repos/ironhack-datalabs/scavenger/contents'"
   ]
  },
  {
   "cell_type": "code",
   "execution_count": 36,
   "id": "92a54698",
   "metadata": {},
   "outputs": [],
   "source": [
    "def requestGithubmulti (carpeta):\n",
    "    \n",
    "    \n",
    "    '''This function get an endopoint as argument and returns a list with the response from GitHub API.\n",
    "    It imports the github token from the .env file(not uploaded to github) and gets the authentication ready.s\n",
    "    If you don't have your token in the .env file, it will raise an error.\n",
    "    The function takes the base url https://api.github.com for github API and adds the endpoint that gets as argument'''\n",
    "    \n",
    "    \n",
    "    token = os.getenv(\"GITHUB_APIKEY\")\n",
    "    with open('token.txt', 'r') as f:\n",
    "        token = f.read()\n",
    "    if not token:\n",
    "        raise ValueError (\"Necesitas un token\")\n",
    "    direccion=f\"https://api.github.com/repos/ironhack-datalabs/scavenger/contents/{carpeta}\"\n",
    "    url = direccion\n",
    "\n",
    "    print(f\"Haciendo request a {url}\")\n",
    "    headers = {\n",
    "        \"Authorization\": f\"token {token}\"}\n",
    "\n",
    "    res = requests.get(url, headers=headers)\n",
    "    return res.json()"
   ]
  },
  {
   "cell_type": "code",
   "execution_count": 37,
   "id": "9de10268",
   "metadata": {},
   "outputs": [
    {
     "name": "stdout",
     "output_type": "stream",
     "text": [
      "Haciendo request a https://api.github.com/repos/ironhack-datalabs/scavenger/contents/15024\n",
      "Haciendo request a https://api.github.com/repos/ironhack-datalabs/scavenger/contents/15534\n",
      "Haciendo request a https://api.github.com/repos/ironhack-datalabs/scavenger/contents/17020\n",
      "Haciendo request a https://api.github.com/repos/ironhack-datalabs/scavenger/contents/30351\n",
      "Haciendo request a https://api.github.com/repos/ironhack-datalabs/scavenger/contents/40303\n",
      "Haciendo request a https://api.github.com/repos/ironhack-datalabs/scavenger/contents/44639\n",
      "Haciendo request a https://api.github.com/repos/ironhack-datalabs/scavenger/contents/45525\n",
      "Haciendo request a https://api.github.com/repos/ironhack-datalabs/scavenger/contents/47222\n",
      "Haciendo request a https://api.github.com/repos/ironhack-datalabs/scavenger/contents/47830\n",
      "Haciendo request a https://api.github.com/repos/ironhack-datalabs/scavenger/contents/49418\n",
      "Haciendo request a https://api.github.com/repos/ironhack-datalabs/scavenger/contents/50896\n",
      "Haciendo request a https://api.github.com/repos/ironhack-datalabs/scavenger/contents/55417\n",
      "Haciendo request a https://api.github.com/repos/ironhack-datalabs/scavenger/contents/55685\n",
      "Haciendo request a https://api.github.com/repos/ironhack-datalabs/scavenger/contents/60224\n",
      "Haciendo request a https://api.github.com/repos/ironhack-datalabs/scavenger/contents/64880\n",
      "Haciendo request a https://api.github.com/repos/ironhack-datalabs/scavenger/contents/66032\n",
      "Haciendo request a https://api.github.com/repos/ironhack-datalabs/scavenger/contents/68848\n",
      "Haciendo request a https://api.github.com/repos/ironhack-datalabs/scavenger/contents/70751\n",
      "Haciendo request a https://api.github.com/repos/ironhack-datalabs/scavenger/contents/70985\n",
      "Haciendo request a https://api.github.com/repos/ironhack-datalabs/scavenger/contents/88596\n",
      "Haciendo request a https://api.github.com/repos/ironhack-datalabs/scavenger/contents/89046\n",
      "Haciendo request a https://api.github.com/repos/ironhack-datalabs/scavenger/contents/89338\n",
      "Haciendo request a https://api.github.com/repos/ironhack-datalabs/scavenger/contents/91701\n",
      "Haciendo request a https://api.github.com/repos/ironhack-datalabs/scavenger/contents/97881\n",
      "Haciendo request a https://api.github.com/repos/ironhack-datalabs/scavenger/contents/98750\n"
     ]
    }
   ],
   "source": [
    "all_folders = list(map(requestGithubmulti, carpetas))\n"
   ]
  },
  {
   "cell_type": "code",
   "execution_count": 72,
   "id": "825f7782",
   "metadata": {},
   "outputs": [
    {
     "data": {
      "text/plain": [
       "25"
      ]
     },
     "execution_count": 72,
     "metadata": {},
     "output_type": "execute_result"
    }
   ],
   "source": [
    "len(all_folders)"
   ]
  },
  {
   "cell_type": "code",
   "execution_count": 73,
   "id": "95606019",
   "metadata": {},
   "outputs": [],
   "source": [
    "paths = [f[i]['path'] for i in range(len(f)) for f in all_folders if '.scavengerhunt' in f[i]['name'] ]"
   ]
  },
  {
   "cell_type": "code",
   "execution_count": 74,
   "id": "d8fdf4f7",
   "metadata": {},
   "outputs": [
    {
     "data": {
      "text/plain": [
       "['15024/.0006.scavengerhunt',\n",
       " '15534/.0008.scavengerhunt',\n",
       " '17020/.0007.scavengerhunt',\n",
       " '30351/.0021.scavengerhunt',\n",
       " '40303/.0022.scavengerhunt',\n",
       " '44639/.0005.scavengerhunt',\n",
       " '45525/.0018.scavengerhunt',\n",
       " '47222/.0016.scavengerhunt',\n",
       " '47830/.0010.scavengerhunt',\n",
       " '49418/.0014.scavengerhunt',\n",
       " '50896/.0011.scavengerhunt',\n",
       " '55417/.0023.scavengerhunt',\n",
       " '55685/.0020.scavengerhunt',\n",
       " '60224/.0003.scavengerhunt',\n",
       " '68848/.0004.scavengerhunt',\n",
       " '70751/.0019.scavengerhunt',\n",
       " '70985/.0017.scavengerhunt',\n",
       " '88596/.0002.scavengerhunt',\n",
       " '89338/.0013.scavengerhunt',\n",
       " '91701/.0015.scavengerhunt',\n",
       " '97881/.0009.scavengerhunt',\n",
       " '98750/.0001.scavengerhunt',\n",
       " '15534/.0012.scavengerhunt',\n",
       " '47222/.0024.scavengerhunt']"
      ]
     },
     "execution_count": 74,
     "metadata": {},
     "output_type": "execute_result"
    }
   ],
   "source": [
    "paths"
   ]
  },
  {
   "cell_type": "code",
   "execution_count": 75,
   "id": "3b3314d3",
   "metadata": {},
   "outputs": [],
   "source": [
    "paths_sorted = sorted(paths, key=lambda x : (x[9],x[10])) # los indices [9] y [10] son para ordenar por esos elementos"
   ]
  },
  {
   "cell_type": "code",
   "execution_count": 76,
   "id": "64e730f3",
   "metadata": {},
   "outputs": [
    {
     "name": "stdout",
     "output_type": "stream",
     "text": [
      "Haciendo request a https://api.github.com/repos/ironhack-datalabs/scavenger/contents/98750/.0001.scavengerhunt\n",
      "Haciendo request a https://api.github.com/repos/ironhack-datalabs/scavenger/contents/88596/.0002.scavengerhunt\n",
      "Haciendo request a https://api.github.com/repos/ironhack-datalabs/scavenger/contents/60224/.0003.scavengerhunt\n",
      "Haciendo request a https://api.github.com/repos/ironhack-datalabs/scavenger/contents/68848/.0004.scavengerhunt\n",
      "Haciendo request a https://api.github.com/repos/ironhack-datalabs/scavenger/contents/44639/.0005.scavengerhunt\n",
      "Haciendo request a https://api.github.com/repos/ironhack-datalabs/scavenger/contents/15024/.0006.scavengerhunt\n",
      "Haciendo request a https://api.github.com/repos/ironhack-datalabs/scavenger/contents/17020/.0007.scavengerhunt\n",
      "Haciendo request a https://api.github.com/repos/ironhack-datalabs/scavenger/contents/15534/.0008.scavengerhunt\n",
      "Haciendo request a https://api.github.com/repos/ironhack-datalabs/scavenger/contents/97881/.0009.scavengerhunt\n",
      "Haciendo request a https://api.github.com/repos/ironhack-datalabs/scavenger/contents/47830/.0010.scavengerhunt\n",
      "Haciendo request a https://api.github.com/repos/ironhack-datalabs/scavenger/contents/50896/.0011.scavengerhunt\n",
      "Haciendo request a https://api.github.com/repos/ironhack-datalabs/scavenger/contents/15534/.0012.scavengerhunt\n",
      "Haciendo request a https://api.github.com/repos/ironhack-datalabs/scavenger/contents/89338/.0013.scavengerhunt\n",
      "Haciendo request a https://api.github.com/repos/ironhack-datalabs/scavenger/contents/49418/.0014.scavengerhunt\n",
      "Haciendo request a https://api.github.com/repos/ironhack-datalabs/scavenger/contents/91701/.0015.scavengerhunt\n",
      "Haciendo request a https://api.github.com/repos/ironhack-datalabs/scavenger/contents/47222/.0016.scavengerhunt\n",
      "Haciendo request a https://api.github.com/repos/ironhack-datalabs/scavenger/contents/70985/.0017.scavengerhunt\n",
      "Haciendo request a https://api.github.com/repos/ironhack-datalabs/scavenger/contents/45525/.0018.scavengerhunt\n",
      "Haciendo request a https://api.github.com/repos/ironhack-datalabs/scavenger/contents/70751/.0019.scavengerhunt\n",
      "Haciendo request a https://api.github.com/repos/ironhack-datalabs/scavenger/contents/55685/.0020.scavengerhunt\n",
      "Haciendo request a https://api.github.com/repos/ironhack-datalabs/scavenger/contents/30351/.0021.scavengerhunt\n",
      "Haciendo request a https://api.github.com/repos/ironhack-datalabs/scavenger/contents/40303/.0022.scavengerhunt\n",
      "Haciendo request a https://api.github.com/repos/ironhack-datalabs/scavenger/contents/55417/.0023.scavengerhunt\n",
      "Haciendo request a https://api.github.com/repos/ironhack-datalabs/scavenger/contents/47222/.0024.scavengerhunt\n"
     ]
    }
   ],
   "source": [
    "contenido = list(map(requestGithubmulti, paths_sorted))"
   ]
  },
  {
   "cell_type": "code",
   "execution_count": 77,
   "id": "a8fec038",
   "metadata": {},
   "outputs": [
    {
     "data": {
      "text/plain": [
       "'In data science, 80 percent of time spent is preparing data, 20 percent of time is spent complaining about the need to prepare data.'"
      ]
     },
     "execution_count": 77,
     "metadata": {},
     "output_type": "execute_result"
    }
   ],
   "source": [
    "code = [contenido[i]['content'] for i in range(len(contenido))]\n",
    "\n",
    "decode = [base64.b64decode(cod) for cod in code]\n",
    "\n",
    "words = [str(w).split('\\\\')[0].split('\\'')[1] for w in decode]\n",
    "\n",
    "' '.join(words)"
   ]
  },
  {
   "cell_type": "code",
   "execution_count": null,
   "id": "516b5f05",
   "metadata": {},
   "outputs": [],
   "source": []
  }
 ],
 "metadata": {
  "kernelspec": {
   "display_name": "Python 3 (ipykernel)",
   "language": "python",
   "name": "python3"
  },
  "language_info": {
   "codemirror_mode": {
    "name": "ipython",
    "version": 3
   },
   "file_extension": ".py",
   "mimetype": "text/x-python",
   "name": "python",
   "nbconvert_exporter": "python",
   "pygments_lexer": "ipython3",
   "version": "3.9.12"
  },
  "toc": {
   "base_numbering": 1,
   "nav_menu": {},
   "number_sections": true,
   "sideBar": true,
   "skip_h1_title": true,
   "title_cell": "Table of Contents",
   "title_sidebar": "Contents",
   "toc_cell": false,
   "toc_position": {},
   "toc_section_display": true,
   "toc_window_display": true
  }
 },
 "nbformat": 4,
 "nbformat_minor": 5
}
