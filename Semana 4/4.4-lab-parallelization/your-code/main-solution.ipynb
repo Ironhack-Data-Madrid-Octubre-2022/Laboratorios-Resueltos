{
 "cells": [
  {
   "cell_type": "markdown",
   "metadata": {
    "toc": true
   },
   "source": [
    "<h1>Table of Contents<span class=\"tocSkip\"></span></h1>\n",
    "<div class=\"toc\"><ul class=\"toc-item\"><li><span><a href=\"#Parallelization-Lab\" data-toc-modified-id=\"Parallelization-Lab-1\"><span class=\"toc-item-num\">1&nbsp;&nbsp;</span>Parallelization Lab</a></span><ul class=\"toc-item\"><li><span><a href=\"#Step-1:-Use-the-requests-library-to-retrieve-the-content-from-the-URL-below.\" data-toc-modified-id=\"Step-1:-Use-the-requests-library-to-retrieve-the-content-from-the-URL-below.-1.1\"><span class=\"toc-item-num\">1.1&nbsp;&nbsp;</span>Step 1: Use the requests library to retrieve the content from the URL below.</a></span></li><li><span><a href=\"#Step-2:-Use-BeautifulSoup-to-extract-a-list-of-all-the-unique-links-on-the-page.\" data-toc-modified-id=\"Step-2:-Use-BeautifulSoup-to-extract-a-list-of-all-the-unique-links-on-the-page.-1.2\"><span class=\"toc-item-num\">1.2&nbsp;&nbsp;</span>Step 2: Use BeautifulSoup to extract a list of all the unique links on the page.</a></span></li><li><span><a href=\"#Step-3:-Use-list-comprehensions-with-conditions-to-clean-the-link-list.\" data-toc-modified-id=\"Step-3:-Use-list-comprehensions-with-conditions-to-clean-the-link-list.-1.3\"><span class=\"toc-item-num\">1.3&nbsp;&nbsp;</span>Step 3: Use list comprehensions with conditions to clean the link list.</a></span></li><li><span><a href=\"#Step-4:-Use-the-os-library-to-create-a-folder-called-wikipedia-and-make-that-the-current-working-directory.\" data-toc-modified-id=\"Step-4:-Use-the-os-library-to-create-a-folder-called-wikipedia-and-make-that-the-current-working-directory.-1.4\"><span class=\"toc-item-num\">1.4&nbsp;&nbsp;</span>Step 4: Use the os library to create a folder called <em>wikipedia</em> and make that the current working directory.</a></span></li><li><span><a href=\"#Step-5:-Write-a-function-called-index_page-that-accepts-a-link-and-does-the-following.\" data-toc-modified-id=\"Step-5:-Write-a-function-called-index_page-that-accepts-a-link-and-does-the-following.-1.5\"><span class=\"toc-item-num\">1.5&nbsp;&nbsp;</span>Step 5: Write a function called index_page that accepts a link and does the following.</a></span></li><li><span><a href=\"#Step-6:-Sequentially-loop-through-the-list-of-links,-running-the-index_page-function-each-time.\" data-toc-modified-id=\"Step-6:-Sequentially-loop-through-the-list-of-links,-running-the-index_page-function-each-time.-1.6\"><span class=\"toc-item-num\">1.6&nbsp;&nbsp;</span>Step 6: Sequentially loop through the list of links, running the index_page function each time.</a></span></li><li><span><a href=\"#Step-7:-Perform-the-page-indexing-in-parallel-and-note-the-difference-in-performance.\" data-toc-modified-id=\"Step-7:-Perform-the-page-indexing-in-parallel-and-note-the-difference-in-performance.-1.7\"><span class=\"toc-item-num\">1.7&nbsp;&nbsp;</span>Step 7: Perform the page indexing in parallel and note the difference in performance.</a></span></li></ul></li></ul></div>"
   ]
  },
  {
   "cell_type": "markdown",
   "metadata": {},
   "source": [
    "# Parallelization Lab\n",
    "\n",
    "In this lab, you will be leveraging several concepts you have learned to obtain a list of links from a web page and crawl and index the pages referenced by those links - both sequentially and in parallel. Follow the steps below to complete the lab."
   ]
  },
  {
   "cell_type": "markdown",
   "metadata": {},
   "source": [
    "## Step 1: Use the requests library to retrieve the content from the URL below.\n",
    "\n",
    "https://en.wikipedia.org/wiki/Data_science"
   ]
  },
  {
   "cell_type": "code",
   "execution_count": 1,
   "metadata": {},
   "outputs": [],
   "source": [
    "import requests\n",
    "\n",
    "url = 'https://en.wikipedia.org/wiki/Data_science'"
   ]
  },
  {
   "cell_type": "code",
   "execution_count": 2,
   "metadata": {},
   "outputs": [
    {
     "data": {
      "text/plain": [
       "'<!DOCTYPE html>\\n<html class=\"client-nojs\" lang=\"en\" dir=\"ltr\">\\n<head>\\n<meta charset=\"UTF-8\"/>\\n<title'"
      ]
     },
     "execution_count": 2,
     "metadata": {},
     "output_type": "execute_result"
    }
   ],
   "source": [
    "#your code\n",
    "html = requests.get(url).text\n",
    "\n",
    "html[:100]"
   ]
  },
  {
   "cell_type": "markdown",
   "metadata": {},
   "source": [
    "## Step 2: Use BeautifulSoup to extract a list of all the unique links on the page."
   ]
  },
  {
   "cell_type": "code",
   "execution_count": 3,
   "metadata": {},
   "outputs": [],
   "source": [
    "from bs4 import BeautifulSoup\n",
    "import re\n",
    "from tqdm.notebook import tqdm"
   ]
  },
  {
   "cell_type": "code",
   "execution_count": 4,
   "metadata": {
    "scrolled": true
   },
   "outputs": [
    {
     "data": {
      "application/vnd.jupyter.widget-view+json": {
       "model_id": "954db6d4ee744c64a977f5610dffe395",
       "version_major": 2,
       "version_minor": 0
      },
      "text/plain": [
       "  0%|          | 0/389 [00:00<?, ?it/s]"
      ]
     },
     "metadata": {},
     "output_type": "display_data"
    }
   ],
   "source": [
    "#your code\n",
    "soup = BeautifulSoup(html, 'html.parser')\n",
    "links = []\n",
    "\n",
    "for i in tqdm(range(len(soup.find_all('a')))):\n",
    "    try:\n",
    "        l = soup.find_all('a')[i].attrs['href']\n",
    "        if 'https' in l:\n",
    "            links.append(l)\n",
    "        else:\n",
    "            continue\n",
    "    except:\n",
    "        pass"
   ]
  },
  {
   "cell_type": "code",
   "execution_count": 5,
   "metadata": {},
   "outputs": [
    {
     "data": {
      "text/plain": [
       "['https://api.semanticscholar.org/CorpusID:9743327',\n",
       " 'https://hbr.org/2012/10/data-scientist-the-sexiest-job-of-the-21st-century/',\n",
       " 'https://www.mdpi.com/2504-4990/1/1/15',\n",
       " 'https://www.oreilly.com/library/view/doing-data-science/9781449363871/ch01.html',\n",
       " 'https://medriscoll.com/post/4740157098/the-three-sexy-skills-of-data-geeks']"
      ]
     },
     "execution_count": 5,
     "metadata": {},
     "output_type": "execute_result"
    }
   ],
   "source": [
    "links[10:15]"
   ]
  },
  {
   "cell_type": "markdown",
   "metadata": {},
   "source": [
    "## Step 3: Use list comprehensions with conditions to clean the link list.\n",
    "\n",
    "There are two types of links, absolute and relative. Absolute links have the full URL and begin with http while relative links begin with a forward slash (/) and point to an internal page within the wikipedia.org domain. Clean the respective types of URLs as follows.\n",
    "\n",
    "- Absolute Links: Create a list of these and remove any that contain a percentage sign (%).\n",
    "- Relativel Links: Create a list of these, add the domain to the link so that you have the full URL, and remove any that contain a percentage sign (%).\n",
    "- Combine the list of absolute and relative links and ensure there are no duplicates."
   ]
  },
  {
   "cell_type": "code",
   "execution_count": 6,
   "metadata": {},
   "outputs": [],
   "source": [
    "domain = 'http://wikipedia.org'\n",
    "url = requests.get(domain).text\n",
    "soup = BeautifulSoup(url, 'html.parser')"
   ]
  },
  {
   "cell_type": "code",
   "execution_count": 7,
   "metadata": {},
   "outputs": [
    {
     "data": {
      "application/vnd.jupyter.widget-view+json": {
       "model_id": "22ecf00473af4066bdf26592292c1610",
       "version_major": 2,
       "version_minor": 0
      },
      "text/plain": [
       "  0%|          | 0/327 [00:00<?, ?it/s]"
      ]
     },
     "metadata": {},
     "output_type": "display_data"
    }
   ],
   "source": [
    "#your code\n",
    "all_links = [soup.find_all('a')[i].attrs['href'] for i in tqdm(range(len(soup.find_all('a'))))]"
   ]
  },
  {
   "cell_type": "code",
   "execution_count": 8,
   "metadata": {},
   "outputs": [
    {
     "data": {
      "text/plain": [
       "['https://ceb.wikipedia.org/',\n",
       " 'https://fur.wikipedia.org/',\n",
       " 'https://rm.wikipedia.org/',\n",
       " 'https://th.wikipedia.org/',\n",
       " 'https://pih.wikipedia.org/',\n",
       " 'https://ig.wikipedia.org/',\n",
       " 'https://gd.wikipedia.org/',\n",
       " 'https://sl.wikipedia.org/',\n",
       " 'https://ce.wikipedia.org/',\n",
       " 'https://glk.wikipedia.org/',\n",
       " 'https://tl.wikipedia.org/',\n",
       " 'https://mnw.wikipedia.org/',\n",
       " 'https://ca.wikipedia.org/',\n",
       " 'https://ace.wikipedia.org/',\n",
       " 'https://min.wikipedia.org/',\n",
       " 'https://kbp.wikipedia.org/',\n",
       " 'https://ps.wikipedia.org/',\n",
       " 'https://ug.wikipedia.org/',\n",
       " 'https://id.wikipedia.org/',\n",
       " 'https://et.wikipedia.org/',\n",
       " 'https://rn.wikipedia.org/',\n",
       " 'https://ku.wikipedia.org/',\n",
       " 'https://en.wikipedia.org/',\n",
       " 'https://simple.wikipedia.org/',\n",
       " 'https://azb.wikipedia.org/',\n",
       " 'https://sn.wikipedia.org/',\n",
       " 'https://yi.wikipedia.org/',\n",
       " 'https://lbe.wikipedia.org/',\n",
       " 'https://bjn.wikipedia.org/',\n",
       " 'https://pnt.wikipedia.org/',\n",
       " 'https://krc.wikipedia.org/',\n",
       " 'https://dag.wikipedia.org/',\n",
       " 'https://nso.wikipedia.org/',\n",
       " 'https://new.wikipedia.org/',\n",
       " 'https://ak.wikipedia.org/',\n",
       " 'https://din.wikipedia.org/',\n",
       " 'https://za.wikipedia.org/',\n",
       " 'https://frr.wikipedia.org/',\n",
       " 'https://kab.wikipedia.org/',\n",
       " 'https://www.wikinews.org/',\n",
       " 'https://zu.wikipedia.org/',\n",
       " 'https://als.wikipedia.org/',\n",
       " 'https://iu.wikipedia.org/',\n",
       " 'https://ln.wikipedia.org/',\n",
       " 'https://wo.wikipedia.org/',\n",
       " 'https://tt.wikipedia.org/',\n",
       " 'https://mai.wikipedia.org/',\n",
       " 'https://ro.wikipedia.org/',\n",
       " 'https://kbd.wikipedia.org/',\n",
       " 'https://lg.wikipedia.org/',\n",
       " 'https://es.wikipedia.org/',\n",
       " 'https://inh.wikipedia.org/',\n",
       " 'https://kn.wikipedia.org/',\n",
       " 'https://ty.wikipedia.org/',\n",
       " 'https://pdc.wikipedia.org/',\n",
       " 'https://kl.wikipedia.org/',\n",
       " 'https://stq.wikipedia.org/',\n",
       " 'https://ka.wikipedia.org/',\n",
       " 'https://it.wikipedia.org/',\n",
       " 'https://tg.wikipedia.org/',\n",
       " 'https://fiu-vro.wikipedia.org/',\n",
       " 'https://co.wikipedia.org/',\n",
       " 'https://mk.wikipedia.org/',\n",
       " 'https://ik.wikipedia.org/',\n",
       " 'https://jbo.wikipedia.org/',\n",
       " 'https://mn.wikipedia.org/',\n",
       " 'https://ab.wikipedia.org/',\n",
       " 'https://csb.wikipedia.org/',\n",
       " 'https://lij.wikipedia.org/',\n",
       " 'https://sah.wikipedia.org/',\n",
       " 'https://cu.wikipedia.org/',\n",
       " 'https://ha.wikipedia.org/',\n",
       " 'https://mg.wikipedia.org/',\n",
       " 'https://www.wikiversity.org/',\n",
       " 'https://ban.wikipedia.org/',\n",
       " 'https://pwn.wikipedia.org/',\n",
       " 'https://he.wikipedia.org/',\n",
       " 'https://lad.wikipedia.org/',\n",
       " 'https://www.wikiquote.org/',\n",
       " 'https://rue.wikipedia.org/',\n",
       " 'https://dsb.wikipedia.org/',\n",
       " 'https://ga.wikipedia.org/',\n",
       " 'https://ba.wikipedia.org/',\n",
       " 'https://koi.wikipedia.org/',\n",
       " 'https://zh.wikipedia.org/',\n",
       " 'https://bs.wikipedia.org/',\n",
       " 'https://vep.wikipedia.org/',\n",
       " 'https://tn.wikipedia.org/',\n",
       " 'https://ary.wikipedia.org/',\n",
       " 'https://nqo.wikipedia.org/',\n",
       " 'https://commons.wikimedia.org/',\n",
       " 'https://hr.wikipedia.org/',\n",
       " 'https://nrm.wikipedia.org/',\n",
       " 'https://mr.wikipedia.org/',\n",
       " 'https://kk.wikipedia.org/',\n",
       " 'https://ml.wikipedia.org/',\n",
       " 'https://gan.wikipedia.org/',\n",
       " 'https://pam.wikipedia.org/',\n",
       " 'https://is.wikipedia.org/',\n",
       " 'https://nia.wikipedia.org/',\n",
       " 'https://ru.wikipedia.org/',\n",
       " 'https://gag.wikipedia.org/',\n",
       " 'https://war.wikipedia.org/',\n",
       " 'https://ky.wikipedia.org/',\n",
       " 'https://os.wikipedia.org/',\n",
       " 'https://sq.wikipedia.org/',\n",
       " 'https://mwl.wikipedia.org/',\n",
       " 'https://gn.wikipedia.org/',\n",
       " 'https://qu.wikipedia.org/',\n",
       " 'https://su.wikipedia.org/',\n",
       " 'https://ast.wikipedia.org/',\n",
       " 'https://cv.wikipedia.org/',\n",
       " 'https://frp.wikipedia.org/',\n",
       " 'https://be-tarask.wikipedia.org/',\n",
       " 'https://bcl.wikipedia.org/',\n",
       " 'https://as.wikipedia.org/',\n",
       " 'https://jv.wikipedia.org/',\n",
       " 'https://hi.wikipedia.org/',\n",
       " 'https://hyw.wikipedia.org/',\n",
       " 'https://tk.wikipedia.org/',\n",
       " 'https://eu.wikipedia.org/',\n",
       " 'https://vls.wikipedia.org/',\n",
       " 'https://xmf.wikipedia.org/',\n",
       " 'https://gom.wikipedia.org/',\n",
       " 'https://sd.wikipedia.org/',\n",
       " 'https://lo.wikipedia.org/',\n",
       " 'https://sco.wikipedia.org/',\n",
       " 'https://eml.wikipedia.org/',\n",
       " 'https://na.wikipedia.org/',\n",
       " 'https://bo.wikipedia.org/',\n",
       " 'https://sat.wikipedia.org/',\n",
       " 'https://www.wikidata.org/',\n",
       " 'https://species.wikimedia.org/',\n",
       " 'https://diq.wikipedia.org/',\n",
       " 'https://ch.wikipedia.org/',\n",
       " 'https://hu.wikipedia.org/',\n",
       " 'https://cy.wikipedia.org/',\n",
       " 'https://la.wikipedia.org/',\n",
       " 'https://to.wikipedia.org/',\n",
       " 'https://smn.wikipedia.org/',\n",
       " 'https://vec.wikipedia.org/',\n",
       " 'https://sc.wikipedia.org/',\n",
       " 'https://fi.wikipedia.org/',\n",
       " 'https://sw.wikipedia.org/',\n",
       " 'https://arc.wikipedia.org/',\n",
       " 'https://gv.wikipedia.org/',\n",
       " 'https://kw.wikipedia.org/',\n",
       " 'https://wa.wikipedia.org/',\n",
       " 'https://ay.wikipedia.org/',\n",
       " 'https://ti.wikipedia.org/',\n",
       " 'https://ltg.wikipedia.org/',\n",
       " 'https://pag.wikipedia.org/',\n",
       " 'https://si.wikipedia.org/',\n",
       " 'https://www.wikivoyage.org/',\n",
       " 'https://pms.wikipedia.org/',\n",
       " 'https://fy.wikipedia.org/',\n",
       " 'https://pcd.wikipedia.org/',\n",
       " 'https://fo.wikipedia.org/',\n",
       " 'https://tum.wikipedia.org/',\n",
       " 'https://cbk-zam.wikipedia.org/',\n",
       " 'https://bh.wikipedia.org/',\n",
       " 'https://lt.wikipedia.org/',\n",
       " 'https://fj.wikipedia.org/',\n",
       " 'https://gu.wikipedia.org/',\n",
       " 'https://mi.wikipedia.org/',\n",
       " 'https://tpi.wikipedia.org/',\n",
       " 'https://chy.wikipedia.org/',\n",
       " 'https://chr.wikipedia.org/',\n",
       " 'https://hy.wikipedia.org/',\n",
       " 'https://cs.wikipedia.org/',\n",
       " 'https://cr.wikipedia.org/',\n",
       " 'https://nn.wikipedia.org/',\n",
       " 'https://pap.wikipedia.org/',\n",
       " 'https://hak.wikipedia.org/',\n",
       " 'https://mdf.wikipedia.org/',\n",
       " 'https://ss.wikipedia.org/',\n",
       " 'https://tyv.wikipedia.org/',\n",
       " 'https://sk.wikipedia.org/',\n",
       " 'https://lb.wikipedia.org/',\n",
       " 'https://so.wikipedia.org/',\n",
       " 'https://ext.wikipedia.org/',\n",
       " 'https://dz.wikipedia.org/',\n",
       " 'https://sr.wikipedia.org/',\n",
       " 'https://sh.wikipedia.org/',\n",
       " 'https://www.wiktionary.org/',\n",
       " 'https://ko.wikipedia.org/',\n",
       " 'https://bm.wikipedia.org/',\n",
       " 'https://zh-classical.wikipedia.org/',\n",
       " 'https://oc.wikipedia.org/',\n",
       " 'https://trv.wikipedia.org/',\n",
       " 'https://yo.wikipedia.org/',\n",
       " 'https://scn.wikipedia.org/',\n",
       " 'https://mhr.wikipedia.org/',\n",
       " 'https://szl.wikipedia.org/',\n",
       " 'https://st.wikipedia.org/',\n",
       " 'https://ar.wikipedia.org/',\n",
       " 'https://hsb.wikipedia.org/',\n",
       " 'https://xh.wikipedia.org/',\n",
       " 'https://nap.wikipedia.org/',\n",
       " 'https://az.wikipedia.org/',\n",
       " 'https://da.wikipedia.org/',\n",
       " 'https://roa-rup.wikipedia.org/',\n",
       " 'https://ts.wikipedia.org/',\n",
       " 'https://ami.wikipedia.org/',\n",
       " 'https://ki.wikipedia.org/',\n",
       " 'https://ta.wikipedia.org/',\n",
       " 'https://sv.wikipedia.org/',\n",
       " 'https://crh.wikipedia.org/',\n",
       " 'https://mzn.wikipedia.org/',\n",
       " 'https://udm.wikipedia.org/',\n",
       " 'https://zh-min-nan.wikipedia.org/',\n",
       " 'https://ja.wikipedia.org/',\n",
       " 'https://pnb.wikipedia.org/',\n",
       " 'https://an.wikipedia.org/',\n",
       " 'https://bug.wikipedia.org/',\n",
       " 'https://ee.wikipedia.org/',\n",
       " 'https://uk.wikipedia.org/',\n",
       " 'https://kaa.wikipedia.org/',\n",
       " 'https://lez.wikipedia.org/',\n",
       " 'https://sa.wikipedia.org/',\n",
       " 'https://bn.wikipedia.org/',\n",
       " 'https://bxr.wikipedia.org/',\n",
       " 'https://www.mediawiki.org/',\n",
       " 'https://te.wikipedia.org/',\n",
       " 'https://pa.wikipedia.org/',\n",
       " 'https://nov.wikipedia.org/',\n",
       " 'https://no.wikipedia.org/',\n",
       " 'https://gcr.wikipedia.org/',\n",
       " 'https://be.wikipedia.org/',\n",
       " 'https://bg.wikipedia.org/',\n",
       " 'https://ksh.wikipedia.org/',\n",
       " 'https://mad.wikipedia.org/',\n",
       " 'https://ks.wikipedia.org/',\n",
       " 'https://af.wikipedia.org/',\n",
       " 'https://myv.wikipedia.org/',\n",
       " 'https://tr.wikipedia.org/',\n",
       " 'https://kg.wikipedia.org/',\n",
       " 'https://se.wikipedia.org/',\n",
       " 'https://kv.wikipedia.org/',\n",
       " 'https://cdo.wikipedia.org/',\n",
       " 'https://my.wikipedia.org/',\n",
       " 'https://lmo.wikipedia.org/',\n",
       " 'https://bar.wikipedia.org/',\n",
       " 'https://ve.wikipedia.org/',\n",
       " 'https://ilo.wikipedia.org/',\n",
       " 'https://ms.wikipedia.org/',\n",
       " 'https://sm.wikipedia.org/',\n",
       " 'https://rw.wikipedia.org/',\n",
       " 'https://eo.wikipedia.org/',\n",
       " 'https://nl.wikipedia.org/',\n",
       " 'https://vi.wikipedia.org/',\n",
       " 'https://bat-smg.wikipedia.org/',\n",
       " 'https://de.wikipedia.org/',\n",
       " 'https://map-bms.wikipedia.org/',\n",
       " 'https://shn.wikipedia.org/',\n",
       " 'https://am.wikipedia.org/',\n",
       " 'https://roa-tara.wikipedia.org/',\n",
       " 'https://ny.wikipedia.org/',\n",
       " 'https://gl.wikipedia.org/',\n",
       " 'https://bpy.wikipedia.org/',\n",
       " 'https://ang.wikipedia.org/',\n",
       " 'https://sg.wikipedia.org/',\n",
       " 'https://or.wikipedia.org/',\n",
       " 'https://el.wikipedia.org/',\n",
       " 'https://tw.wikipedia.org/',\n",
       " 'https://dv.wikipedia.org/',\n",
       " 'https://zh-yue.wikipedia.org/',\n",
       " 'https://xal.wikipedia.org/',\n",
       " 'https://ie.wikipedia.org/',\n",
       " 'https://pt.wikipedia.org/',\n",
       " 'https://www.wikibooks.org/',\n",
       " 'https://pl.wikipedia.org/',\n",
       " 'https://li.wikipedia.org/',\n",
       " 'https://lv.wikipedia.org/',\n",
       " 'https://nv.wikipedia.org/',\n",
       " 'https://mrj.wikipedia.org/',\n",
       " 'https://fr.wikipedia.org/',\n",
       " 'https://ht.wikipedia.org/',\n",
       " 'https://nah.wikipedia.org/',\n",
       " 'https://got.wikipedia.org/',\n",
       " 'https://hif.wikipedia.org/',\n",
       " 'https://ur.wikipedia.org/',\n",
       " 'https://av.wikipedia.org/',\n",
       " 'https://zea.wikipedia.org/',\n",
       " 'https://om.wikipedia.org/',\n",
       " 'https://ckb.wikipedia.org/',\n",
       " 'https://haw.wikipedia.org/',\n",
       " 'https://fa.wikipedia.org/',\n",
       " 'https://nds.wikipedia.org/',\n",
       " 'https://mt.wikipedia.org/',\n",
       " 'https://bi.wikipedia.org/',\n",
       " 'https://ne.wikipedia.org/',\n",
       " 'https://pi.wikipedia.org/',\n",
       " 'https://srn.wikipedia.org/',\n",
       " 'https://ff.wikipedia.org/',\n",
       " 'https://nds-nl.wikipedia.org/',\n",
       " 'https://vo.wikipedia.org/',\n",
       " 'https://km.wikipedia.org/',\n",
       " 'https://ia.wikipedia.org/',\n",
       " 'https://pfl.wikipedia.org/',\n",
       " 'https://www.wikisource.org/',\n",
       " 'https://io.wikipedia.org/',\n",
       " 'https://rmy.wikipedia.org/',\n",
       " 'https://wuu.wikipedia.org/',\n",
       " 'https://br.wikipedia.org/',\n",
       " 'https://meta.wikimedia.org/',\n",
       " 'https://uz.wikipedia.org/',\n",
       " 'https://arz.wikipedia.org/',\n",
       " 'https://tet.wikipedia.org/']"
      ]
     },
     "execution_count": 8,
     "metadata": {},
     "output_type": "execute_result"
    }
   ],
   "source": [
    "all_links_clean = list(set(all_links))\n",
    "all_links_clean = ['https:'+e for e in all_links_clean if 'https' not in e]\n",
    "all_links_clean"
   ]
  },
  {
   "cell_type": "code",
   "execution_count": 9,
   "metadata": {},
   "outputs": [
    {
     "data": {
      "text/plain": [
       "(327, 309)"
      ]
     },
     "execution_count": 9,
     "metadata": {},
     "output_type": "execute_result"
    }
   ],
   "source": [
    "len(all_links), len(all_links_clean)"
   ]
  },
  {
   "cell_type": "markdown",
   "metadata": {},
   "source": [
    "## Step 4: Use the os library to create a folder called *wikipedia* and make that the current working directory."
   ]
  },
  {
   "cell_type": "code",
   "execution_count": 10,
   "metadata": {},
   "outputs": [],
   "source": [
    "import os"
   ]
  },
  {
   "cell_type": "code",
   "execution_count": 11,
   "metadata": {},
   "outputs": [
    {
     "name": "stdout",
     "output_type": "stream",
     "text": [
      "No se ha podido crear el directorio wikipedia\n"
     ]
    }
   ],
   "source": [
    "#your code\n",
    "name = 'wikipedia'\n",
    "\n",
    "try:\n",
    "    os.mkdir(name)\n",
    "    print(f'Directorio {name} creado')\n",
    "except:\n",
    "    print(f'No se ha podido crear el directorio {name}')"
   ]
  },
  {
   "cell_type": "code",
   "execution_count": 12,
   "metadata": {},
   "outputs": [
    {
     "name": "stdout",
     "output_type": "stream",
     "text": [
      "El directorio actual es  C:\\Users\\botic\\Proyectos\\BT-IH-Data-Ago-22\\4.4-lab-parallelization\\your-code\\wikipedia\n"
     ]
    }
   ],
   "source": [
    "#your code\n",
    "try:\n",
    "    os.chdir(name)\n",
    "    print('El directorio actual es ', os.getcwd())\n",
    "except OSError:\n",
    "    print(f'No existe el directorio {name}')"
   ]
  },
  {
   "cell_type": "markdown",
   "metadata": {},
   "source": [
    "## Step 5: Write a function called index_page that accepts a link and does the following.\n",
    "\n",
    "- Tries to request the content of the page referenced by that link.\n",
    "- Slugifies the filename using the `slugify` function from the [python-slugify](https://pypi.org/project/python-slugify/) library and adds a .html file extension.\n",
    "    - If you don't already have the python-slugify library installed, you can pip install it as follows: `$ pip install python-slugify`.\n",
    "    - To import the slugify function, you would do the following: `from slugify import slugify`.\n",
    "    - You can then slugify a link as follows `slugify(link)`.\n",
    "- Creates a file in the wikipedia folder using the slugified filename and writes the contents of the page to the file.\n",
    "- If an exception occurs during the process above, just `pass`."
   ]
  },
  {
   "cell_type": "code",
   "execution_count": 13,
   "metadata": {},
   "outputs": [],
   "source": [
    "#!pip install python-slugify"
   ]
  },
  {
   "cell_type": "code",
   "execution_count": 14,
   "metadata": {},
   "outputs": [],
   "source": [
    "from slugify import slugify\n",
    "\n",
    "unicode=str()"
   ]
  },
  {
   "cell_type": "code",
   "execution_count": 31,
   "metadata": {},
   "outputs": [],
   "source": [
    "def index_page(s):\n",
    "    with open(slugify(s)+'.html', 'w', encoding='utf-8') as f:\n",
    "            f.write(requests.get(s).text)\n",
    "    return slugify(s)+'.html'"
   ]
  },
  {
   "cell_type": "markdown",
   "metadata": {},
   "source": [
    "## Step 6: Sequentially loop through the list of links, running the index_page function each time.\n",
    "\n",
    "Remember to include `%%time` at the beginning of the cell so that it measures the time it takes for the cell to run."
   ]
  },
  {
   "cell_type": "code",
   "execution_count": 28,
   "metadata": {},
   "outputs": [
    {
     "data": {
      "application/vnd.jupyter.widget-view+json": {
       "model_id": "3288466dc21f4bbd9d85037764b69171",
       "version_major": 2,
       "version_minor": 0
      },
      "text/plain": [
       "  0%|          | 0/309 [00:00<?, ?it/s]"
      ]
     },
     "metadata": {},
     "output_type": "display_data"
    }
   ],
   "source": [
    "#your code\n",
    "\n",
    "normal = [index_page(l) for l in tqdm(all_links_clean)]"
   ]
  },
  {
   "cell_type": "markdown",
   "metadata": {},
   "source": [
    "## Step 7: Perform the page indexing in parallel and note the difference in performance.\n",
    "\n",
    "Remember to include `%%time` at the beginning of the cell so that it measures the time it takes for the cell to run."
   ]
  },
  {
   "cell_type": "code",
   "execution_count": 1,
   "metadata": {},
   "outputs": [
    {
     "name": "stdout",
     "output_type": "stream",
     "text": [
      "Collecting multiprocess\n",
      "  Using cached multiprocess-0.70.13-py39-none-any.whl (132 kB)\n",
      "Collecting dill>=0.3.5.1\n",
      "  Using cached dill-0.3.5.1-py2.py3-none-any.whl (95 kB)\n",
      "Installing collected packages: dill, multiprocess\n",
      "Successfully installed dill-0.3.5.1 multiprocess-0.70.13\n"
     ]
    }
   ],
   "source": [
    "!pip install multiprocess\n"
   ]
  },
  {
   "cell_type": "code",
   "execution_count": 34,
   "metadata": {},
   "outputs": [],
   "source": [
    "import multiprocessing as mp # para mac y linux\n",
    "import multiprocess as mpw # para windows"
   ]
  },
  {
   "cell_type": "code",
   "execution_count": 35,
   "metadata": {},
   "outputs": [
    {
     "data": {
      "text/plain": [
       "16"
      ]
     },
     "execution_count": 35,
     "metadata": {},
     "output_type": "execute_result"
    }
   ],
   "source": [
    "#your code\n",
    "\n",
    "mp.cpu_count()"
   ]
  },
  {
   "cell_type": "code",
   "execution_count": 37,
   "metadata": {},
   "outputs": [],
   "source": [
    "pool = mp.Pool(mp.cpu_count())"
   ]
  },
  {
   "cell_type": "code",
   "execution_count": null,
   "metadata": {},
   "outputs": [],
   "source": [
    "response = pool.map(index_page, all_links_clean)\n",
    "pool.close()"
   ]
  },
  {
   "cell_type": "code",
   "execution_count": null,
   "metadata": {},
   "outputs": [],
   "source": []
  }
 ],
 "metadata": {
  "kernelspec": {
   "display_name": "IronHack",
   "language": "python",
   "name": "ironhack"
  },
  "language_info": {
   "codemirror_mode": {
    "name": "ipython",
    "version": 3
   },
   "file_extension": ".py",
   "mimetype": "text/x-python",
   "name": "python",
   "nbconvert_exporter": "python",
   "pygments_lexer": "ipython3",
   "version": "3.9.12"
  },
  "toc": {
   "base_numbering": 1,
   "nav_menu": {},
   "number_sections": true,
   "sideBar": true,
   "skip_h1_title": false,
   "title_cell": "Table of Contents",
   "title_sidebar": "Contents",
   "toc_cell": true,
   "toc_position": {},
   "toc_section_display": true,
   "toc_window_display": false
  },
  "varInspector": {
   "cols": {
    "lenName": 16,
    "lenType": 16,
    "lenVar": 40
   },
   "kernels_config": {
    "python": {
     "delete_cmd_postfix": "",
     "delete_cmd_prefix": "del ",
     "library": "var_list.py",
     "varRefreshCmd": "print(var_dic_list())"
    },
    "r": {
     "delete_cmd_postfix": ") ",
     "delete_cmd_prefix": "rm(",
     "library": "var_list.r",
     "varRefreshCmd": "cat(var_dic_list()) "
    }
   },
   "types_to_exclude": [
    "module",
    "function",
    "builtin_function_or_method",
    "instance",
    "_Feature"
   ],
   "window_display": false
  }
 },
 "nbformat": 4,
 "nbformat_minor": 2
}
