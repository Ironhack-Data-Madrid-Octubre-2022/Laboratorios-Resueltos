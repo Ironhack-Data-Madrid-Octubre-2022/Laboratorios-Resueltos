{
 "cells": [
  {
   "cell_type": "markdown",
   "id": "cf2623ae",
   "metadata": {
    "pycharm": {
     "name": "#%% md\n"
    }
   },
   "source": [
    "# Insert here the module/library import statements "
   ]
  },
  {
   "cell_type": "code",
   "execution_count": 1,
   "id": "630d7e4d",
   "metadata": {
    "pycharm": {
     "name": "#%%\n"
    }
   },
   "outputs": [],
   "source": [
    "import os\n",
    "import string\n",
    "import sys\n",
    "from random import randint"
   ]
  },
  {
   "cell_type": "markdown",
   "id": "59d96563",
   "metadata": {
    "pycharm": {
     "name": "#%% md\n"
    }
   },
   "source": [
    "\n",
    "# Calculate the square number of the first 20 numbers. Use square as the name of the list.\n",
    "Remember to use list comprehensions and to print your results"
   ]
  },
  {
   "cell_type": "code",
   "execution_count": 2,
   "outputs": [
    {
     "data": {
      "text/plain": "[1,\n 4,\n 9,\n 16,\n 25,\n 36,\n 49,\n 64,\n 81,\n 100,\n 121,\n 144,\n 169,\n 196,\n 225,\n 256,\n 289,\n 324,\n 361,\n 400]"
     },
     "execution_count": 2,
     "metadata": {},
     "output_type": "execute_result"
    }
   ],
   "source": [
    "square = [i ** 2 for i in range(1, 21)]\n",
    "\n",
    "square"
   ],
   "metadata": {
    "collapsed": false,
    "pycharm": {
     "name": "#%%\n"
    }
   }
  },
  {
   "cell_type": "markdown",
   "id": "b421e0cb",
   "metadata": {
    "pycharm": {
     "name": "#%% md\n"
    }
   },
   "source": [
    "# Calculate the square root of the first 100 numbers. Use sqrt as the name of the list.\n",
    "You will probably need to install math library with pip and import it in this file.\n",
    "\n",
    "Remember to use list comprehensions and to print your results\n"
   ]
  },
  {
   "cell_type": "code",
   "execution_count": 3,
   "id": "c047115a",
   "metadata": {
    "pycharm": {
     "name": "#%%\n"
    }
   },
   "outputs": [
    {
     "data": {
      "text/plain": "[1.0,\n 1.4142135623730951,\n 1.7320508075688772,\n 2.0,\n 2.23606797749979,\n 2.449489742783178,\n 2.6457513110645907,\n 2.8284271247461903,\n 3.0,\n 3.1622776601683795,\n 3.3166247903554,\n 3.4641016151377544,\n 3.605551275463989,\n 3.7416573867739413,\n 3.872983346207417,\n 4.0,\n 4.123105625617661,\n 4.242640687119285,\n 4.358898943540674,\n 4.47213595499958,\n 4.58257569495584,\n 4.69041575982343,\n 4.795831523312719,\n 4.898979485566356,\n 5.0,\n 5.0990195135927845,\n 5.196152422706632,\n 5.291502622129181,\n 5.385164807134504,\n 5.477225575051661,\n 5.5677643628300215,\n 5.656854249492381,\n 5.744562646538029,\n 5.830951894845301,\n 5.916079783099616,\n 6.0,\n 6.082762530298219,\n 6.164414002968976,\n 6.244997998398398,\n 6.324555320336759,\n 6.4031242374328485,\n 6.48074069840786,\n 6.557438524302,\n 6.6332495807108,\n 6.708203932499369,\n 6.782329983125268,\n 6.855654600401044,\n 6.928203230275509,\n 7.0,\n 7.0710678118654755,\n 7.14142842854285,\n 7.211102550927978,\n 7.280109889280518,\n 7.3484692283495345,\n 7.416198487095663,\n 7.483314773547883,\n 7.54983443527075,\n 7.615773105863909,\n 7.681145747868608,\n 7.745966692414834,\n 7.810249675906654,\n 7.874007874011811,\n 7.937253933193772,\n 8.0,\n 8.06225774829855,\n 8.12403840463596,\n 8.18535277187245,\n 8.246211251235321,\n 8.306623862918075,\n 8.366600265340756,\n 8.426149773176359,\n 8.48528137423857,\n 8.54400374531753,\n 8.602325267042627,\n 8.660254037844387,\n 8.717797887081348,\n 8.774964387392123,\n 8.831760866327848,\n 8.888194417315589,\n 8.94427190999916,\n 9.0,\n 9.055385138137417,\n 9.1104335791443,\n 9.16515138991168,\n 9.219544457292887,\n 9.273618495495704,\n 9.327379053088816,\n 9.38083151964686,\n 9.433981132056603,\n 9.486832980505138,\n 9.539392014169456,\n 9.591663046625438,\n 9.643650760992955,\n 9.695359714832659,\n 9.746794344808963,\n 9.797958971132712,\n 9.848857801796104,\n 9.899494936611665,\n 9.9498743710662,\n 10.0]"
     },
     "execution_count": 3,
     "metadata": {},
     "output_type": "execute_result"
    }
   ],
   "source": [
    "sqrt = [i ** (1/2) for i in range(1, 101)]\n",
    "\n",
    "sqrt"
   ]
  },
  {
   "cell_type": "markdown",
   "id": "f4bfca8d",
   "metadata": {
    "pycharm": {
     "name": "#%% md\n"
    }
   },
   "source": [
    "\n",
    "# Create this list [-10,-9,-8,-7,-6,-5,-4,-3,-2,-1,0]. Use my_list as the name of the list.\n",
    "Remember to use list comprehensions and to print your results"
   ]
  },
  {
   "cell_type": "code",
   "execution_count": 4,
   "id": "e23d87ea",
   "metadata": {
    "pycharm": {
     "name": "#%%\n"
    }
   },
   "outputs": [
    {
     "data": {
      "text/plain": "[-10, -9, -8, -7, -6, -5, -4, -3, -2, -1]"
     },
     "execution_count": 4,
     "metadata": {},
     "output_type": "execute_result"
    }
   ],
   "source": [
    "my_list = [i - 10 for i in range(10)]\n",
    "\n",
    "my_list"
   ]
  },
  {
   "cell_type": "markdown",
   "id": "62592d9c",
   "metadata": {
    "pycharm": {
     "name": "#%% md\n"
    }
   },
   "source": [
    "\n",
    "# Find the odd numbers from 1-100. Use odds as the name of the list. \n",
    "Remember to use list comprehensions and to print your results"
   ]
  },
  {
   "cell_type": "code",
   "execution_count": 5,
   "id": "d8d1c865",
   "metadata": {
    "pycharm": {
     "name": "#%%\n"
    }
   },
   "outputs": [
    {
     "data": {
      "text/plain": "[1,\n 3,\n 5,\n 7,\n 9,\n 11,\n 13,\n 15,\n 17,\n 19,\n 21,\n 23,\n 25,\n 27,\n 29,\n 31,\n 33,\n 35,\n 37,\n 39,\n 41,\n 43,\n 45,\n 47,\n 49,\n 51,\n 53,\n 55,\n 57,\n 59,\n 61,\n 63,\n 65,\n 67,\n 69,\n 71,\n 73,\n 75,\n 77,\n 79,\n 81,\n 83,\n 85,\n 87,\n 89,\n 91,\n 93,\n 95,\n 97,\n 99]"
     },
     "execution_count": 5,
     "metadata": {},
     "output_type": "execute_result"
    }
   ],
   "source": [
    "odds = [i for i in range(1, 101) if i%2 != 0]\n",
    "\n",
    "odds"
   ]
  },
  {
   "cell_type": "markdown",
   "id": "d8b74c2a",
   "metadata": {
    "pycharm": {
     "name": "#%% md\n"
    }
   },
   "source": [
    "# Find all of the numbers from 1-1000 that are divisible by 7. Use divisible_by_seven as the name of the list.\n",
    "Remember to use list comprehensions and to print your results"
   ]
  },
  {
   "cell_type": "code",
   "execution_count": 6,
   "id": "6a9cfb8c",
   "metadata": {
    "pycharm": {
     "name": "#%%\n"
    }
   },
   "outputs": [
    {
     "data": {
      "text/plain": "[7,\n 14,\n 21,\n 28,\n 35,\n 42,\n 49,\n 56,\n 63,\n 70,\n 77,\n 84,\n 91,\n 98,\n 105,\n 112,\n 119,\n 126,\n 133,\n 140,\n 147,\n 154,\n 161,\n 168,\n 175,\n 182,\n 189,\n 196,\n 203,\n 210,\n 217,\n 224,\n 231,\n 238,\n 245,\n 252,\n 259,\n 266,\n 273,\n 280,\n 287,\n 294,\n 301,\n 308,\n 315,\n 322,\n 329,\n 336,\n 343,\n 350,\n 357,\n 364,\n 371,\n 378,\n 385,\n 392,\n 399,\n 406,\n 413,\n 420,\n 427,\n 434,\n 441,\n 448,\n 455,\n 462,\n 469,\n 476,\n 483,\n 490,\n 497,\n 504,\n 511,\n 518,\n 525,\n 532,\n 539,\n 546,\n 553,\n 560,\n 567,\n 574,\n 581,\n 588,\n 595,\n 602,\n 609,\n 616,\n 623,\n 630,\n 637,\n 644,\n 651,\n 658,\n 665,\n 672,\n 679,\n 686,\n 693,\n 700,\n 707,\n 714,\n 721,\n 728,\n 735,\n 742,\n 749,\n 756,\n 763,\n 770,\n 777,\n 784,\n 791,\n 798,\n 805,\n 812,\n 819,\n 826,\n 833,\n 840,\n 847,\n 854,\n 861,\n 868,\n 875,\n 882,\n 889,\n 896,\n 903,\n 910,\n 917,\n 924,\n 931,\n 938,\n 945,\n 952,\n 959,\n 966,\n 973,\n 980,\n 987,\n 994]"
     },
     "execution_count": 6,
     "metadata": {},
     "output_type": "execute_result"
    }
   ],
   "source": [
    "divisible_by_seven = [i for i in range(1, 1001) if i%7 == 0]\n",
    "\n",
    "divisible_by_seven"
   ]
  },
  {
   "cell_type": "markdown",
   "id": "6e6f21e0",
   "metadata": {
    "pycharm": {
     "name": "#%% md\n"
    }
   },
   "source": [
    "# Remove all of the vowels in a string. Hint: make a list of the non-vowels. Use non_vowels as the name of the list.\n",
    "Remember to use list comprehensions and to print your results"
   ]
  },
  {
   "cell_type": "code",
   "execution_count": 7,
   "id": "43b38bd3",
   "metadata": {
    "pycharm": {
     "name": "#%%\n"
    }
   },
   "outputs": [],
   "source": [
    "teststring = 'Find all of the words in a string that are monosyllabic'"
   ]
  },
  {
   "cell_type": "code",
   "execution_count": 8,
   "id": "d5fc7426",
   "metadata": {
    "pycharm": {
     "name": "#%%\n"
    }
   },
   "outputs": [
    {
     "data": {
      "text/plain": "'Fnd ll f th wrds n  strng tht r mnsyllbc'"
     },
     "execution_count": 8,
     "metadata": {},
     "output_type": "execute_result"
    }
   ],
   "source": [
    "vowels = ['a', 'e', 'i', 'o', 'u']\n",
    "\n",
    "non_vowels = [i for i in teststring if i not in vowels]\n",
    "\n",
    "''.join(non_vowels)"
   ]
  },
  {
   "cell_type": "markdown",
   "id": "277d491e",
   "metadata": {
    "pycharm": {
     "name": "#%% md\n"
    }
   },
   "source": [
    "# Find the capital letters (and not white space) in the sentence 'The Quick Brown Fox Jumped Over The Lazy Dog'. \n",
    "- **Use capital_letters as the name of the list.**\n",
    "\n",
    "Remember to use list comprehensions and to print your results"
   ]
  },
  {
   "cell_type": "code",
   "execution_count": 9,
   "id": "3a43399c",
   "metadata": {
    "pycharm": {
     "name": "#%%\n"
    }
   },
   "outputs": [],
   "source": [
    "teststring = 'The Quick Brown Fox Jumped Over The Lazy Dog'"
   ]
  },
  {
   "cell_type": "code",
   "execution_count": 10,
   "outputs": [
    {
     "data": {
      "text/plain": "'T-Q-B-F-J-O-T-L-D'"
     },
     "execution_count": 10,
     "metadata": {},
     "output_type": "execute_result"
    }
   ],
   "source": [
    "letters = string.ascii_uppercase\n",
    "\n",
    "capital_letters = [i for i in teststring if i in letters]\n",
    "\n",
    "'-'.join(capital_letters)"
   ],
   "metadata": {
    "collapsed": false,
    "pycharm": {
     "name": "#%%\n"
    }
   }
  },
  {
   "cell_type": "markdown",
   "id": "c2603719",
   "metadata": {
    "pycharm": {
     "name": "#%% md\n"
    }
   },
   "source": [
    "# Find all the consonants in the sentence 'The quick brown fox jumped over the lazy dog'.\n",
    " - **Use consonants as the name of the list.**\n",
    " \n",
    "Remember to use list comprehensions and to print your results.\n"
   ]
  },
  {
   "cell_type": "code",
   "execution_count": 11,
   "id": "3ddb68df",
   "metadata": {
    "pycharm": {
     "name": "#%%\n"
    }
   },
   "outputs": [],
   "source": [
    "teststring = 'The quick brown fox jumped over the lazy dog'"
   ]
  },
  {
   "cell_type": "code",
   "execution_count": 12,
   "outputs": [
    {
     "data": {
      "text/plain": "'t_h_q_c_k_b_r_w_n_f_x_j_m_p_d_v_r_t_h_l_z_y_d_g'"
     },
     "execution_count": 12,
     "metadata": {},
     "output_type": "execute_result"
    }
   ],
   "source": [
    "letters = string.ascii_lowercase\n",
    "\n",
    "consonants = [i for i in teststring.lower() if i in letters and i not in vowels]\n",
    "\n",
    "'_'.join(consonants)"
   ],
   "metadata": {
    "collapsed": false,
    "pycharm": {
     "name": "#%%\n"
    }
   }
  },
  {
   "cell_type": "markdown",
   "id": "0f9c4004",
   "metadata": {
    "pycharm": {
     "name": "#%% md\n"
    }
   },
   "source": [
    "# Find the folders you have in your madrid-oct-2018 local repo. Use files as name of the list.  \n",
    "\n",
    "**Hint: You will probably need to import os library and some of its modules. You will need to make some online research.**\n",
    "\n",
    "Remember to use list comprehensions and to print your results."
   ]
  },
  {
   "cell_type": "code",
   "execution_count": 13,
   "id": "22bb13eb",
   "metadata": {
    "pycharm": {
     "name": "#%%\n"
    }
   },
   "outputs": [
    {
     "data": {
      "text/plain": "['1.1-lab-resolving-git-conflicts',\n '.DS_Store',\n '1.1-lab-bash',\n '1.2-lab-tuple-set-dict',\n '1.2-lab-list-comprehension',\n '1.3-Bags-of-words',\n '1.3-lab-functions',\n 'clone',\n '1.4-lablmap-reduce-filter',\n '1.4-lab-errorhand_listcomp',\n '1.5-lab-vikings']"
     },
     "execution_count": 13,
     "metadata": {},
     "output_type": "execute_result"
    }
   ],
   "source": [
    "# Utilizo ../../ para subir dos niveles desde donde estos y ver todas las carpetas en mi carpeta de laboratorios.\n",
    "# Primero accedo a 1.4-lab-errorhand_listcomp y desde ahí a Laboratorios.\n",
    "files = os.listdir('../../')\n",
    "\n",
    "files"
   ]
  },
  {
   "cell_type": "markdown",
   "id": "2cdaa518",
   "metadata": {
    "pycharm": {
     "name": "#%% md\n"
    }
   },
   "source": [
    "# Create 4 lists of 10 random numbers between 0 and 100 each. Use random_lists as the name of the list. \n",
    "**Hint: You will probably need to import random module**\n",
    "\n",
    "Remember to use list comprehensions and to print your results"
   ]
  },
  {
   "cell_type": "code",
   "execution_count": 14,
   "id": "120b29bd",
   "metadata": {
    "pycharm": {
     "name": "#%%\n"
    }
   },
   "outputs": [
    {
     "data": {
      "text/plain": "([38, 79, 36, 78, 97, 21, 32, 10, 66, 79],\n [35, 4, 24, 16, 20, 48, 81, 26, 67, 90],\n [88, 49, 31, 63, 81, 31, 45, 70, 28, 87],\n [64, 26, 75, 38, 93, 34, 13, 92, 12, 0])"
     },
     "execution_count": 14,
     "metadata": {},
     "output_type": "execute_result"
    }
   ],
   "source": [
    "random_lists = [randint(0, 100) for i in range(10)], [randint(0, 100) for i in range(10)], \\\n",
    "               [randint(0, 100) for i in range(10)], [randint(0, 100) for i in range(10)]\n",
    "\n",
    "# La contrabarra (\\) al final de línea, es el equivalente a _ cuando escribimos texto y par_\n",
    "# timos una palabra\n",
    "\n",
    "random_lists"
   ]
  },
  {
   "cell_type": "markdown",
   "id": "b76ea171",
   "metadata": {
    "pycharm": {
     "name": "#%% md\n"
    }
   },
   "source": [
    "# Flatten the following list of lists. Use flatten_list as the name of the output.\n",
    "\n",
    "Remember to use list comprehensions and to print your results\n"
   ]
  },
  {
   "cell_type": "code",
   "execution_count": 15,
   "id": "b3afebb7",
   "metadata": {
    "pycharm": {
     "name": "#%%\n"
    }
   },
   "outputs": [],
   "source": [
    "list_of_lists = [[1, 2, 3], [4, 5, 6], [7, 8, 9]]"
   ]
  },
  {
   "cell_type": "code",
   "execution_count": 16,
   "id": "b6bcef37",
   "metadata": {
    "pycharm": {
     "name": "#%%\n"
    }
   },
   "outputs": [
    {
     "data": {
      "text/plain": "[1, 2, 3, 4, 5, 6, 7, 8, 9]"
     },
     "execution_count": 16,
     "metadata": {},
     "output_type": "execute_result"
    }
   ],
   "source": [
    "flatten_list = [item for sublist in list_of_lists for item in sublist]\n",
    "\n",
    "flatten_list"
   ]
  },
  {
   "cell_type": "markdown",
   "id": "53c86611",
   "metadata": {
    "pycharm": {
     "name": "#%% md\n"
    }
   },
   "source": [
    "\n",
    "# Convert the numbers of the following nested list to floats. Use floats as the name of the list. \n",
    "\n",
    "Remember to use list comprehensions and to print your results."
   ]
  },
  {
   "cell_type": "code",
   "execution_count": 17,
   "id": "7087f44e",
   "metadata": {
    "pycharm": {
     "name": "#%%\n"
    }
   },
   "outputs": [],
   "source": [
    "list_of_lists = [['40', '20', '10', '30'], ['20', '20', '20', '20', '20', '30', '20'],\n",
    "                 ['30', '20', '30', '50', '10', '30', '20', '20', '20'], ['100', '100'],\n",
    "                 ['100', '100', '100', '100', '100'], ['100', '100', '100', '100']]"
   ]
  },
  {
   "cell_type": "code",
   "execution_count": 18,
   "id": "a932aff5",
   "metadata": {
    "pycharm": {
     "name": "#%%\n"
    }
   },
   "outputs": [
    {
     "data": {
      "text/plain": "[[40.0, 20.0, 10.0, 30.0],\n [20.0, 20.0, 20.0, 20.0, 20.0, 30.0, 20.0],\n [30.0, 20.0, 30.0, 50.0, 10.0, 30.0, 20.0, 20.0, 20.0],\n [100.0, 100.0],\n [100.0, 100.0, 100.0, 100.0, 100.0],\n [100.0, 100.0, 100.0, 100.0]]"
     },
     "execution_count": 18,
     "metadata": {},
     "output_type": "execute_result"
    }
   ],
   "source": [
    "flatten_list = [[float(item) for item in sublist] for sublist in list_of_lists]\n",
    "\n",
    "flatten_list"
   ]
  },
  {
   "cell_type": "markdown",
   "id": "62272da6",
   "metadata": {
    "pycharm": {
     "name": "#%% md\n"
    }
   },
   "source": [
    "# Handle the exception thrown by the code below by using try and except blocks. \n"
   ]
  },
  {
   "cell_type": "code",
   "execution_count": 19,
   "id": "b5980ab4",
   "metadata": {
    "pycharm": {
     "name": "#%%\n"
    }
   },
   "outputs": [
    {
     "ename": "TypeError",
     "evalue": "unsupported operand type(s) for ** or pow(): 'str' and 'int'",
     "output_type": "error",
     "traceback": [
      "\u001B[0;31m---------------------------------------------------------------------------\u001B[0m",
      "\u001B[0;31mTypeError\u001B[0m                                 Traceback (most recent call last)",
      "Input \u001B[0;32mIn [19]\u001B[0m, in \u001B[0;36m<cell line: 1>\u001B[0;34m()\u001B[0m\n\u001B[1;32m      1\u001B[0m \u001B[38;5;28;01mfor\u001B[39;00m i \u001B[38;5;129;01min\u001B[39;00m [\u001B[38;5;124m'\u001B[39m\u001B[38;5;124ma\u001B[39m\u001B[38;5;124m'\u001B[39m, \u001B[38;5;124m'\u001B[39m\u001B[38;5;124mb\u001B[39m\u001B[38;5;124m'\u001B[39m, \u001B[38;5;124m'\u001B[39m\u001B[38;5;124mc\u001B[39m\u001B[38;5;124m'\u001B[39m]:\n\u001B[1;32m      2\u001B[0m     \u001B[38;5;28mprint\u001B[39m\n\u001B[0;32m----> 3\u001B[0m     \u001B[43mi\u001B[49m\u001B[43m \u001B[49m\u001B[38;5;241;43m*\u001B[39;49m\u001B[38;5;241;43m*\u001B[39;49m\u001B[43m \u001B[49m\u001B[38;5;241;43m2\u001B[39;49m\n",
      "\u001B[0;31mTypeError\u001B[0m: unsupported operand type(s) for ** or pow(): 'str' and 'int'"
     ]
    }
   ],
   "source": [
    "for i in ['a', 'b', 'c']:\n",
    "    print\n",
    "    i ** 2"
   ]
  },
  {
   "cell_type": "code",
   "execution_count": 20,
   "outputs": [
    {
     "name": "stdout",
     "output_type": "stream",
     "text": [
      "No hombre no.. no puedes elevar un string!\n"
     ]
    }
   ],
   "source": [
    "try:\n",
    "    for i in ['a', 'b', 'c']:\n",
    "        print\n",
    "        i ** 2\n",
    "\n",
    "except TypeError:\n",
    "    print('No hombre no.. no puedes elevar un string!')"
   ],
   "metadata": {
    "collapsed": false,
    "pycharm": {
     "name": "#%%\n"
    }
   }
  },
  {
   "cell_type": "markdown",
   "id": "bda76246",
   "metadata": {
    "pycharm": {
     "name": "#%% md\n"
    }
   },
   "source": [
    "# Handle the exception thrown by the code below by using try and except blocks. \n",
    "\n",
    "Then use a finally block to print 'All Done.'\n",
    "\n",
    "Check in provided resources the type of error you may use. \n"
   ]
  },
  {
   "cell_type": "code",
   "execution_count": 21,
   "id": "441acd1c",
   "metadata": {
    "pycharm": {
     "name": "#%%\n"
    }
   },
   "outputs": [
    {
     "ename": "ZeroDivisionError",
     "evalue": "division by zero",
     "output_type": "error",
     "traceback": [
      "\u001B[0;31m---------------------------------------------------------------------------\u001B[0m",
      "\u001B[0;31mZeroDivisionError\u001B[0m                         Traceback (most recent call last)",
      "Input \u001B[0;32mIn [21]\u001B[0m, in \u001B[0;36m<cell line: 4>\u001B[0;34m()\u001B[0m\n\u001B[1;32m      1\u001B[0m x \u001B[38;5;241m=\u001B[39m \u001B[38;5;241m5\u001B[39m\n\u001B[1;32m      2\u001B[0m y \u001B[38;5;241m=\u001B[39m \u001B[38;5;241m0\u001B[39m\n\u001B[0;32m----> 4\u001B[0m z \u001B[38;5;241m=\u001B[39m \u001B[43mx\u001B[49m\u001B[38;5;241;43m/\u001B[39;49m\u001B[43my\u001B[49m\n",
      "\u001B[0;31mZeroDivisionError\u001B[0m: division by zero"
     ]
    }
   ],
   "source": [
    "x = 5\n",
    "y = 0\n",
    "\n",
    "z = x/y"
   ]
  },
  {
   "cell_type": "code",
   "execution_count": 22,
   "id": "976fec9f",
   "metadata": {
    "pycharm": {
     "name": "#%%\n"
    }
   },
   "outputs": [
    {
     "name": "stdout",
     "output_type": "stream",
     "text": [
      "Esta operación, como mi ánimo un lunes a las 07:00, tiende a menos infinito\n",
      "All Done\n"
     ]
    }
   ],
   "source": [
    "try:\n",
    "    x = -5\n",
    "    y = 0\n",
    "\n",
    "    z = x/y\n",
    "\n",
    "except ZeroDivisionError:\n",
    "    print('Esta operación, como mi ánimo un lunes a las 07:00, tiende a menos infinito')\n",
    "\n",
    "finally:\n",
    "    print('All Done')"
   ]
  },
  {
   "cell_type": "code",
   "execution_count": 25,
   "outputs": [
    {
     "name": "stdout",
     "output_type": "stream",
     "text": [
      "All Done\n"
     ]
    }
   ],
   "source": [
    "try:\n",
    "    x = -5\n",
    "    y = 1\n",
    "\n",
    "    z = x/y\n",
    "\n",
    "except ZeroDivisionError:\n",
    "    print('Esta operación, como mi ánimo un lunes a las 07:00, tiende a menos infinito')\n",
    "\n",
    "finally:\n",
    "    print('All Done')"
   ],
   "metadata": {
    "collapsed": false,
    "pycharm": {
     "name": "#%%\n"
    }
   }
  },
  {
   "cell_type": "markdown",
   "id": "85ea78c5",
   "metadata": {
    "pycharm": {
     "name": "#%% md\n"
    }
   },
   "source": [
    "# Handle the exception thrown by the code below by using try and except blocks. \n",
    "\n",
    "Check in provided resources the type of error you may use. \n"
   ]
  },
  {
   "cell_type": "code",
   "execution_count": 26,
   "id": "783a8224",
   "metadata": {
    "pycharm": {
     "name": "#%%\n"
    }
   },
   "outputs": [
    {
     "ename": "IndexError",
     "evalue": "list index out of range",
     "output_type": "error",
     "traceback": [
      "\u001B[0;31m---------------------------------------------------------------------------\u001B[0m",
      "\u001B[0;31mIndexError\u001B[0m                                Traceback (most recent call last)",
      "Input \u001B[0;32mIn [26]\u001B[0m, in \u001B[0;36m<cell line: 2>\u001B[0;34m()\u001B[0m\n\u001B[1;32m      1\u001B[0m abc \u001B[38;5;241m=\u001B[39m [\u001B[38;5;241m10\u001B[39m, \u001B[38;5;241m20\u001B[39m, \u001B[38;5;241m20\u001B[39m]\n\u001B[0;32m----> 2\u001B[0m \u001B[38;5;28mprint\u001B[39m(\u001B[43mabc\u001B[49m\u001B[43m[\u001B[49m\u001B[38;5;241;43m3\u001B[39;49m\u001B[43m]\u001B[49m)\n",
      "\u001B[0;31mIndexError\u001B[0m: list index out of range"
     ]
    }
   ],
   "source": [
    "abc = [10, 20, 20]\n",
    "print(abc[3])"
   ]
  },
  {
   "cell_type": "code",
   "execution_count": 27,
   "id": "cfcf15f0",
   "metadata": {
    "pycharm": {
     "name": "#%%\n"
    }
   },
   "outputs": [
    {
     "name": "stdout",
     "output_type": "stream",
     "text": [
      "Te has pasado. En programación se empieza a contar desde cero\n"
     ]
    }
   ],
   "source": [
    "try:\n",
    "    abc = [10, 20, 20]\n",
    "    print(abc[3])\n",
    "\n",
    "except IndexError:\n",
    "    print(f'Te has pasado. En programación se empieza a contar desde cero')"
   ]
  },
  {
   "cell_type": "markdown",
   "id": "10223640",
   "metadata": {
    "pycharm": {
     "name": "#%% md\n"
    }
   },
   "source": [
    "# Handle at least two kind of different exceptions when dividing a couple of numbers provided by the user. \n",
    "\n",
    "**Hint: take a look on python input function.**\n",
    "\n",
    "Check in provided resources the type of error you may use. "
   ]
  },
  {
   "cell_type": "code",
   "execution_count": 32,
   "id": "3c1f141b",
   "metadata": {
    "pycharm": {
     "name": "#%%\n"
    }
   },
   "outputs": [
    {
     "name": "stdout",
     "output_type": "stream",
     "text": [
      "Esta operación, como mi ánimo un viernes a las 18:00, tiende a más infinito\n"
     ]
    }
   ],
   "source": [
    "try:\n",
    "    a = 42\n",
    "    b = input()\n",
    "\n",
    "    a/b\n",
    "\n",
    "except TypeError:\n",
    "    print('La función input devuelve un str')\n",
    "\n",
    "except ZeroDivisionError:\n",
    "    print('Esta operación, como mi ánimo un viernes a las 18:00, tiende a más infinito')"
   ]
  },
  {
   "cell_type": "markdown",
   "id": "5d712a55",
   "metadata": {
    "pycharm": {
     "name": "#%% md\n"
    }
   },
   "source": [
    "# Handle the exception thrown by the code below by using try and except blocks. \n",
    "\n",
    "Check in provided resources the type of error you may use. "
   ]
  },
  {
   "cell_type": "code",
   "execution_count": 33,
   "id": "b73f824c",
   "metadata": {
    "pycharm": {
     "name": "#%%\n"
    }
   },
   "outputs": [
    {
     "ename": "FileNotFoundError",
     "evalue": "[Errno 2] No such file or directory: 'testfile'",
     "output_type": "error",
     "traceback": [
      "\u001B[0;31m---------------------------------------------------------------------------\u001B[0m",
      "\u001B[0;31mFileNotFoundError\u001B[0m                         Traceback (most recent call last)",
      "Input \u001B[0;32mIn [33]\u001B[0m, in \u001B[0;36m<cell line: 1>\u001B[0;34m()\u001B[0m\n\u001B[0;32m----> 1\u001B[0m f \u001B[38;5;241m=\u001B[39m \u001B[38;5;28;43mopen\u001B[39;49m\u001B[43m(\u001B[49m\u001B[38;5;124;43m'\u001B[39;49m\u001B[38;5;124;43mtestfile\u001B[39;49m\u001B[38;5;124;43m'\u001B[39;49m\u001B[43m,\u001B[49m\u001B[43m \u001B[49m\u001B[38;5;124;43m'\u001B[39;49m\u001B[38;5;124;43mr\u001B[39;49m\u001B[38;5;124;43m'\u001B[39;49m\u001B[43m)\u001B[49m\n\u001B[1;32m      2\u001B[0m f\u001B[38;5;241m.\u001B[39mwrite(\u001B[38;5;124m'\u001B[39m\u001B[38;5;124mTest write this\u001B[39m\u001B[38;5;124m'\u001B[39m)\n",
      "\u001B[0;31mFileNotFoundError\u001B[0m: [Errno 2] No such file or directory: 'testfile'"
     ]
    }
   ],
   "source": [
    "f = open('testfile', 'r')\n",
    "f.write('Test write this')"
   ]
  },
  {
   "cell_type": "code",
   "execution_count": 34,
   "id": "5a1cb361",
   "metadata": {
    "pycharm": {
     "name": "#%%\n"
    }
   },
   "outputs": [
    {
     "name": "stdout",
     "output_type": "stream",
     "text": [
      "No se ha encontrado el archivo\n"
     ]
    }
   ],
   "source": [
    "try:\n",
    "    f = open('testfile', 'r')\n",
    "    f.write('Test write this')\n",
    "\n",
    "except FileNotFoundError:\n",
    "    print('No se ha encontrado el archivo')"
   ]
  },
  {
   "cell_type": "markdown",
   "id": "a028ccb8",
   "metadata": {
    "pycharm": {
     "name": "#%% md\n"
    }
   },
   "source": [
    "# Handle the exceptions that can be thrown by the code below using try and except blocks. \n",
    "\n",
    "**Hint: the file could not exist and the data could not be convertable to int**"
   ]
  },
  {
   "cell_type": "code",
   "execution_count": 35,
   "id": "5f639ab1",
   "metadata": {
    "pycharm": {
     "name": "#%%\n"
    }
   },
   "outputs": [
    {
     "name": "stdout",
     "output_type": "stream",
     "text": [
      "No se ha encontrado el archivo\n"
     ]
    }
   ],
   "source": [
    "try:\n",
    "    fp = open('myfile.txt')\n",
    "    line = f.readline()\n",
    "    i = int(f.strip())\n",
    "\n",
    "except FileNotFoundError:\n",
    "    print('No se ha encontrado el archivo')\n",
    "\n",
    "except AttributeError:\n",
    "    print('No puedes aplicar el método strip a un string')"
   ]
  },
  {
   "cell_type": "markdown",
   "id": "d695245b",
   "metadata": {
    "pycharm": {
     "name": "#%% md\n"
    }
   },
   "source": [
    "# The following function can only run on a Linux system. \n",
    "The assert in this function will throw an exception if you call it on an operating system other than Linux.\n",
    "\n",
    "Handle this exception using **try and except** blocks.\n",
    "\n",
    "You will probably need to import sys "
   ]
  },
  {
   "cell_type": "code",
   "execution_count": 36,
   "id": "3f043ef6",
   "metadata": {
    "pycharm": {
     "name": "#%%\n"
    }
   },
   "outputs": [
    {
     "ename": "AssertionError",
     "evalue": "Function can only run on Linux systems.",
     "output_type": "error",
     "traceback": [
      "\u001B[0;31m---------------------------------------------------------------------------\u001B[0m",
      "\u001B[0;31mAssertionError\u001B[0m                            Traceback (most recent call last)",
      "Input \u001B[0;32mIn [36]\u001B[0m, in \u001B[0;36m<cell line: 6>\u001B[0;34m()\u001B[0m\n\u001B[1;32m      2\u001B[0m     \u001B[38;5;28;01massert\u001B[39;00m (\u001B[38;5;124m'\u001B[39m\u001B[38;5;124mlinux\u001B[39m\u001B[38;5;124m'\u001B[39m \u001B[38;5;129;01min\u001B[39;00m sys\u001B[38;5;241m.\u001B[39mplatform), \u001B[38;5;124m\"\u001B[39m\u001B[38;5;124mFunction can only run on Linux systems.\u001B[39m\u001B[38;5;124m\"\u001B[39m\n\u001B[1;32m      3\u001B[0m     \u001B[38;5;28mprint\u001B[39m(\u001B[38;5;124m'\u001B[39m\u001B[38;5;124mDoing something.\u001B[39m\u001B[38;5;124m'\u001B[39m)\n\u001B[0;32m----> 6\u001B[0m \u001B[43mlinux_interaction\u001B[49m\u001B[43m(\u001B[49m\u001B[43m)\u001B[49m\n",
      "Input \u001B[0;32mIn [36]\u001B[0m, in \u001B[0;36mlinux_interaction\u001B[0;34m()\u001B[0m\n\u001B[1;32m      1\u001B[0m \u001B[38;5;28;01mdef\u001B[39;00m \u001B[38;5;21mlinux_interaction\u001B[39m():\n\u001B[0;32m----> 2\u001B[0m     \u001B[38;5;28;01massert\u001B[39;00m (\u001B[38;5;124m'\u001B[39m\u001B[38;5;124mlinux\u001B[39m\u001B[38;5;124m'\u001B[39m \u001B[38;5;129;01min\u001B[39;00m sys\u001B[38;5;241m.\u001B[39mplatform), \u001B[38;5;124m\"\u001B[39m\u001B[38;5;124mFunction can only run on Linux systems.\u001B[39m\u001B[38;5;124m\"\u001B[39m\n\u001B[1;32m      3\u001B[0m     \u001B[38;5;28mprint\u001B[39m(\u001B[38;5;124m'\u001B[39m\u001B[38;5;124mDoing something.\u001B[39m\u001B[38;5;124m'\u001B[39m)\n",
      "\u001B[0;31mAssertionError\u001B[0m: Function can only run on Linux systems."
     ]
    }
   ],
   "source": [
    "def linux_interaction():\n",
    "    assert ('linux' in sys.platform), \"Function can only run on Linux systems.\"\n",
    "    print('Doing something.')\n",
    "\n",
    "\n",
    "linux_interaction()"
   ]
  },
  {
   "cell_type": "code",
   "execution_count": 37,
   "id": "1643bbed",
   "metadata": {
    "pycharm": {
     "name": "#%%\n"
    }
   },
   "outputs": [
    {
     "name": "stdout",
     "output_type": "stream",
     "text": [
      "Esta función solo puede usarse en Linux\n"
     ]
    }
   ],
   "source": [
    "def linux_interaction():\n",
    "    try:\n",
    "        assert ('linux' in sys.platform), \"Function can only run on Linux systems.\"\n",
    "        print('Doing something.')\n",
    "\n",
    "    except AssertionError:\n",
    "        print(\"Esta función solo puede usarse en Linux\")\n",
    "\n",
    "\n",
    "linux_interaction()"
   ]
  },
  {
   "cell_type": "markdown",
   "id": "9310a60b",
   "metadata": {
    "pycharm": {
     "name": "#%% md\n"
    }
   },
   "source": [
    "\n",
    "# Bonus Questions:"
   ]
  },
  {
   "cell_type": "markdown",
   "id": "2f06d3fd",
   "metadata": {
    "pycharm": {
     "name": "#%% md\n"
    }
   },
   "source": [
    "You will need to make some research on dictionary comprehension to solve the following questions"
   ]
  },
  {
   "cell_type": "markdown",
   "id": "3108ff54",
   "metadata": {
    "pycharm": {
     "name": "#%% md\n"
    }
   },
   "source": [
    "## Write a function that asks for an integer and prints the square of it. \n",
    "\n",
    "**Hint: we need to continually keep checking until we get an integer.**\n",
    "\n",
    "Use a while loop with a try,except, else block to account for incorrect inputs."
   ]
  },
  {
   "cell_type": "code",
   "execution_count": 38,
   "id": "94c2e76e",
   "metadata": {
    "pycharm": {
     "name": "#%%\n"
    }
   },
   "outputs": [
    {
     "name": "stdout",
     "output_type": "stream",
     "text": [
      "Valor incorrecto. Tienes que introducir un número entero\n",
      "Has realidao 1 intentos \n",
      "\n",
      "\n",
      "Valor incorrecto. Tienes que introducir un número entero\n",
      "Has realidao 2 intentos \n",
      "\n",
      "\n",
      "Valor incorrecto. Tienes que introducir un número entero\n",
      "Has realidao 3 intentos \n",
      "\n",
      "\n",
      "Valor incorrecto. Tienes que introducir un número entero\n",
      "Has realidao 4 intentos \n",
      "\n",
      "\n",
      "Has introducido un valor correcto\n",
      "Has realidao 5 intentos \n",
      "\n",
      "\n",
      "5 al cuadrado es 25\n"
     ]
    }
   ],
   "source": [
    "def print_sqr():\n",
    "    counter = 0\n",
    "\n",
    "    while True:  # Continúa hasta encontrar un valor válido\n",
    "        counter += 1\n",
    "\n",
    "        try:\n",
    "            num = int(input('Introduce un número para elevar al cuadrado'))\n",
    "\n",
    "        except:  # Para cualquier excepción ejecuta\n",
    "            print(f'Valor incorrecto. Tienes que introducir un número entero')\n",
    "\n",
    "        else:  # Si se ejecuta el try sin excepciones ejecuta\n",
    "            print(f'Has introducido un valor correcto')\n",
    "            break\n",
    "\n",
    "        finally:  # Haya o no excepciones se ejecuta\n",
    "            print(f'Has realidao {counter} intentos \\n\\n')\n",
    "\n",
    "    print(f'{num} al cuadrado es {num ** 2}')\n",
    "\n",
    "    return None\n",
    "\n",
    "\n",
    "print_sqr()"
   ]
  },
  {
   "cell_type": "markdown",
   "id": "7139da39",
   "metadata": {
    "pycharm": {
     "name": "#%% md\n"
    }
   },
   "source": [
    "\n",
    "## Find all of the numbers from 1-1000 that are divisible by any single digit besides 1 (2-9). \n",
    "\n",
    "Use results as the name of the list \n"
   ]
  },
  {
   "cell_type": "code",
   "execution_count": 39,
   "outputs": [
    {
     "data": {
      "text/plain": "[2, 3, 4, 5, 6, 7, 8]"
     },
     "execution_count": 39,
     "metadata": {},
     "output_type": "execute_result"
    }
   ],
   "source": [
    "[i for i in range(2, 9)]"
   ],
   "metadata": {
    "collapsed": false,
    "pycharm": {
     "name": "#%%\n"
    }
   }
  },
  {
   "cell_type": "code",
   "execution_count": 40,
   "id": "90d3aa37",
   "metadata": {
    "pycharm": {
     "name": "#%%\n"
    }
   },
   "outputs": [
    {
     "data": {
      "text/plain": "[2,\n 3,\n 4,\n 5,\n 6,\n 7,\n 8,\n 9,\n 10,\n 12,\n 14,\n 15,\n 16,\n 18,\n 20,\n 21,\n 22,\n 24,\n 25,\n 26,\n 27,\n 28,\n 30,\n 32,\n 33,\n 34,\n 35,\n 36,\n 38,\n 39,\n 40,\n 42,\n 44,\n 45,\n 46,\n 48,\n 49,\n 50,\n 51,\n 52,\n 54,\n 55,\n 56,\n 57,\n 58,\n 60,\n 62,\n 63,\n 64,\n 65,\n 66,\n 68,\n 69,\n 70,\n 72,\n 74,\n 75,\n 76,\n 77,\n 78,\n 80,\n 81,\n 82,\n 84,\n 85,\n 86,\n 87,\n 88,\n 90,\n 91,\n 92,\n 93,\n 94,\n 95,\n 96,\n 98,\n 99,\n 100,\n 102,\n 104,\n 105,\n 106,\n 108,\n 110,\n 111,\n 112,\n 114,\n 115,\n 116,\n 117,\n 118,\n 119,\n 120,\n 122,\n 123,\n 124,\n 125,\n 126,\n 128,\n 129,\n 130,\n 132,\n 133,\n 134,\n 135,\n 136,\n 138,\n 140,\n 141,\n 142,\n 144,\n 145,\n 146,\n 147,\n 148,\n 150,\n 152,\n 153,\n 154,\n 155,\n 156,\n 158,\n 159,\n 160,\n 161,\n 162,\n 164,\n 165,\n 166,\n 168,\n 170,\n 171,\n 172,\n 174,\n 175,\n 176,\n 177,\n 178,\n 180,\n 182,\n 183,\n 184,\n 185,\n 186,\n 188,\n 189,\n 190,\n 192,\n 194,\n 195,\n 196,\n 198,\n 200,\n 201,\n 202,\n 203,\n 204,\n 205,\n 206,\n 207,\n 208,\n 210,\n 212,\n 213,\n 214,\n 215,\n 216,\n 217,\n 218,\n 219,\n 220,\n 222,\n 224,\n 225,\n 226,\n 228,\n 230,\n 231,\n 232,\n 234,\n 235,\n 236,\n 237,\n 238,\n 240,\n 242,\n 243,\n 244,\n 245,\n 246,\n 248,\n 249,\n 250,\n 252,\n 254,\n 255,\n 256,\n 258,\n 259,\n 260,\n 261,\n 262,\n 264,\n 265,\n 266,\n 267,\n 268,\n 270,\n 272,\n 273,\n 274,\n 275,\n 276,\n 278,\n 279,\n 280,\n 282,\n 284,\n 285,\n 286,\n 287,\n 288,\n 290,\n 291,\n 292,\n 294,\n 295,\n 296,\n 297,\n 298,\n 300,\n 301,\n 302,\n 303,\n 304,\n 305,\n 306,\n 308,\n 309,\n 310,\n 312,\n 314,\n 315,\n 316,\n 318,\n 320,\n 321,\n 322,\n 324,\n 325,\n 326,\n 327,\n 328,\n 329,\n 330,\n 332,\n 333,\n 334,\n 335,\n 336,\n 338,\n 339,\n 340,\n 342,\n 343,\n 344,\n 345,\n 346,\n 348,\n 350,\n 351,\n 352,\n 354,\n 355,\n 356,\n 357,\n 358,\n 360,\n 362,\n 363,\n 364,\n 365,\n 366,\n 368,\n 369,\n 370,\n 371,\n 372,\n 374,\n 375,\n 376,\n 378,\n 380,\n 381,\n 382,\n 384,\n 385,\n 386,\n 387,\n 388,\n 390,\n 392,\n 393,\n 394,\n 395,\n 396,\n 398,\n 399,\n 400,\n 402,\n 404,\n 405,\n 406,\n 408,\n 410,\n 411,\n 412,\n 413,\n 414,\n 415,\n 416,\n 417,\n 418,\n 420,\n 422,\n 423,\n 424,\n 425,\n 426,\n 427,\n 428,\n 429,\n 430,\n 432,\n 434,\n 435,\n 436,\n 438,\n 440,\n 441,\n 442,\n 444,\n 445,\n 446,\n 447,\n 448,\n 450,\n 452,\n 453,\n 454,\n 455,\n 456,\n 458,\n 459,\n 460,\n 462,\n 464,\n 465,\n 466,\n 468,\n 469,\n 470,\n 471,\n 472,\n 474,\n 475,\n 476,\n 477,\n 478,\n 480,\n 482,\n 483,\n 484,\n 485,\n 486,\n 488,\n 489,\n 490,\n 492,\n 494,\n 495,\n 496,\n 497,\n 498,\n 500,\n 501,\n 502,\n 504,\n 505,\n 506,\n 507,\n 508,\n 510,\n 511,\n 512,\n 513,\n 514,\n 515,\n 516,\n 518,\n 519,\n 520,\n 522,\n 524,\n 525,\n 526,\n 528,\n 530,\n 531,\n 532,\n 534,\n 535,\n 536,\n 537,\n 538,\n 539,\n 540,\n 542,\n 543,\n 544,\n 545,\n 546,\n 548,\n 549,\n 550,\n 552,\n 553,\n 554,\n 555,\n 556,\n 558,\n 560,\n 561,\n 562,\n 564,\n 565,\n 566,\n 567,\n 568,\n 570,\n 572,\n 573,\n 574,\n 575,\n 576,\n 578,\n 579,\n 580,\n 581,\n 582,\n 584,\n 585,\n 586,\n 588,\n 590,\n 591,\n 592,\n 594,\n 595,\n 596,\n 597,\n 598,\n 600,\n 602,\n 603,\n 604,\n 605,\n 606,\n 608,\n 609,\n 610,\n 612,\n 614,\n 615,\n 616,\n 618,\n 620,\n 621,\n 622,\n 623,\n 624,\n 625,\n 626,\n 627,\n 628,\n 630,\n 632,\n 633,\n 634,\n 635,\n 636,\n 637,\n 638,\n 639,\n 640,\n 642,\n 644,\n 645,\n 646,\n 648,\n 650,\n 651,\n 652,\n 654,\n 655,\n 656,\n 657,\n 658,\n 660,\n 662,\n 663,\n 664,\n 665,\n 666,\n 668,\n 669,\n 670,\n 672,\n 674,\n 675,\n 676,\n 678,\n 679,\n 680,\n 681,\n 682,\n 684,\n 685,\n 686,\n 687,\n 688,\n 690,\n 692,\n 693,\n 694,\n 695,\n 696,\n 698,\n 699,\n 700,\n 702,\n 704,\n 705,\n 706,\n 707,\n 708,\n 710,\n 711,\n 712,\n 714,\n 715,\n 716,\n 717,\n 718,\n 720,\n 721,\n 722,\n 723,\n 724,\n 725,\n 726,\n 728,\n 729,\n 730,\n 732,\n 734,\n 735,\n 736,\n 738,\n 740,\n 741,\n 742,\n 744,\n 745,\n 746,\n 747,\n 748,\n 749,\n 750,\n 752,\n 753,\n 754,\n 755,\n 756,\n 758,\n 759,\n 760,\n 762,\n 763,\n 764,\n 765,\n 766,\n 768,\n 770,\n 771,\n 772,\n 774,\n 775,\n 776,\n 777,\n 778,\n 780,\n 782,\n 783,\n 784,\n 785,\n 786,\n 788,\n 789,\n 790,\n 791,\n 792,\n 794,\n 795,\n 796,\n 798,\n 800,\n 801,\n 802,\n 804,\n 805,\n 806,\n 807,\n 808,\n 810,\n 812,\n 813,\n 814,\n 815,\n 816,\n 818,\n 819,\n 820,\n 822,\n 824,\n 825,\n 826,\n 828,\n 830,\n 831,\n 832,\n 833,\n 834,\n 835,\n 836,\n 837,\n 838,\n 840,\n 842,\n 843,\n 844,\n 845,\n 846,\n 847,\n 848,\n 849,\n 850,\n 852,\n 854,\n 855,\n 856,\n 858,\n 860,\n 861,\n 862,\n 864,\n 865,\n 866,\n 867,\n 868,\n 870,\n 872,\n 873,\n 874,\n 875,\n 876,\n 878,\n 879,\n 880,\n 882,\n 884,\n 885,\n 886,\n 888,\n 889,\n 890,\n 891,\n 892,\n 894,\n 895,\n 896,\n 897,\n 898,\n 900,\n 902,\n 903,\n 904,\n 905,\n 906,\n 908,\n 909,\n 910,\n 912,\n 914,\n 915,\n 916,\n 917,\n 918,\n 920,\n 921,\n 922,\n 924,\n 925,\n 926,\n 927,\n 928,\n 930,\n 931,\n 932,\n 933,\n 934,\n 935,\n 936,\n 938,\n 939,\n 940,\n 942,\n 944,\n 945,\n 946,\n 948,\n 950,\n 951,\n 952,\n 954,\n 955,\n 956,\n 957,\n 958,\n 959,\n 960,\n 962,\n 963,\n 964,\n 965,\n 966,\n 968,\n 969,\n 970,\n 972,\n 973,\n 974,\n 975,\n 976,\n 978,\n 980,\n 981,\n 982,\n 984,\n 985,\n 986,\n 987,\n 988,\n 990,\n 992,\n 993,\n 994,\n 995,\n 996,\n 998,\n 999,\n 1000]"
     },
     "execution_count": 40,
     "metadata": {},
     "output_type": "execute_result"
    }
   ],
   "source": [
    "# Con list comprehension, generando una lista de booleanos (True, False) si i es divisible entre 2-9\n",
    "results = [i for i in range(1, 1001) if True in [True for j in range(2, 10) if i%j == 0]]\n",
    "\n",
    "results"
   ]
  },
  {
   "cell_type": "markdown",
   "id": "e4791228",
   "metadata": {
    "pycharm": {
     "name": "#%% md\n"
    }
   },
   "source": [
    "## Define a customised exception to handle not accepted values. \n",
    "\n",
    "You have the following user inputs and the Num_of_sections can not be less than 2.\n",
    "\n",
    "**Hint: Create a class derived from the pre-defined Exception class in Python**"
   ]
  },
  {
   "cell_type": "code",
   "execution_count": null,
   "id": "86fa19bf",
   "metadata": {
    "pycharm": {
     "name": "#%%\n"
    }
   },
   "outputs": [],
   "source": [
    "Total_Marks = int(input(\"Enter Total Marks Scored: \"))\n",
    "Num_of_Sections = int(input(\"Enter Num of Sections: \"))"
   ]
  },
  {
   "cell_type": "code",
   "execution_count": 201,
   "id": "f80bb764",
   "metadata": {
    "pycharm": {
     "name": "#%%\n"
    }
   },
   "outputs": [],
   "source": [
    "class CommonException(Exception):\n",
    "    \"\"\"\n",
    "    Esta es una clase genérica para capturar excepciones.\n",
    "    Son buenas prácticas crearla.\n",
    "    \"\"\"\n",
    "    # Constructor\n",
    "    def __init__(self, *args):\n",
    "        super(CommonException, self).__init__(*args)\n",
    "\n",
    "\n",
    "class SpecificException(ZeroDivisionError):\n",
    "    \"\"\"\n",
    "    Esta es una subclase específica para excepciones tipo ZeroDivisionError.\n",
    "    Son buenas prácticas heredar de la excepción concreta que queremos modificar.\n",
    "    \"\"\"\n",
    "    # Constructor\n",
    "    def __init__(self, *args):\n",
    "        super(SpecificException, self).__init__(*args)\n",
    "\n",
    "\n",
    "class MyException(Exception):\n",
    "    \"\"\"\n",
    "    Esta es una subclase específica para un error definido por el programador\n",
    "    \"\"\"\n",
    "    # Constructor\n",
    "    def __init__(self, trigger=None, message=None, *args):\n",
    "        self.trigger = trigger  # El segundo valor se almacenará en trigger\n",
    "        self.message = message  # El primer valor se almacenará en message\n",
    "        super(MyException, self).__init__(*args)\n",
    "\n",
    "    # Método para imprimir por consola el mensaje asociado a la excepción\n",
    "    def __str__(self):\n",
    "        if self.trigger is None and self.message is None:\n",
    "            return 'Error indeterminado'\n",
    "\n",
    "        elif self.trigger and self.message is None:  # El que hayamos establecido como predefinido\n",
    "            return f'Error indeterminado, posiblemente causado por el valor {self.trigger}'\n",
    "\n",
    "        elif self.trigger is None and self.message:  # El que hayamos establecido como predefinido\n",
    "            return self.message\n",
    "\n",
    "        else:  # Si hemos pasado un mensaje y un valor problemático como argumentos\n",
    "            return f'{self.message} causado por el valor {self.trigger}'"
   ]
  },
  {
   "cell_type": "code",
   "execution_count": 202,
   "outputs": [
    {
     "ename": "CommonException",
     "evalue": "",
     "output_type": "error",
     "traceback": [
      "\u001B[0;31m---------------------------------------------------------------------------\u001B[0m",
      "\u001B[0;31mCommonException\u001B[0m                           Traceback (most recent call last)",
      "Input \u001B[0;32mIn [202]\u001B[0m, in \u001B[0;36m<cell line: 3>\u001B[0;34m()\u001B[0m\n\u001B[1;32m      1\u001B[0m a \u001B[38;5;241m=\u001B[39m \u001B[38;5;241m0\u001B[39m\n\u001B[1;32m      3\u001B[0m \u001B[38;5;28;01mif\u001B[39;00m a \u001B[38;5;241m==\u001B[39m \u001B[38;5;241m0\u001B[39m:\n\u001B[0;32m----> 4\u001B[0m     \u001B[38;5;28;01mraise\u001B[39;00m CommonException()\n",
      "\u001B[0;31mCommonException\u001B[0m: "
     ]
    }
   ],
   "source": [
    "a = 0\n",
    "\n",
    "if a == 0:\n",
    "    raise CommonException()  # Lanzando la excepción común"
   ],
   "metadata": {
    "collapsed": false,
    "pycharm": {
     "name": "#%%\n"
    }
   }
  },
  {
   "cell_type": "code",
   "execution_count": 203,
   "outputs": [
    {
     "ename": "SpecificException",
     "evalue": "ExcepciónEspecífica",
     "output_type": "error",
     "traceback": [
      "\u001B[0;31m---------------------------------------------------------------------------\u001B[0m",
      "\u001B[0;31mSpecificException\u001B[0m                         Traceback (most recent call last)",
      "Input \u001B[0;32mIn [203]\u001B[0m, in \u001B[0;36m<cell line: 3>\u001B[0;34m()\u001B[0m\n\u001B[1;32m      1\u001B[0m a \u001B[38;5;241m=\u001B[39m \u001B[38;5;241m0\u001B[39m\n\u001B[1;32m      3\u001B[0m \u001B[38;5;28;01mif\u001B[39;00m a \u001B[38;5;241m==\u001B[39m \u001B[38;5;241m0\u001B[39m:\n\u001B[0;32m----> 4\u001B[0m     \u001B[38;5;28;01mraise\u001B[39;00m SpecificException(\u001B[38;5;124m'\u001B[39m\u001B[38;5;124mExcepciónEspecífica\u001B[39m\u001B[38;5;124m'\u001B[39m)\n",
      "\u001B[0;31mSpecificException\u001B[0m: ExcepciónEspecífica"
     ]
    }
   ],
   "source": [
    "a = 0\n",
    "\n",
    "if a == 0:\n",
    "    raise SpecificException('ExcepciónEspecífica')  # Lanzando la excepción común pasando un mensaje como argumento"
   ],
   "metadata": {
    "collapsed": false,
    "pycharm": {
     "name": "#%%\n"
    }
   }
  },
  {
   "cell_type": "code",
   "execution_count": 204,
   "outputs": [
    {
     "ename": "MyException",
     "evalue": "Error indeterminado",
     "output_type": "error",
     "traceback": [
      "\u001B[0;31m---------------------------------------------------------------------------\u001B[0m",
      "\u001B[0;31mMyException\u001B[0m                               Traceback (most recent call last)",
      "Input \u001B[0;32mIn [204]\u001B[0m, in \u001B[0;36m<cell line: 3>\u001B[0;34m()\u001B[0m\n\u001B[1;32m      1\u001B[0m a \u001B[38;5;241m=\u001B[39m \u001B[38;5;241m0\u001B[39m\n\u001B[1;32m      3\u001B[0m \u001B[38;5;28;01mif\u001B[39;00m a \u001B[38;5;241m==\u001B[39m \u001B[38;5;241m0\u001B[39m:\n\u001B[0;32m----> 4\u001B[0m     \u001B[38;5;28;01mraise\u001B[39;00m MyException()\n",
      "\u001B[0;31mMyException\u001B[0m: Error indeterminado"
     ]
    }
   ],
   "source": [
    "a = 0\n",
    "\n",
    "if a == 0:\n",
    "    raise MyException()  # Lanzando la excepción con el mensaje por defecto"
   ],
   "metadata": {
    "collapsed": false,
    "pycharm": {
     "name": "#%%\n"
    }
   }
  },
  {
   "cell_type": "code",
   "execution_count": 205,
   "outputs": [
    {
     "ename": "MyException",
     "evalue": "Error indeterminado, posiblemente causado por el valor 5",
     "output_type": "error",
     "traceback": [
      "\u001B[0;31m---------------------------------------------------------------------------\u001B[0m",
      "\u001B[0;31mMyException\u001B[0m                               Traceback (most recent call last)",
      "Input \u001B[0;32mIn [205]\u001B[0m, in \u001B[0;36m<cell line: 3>\u001B[0;34m()\u001B[0m\n\u001B[1;32m      1\u001B[0m i \u001B[38;5;241m=\u001B[39m \u001B[38;5;241m5\u001B[39m\n\u001B[1;32m      3\u001B[0m \u001B[38;5;28;01mif\u001B[39;00m i \u001B[38;5;241m==\u001B[39m \u001B[38;5;241m5\u001B[39m:\n\u001B[0;32m----> 4\u001B[0m     \u001B[38;5;28;01mraise\u001B[39;00m MyException(i)\n",
      "\u001B[0;31mMyException\u001B[0m: Error indeterminado, posiblemente causado por el valor 5"
     ]
    }
   ],
   "source": [
    "i = 5\n",
    "\n",
    "if i == 5:\n",
    "    raise MyException(i)  # Lanzando la excepción capturando el valor que lanza el error"
   ],
   "metadata": {
    "collapsed": false,
    "pycharm": {
     "name": "#%%\n"
    }
   }
  },
  {
   "cell_type": "code",
   "execution_count": 206,
   "outputs": [
    {
     "ename": "MyException",
     "evalue": "Valor muy bajo causado por el valor 1",
     "output_type": "error",
     "traceback": [
      "\u001B[0;31m---------------------------------------------------------------------------\u001B[0m",
      "\u001B[0;31mMyException\u001B[0m                               Traceback (most recent call last)",
      "Input \u001B[0;32mIn [206]\u001B[0m, in \u001B[0;36m<cell line: 5>\u001B[0;34m()\u001B[0m\n\u001B[1;32m      2\u001B[0m Num_of_Sections \u001B[38;5;241m=\u001B[39m \u001B[38;5;28mint\u001B[39m(\u001B[38;5;28minput\u001B[39m(\u001B[38;5;124m\"\u001B[39m\u001B[38;5;124mEnter Num of Sections: \u001B[39m\u001B[38;5;124m\"\u001B[39m))\n\u001B[1;32m      5\u001B[0m \u001B[38;5;28;01mif\u001B[39;00m Num_of_Sections \u001B[38;5;241m<\u001B[39m \u001B[38;5;241m2\u001B[39m:\n\u001B[0;32m----> 6\u001B[0m     \u001B[38;5;28;01mraise\u001B[39;00m MyException(Num_of_Sections, \u001B[38;5;124m'\u001B[39m\u001B[38;5;124mValor muy bajo\u001B[39m\u001B[38;5;124m'\u001B[39m)\n",
      "\u001B[0;31mMyException\u001B[0m: Valor muy bajo causado por el valor 1"
     ]
    }
   ],
   "source": [
    "Total_Marks = int(input(\"Enter Total Marks Scored: \"))\n",
    "Num_of_Sections = int(input(\"Enter Num of Sections: \"))\n",
    "\n",
    "\n",
    "if Num_of_Sections < 2:\n",
    "    raise MyException(Num_of_Sections, 'Valor muy bajo')"
   ],
   "metadata": {
    "collapsed": false,
    "pycharm": {
     "name": "#%%\n"
    }
   }
  }
 ],
 "metadata": {
  "kernelspec": {
   "display_name": "Python 3",
   "language": "python",
   "name": "python3"
  },
  "language_info": {
   "codemirror_mode": {
    "name": "ipython",
    "version": 3
   },
   "file_extension": ".py",
   "mimetype": "text/x-python",
   "name": "python",
   "nbconvert_exporter": "python",
   "pygments_lexer": "ipython3",
   "version": "3.9.6"
  },
  "toc": {
   "base_numbering": 1,
   "nav_menu": {},
   "number_sections": true,
   "sideBar": true,
   "skip_h1_title": false,
   "title_cell": "Table of Contents",
   "title_sidebar": "Contents",
   "toc_cell": false,
   "toc_position": {},
   "toc_section_display": true,
   "toc_window_display": false
  }
 },
 "nbformat": 4,
 "nbformat_minor": 5
}