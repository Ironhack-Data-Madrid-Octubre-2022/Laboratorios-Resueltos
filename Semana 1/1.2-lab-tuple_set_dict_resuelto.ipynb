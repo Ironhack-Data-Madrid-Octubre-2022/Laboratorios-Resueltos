{
 "cells": [
  {
   "cell_type": "markdown",
   "metadata": {
    "pycharm": {
     "name": "#%% md\n"
    }
   },
   "source": [
    "## Challenge 1: Tuples\n",
    "\n",
    "#### Do you know you can create tuples with only one element?\n",
    "\n",
    "**In the cell below, define a variable `tup` with a single element `\"I\"`.**\n",
    "\n",
    "*Hint: you need to add a comma (`,`) after the single element.*"
   ]
  },
  {
   "cell_type": "code",
   "execution_count": 6,
   "metadata": {
    "pycharm": {
     "name": "#%%\n"
    }
   },
   "outputs": [
    {
     "data": {
      "text/plain": [
       "str"
      ]
     },
     "execution_count": 6,
     "metadata": {},
     "output_type": "execute_result"
    }
   ],
   "source": [
    "tup = ('I')\n",
    "\n",
    "type(tup)"
   ]
  },
  {
   "cell_type": "code",
   "execution_count": 7,
   "metadata": {
    "pycharm": {
     "name": "#%%\n"
    }
   },
   "outputs": [
    {
     "data": {
      "text/plain": [
       "tuple"
      ]
     },
     "execution_count": 7,
     "metadata": {},
     "output_type": "execute_result"
    }
   ],
   "source": [
    "tup = ('I',)\n",
    "type(tup)"
   ]
  },
  {
   "cell_type": "markdown",
   "metadata": {
    "pycharm": {
     "name": "#%% md\n"
    }
   },
   "source": [
    "#### Print the type of `tup`. \n",
    "\n",
    "Make sure its type is correct (i.e. *tuple* instead of *str*)."
   ]
  },
  {
   "cell_type": "code",
   "execution_count": 8,
   "metadata": {
    "pycharm": {
     "name": "#%%\n"
    }
   },
   "outputs": [
    {
     "data": {
      "text/plain": [
       "tuple"
      ]
     },
     "execution_count": 8,
     "metadata": {},
     "output_type": "execute_result"
    }
   ],
   "source": [
    "type(tup)"
   ]
  },
  {
   "cell_type": "markdown",
   "metadata": {
    "pycharm": {
     "name": "#%% md\n"
    }
   },
   "source": [
    "#### Now try to append the following elements to `tup`. \n",
    "\n",
    "Are you able to do it? Explain.\n",
    "\n",
    "```\n",
    "\"r\", \"o\", \"n\", \"h\", \"a\", \"c\", \"k',\n",
    "```"
   ]
  },
  {
   "cell_type": "code",
   "execution_count": 9,
   "metadata": {
    "pycharm": {
     "name": "#%%\n"
    }
   },
   "outputs": [],
   "source": [
    "tup.append('r', 'o', 'n', 'h', 'a', 'c', 'k')\n",
    "\n",
    "# Las tuplas son inmutables!"
   ]
  },
  {
   "cell_type": "markdown",
   "metadata": {
    "pycharm": {
     "name": "#%% md\n"
    }
   },
   "source": [
    "#### How about re-assign a new value to an existing tuple?\n",
    "\n",
    "Re-assign the following elements to `tup`. Are you able to do it? Explain.\n",
    "\n",
    "```\n",
    "\"I\", \"r\", \"o\", \"n\", \"h\", \"a\", \"c\", \"k\"\n",
    "```"
   ]
  },
  {
   "cell_type": "code",
   "execution_count": 10,
   "metadata": {
    "pycharm": {
     "name": "#%%\n"
    }
   },
   "outputs": [],
   "source": [
    "tup = ('I', 'r', 'o', 'n', 'h', 'a', 'c', 'k')\n",
    "\n",
    "# Reasignar es equivalente a sobrescribir"
   ]
  },
  {
   "cell_type": "markdown",
   "metadata": {
    "pycharm": {
     "name": "#%% md\n"
    }
   },
   "source": [
    "#### Split `tup` into `tup1` and `tup2` with 4 elements in each. \n",
    "\n",
    "`tup1` should be `(\"I\", \"r\", \"o\", \"n\")` and `tup2` should be `(\"h\", \"a\", \"c\", \"k\")`.\n",
    "\n",
    "*Hint: use positive index numbers for `tup1` assignment and use negative index numbers for `tup2` assignment.\n",
    "Positive index numbers count from the beginning whereas negative index numbers count from the end of the sequence.*\n",
    "\n",
    "Also print `tup1` and `tup2`."
   ]
  },
  {
   "cell_type": "code",
   "execution_count": 11,
   "metadata": {
    "pycharm": {
     "name": "#%%\n"
    }
   },
   "outputs": [
    {
     "name": "stdout",
     "output_type": "stream",
     "text": [
      "('I', 'r', 'o', 'n') ('h', 'a', 'c', 'k')\n"
     ]
    }
   ],
   "source": [
    "tup1 = tup[:4]\n",
    "tup2 = tup[-4:]\n",
    "\n",
    "print(tup1, tup2)  # De esta manera ejecuto los dos prints en una linea"
   ]
  },
  {
   "cell_type": "markdown",
   "metadata": {
    "pycharm": {
     "name": "#%% md\n"
    }
   },
   "source": [
    "#### Add `tup1` and `tup2` into `tup3` using the `+` operator.\n",
    "\n",
    "Then print `tup3` and check if `tup3` equals to `tup`."
   ]
  },
  {
   "cell_type": "code",
   "execution_count": 12,
   "metadata": {
    "pycharm": {
     "name": "#%%\n"
    }
   },
   "outputs": [
    {
     "name": "stdout",
     "output_type": "stream",
     "text": [
      "('I', 'r', 'o', 'n', 'h', 'a', 'c', 'k') \n",
      " tup == tup3: True\n"
     ]
    }
   ],
   "source": [
    "tup3 = tup1 + tup2\n",
    "\n",
    "print(tup3, '\\n', 'tup == tup3:', tup == tup3)"
   ]
  },
  {
   "cell_type": "markdown",
   "metadata": {
    "pycharm": {
     "name": "#%% md\n"
    }
   },
   "source": [
    "#### Count the number of elements in `tup1` and `tup2`. Then add the two counts together and check if the sum is the same as the number of elements in `tup3`."
   ]
  },
  {
   "cell_type": "markdown",
   "metadata": {
    "pycharm": {
     "name": "#%% md\n"
    }
   },
   "source": [
    "Como no me acuerdo de los métodos de las tuplas, busco en el apartado de Python de [W3schools][0] si existe un método\n",
    " que me ayude.\n",
    "\n",
    "[0]: https://www.w3schools.com/python/python_tuples_methods.asp"
   ]
  },
  {
   "cell_type": "code",
   "execution_count": 13,
   "metadata": {
    "pycharm": {
     "name": "#%%\n"
    }
   },
   "outputs": [
    {
     "data": {
      "text/plain": [
       "(4, 4, 8)"
      ]
     },
     "execution_count": 13,
     "metadata": {},
     "output_type": "execute_result"
    }
   ],
   "source": [
    "len(tup1), len(tup2), len(tup3)"
   ]
  },
  {
   "cell_type": "code",
   "execution_count": 14,
   "metadata": {
    "pycharm": {
     "name": "#%%\n"
    }
   },
   "outputs": [
    {
     "name": "stdout",
     "output_type": "stream",
     "text": [
      "tup1 + tup2 = tup3 : True\n"
     ]
    }
   ],
   "source": [
    "print('tup1 + tup2 = tup3 :', len(tup1) + len(tup2) == len(tup3))"
   ]
  },
  {
   "cell_type": "markdown",
   "metadata": {
    "pycharm": {
     "name": "#%% md\n"
    }
   },
   "source": [
    "#### What is the index number of `\"h\"` in `tup3`?"
   ]
  },
  {
   "cell_type": "code",
   "execution_count": 15,
   "metadata": {
    "pycharm": {
     "name": "#%%\n"
    }
   },
   "outputs": [
    {
     "data": {
      "text/plain": [
       "4"
      ]
     },
     "execution_count": 15,
     "metadata": {},
     "output_type": "execute_result"
    }
   ],
   "source": [
    "tup3.index('h')"
   ]
  },
  {
   "cell_type": "markdown",
   "metadata": {
    "pycharm": {
     "name": "#%% md\n"
    }
   },
   "source": [
    "#### Now, use a FOR loop to check whether each letter in the following list is present in `tup3`:\n",
    "\n",
    "```\n",
    "letters = [\"a\", \"b\", \"c\", \"d\", \"e\"]\n",
    "```\n",
    "\n",
    "For each letter you check, print `True` if it is present in `tup3` otherwise print `False`.\n",
    "\n",
    "*Hint: you only need to loop `letters`. You don't need to loop `tup3` because there is a Python operator `in` you can use. See [reference](https://stackoverflow.com/questions/17920147/how-to-check-if-a-tuple-contains-an-element-in-python).*"
   ]
  },
  {
   "cell_type": "code",
   "execution_count": 16,
   "metadata": {
    "pycharm": {
     "name": "#%%\n"
    }
   },
   "outputs": [
    {
     "name": "stdout",
     "output_type": "stream",
     "text": [
      "True\n",
      "False\n",
      "True\n",
      "False\n",
      "False\n"
     ]
    }
   ],
   "source": [
    "letters = [\"a\", \"b\", \"c\", \"d\", \"e\"]\n",
    "\n",
    "for i in letters:\n",
    "    if i in tup3:\n",
    "        print(True)\n",
    "    else:\n",
    "        print(False)"
   ]
  },
  {
   "cell_type": "markdown",
   "metadata": {
    "pycharm": {
     "name": "#%% md\n"
    }
   },
   "source": [
    "#### How many times does each letter in `letters` appear in `tup3`?\n",
    "\n",
    "Print out the number of occurrence of each letter."
   ]
  },
  {
   "cell_type": "code",
   "execution_count": 17,
   "metadata": {
    "pycharm": {
     "name": "#%%\n"
    }
   },
   "outputs": [
    {
     "name": "stdout",
     "output_type": "stream",
     "text": [
      "1\n",
      "0\n",
      "1\n",
      "0\n",
      "0\n"
     ]
    }
   ],
   "source": [
    "for i in letters:\n",
    "    print(tup3.count(i))"
   ]
  },
  {
   "cell_type": "markdown",
   "metadata": {
    "pycharm": {
     "name": "#%% md\n"
    }
   },
   "source": [
    "## Challenge 2: Sets\n",
    "\n",
    "There are a lot to learn about Python Sets and the information presented in the lesson is limited due to its length. To learn Python Sets in depth you are strongly encouraged to review the W3Schools tutorial on [Python Sets Examples and Methods](https://www.w3schools.com/python/python_sets.asp) before you work on this lab. Some difficult questions in this lab have their solutions in the W3Schools tutorial.\n",
    "\n",
    "#### First, import the Python `random` library."
   ]
  },
  {
   "cell_type": "code",
   "execution_count": 18,
   "metadata": {
    "pycharm": {
     "name": "#%%\n"
    }
   },
   "outputs": [],
   "source": [
    "import random"
   ]
  },
  {
   "cell_type": "markdown",
   "metadata": {
    "pycharm": {
     "name": "#%% md\n"
    }
   },
   "source": [
    "#### In the cell below, create a list named `sample_list_1` with 80 random values. \n",
    "\n",
    "Requirements:\n",
    "\n",
    "* Each value is an integer falling between 0 and 100.\n",
    "* Each value in the list is unique.\n",
    "\n",
    "Print `sample_list_1` to review its values\n",
    "\n",
    "*Hint: use `random.sample` ([reference](https://docs.python.org/3/library/random.html#random.sample)).*"
   ]
  },
  {
   "cell_type": "code",
   "execution_count": 19,
   "metadata": {
    "pycharm": {
     "name": "#%%\n"
    }
   },
   "outputs": [
    {
     "data": {
      "text/plain": [
       "[94,\n",
       " 15,\n",
       " 80,\n",
       " 10,\n",
       " 5,\n",
       " 78,\n",
       " 59,\n",
       " 72,\n",
       " 84,\n",
       " 38,\n",
       " 32,\n",
       " 86,\n",
       " 73,\n",
       " 25,\n",
       " 83,\n",
       " 17,\n",
       " 21,\n",
       " 52,\n",
       " 98,\n",
       " 13,\n",
       " 54,\n",
       " 27,\n",
       " 23,\n",
       " 31,\n",
       " 88,\n",
       " 53,\n",
       " 1,\n",
       " 65,\n",
       " 68,\n",
       " 92,\n",
       " 45,\n",
       " 43,\n",
       " 7,\n",
       " 8,\n",
       " 70,\n",
       " 4,\n",
       " 40,\n",
       " 87,\n",
       " 41,\n",
       " 95,\n",
       " 71,\n",
       " 90,\n",
       " 3,\n",
       " 56,\n",
       " 14,\n",
       " 81,\n",
       " 69,\n",
       " 44,\n",
       " 66,\n",
       " 58,\n",
       " 63,\n",
       " 75,\n",
       " 36,\n",
       " 24,\n",
       " 0,\n",
       " 57,\n",
       " 89,\n",
       " 12,\n",
       " 30,\n",
       " 79,\n",
       " 20,\n",
       " 46,\n",
       " 93,\n",
       " 6,\n",
       " 91,\n",
       " 9,\n",
       " 74,\n",
       " 49,\n",
       " 99,\n",
       " 19,\n",
       " 47,\n",
       " 60,\n",
       " 35,\n",
       " 67,\n",
       " 28,\n",
       " 96,\n",
       " 50,\n",
       " 55,\n",
       " 39,\n",
       " 85]"
      ]
     },
     "execution_count": 19,
     "metadata": {},
     "output_type": "execute_result"
    }
   ],
   "source": [
    "sample_list_1 = random.sample(range(100), 80)\n",
    "\n",
    "sample_list_1"
   ]
  },
  {
   "cell_type": "markdown",
   "metadata": {
    "pycharm": {
     "name": "#%% md\n"
    }
   },
   "source": [
    "#### Convert `sample_list_1` to a set called `set1`. Print the length of the set. Is its length still 80?"
   ]
  },
  {
   "cell_type": "code",
   "execution_count": 20,
   "metadata": {
    "pycharm": {
     "name": "#%%\n"
    }
   },
   "outputs": [
    {
     "data": {
      "text/plain": [
       "80"
      ]
     },
     "execution_count": 20,
     "metadata": {},
     "output_type": "execute_result"
    }
   ],
   "source": [
    "set1 = set(sample_list_1)\n",
    "\n",
    "len(set1)"
   ]
  },
  {
   "cell_type": "markdown",
   "metadata": {
    "pycharm": {
     "name": "#%% md\n"
    }
   },
   "source": [
    "#### Create another list named `sample_list_2` with 80 random values.\n",
    "\n",
    "Requirements:\n",
    "\n",
    "* Each value is an integer falling between 0 and 100.\n",
    "* The values in the list don't have to be unique.\n",
    "\n",
    "*Hint: Use a FOR loop.*"
   ]
  },
  {
   "cell_type": "code",
   "execution_count": 21,
   "metadata": {
    "pycharm": {
     "name": "#%%\n"
    }
   },
   "outputs": [
    {
     "data": {
      "text/plain": [
       "[51,\n",
       " 62,\n",
       " 34,\n",
       " 89,\n",
       " 36,\n",
       " 46,\n",
       " 42,\n",
       " 65,\n",
       " 42,\n",
       " 50,\n",
       " 49,\n",
       " 25,\n",
       " 92,\n",
       " 74,\n",
       " 53,\n",
       " 76,\n",
       " 81,\n",
       " 5,\n",
       " 1,\n",
       " 28,\n",
       " 76,\n",
       " 13,\n",
       " 13,\n",
       " 46,\n",
       " 6,\n",
       " 78,\n",
       " 46,\n",
       " 59,\n",
       " 15,\n",
       " 25,\n",
       " 2,\n",
       " 19,\n",
       " 48,\n",
       " 20,\n",
       " 60,\n",
       " 11,\n",
       " 63,\n",
       " 84,\n",
       " 79,\n",
       " 83,\n",
       " 74,\n",
       " 63,\n",
       " 56,\n",
       " 74,\n",
       " 11,\n",
       " 81,\n",
       " 28,\n",
       " 34,\n",
       " 50,\n",
       " 61,\n",
       " 54,\n",
       " 39,\n",
       " 43,\n",
       " 17,\n",
       " 15,\n",
       " 27,\n",
       " 60,\n",
       " 21,\n",
       " 48,\n",
       " 23,\n",
       " 79,\n",
       " 27,\n",
       " 5,\n",
       " 94,\n",
       " 80,\n",
       " 80,\n",
       " 11,\n",
       " 5,\n",
       " 96,\n",
       " 20,\n",
       " 81,\n",
       " 99,\n",
       " 49,\n",
       " 48,\n",
       " 73,\n",
       " 89,\n",
       " 48,\n",
       " 34,\n",
       " 59,\n",
       " 12]"
      ]
     },
     "execution_count": 21,
     "metadata": {},
     "output_type": "execute_result"
    }
   ],
   "source": [
    "sample_list_2 = []\n",
    "\n",
    "for i in range(80): sample_list_2.append(random.randint(0, 100))\n",
    "\n",
    "sample_list_2"
   ]
  },
  {
   "cell_type": "markdown",
   "metadata": {
    "pycharm": {
     "name": "#%% md\n"
    }
   },
   "source": [
    "#### Convert `sample_list_2` to a set called `set2`. Print the length of the set. Is its length still 80?"
   ]
  },
  {
   "cell_type": "code",
   "execution_count": 22,
   "metadata": {
    "pycharm": {
     "name": "#%%\n"
    }
   },
   "outputs": [
    {
     "data": {
      "text/plain": [
       "49"
      ]
     },
     "execution_count": 22,
     "metadata": {},
     "output_type": "execute_result"
    }
   ],
   "source": [
    "set2 = set(sample_list_2)\n",
    "\n",
    "len(set2)"
   ]
  },
  {
   "cell_type": "markdown",
   "metadata": {
    "pycharm": {
     "name": "#%% md\n"
    }
   },
   "source": [
    "#### Identify the elements present in `set1` but not in `set2`. Assign the elements to a new set named `set3`."
   ]
  },
  {
   "cell_type": "code",
   "execution_count": 23,
   "metadata": {
    "pycharm": {
     "name": "#%%\n"
    }
   },
   "outputs": [],
   "source": [
    "set3 = set1.difference(set2)"
   ]
  },
  {
   "cell_type": "markdown",
   "metadata": {
    "pycharm": {
     "name": "#%% md\n"
    }
   },
   "source": [
    "#### Identify the elements present in `set2` but not in `set1`. Assign the elements to a new set named `set4`."
   ]
  },
  {
   "cell_type": "code",
   "execution_count": 24,
   "metadata": {
    "pycharm": {
     "name": "#%%\n"
    }
   },
   "outputs": [],
   "source": [
    "set4 = set2.difference(set1)"
   ]
  },
  {
   "cell_type": "markdown",
   "metadata": {
    "pycharm": {
     "name": "#%% md\n"
    }
   },
   "source": [
    "#### Now Identify the elements shared between `set1` and `set2`. Assign the elements to a new set named `set5`."
   ]
  },
  {
   "cell_type": "code",
   "execution_count": 25,
   "metadata": {
    "pycharm": {
     "name": "#%%\n"
    }
   },
   "outputs": [],
   "source": [
    "set5 = set1.intersection(set2)"
   ]
  },
  {
   "cell_type": "markdown",
   "metadata": {
    "pycharm": {
     "name": "#%% md\n"
    }
   },
   "source": [
    "#### What is the relationship among the following values:\n",
    "\n",
    "* len(set1)\n",
    "* len(set2)\n",
    "* len(set3)\n",
    "* len(set4)\n",
    "* len(set5)\n",
    "\n",
    "Use a math formular to represent that relationship. Test your formular with Python code."
   ]
  },
  {
   "cell_type": "code",
   "execution_count": 48,
   "metadata": {
    "pycharm": {
     "name": "#%%\n"
    }
   },
   "outputs": [],
   "source": [
    "l1 = len(set1)\n",
    "l2 = len(set2)\n",
    "l3 = len(set3)\n",
    "l4 = len(set4)\n",
    "l5 = len(set5)"
   ]
  },
  {
   "cell_type": "code",
   "execution_count": 50,
   "metadata": {
    "pycharm": {
     "name": "#%%\n"
    }
   },
   "outputs": [
    {
     "data": {
      "text/plain": [
       "False"
      ]
     },
     "execution_count": 50,
     "metadata": {},
     "output_type": "execute_result"
    }
   ],
   "source": [
    "l1 == 2*l2 + l3"
   ]
  },
  {
   "cell_type": "code",
   "execution_count": 51,
   "metadata": {
    "pycharm": {
     "name": "#%%\n"
    }
   },
   "outputs": [
    {
     "data": {
      "text/plain": [
       "True"
      ]
     },
     "execution_count": 51,
     "metadata": {},
     "output_type": "execute_result"
    }
   ],
   "source": [
    "l2 == l3 + l4"
   ]
  },
  {
   "cell_type": "markdown",
   "metadata": {
    "pycharm": {
     "name": "#%% md\n"
    }
   },
   "source": [
    "#### Create an empty set called `set6`."
   ]
  },
  {
   "cell_type": "code",
   "execution_count": 26,
   "metadata": {
    "pycharm": {
     "name": "#%%\n"
    }
   },
   "outputs": [
    {
     "data": {
      "text/plain": [
       "set"
      ]
     },
     "execution_count": 26,
     "metadata": {},
     "output_type": "execute_result"
    }
   ],
   "source": [
    "set6 = set()\n",
    "\n",
    "type(set6)"
   ]
  },
  {
   "cell_type": "markdown",
   "metadata": {
    "pycharm": {
     "name": "#%% md\n"
    }
   },
   "source": [
    "#### Add `set3` and `set5` to `set6` using the Python Set `update` method."
   ]
  },
  {
   "cell_type": "code",
   "execution_count": 27,
   "metadata": {
    "pycharm": {
     "name": "#%%\n"
    }
   },
   "outputs": [],
   "source": [
    "set6.update(set3, set5)"
   ]
  },
  {
   "cell_type": "markdown",
   "metadata": {
    "pycharm": {
     "name": "#%% md\n"
    }
   },
   "source": [
    "#### Check if `set1` and `set6` are equal."
   ]
  },
  {
   "cell_type": "code",
   "execution_count": 28,
   "metadata": {
    "pycharm": {
     "name": "#%%\n"
    }
   },
   "outputs": [
    {
     "data": {
      "text/plain": [
       "True"
      ]
     },
     "execution_count": 28,
     "metadata": {},
     "output_type": "execute_result"
    }
   ],
   "source": [
    "set1 == set6"
   ]
  },
  {
   "cell_type": "markdown",
   "metadata": {
    "pycharm": {
     "name": "#%% md\n"
    }
   },
   "source": [
    "#### Check if `set1` contains `set2` using the Python Set `issubset` method. Then check if `set1` contains `set3`.*"
   ]
  },
  {
   "cell_type": "code",
   "execution_count": 29,
   "metadata": {
    "pycharm": {
     "name": "#%%\n"
    }
   },
   "outputs": [
    {
     "data": {
      "text/plain": [
       "False"
      ]
     },
     "execution_count": 29,
     "metadata": {},
     "output_type": "execute_result"
    }
   ],
   "source": [
    "set1.issubset(set2)"
   ]
  },
  {
   "cell_type": "code",
   "execution_count": 30,
   "metadata": {
    "pycharm": {
     "name": "#%%\n"
    }
   },
   "outputs": [
    {
     "data": {
      "text/plain": [
       "False"
      ]
     },
     "execution_count": 30,
     "metadata": {},
     "output_type": "execute_result"
    }
   ],
   "source": [
    "set1.issubset(set3)"
   ]
  },
  {
   "cell_type": "markdown",
   "metadata": {
    "pycharm": {
     "name": "#%% md\n"
    }
   },
   "source": [
    "#### Using the Python Set `union` method, aggregate `set3`, `set4`, and `set5`. Then aggregate `set1` and `set2`. "
   ]
  },
  {
   "cell_type": "code",
   "execution_count": 31,
   "metadata": {
    "pycharm": {
     "name": "#%%\n"
    }
   },
   "outputs": [],
   "source": [
    "set345 = set3.union(set4, set5)\n",
    "\n",
    "set12 = set1.union(set2)"
   ]
  },
  {
   "cell_type": "markdown",
   "metadata": {
    "pycharm": {
     "name": "#%% md\n"
    }
   },
   "source": [
    "#### Check if the aggregated values are equal."
   ]
  },
  {
   "cell_type": "code",
   "execution_count": 32,
   "metadata": {
    "pycharm": {
     "name": "#%%\n"
    }
   },
   "outputs": [
    {
     "data": {
      "text/plain": [
       "set()"
      ]
     },
     "execution_count": 32,
     "metadata": {},
     "output_type": "execute_result"
    }
   ],
   "source": [
    "set345.difference(set3, set4, set5)"
   ]
  },
  {
   "cell_type": "markdown",
   "metadata": {
    "pycharm": {
     "name": "#%% md\n"
    }
   },
   "source": [
    "#### Using the `pop` method, remove the first element from `set1`."
   ]
  },
  {
   "cell_type": "markdown",
   "metadata": {
    "pycharm": {
     "name": "#%% md\n"
    }
   },
   "source": [
    "Si busco en [la documentación][0], puedo leer:\n",
    "\n",
    "*The pop() method removes a random item from the set.\n",
    "This method returns the removed item.*\n",
    "\n",
    "[0]: https://docs.python.org/3.9/library/stdtypes.html?highlight=set%20pop#frozenset.pop\n",
    "\n",
    "Por lo tanto, NO PUEDO eliminar un elemento concreto. Recuerda que los sets son conjuntos NO ORDENADOS."
   ]
  },
  {
   "cell_type": "code",
   "execution_count": 33,
   "metadata": {
    "pycharm": {
     "name": "#%%\n"
    }
   },
   "outputs": [
    {
     "data": {
      "text/plain": [
       "0"
      ]
     },
     "execution_count": 33,
     "metadata": {},
     "output_type": "execute_result"
    }
   ],
   "source": [
    "set1.pop()"
   ]
  },
  {
   "cell_type": "markdown",
   "metadata": {
    "pycharm": {
     "name": "#%% md\n"
    }
   },
   "source": [
    "#### Remove every element in the following list from `set1` if they are present in the set. Print the remaining elements.\n",
    "\n",
    "```\n",
    "list_to_remove = [1, 9, 11, 19, 21, 29, 31, 39, 41, 49, 51, 59, 61, 69, 71, 79, 81, 89, 91, 99]\n",
    "```"
   ]
  },
  {
   "cell_type": "code",
   "execution_count": 34,
   "metadata": {
    "pycharm": {
     "name": "#%%\n"
    }
   },
   "outputs": [],
   "source": [
    "list_to_remove = [1, 9, 11, 19, 21, 29, 31, 39, 41, 49, 51, 59, 61, 69, 71, 79, 81, 89, 91, 99]\n",
    "\n",
    "for i in list_to_remove: set1.discard(i)\n",
    "# Utilizamos discard para evitar que el programa se detenga si no encuentra el elemento"
   ]
  },
  {
   "cell_type": "code",
   "execution_count": 35,
   "metadata": {
    "pycharm": {
     "name": "#%%\n"
    }
   },
   "outputs": [
    {
     "ename": "KeyError",
     "evalue": "1",
     "output_type": "error",
     "traceback": [
      "\u001b[0;31m---------------------------------------------------------------------------\u001b[0m",
      "\u001b[0;31mKeyError\u001b[0m                                  Traceback (most recent call last)",
      "Input \u001b[0;32mIn [35]\u001b[0m, in \u001b[0;36m<cell line: 1>\u001b[0;34m()\u001b[0m\n\u001b[0;32m----> 1\u001b[0m \u001b[38;5;28;01mfor\u001b[39;00m i \u001b[38;5;129;01min\u001b[39;00m list_to_remove: set1\u001b[38;5;241m.\u001b[39mremove(i)\n",
      "\u001b[0;31mKeyError\u001b[0m: 1"
     ]
    }
   ],
   "source": [
    "for i in list_to_remove: set1.remove(i)\n",
    "# Si utilizamos remove el programa lanza una excepción"
   ]
  },
  {
   "cell_type": "markdown",
   "metadata": {
    "pycharm": {
     "name": "#%% md\n"
    }
   },
   "source": [
    "## Challenge 3: Dictionaries\n",
    "\n",
    "In this challenge you will practice how to manipulate Python dictionaries. Before starting on this challenge, you are encouraged to review W3School's [Python Dictionary Examples and Methods](https://www.w3schools.com/python/python_dictionaries.asp).\n",
    "\n",
    "First thing you will practice is how to sort the keys in a dictionary. Unlike the list object, Python dictionary does not have a built-in *sort* method. You'll need to use FOR loops to to sort dictionaries either by key or by value.\n",
    "\n",
    "The dictionary below is a summary of the word frequency of Ed Sheeran's song *Shape of You*. Each key is a word in the lyrics and the value is the number of times that word appears in the lyrics."
   ]
  },
  {
   "cell_type": "code",
   "execution_count": 36,
   "metadata": {
    "pycharm": {
     "name": "#%%\n"
    }
   },
   "outputs": [],
   "source": [
    "word_freq = {'love': 25, 'conversation': 1, 'every': 6, \"we're\": 1, 'plate': 1, 'sour': 1, 'jukebox': 1, 'now': 11,\n",
    "             'taxi': 1, 'fast': 1, 'bag': 1, 'man': 1, 'push': 3, 'baby': 14, 'going': 1, 'you': 16, \"don't\": 2,\n",
    "             'one': 1, 'mind': 2, 'backseat': 1, 'friends': 1, 'then': 3, 'know': 2, 'take': 1, 'play': 1, 'okay': 1,\n",
    "             'so': 2, 'begin': 1, 'start': 2, 'over': 1, 'body': 17, 'boy': 2, 'just': 1, 'we': 7, 'are': 1, 'girl': 2,\n",
    "             'tell': 1, 'singing': 2, 'drinking': 1, 'put': 3, 'our': 1, 'where': 1, \"i'll\": 1, 'all': 1, \"isn't\": 1,\n",
    "             'make': 1, 'lover': 1, 'get': 1, 'radio': 1, 'give': 1, \"i'm\": 23, 'like': 10, 'can': 1, 'doing': 2,\n",
    "             'with': 22, 'club': 1, 'come': 37, 'it': 1, 'somebody': 2, 'handmade': 2, 'out': 1, 'new': 6, 'room': 3,\n",
    "             'chance': 1, 'follow': 6, 'in': 27, 'may': 2, 'brand': 6, 'that': 2, 'magnet': 3, 'up': 3, 'first': 1,\n",
    "             'and': 23, 'pull': 3, 'of': 6, 'table': 1, 'much': 2, 'last': 3, 'i': 6, 'thrifty': 1, 'grab': 2, 'was': 2,\n",
    "             'driver': 1, 'slow': 1, 'dance': 1, 'the': 18, 'say': 2, 'trust': 1, 'family': 1, 'week': 1, 'date': 1,\n",
    "             'me': 10, 'do': 3, 'waist': 2, 'smell': 3, 'day': 6, 'although': 3, 'your': 21, 'leave': 1, 'want': 2,\n",
    "             \"let's\": 2, 'lead': 6, 'at': 1, 'hand': 1, 'how': 1, 'talk': 4, 'not': 2, 'eat': 1, 'falling': 3,\n",
    "             'about': 1, 'story': 1, 'sweet': 1, 'best': 1, 'crazy': 2, 'let': 1, 'too': 5, 'van': 1, 'shots': 1,\n",
    "             'go': 2, 'to': 2, 'a': 8, 'my': 33, 'is': 5, 'place': 1, 'find': 1, 'shape': 6, 'on': 40, 'kiss': 1,\n",
    "             'were': 3, 'night': 3, 'heart': 3, 'for': 3, 'discovering': 6, 'something': 6, 'be': 16, 'bedsheets': 3,\n",
    "             'fill': 2, 'hours': 2, 'stop': 1, 'bar': 1}"
   ]
  },
  {
   "cell_type": "markdown",
   "metadata": {
    "pycharm": {
     "name": "#%% md\n"
    }
   },
   "source": [
    "#### Sort the keys of `word_freq` ascendingly.\n",
    "\n",
    "Please create a new dictionary called `word_freq2` based on `word_freq` with the keys sorted ascedingly.\n",
    "\n",
    "There are several ways to achieve that goal but many of the ways are beyond what we have covered so far in the course. There is one way that we'll describe employing what you have learned. Please feel free to use this way or any other way you want.\n",
    "\n",
    "1. First extract the keys of `word_freq` and convert it to a list called `keys`.\n",
    "\n",
    "1. Sort the `keys` list.\n",
    "\n",
    "1. Create an empty dictionary `word_freq2`.\n",
    "\n",
    "1. Use a FOR loop to iterate each value in `keys`. For each key iterated, find the corresponding value in `word_freq` and insert the key-value pair to `word_freq2`.\n",
    "\n",
    "Print out `word_freq2` to examine its keys and values. Your output should be:\n",
    "\n",
    "```python\n",
    "{'a': 8, 'about': 1, 'all': 1, 'although': 3, 'and': 23, 'are': 1, 'at': 1, 'baby': 14, 'backseat': 1, 'bag': 1, 'bar': 1, 'be': 16, 'bedsheets': 3, 'begin': 1, 'best': 1, 'body': 17, 'boy': 2, 'brand': 6, 'can': 1, 'chance': 1, 'club': 1, 'come': 37, 'conversation': 1, 'crazy': 2, 'dance': 1, 'date': 1, 'day': 6, 'discovering': 6, 'do': 3, 'doing': 2, \"don't\": 2, 'drinking': 1, 'driver': 1, 'eat': 1, 'every': 6, 'falling': 3, 'family': 1, 'fast': 1, 'fill': 2, 'find': 1, 'first': 1, 'follow': 6, 'for': 3, 'friends': 1, 'get': 1, 'girl': 2, 'give': 1, 'go': 2, 'going': 1, 'grab': 2, 'hand': 1, 'handmade': 2, 'heart': 3, 'hours': 2, 'how': 1, 'i': 6, \"i'll\": 1, \"i'm\": 23, 'in': 27, 'is': 5, \"isn't\": 1, 'it': 1, 'jukebox': 1, 'just': 1, 'kiss': 1, 'know': 2, 'last': 3, 'lead': 6, 'leave': 1, 'let': 1, \"let's\": 2, 'like': 10, 'love': 25, 'lover': 1, 'magnet': 3, 'make': 1, 'man': 1, 'may': 2, 'me': 10, 'mind': 2, 'much': 2, 'my': 33, 'new': 6, 'night': 3, 'not': 2, 'now': 11, 'of': 6, 'okay': 1, 'on': 40, 'one': 1, 'our': 1, 'out': 1, 'over': 1, 'place': 1, 'plate': 1, 'play': 1, 'pull': 3, 'push': 3, 'put': 3, 'radio': 1, 'room': 3, 'say': 2, 'shape': 6, 'shots': 1, 'singing': 2, 'slow': 1, 'smell': 3, 'so': 2, 'somebody': 2, 'something': 6, 'sour': 1, 'start': 2, 'stop': 1, 'story': 1, 'sweet': 1, 'table': 1, 'take': 1, 'talk': 4, 'taxi': 1, 'tell': 1, 'that': 2, 'the': 18, 'then': 3, 'thrifty': 1, 'to': 2, 'too': 5, 'trust': 1, 'up': 3, 'van': 1, 'waist': 2, 'want': 2, 'was': 2, 'we': 7, \"we're\": 1, 'week': 1, 'were': 3, 'where': 1, 'with': 22, 'you': 16, 'your': 21}\n",
    "```"
   ]
  },
  {
   "cell_type": "code",
   "execution_count": 37,
   "metadata": {
    "pycharm": {
     "name": "#%%\n"
    }
   },
   "outputs": [],
   "source": [
    "# Extraigo las claves\n",
    "keys = word_freq.keys()\n",
    "\n",
    "# Ordeno las claves\n",
    "keys = sorted(keys)\n",
    "\n",
    "# Instancio el diccionario\n",
    "word_freq2 = {}\n",
    "\n",
    "# Relleno el diccionario\n",
    "for word in keys:\n",
    "    word_freq2.update({word: word_freq[word]})"
   ]
  },
  {
   "cell_type": "code",
   "execution_count": 38,
   "metadata": {
    "pycharm": {
     "name": "#%%\n"
    }
   },
   "outputs": [
    {
     "data": {
      "text/plain": [
       "{'a': 8,\n",
       " 'about': 1,\n",
       " 'all': 1,\n",
       " 'although': 3,\n",
       " 'and': 23,\n",
       " 'are': 1,\n",
       " 'at': 1,\n",
       " 'baby': 14,\n",
       " 'backseat': 1,\n",
       " 'bag': 1,\n",
       " 'bar': 1,\n",
       " 'be': 16,\n",
       " 'bedsheets': 3,\n",
       " 'begin': 1,\n",
       " 'best': 1,\n",
       " 'body': 17,\n",
       " 'boy': 2,\n",
       " 'brand': 6,\n",
       " 'can': 1,\n",
       " 'chance': 1,\n",
       " 'club': 1,\n",
       " 'come': 37,\n",
       " 'conversation': 1,\n",
       " 'crazy': 2,\n",
       " 'dance': 1,\n",
       " 'date': 1,\n",
       " 'day': 6,\n",
       " 'discovering': 6,\n",
       " 'do': 3,\n",
       " 'doing': 2,\n",
       " \"don't\": 2,\n",
       " 'drinking': 1,\n",
       " 'driver': 1,\n",
       " 'eat': 1,\n",
       " 'every': 6,\n",
       " 'falling': 3,\n",
       " 'family': 1,\n",
       " 'fast': 1,\n",
       " 'fill': 2,\n",
       " 'find': 1,\n",
       " 'first': 1,\n",
       " 'follow': 6,\n",
       " 'for': 3,\n",
       " 'friends': 1,\n",
       " 'get': 1,\n",
       " 'girl': 2,\n",
       " 'give': 1,\n",
       " 'go': 2,\n",
       " 'going': 1,\n",
       " 'grab': 2,\n",
       " 'hand': 1,\n",
       " 'handmade': 2,\n",
       " 'heart': 3,\n",
       " 'hours': 2,\n",
       " 'how': 1,\n",
       " 'i': 6,\n",
       " \"i'll\": 1,\n",
       " \"i'm\": 23,\n",
       " 'in': 27,\n",
       " 'is': 5,\n",
       " \"isn't\": 1,\n",
       " 'it': 1,\n",
       " 'jukebox': 1,\n",
       " 'just': 1,\n",
       " 'kiss': 1,\n",
       " 'know': 2,\n",
       " 'last': 3,\n",
       " 'lead': 6,\n",
       " 'leave': 1,\n",
       " 'let': 1,\n",
       " \"let's\": 2,\n",
       " 'like': 10,\n",
       " 'love': 25,\n",
       " 'lover': 1,\n",
       " 'magnet': 3,\n",
       " 'make': 1,\n",
       " 'man': 1,\n",
       " 'may': 2,\n",
       " 'me': 10,\n",
       " 'mind': 2,\n",
       " 'much': 2,\n",
       " 'my': 33,\n",
       " 'new': 6,\n",
       " 'night': 3,\n",
       " 'not': 2,\n",
       " 'now': 11,\n",
       " 'of': 6,\n",
       " 'okay': 1,\n",
       " 'on': 40,\n",
       " 'one': 1,\n",
       " 'our': 1,\n",
       " 'out': 1,\n",
       " 'over': 1,\n",
       " 'place': 1,\n",
       " 'plate': 1,\n",
       " 'play': 1,\n",
       " 'pull': 3,\n",
       " 'push': 3,\n",
       " 'put': 3,\n",
       " 'radio': 1,\n",
       " 'room': 3,\n",
       " 'say': 2,\n",
       " 'shape': 6,\n",
       " 'shots': 1,\n",
       " 'singing': 2,\n",
       " 'slow': 1,\n",
       " 'smell': 3,\n",
       " 'so': 2,\n",
       " 'somebody': 2,\n",
       " 'something': 6,\n",
       " 'sour': 1,\n",
       " 'start': 2,\n",
       " 'stop': 1,\n",
       " 'story': 1,\n",
       " 'sweet': 1,\n",
       " 'table': 1,\n",
       " 'take': 1,\n",
       " 'talk': 4,\n",
       " 'taxi': 1,\n",
       " 'tell': 1,\n",
       " 'that': 2,\n",
       " 'the': 18,\n",
       " 'then': 3,\n",
       " 'thrifty': 1,\n",
       " 'to': 2,\n",
       " 'too': 5,\n",
       " 'trust': 1,\n",
       " 'up': 3,\n",
       " 'van': 1,\n",
       " 'waist': 2,\n",
       " 'want': 2,\n",
       " 'was': 2,\n",
       " 'we': 7,\n",
       " \"we're\": 1,\n",
       " 'week': 1,\n",
       " 'were': 3,\n",
       " 'where': 1,\n",
       " 'with': 22,\n",
       " 'you': 16,\n",
       " 'your': 21}"
      ]
     },
     "execution_count": 38,
     "metadata": {},
     "output_type": "execute_result"
    }
   ],
   "source": [
    "word_freq2"
   ]
  },
  {
   "cell_type": "markdown",
   "metadata": {
    "pycharm": {
     "name": "#%% md\n"
    }
   },
   "source": [
    "#### Sort the values of `word_freq` ascendingly.\n",
    "\n",
    "Sorting the values of a dictionary is more tricky than sorting the keys because a dictionary's values are not unique. Therefore you cannot use the same way you sorted dict keys to sort dict values.\n",
    "\n",
    "The way to sort a dict by value is to utilize the `sorted` and `operator.itemgetter` functions. The following code snippet is provided to you to try. It will give you a list of tuples in which each tuple contains the key and value of a dict item. And the list is sorted based on the dict value ( [reference](http://thomas-cokelaer.info/blog/2017/12/how-to-sort-a-dictionary-by-values-in-python/)\n",
    ").\n",
    "\n",
    "```python\n",
    "import operator\n",
    "sorted_tups = sorted(word_freq.items(), key=operator.itemgetter(1))\n",
    "print(sorted_tups)\n",
    "```\n",
    "\n",
    "Therefore, the steps to sort `word_freq` by value are:\n",
    "\n",
    "* Using `sorted` and `operator.itemgetter`, obtain a list of tuples of the dict key-value pairs which is sorted on the value.\n",
    "\n",
    "* Create an empty dictionary named `word_freq2`.\n",
    "\n",
    "* Iterate the list of tuples. Insert each key-value pair into `word_freq2` as an object.\n",
    "\n",
    "Print `word_freq2` to confirm your dictionary has its values sorted. Your output should be:\n",
    "\n",
    "```python\n",
    "{'conversation': 1, \"we're\": 1, 'plate': 1, 'sour': 1, 'jukebox': 1, 'taxi': 1, 'fast': 1, 'bag': 1, 'man': 1, 'going': 1, 'one': 1, 'backseat': 1, 'friends': 1, 'take': 1, 'play': 1, 'okay': 1, 'begin': 1, 'over': 1, 'just': 1, 'are': 1, 'tell': 1, 'drinking': 1, 'our': 1, 'where': 1, \"i'll\": 1, 'all': 1, \"isn't\": 1, 'make': 1, 'lover': 1, 'get': 1, 'radio': 1, 'give': 1, 'can': 1, 'club': 1, 'it': 1, 'out': 1, 'chance': 1, 'first': 1, 'table': 1, 'thrifty': 1, 'driver': 1, 'slow': 1, 'dance': 1, 'trust': 1, 'family': 1, 'week': 1, 'date': 1, 'leave': 1, 'at': 1, 'hand': 1, 'how': 1, 'eat': 1, 'about': 1, 'story': 1, 'sweet': 1, 'best': 1, 'let': 1, 'van': 1, 'shots': 1, 'place': 1, 'find': 1, 'kiss': 1, 'stop': 1, 'bar': 1, \"don't\": 2, 'mind': 2, 'know': 2, 'so': 2, 'start': 2, 'boy': 2, 'girl': 2, 'singing': 2, 'doing': 2, 'somebody': 2, 'handmade': 2, 'may': 2, 'that': 2, 'much': 2, 'grab': 2, 'was': 2, 'say': 2, 'waist': 2, 'want': 2, \"let's\": 2, 'not': 2, 'crazy': 2, 'go': 2, 'to': 2, 'fill': 2, 'hours': 2, 'push': 3, 'then': 3, 'put': 3, 'room': 3, 'magnet': 3, 'up': 3, 'pull': 3, 'last': 3, 'do': 3, 'smell': 3, 'although': 3, 'falling': 3, 'were': 3, 'night': 3, 'heart': 3, 'for': 3, 'bedsheets': 3, 'talk': 4, 'too': 5, 'is': 5, 'every': 6, 'new': 6, 'follow': 6, 'brand': 6, 'of': 6, 'i': 6, 'day': 6, 'lead': 6, 'shape': 6, 'discovering': 6, 'something': 6, 'we': 7, 'a': 8, 'like': 10, 'me': 10, 'now': 11, 'baby': 14, 'you': 16, 'be': 16, 'body': 17, 'the': 18, 'your': 21, 'with': 22, \"i'm\": 23, 'and': 23, 'love': 25, 'in': 27, 'my': 33, 'come': 37, 'on': 40}\n",
    "```"
   ]
  },
  {
   "cell_type": "code",
   "execution_count": 42,
   "metadata": {
    "pycharm": {
     "name": "#%%\n"
    }
   },
   "outputs": [
    {
     "data": {
      "text/plain": [
       "[('on', 40),\n",
       " ('come', 37),\n",
       " ('my', 33),\n",
       " ('in', 27),\n",
       " ('love', 25),\n",
       " (\"i'm\", 23),\n",
       " ('and', 23),\n",
       " ('with', 22),\n",
       " ('your', 21),\n",
       " ('the', 18),\n",
       " ('body', 17),\n",
       " ('you', 16),\n",
       " ('be', 16),\n",
       " ('baby', 14),\n",
       " ('now', 11),\n",
       " ('like', 10),\n",
       " ('me', 10),\n",
       " ('a', 8),\n",
       " ('we', 7),\n",
       " ('every', 6),\n",
       " ('new', 6),\n",
       " ('follow', 6),\n",
       " ('brand', 6),\n",
       " ('of', 6),\n",
       " ('i', 6),\n",
       " ('day', 6),\n",
       " ('lead', 6),\n",
       " ('shape', 6),\n",
       " ('discovering', 6),\n",
       " ('something', 6),\n",
       " ('too', 5),\n",
       " ('is', 5),\n",
       " ('talk', 4),\n",
       " ('push', 3),\n",
       " ('then', 3),\n",
       " ('put', 3),\n",
       " ('room', 3),\n",
       " ('magnet', 3),\n",
       " ('up', 3),\n",
       " ('pull', 3),\n",
       " ('last', 3),\n",
       " ('do', 3),\n",
       " ('smell', 3),\n",
       " ('although', 3),\n",
       " ('falling', 3),\n",
       " ('were', 3),\n",
       " ('night', 3),\n",
       " ('heart', 3),\n",
       " ('for', 3),\n",
       " ('bedsheets', 3),\n",
       " (\"don't\", 2),\n",
       " ('mind', 2),\n",
       " ('know', 2),\n",
       " ('so', 2),\n",
       " ('start', 2),\n",
       " ('boy', 2),\n",
       " ('girl', 2),\n",
       " ('singing', 2),\n",
       " ('doing', 2),\n",
       " ('somebody', 2),\n",
       " ('handmade', 2),\n",
       " ('may', 2),\n",
       " ('that', 2),\n",
       " ('much', 2),\n",
       " ('grab', 2),\n",
       " ('was', 2),\n",
       " ('say', 2),\n",
       " ('waist', 2),\n",
       " ('want', 2),\n",
       " (\"let's\", 2),\n",
       " ('not', 2),\n",
       " ('crazy', 2),\n",
       " ('go', 2),\n",
       " ('to', 2),\n",
       " ('fill', 2),\n",
       " ('hours', 2),\n",
       " ('conversation', 1),\n",
       " (\"we're\", 1),\n",
       " ('plate', 1),\n",
       " ('sour', 1),\n",
       " ('jukebox', 1),\n",
       " ('taxi', 1),\n",
       " ('fast', 1),\n",
       " ('bag', 1),\n",
       " ('man', 1),\n",
       " ('going', 1),\n",
       " ('one', 1),\n",
       " ('backseat', 1),\n",
       " ('friends', 1),\n",
       " ('take', 1),\n",
       " ('play', 1),\n",
       " ('okay', 1),\n",
       " ('begin', 1),\n",
       " ('over', 1),\n",
       " ('just', 1),\n",
       " ('are', 1),\n",
       " ('tell', 1),\n",
       " ('drinking', 1),\n",
       " ('our', 1),\n",
       " ('where', 1),\n",
       " (\"i'll\", 1),\n",
       " ('all', 1),\n",
       " (\"isn't\", 1),\n",
       " ('make', 1),\n",
       " ('lover', 1),\n",
       " ('get', 1),\n",
       " ('radio', 1),\n",
       " ('give', 1),\n",
       " ('can', 1),\n",
       " ('club', 1),\n",
       " ('it', 1),\n",
       " ('out', 1),\n",
       " ('chance', 1),\n",
       " ('first', 1),\n",
       " ('table', 1),\n",
       " ('thrifty', 1),\n",
       " ('driver', 1),\n",
       " ('slow', 1),\n",
       " ('dance', 1),\n",
       " ('trust', 1),\n",
       " ('family', 1),\n",
       " ('week', 1),\n",
       " ('date', 1),\n",
       " ('leave', 1),\n",
       " ('at', 1),\n",
       " ('hand', 1),\n",
       " ('how', 1),\n",
       " ('eat', 1),\n",
       " ('about', 1),\n",
       " ('story', 1),\n",
       " ('sweet', 1),\n",
       " ('best', 1),\n",
       " ('let', 1),\n",
       " ('van', 1),\n",
       " ('shots', 1),\n",
       " ('place', 1),\n",
       " ('find', 1),\n",
       " ('kiss', 1),\n",
       " ('stop', 1),\n",
       " ('bar', 1)]"
      ]
     },
     "execution_count": 42,
     "metadata": {},
     "output_type": "execute_result"
    }
   ],
   "source": [
    "import operator\n",
    "\n",
    "sorted_tup = sorted(word_freq.items(), key=operator.itemgetter(1), reverse=True)\n",
    "# Utilizo el parámetro reverse para ordenar de mayor a menor\n",
    "\n",
    "sorted_tup"
   ]
  },
  {
   "cell_type": "code",
   "execution_count": 43,
   "metadata": {
    "pycharm": {
     "name": "#%%\n"
    }
   },
   "outputs": [],
   "source": [
    "# Instancio el diccionario\n",
    "word_freq2_sort = {}\n",
    "\n",
    "# Relleno el diccionario\n",
    "for tup in sorted_tup:\n",
    "    word_freq2_sort.update({tup[0]: tup[1]})"
   ]
  },
  {
   "cell_type": "code",
   "execution_count": 45,
   "metadata": {
    "pycharm": {
     "name": "#%%\n"
    }
   },
   "outputs": [
    {
     "data": {
      "text/plain": [
       "{'a': 8,\n",
       " 'about': 1,\n",
       " 'all': 1,\n",
       " 'although': 3,\n",
       " 'and': 23,\n",
       " 'are': 1,\n",
       " 'at': 1,\n",
       " 'baby': 14,\n",
       " 'backseat': 1,\n",
       " 'bag': 1,\n",
       " 'bar': 1,\n",
       " 'be': 16,\n",
       " 'bedsheets': 3,\n",
       " 'begin': 1,\n",
       " 'best': 1,\n",
       " 'body': 17,\n",
       " 'boy': 2,\n",
       " 'brand': 6,\n",
       " 'can': 1,\n",
       " 'chance': 1,\n",
       " 'club': 1,\n",
       " 'come': 37,\n",
       " 'conversation': 1,\n",
       " 'crazy': 2,\n",
       " 'dance': 1,\n",
       " 'date': 1,\n",
       " 'day': 6,\n",
       " 'discovering': 6,\n",
       " 'do': 3,\n",
       " 'doing': 2,\n",
       " \"don't\": 2,\n",
       " 'drinking': 1,\n",
       " 'driver': 1,\n",
       " 'eat': 1,\n",
       " 'every': 6,\n",
       " 'falling': 3,\n",
       " 'family': 1,\n",
       " 'fast': 1,\n",
       " 'fill': 2,\n",
       " 'find': 1,\n",
       " 'first': 1,\n",
       " 'follow': 6,\n",
       " 'for': 3,\n",
       " 'friends': 1,\n",
       " 'get': 1,\n",
       " 'girl': 2,\n",
       " 'give': 1,\n",
       " 'go': 2,\n",
       " 'going': 1,\n",
       " 'grab': 2,\n",
       " 'hand': 1,\n",
       " 'handmade': 2,\n",
       " 'heart': 3,\n",
       " 'hours': 2,\n",
       " 'how': 1,\n",
       " 'i': 6,\n",
       " \"i'll\": 1,\n",
       " \"i'm\": 23,\n",
       " 'in': 27,\n",
       " 'is': 5,\n",
       " \"isn't\": 1,\n",
       " 'it': 1,\n",
       " 'jukebox': 1,\n",
       " 'just': 1,\n",
       " 'kiss': 1,\n",
       " 'know': 2,\n",
       " 'last': 3,\n",
       " 'lead': 6,\n",
       " 'leave': 1,\n",
       " 'let': 1,\n",
       " \"let's\": 2,\n",
       " 'like': 10,\n",
       " 'love': 25,\n",
       " 'lover': 1,\n",
       " 'magnet': 3,\n",
       " 'make': 1,\n",
       " 'man': 1,\n",
       " 'may': 2,\n",
       " 'me': 10,\n",
       " 'mind': 2,\n",
       " 'much': 2,\n",
       " 'my': 33,\n",
       " 'new': 6,\n",
       " 'night': 3,\n",
       " 'not': 2,\n",
       " 'now': 11,\n",
       " 'of': 6,\n",
       " 'okay': 1,\n",
       " 'on': 40,\n",
       " 'one': 1,\n",
       " 'our': 1,\n",
       " 'out': 1,\n",
       " 'over': 1,\n",
       " 'place': 1,\n",
       " 'plate': 1,\n",
       " 'play': 1,\n",
       " 'pull': 3,\n",
       " 'push': 3,\n",
       " 'put': 3,\n",
       " 'radio': 1,\n",
       " 'room': 3,\n",
       " 'say': 2,\n",
       " 'shape': 6,\n",
       " 'shots': 1,\n",
       " 'singing': 2,\n",
       " 'slow': 1,\n",
       " 'smell': 3,\n",
       " 'so': 2,\n",
       " 'somebody': 2,\n",
       " 'something': 6,\n",
       " 'sour': 1,\n",
       " 'start': 2,\n",
       " 'stop': 1,\n",
       " 'story': 1,\n",
       " 'sweet': 1,\n",
       " 'table': 1,\n",
       " 'take': 1,\n",
       " 'talk': 4,\n",
       " 'taxi': 1,\n",
       " 'tell': 1,\n",
       " 'that': 2,\n",
       " 'the': 18,\n",
       " 'then': 3,\n",
       " 'thrifty': 1,\n",
       " 'to': 2,\n",
       " 'too': 5,\n",
       " 'trust': 1,\n",
       " 'up': 3,\n",
       " 'van': 1,\n",
       " 'waist': 2,\n",
       " 'want': 2,\n",
       " 'was': 2,\n",
       " 'we': 7,\n",
       " \"we're\": 1,\n",
       " 'week': 1,\n",
       " 'were': 3,\n",
       " 'where': 1,\n",
       " 'with': 22,\n",
       " 'you': 16,\n",
       " 'your': 21}"
      ]
     },
     "execution_count": 45,
     "metadata": {},
     "output_type": "execute_result"
    }
   ],
   "source": [
    "word_freq2"
   ]
  }
 ],
 "metadata": {
  "kernelspec": {
   "display_name": "Python 3 (ipykernel)",
   "language": "python",
   "name": "python3"
  },
  "language_info": {
   "codemirror_mode": {
    "name": "ipython",
    "version": 3
   },
   "file_extension": ".py",
   "mimetype": "text/x-python",
   "name": "python",
   "nbconvert_exporter": "python",
   "pygments_lexer": "ipython3",
   "version": "3.9.12"
  },
  "toc": {
   "base_numbering": 1,
   "nav_menu": {},
   "number_sections": true,
   "sideBar": true,
   "skip_h1_title": false,
   "title_cell": "Table of Contents",
   "title_sidebar": "Contents",
   "toc_cell": true,
   "toc_position": {},
   "toc_section_display": true,
   "toc_window_display": false
  },
  "varInspector": {
   "cols": {
    "lenName": 16,
    "lenType": 16,
    "lenVar": 40
   },
   "kernels_config": {
    "python": {
     "delete_cmd_postfix": "",
     "delete_cmd_prefix": "del ",
     "library": "var_list.py",
     "varRefreshCmd": "print(var_dic_list())"
    },
    "r": {
     "delete_cmd_postfix": ") ",
     "delete_cmd_prefix": "rm(",
     "library": "var_list.r",
     "varRefreshCmd": "cat(var_dic_list()) "
    }
   },
   "types_to_exclude": [
    "module",
    "function",
    "builtin_function_or_method",
    "instance",
    "_Feature"
   ],
   "window_display": false
  }
 },
 "nbformat": 4,
 "nbformat_minor": 2
}
