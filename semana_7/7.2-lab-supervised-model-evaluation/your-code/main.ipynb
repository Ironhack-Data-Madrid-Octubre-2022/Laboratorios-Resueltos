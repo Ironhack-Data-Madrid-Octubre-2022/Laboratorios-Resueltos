{
 "cells": [
  {
   "cell_type": "markdown",
   "metadata": {},
   "source": [
    "# Supervised Learning Model Evaluation Lab\n",
    "\n",
    "Complete the exercises below to solidify your knowledge and understanding of supervised learning model evaluation."
   ]
  },
  {
   "cell_type": "code",
   "execution_count": 1,
   "metadata": {},
   "outputs": [],
   "source": [
    "import pandas as pd\n",
    "import warnings\n",
    "warnings.filterwarnings('ignore')"
   ]
  },
  {
   "cell_type": "markdown",
   "metadata": {},
   "source": [
    "## Regression Model Evaluation"
   ]
  },
  {
   "cell_type": "code",
   "execution_count": 2,
   "metadata": {},
   "outputs": [],
   "source": [
    "from sklearn.datasets import load_boston\n",
    "\n",
    "data = load_boston()\n",
    "\n",
    "X = pd.DataFrame(data[\"data\"], columns=data[\"feature_names\"])\n",
    "y = pd.DataFrame(data[\"target\"], columns=['MEDV'])\n",
    "\n",
    "data = pd.concat([X, y], axis=1)"
   ]
  },
  {
   "cell_type": "markdown",
   "metadata": {},
   "source": [
    "## 1. Split this data set into training (80%) and testing (20%) sets.\n",
    "\n",
    "The `MEDV` field represents the median value of owner-occupied homes (in $1000's) and is the target variable that we will want to predict."
   ]
  },
  {
   "cell_type": "code",
   "execution_count": 12,
   "metadata": {},
   "outputs": [],
   "source": [
    "from sklearn.model_selection import train_test_split\n",
    "from sklearn.metrics import mean_squared_error, r2_score, mean_absolute_error\n",
    "from sklearn.metrics import accuracy_score, balanced_accuracy_score, precision_score, f1_score, recall_score, confusion_matrix"
   ]
  },
  {
   "cell_type": "code",
   "execution_count": 4,
   "metadata": {},
   "outputs": [],
   "source": [
    "X_train, X_test, y_train, y_test = train_test_split(X,y, random_state=42, test_size=.2)"
   ]
  },
  {
   "cell_type": "code",
   "execution_count": 5,
   "metadata": {},
   "outputs": [
    {
     "data": {
      "text/plain": [
       "((404, 13), (102, 13), (404, 1), (102, 1))"
      ]
     },
     "execution_count": 5,
     "metadata": {},
     "output_type": "execute_result"
    }
   ],
   "source": [
    "X_train.shape, X_test.shape, y_train.shape, y_test.shape"
   ]
  },
  {
   "cell_type": "code",
   "execution_count": 6,
   "metadata": {},
   "outputs": [],
   "source": [
    "def train_regressor_model(model, X, y):\n",
    "    \n",
    "    '''\n",
    "        This function fit a model, and return evaluation of the model based on RMSE, MAE and R2 score.\n",
    "        \n",
    "        Parameters:\n",
    "            model: Model that will be trained\n",
    "            X: DataFrame for train the model\n",
    "            y: Target\n",
    "        Return:\n",
    "            Results of the evaluations the model\n",
    "            \n",
    "    '''\n",
    "    \n",
    "    X_train, X_test, y_train, y_test = train_test_split(X,y, random_state=42, test_size=.2)\n",
    "    model.fit(X_train, y_train)\n",
    "    y_pred_train = model.predict(X_train)\n",
    "    y_pred_test = model.predict(X_test)\n",
    "    rmse_train = mean_squared_error(y_train, y_pred_train, squared=False)\n",
    "    r2_score_train = r2_score(y_train, y_pred_train)\n",
    "    mae_train = mean_absolute_error(y_train, y_pred_train)\n",
    "    rmse_test = mean_squared_error(y_test, y_pred_test, squared=False)\n",
    "    r2_score_test = r2_score(y_test, y_pred_test)\n",
    "    mae_test = mean_absolute_error(y_test, y_pred_test)\n",
    "    \n",
    "    return print(f'''Model results:   \n",
    "                                      Train r2_score: {r2_score_train}\n",
    "                                      Train rmse: {rmse_train}\n",
    "                                      Train mae: {mae_train}\n",
    "                                      Test r2_score: {r2_score_test} \n",
    "                                      Test rmse: {rmse_test}\n",
    "                                      Test mae: {mae_test}\n",
    "                                      ''')\n",
    "    "
   ]
  },
  {
   "cell_type": "markdown",
   "metadata": {},
   "source": [
    "## 2. Train a `LinearRegression` model on this data set and generate predictions on both the training and the testing set."
   ]
  },
  {
   "cell_type": "code",
   "execution_count": 7,
   "metadata": {},
   "outputs": [],
   "source": [
    "from sklearn.linear_model import LinearRegression\n",
    "\n",
    "linreg = LinearRegression()\n"
   ]
  },
  {
   "cell_type": "markdown",
   "metadata": {},
   "source": [
    "## 3. Calculate and print R-squared for both the training and the testing set."
   ]
  },
  {
   "cell_type": "code",
   "execution_count": 8,
   "metadata": {},
   "outputs": [
    {
     "name": "stdout",
     "output_type": "stream",
     "text": [
      "Model results:   \n",
      "                                      Train r2_score: 0.7508856358979673\n",
      "                                      Train rmse: 4.6520331848801675\n",
      "                                      Train mae: 3.314771626783228\n",
      "                                      Test r2_score: 0.6687594935356278 \n",
      "                                      Test rmse: 4.928602182665368\n",
      "                                      Test mae: 3.1890919658878767\n",
      "                                      \n"
     ]
    }
   ],
   "source": [
    "train_regressor_model(linreg, X, y)"
   ]
  },
  {
   "cell_type": "markdown",
   "metadata": {},
   "source": [
    "## 4. Calculate and print mean squared error for both the training and the testing set."
   ]
  },
  {
   "cell_type": "code",
   "execution_count": 9,
   "metadata": {},
   "outputs": [
    {
     "name": "stdout",
     "output_type": "stream",
     "text": [
      "Model results:   \n",
      "                                      Train r2_score: 0.7508856358979673\n",
      "                                      Train rmse: 4.6520331848801675\n",
      "                                      Train mae: 3.314771626783228\n",
      "                                      Test r2_score: 0.6687594935356278 \n",
      "                                      Test rmse: 4.928602182665368\n",
      "                                      Test mae: 3.1890919658878767\n",
      "                                      \n"
     ]
    }
   ],
   "source": [
    "train_regressor_model(linreg, X, y)"
   ]
  },
  {
   "cell_type": "markdown",
   "metadata": {},
   "source": [
    "## 5. Calculate and print mean absolute error for both the training and the testing set."
   ]
  },
  {
   "cell_type": "code",
   "execution_count": 10,
   "metadata": {},
   "outputs": [
    {
     "name": "stdout",
     "output_type": "stream",
     "text": [
      "Model results:   \n",
      "                                      Train r2_score: 0.7508856358979673\n",
      "                                      Train rmse: 4.6520331848801675\n",
      "                                      Train mae: 3.314771626783228\n",
      "                                      Test r2_score: 0.6687594935356278 \n",
      "                                      Test rmse: 4.928602182665368\n",
      "                                      Test mae: 3.1890919658878767\n",
      "                                      \n"
     ]
    }
   ],
   "source": [
    "train_regressor_model(linreg, X, y)"
   ]
  },
  {
   "cell_type": "markdown",
   "metadata": {},
   "source": [
    "## Classification Model Evaluation"
   ]
  },
  {
   "cell_type": "code",
   "execution_count": 11,
   "metadata": {},
   "outputs": [],
   "source": [
    "from sklearn.datasets import load_iris\n",
    "\n",
    "data = load_iris()\n",
    "\n",
    "X_c = pd.DataFrame(data[\"data\"], columns=data[\"feature_names\"])\n",
    "y_c = pd.DataFrame(data[\"target\"], columns=[\"class\"])\n",
    "\n",
    "data = pd.concat([X, y], axis=1)"
   ]
  },
  {
   "cell_type": "markdown",
   "metadata": {},
   "source": [
    "## 6. Split this data set into training (80%) and testing (20%) sets.\n",
    "\n",
    "The `class` field represents the type of flower and is the target variable that we will want to predict."
   ]
  },
  {
   "cell_type": "code",
   "execution_count": 16,
   "metadata": {},
   "outputs": [
    {
     "name": "stdout",
     "output_type": "stream",
     "text": [
      "Collecting plotly\n",
      "  Downloading plotly-5.9.0-py2.py3-none-any.whl (15.2 MB)\n",
      "     ---------------------------------------- 15.2/15.2 MB 3.0 MB/s eta 0:00:00\n",
      "Collecting tenacity>=6.2.0\n",
      "  Using cached tenacity-8.0.1-py3-none-any.whl (24 kB)\n",
      "Installing collected packages: tenacity, plotly\n",
      "Successfully installed plotly-5.9.0 tenacity-8.0.1\n"
     ]
    }
   ],
   "source": [
    "#! pip install plotly"
   ]
  },
  {
   "cell_type": "code",
   "execution_count": 19,
   "metadata": {},
   "outputs": [
    {
     "data": {
      "text/plain": [
       "<Figure size 576x576 with 0 Axes>"
      ]
     },
     "metadata": {},
     "output_type": "display_data"
    }
   ],
   "source": [
    "import matplotlib.pyplot as plt\n",
    "%matplotlib inline\n",
    "import seaborn as sns\n",
    "plt.figure(figsize=(8,8))\n",
    "pd.options.plotting.backend = \"plotly\"\n",
    "sns.set(rc={'figure.figsize':(6,6)});"
   ]
  },
  {
   "cell_type": "code",
   "execution_count": 23,
   "metadata": {},
   "outputs": [],
   "source": [
    "def train_classification_model(model, X, y):\n",
    "    \n",
    "    '''\n",
    "        This function fit a model, and return evaluation of the model based on RMSE, MAE and R2 score.\n",
    "        \n",
    "        Parameters:\n",
    "            model: Model that will be trained\n",
    "            X: DataFrame for train the model\n",
    "            y: Target\n",
    "        Return:\n",
    "            Results of the evaluations the model\n",
    "            \n",
    "    '''\n",
    "    \n",
    "    X_train, X_test, y_train, y_test = train_test_split(X,y, random_state=42, test_size=.2)\n",
    "    model.fit(X_train, y_train)\n",
    "    y_pred_train = model.predict(X_train)\n",
    "    y_pred_test = model.predict(X_test)\n",
    "    acc_train = accuracy_score(y_train, y_pred_train)\n",
    "    acc_test = accuracy_score(y_test, y_pred_test)\n",
    "    bal_acc_train = balanced_accuracy_score(y_train, y_pred_train)\n",
    "    bal_acc_test = balanced_accuracy_score(y_test, y_pred_test)\n",
    "    prec_train = precision_score(y_train, y_pred_train, average='macro')\n",
    "    prec_test = precision_score(y_test, y_pred_test, average='macro')\n",
    "    rec_train = recall_score(y_train, y_pred_train, average='macro')\n",
    "    rec_test = recall_score(y_test, y_pred_test, average='macro')\n",
    "    f1_train = f1_score(y_train, y_pred_train, average='macro')\n",
    "    f1_test = f1_score(y_test, y_pred_test, average='macro')\n",
    "    cm_train = confusion_matrix(y_train, y_pred_train)\n",
    "    cm_test = confusion_matrix(y_test, y_pred_test)\n",
    "    \n",
    "    print(f'''Model results:   \n",
    "                                      Train acc: {acc_train}\n",
    "                                      Train balanced_acc: {bal_acc_train}\n",
    "                                      Train precision: {prec_train}\n",
    "                                      Train recall: {rec_train}\n",
    "                                      Train F1: {f1_train}\n",
    "                                      Test acc: {acc_test} \n",
    "                                      Test balanced: {bal_acc_test}\n",
    "                                      Test precision: {prec_test}\n",
    "                                      Test recall: {rec_test}\n",
    "                                      Test F1: {f1_test}\n",
    "                                      ''')\n",
    "    print('\\n ----- Confusion Matrix for Train -----\\n')\n",
    "    \n",
    "    sns.heatmap(cm_train, annot=True)\n",
    "    sns.set(rc={'figure.figsize':(8,8)})\n",
    "    plt.title('Matriz confusion')\n",
    "    plt.ylabel('Verdad')\n",
    "    plt.xlabel('Prediccion')\n",
    "    plt.show();\n",
    "    \n",
    "    print('\\n ----- Confusion Matrix for Test -----\\n')\n",
    "    \n",
    "    sns.heatmap(cm_test, annot=True)\n",
    "    sns.set(rc={'figure.figsize':(8,8)})\n",
    "    plt.title('Matriz confusion')\n",
    "    plt.ylabel('Verdad')\n",
    "    plt.xlabel('Prediccion')\n",
    "    plt.show();\n",
    "    \n",
    "    return y_pred_test\n",
    "    "
   ]
  },
  {
   "cell_type": "markdown",
   "metadata": {},
   "source": [
    "## 7. Train a `LogisticRegression` model on this data set and generate predictions on both the training and the testing set."
   ]
  },
  {
   "cell_type": "code",
   "execution_count": 24,
   "metadata": {},
   "outputs": [],
   "source": [
    "from sklearn.linear_model import LogisticRegression\n",
    "\n",
    "logreg = LogisticRegression(max_iter=2000)"
   ]
  },
  {
   "cell_type": "markdown",
   "metadata": {},
   "source": [
    "## 8. Calculate and print the accuracy score for both the training and the testing set."
   ]
  },
  {
   "cell_type": "markdown",
   "metadata": {},
   "source": [
    "    This function resolves the 8,9,10,11,12 & 13 exercices."
   ]
  },
  {
   "cell_type": "code",
   "execution_count": 25,
   "metadata": {},
   "outputs": [
    {
     "name": "stdout",
     "output_type": "stream",
     "text": [
      "Model results:   \n",
      "                                      Train acc: 0.975\n",
      "                                      Train balanced_acc: 0.975609756097561\n",
      "                                      Train precision: 0.9761904761904763\n",
      "                                      Train recall: 0.975609756097561\n",
      "                                      Train F1: 0.9749960931395533\n",
      "                                      Test acc: 1.0 \n",
      "                                      Test balanced: 1.0\n",
      "                                      Test precision: 1.0\n",
      "                                      Test recall: 1.0\n",
      "                                      Test F1: 1.0\n",
      "                                      \n",
      "\n",
      " ----- Confusion Matrix for Train -----\n",
      "\n"
     ]
    },
    {
     "data": {
      "image/png": "[encoded data removed]",
      "text/plain": [
       "<Figure size 432x432 with 2 Axes>"
      ]
     },
     "metadata": {},
     "output_type": "display_data"
    },
    {
     "name": "stdout",
     "output_type": "stream",
     "text": [
      "\n",
      " ----- Confusion Matrix for Test -----\n",
      "\n"
     ]
    },
    {
     "data": {
      "image/png": "[encoded data removed]",
      "text/plain": [
       "<Figure size 576x576 with 2 Axes>"
      ]
     },
     "metadata": {},
     "output_type": "display_data"
    },
    {
     "data": {
      "text/plain": [
       "array([1, 0, 2, 1, 1, 0, 1, 2, 1, 1, 2, 0, 0, 0, 0, 1, 2, 1, 1, 2, 0, 2,\n",
       "       0, 2, 2, 2, 2, 2, 0, 0])"
      ]
     },
     "execution_count": 25,
     "metadata": {},
     "output_type": "execute_result"
    }
   ],
   "source": [
    "train_classification_model(logreg, X_c, y_c)"
   ]
  },
  {
   "cell_type": "markdown",
   "metadata": {},
   "source": [
    "## 9. Calculate and print the balanced accuracy score for both the training and the testing set."
   ]
  },
  {
   "cell_type": "code",
   "execution_count": 27,
   "metadata": {},
   "outputs": [
    {
     "name": "stdout",
     "output_type": "stream",
     "text": [
      "Help on function train_classification_model in module __main__:\n",
      "\n",
      "train_classification_model(model, X, y)\n",
      "    This function fit a model, and return evaluation of the model based on RMSE, MAE and R2 score.\n",
      "    \n",
      "    Parameters:\n",
      "        model: Model that will be trained\n",
      "        X: DataFrame for train the model\n",
      "        y: Target\n",
      "    Return:\n",
      "        Results of the evaluations the model\n",
      "\n"
     ]
    }
   ],
   "source": [
    "help(train_classification_model)"
   ]
  },
  {
   "cell_type": "markdown",
   "metadata": {},
   "source": [
    "## 10. Calculate and print the precision score for both the training and the testing set."
   ]
  },
  {
   "cell_type": "code",
   "execution_count": null,
   "metadata": {},
   "outputs": [],
   "source": []
  },
  {
   "cell_type": "markdown",
   "metadata": {},
   "source": [
    "## 11. Calculate and print the recall score for both the training and the testing set."
   ]
  },
  {
   "cell_type": "code",
   "execution_count": null,
   "metadata": {},
   "outputs": [],
   "source": []
  },
  {
   "cell_type": "markdown",
   "metadata": {},
   "source": [
    "## 12. Calculate and print the F1 score for both the training and the testing set."
   ]
  },
  {
   "cell_type": "code",
   "execution_count": null,
   "metadata": {},
   "outputs": [],
   "source": []
  },
  {
   "cell_type": "markdown",
   "metadata": {},
   "source": [
    "## 13. Generate confusion matrices for both the training and the testing set."
   ]
  },
  {
   "cell_type": "code",
   "execution_count": null,
   "metadata": {},
   "outputs": [],
   "source": []
  },
  {
   "cell_type": "code",
   "execution_count": null,
   "metadata": {},
   "outputs": [],
   "source": []
  },
  {
   "cell_type": "markdown",
   "metadata": {},
   "source": [
    "## Bonus: For each of the data sets in this lab, try training with some of the other models you have learned about, recalculate the evaluation metrics, and compare to determine which models perform best on each data set."
   ]
  }
 ],
 "metadata": {
  "kernelspec": {
   "display_name": "Python 3 (ipykernel)",
   "language": "python",
   "name": "python3"
  },
  "language_info": {
   "codemirror_mode": {
    "name": "ipython",
    "version": 3
   },
   "file_extension": ".py",
   "mimetype": "text/x-python",
   "name": "python",
   "nbconvert_exporter": "python",
   "pygments_lexer": "ipython3",
   "version": "3.9.12"
  }
 },
 "nbformat": 4,
 "nbformat_minor": 2
}
