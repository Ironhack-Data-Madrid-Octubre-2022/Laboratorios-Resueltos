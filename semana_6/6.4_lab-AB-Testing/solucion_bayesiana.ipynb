{
 "cells": [
  {
   "cell_type": "markdown",
   "id": "angry-pearl",
   "metadata": {
    "toc": true
   },
   "source": [
    "<h1>Table of Contents<span class=\"tocSkip\"></span></h1>\n",
    "<div class=\"toc\"><ul class=\"toc-item\"><li><span><a href=\"#AB-Testing\" data-toc-modified-id=\"AB-Testing-1\"><span class=\"toc-item-num\">1&nbsp;&nbsp;</span>AB-Testing</a></span></li></ul></div>"
   ]
  },
  {
   "cell_type": "markdown",
   "id": "c92ba6e0",
   "metadata": {},
   "source": [
    "# AB-Testing\n",
    "\n",
    "![cats](images/cats.jpeg)\n",
    "\n",
    "\n",
    "Imaginad que somos los cientificos de datos de la empresa de videojuegos Tactile Entertainment. Los desarrolladores del juego Cookie Cats pretenden introducir un cambio en el juego para aumentar la retencion de los jugadores. En cierto nivel del juego los jugadores se encuentran una puerta que les obliga a esperar o a pagar la app. Actualmente la puerta se encuentra en nivel 30 y se pretende pasar al nivel 40, para comprobar la retencion a 1 y 7 dias. Antes de realizar el cambio definitivo en el juego se raliza un test AB.\n",
    "\n",
    "Los datos estan alojados en `data/cookie_cats.csv`. Nuestro grupo de control sera la version actual `gate_30` y el grupo de tratamiento sera la version `gate_40`. Debemos realizar el test para 1 dia de retencion `retention_1` y para 7 dias `retention_7`."
   ]
  },
  {
   "cell_type": "code",
   "execution_count": 1,
   "id": "ac3b2f52",
   "metadata": {},
   "outputs": [],
   "source": [
    "# librerias\n",
    "import pandas as pd\n",
    "\n",
    "from scipy.stats import beta\n",
    "\n",
    "from bayes import *"
   ]
  },
  {
   "cell_type": "code",
   "execution_count": 2,
   "id": "7fe515c2",
   "metadata": {},
   "outputs": [
    {
     "data": {
      "text/html": [
       "<div>\n",
       "<style scoped>\n",
       "    .dataframe tbody tr th:only-of-type {\n",
       "        vertical-align: middle;\n",
       "    }\n",
       "\n",
       "    .dataframe tbody tr th {\n",
       "        vertical-align: top;\n",
       "    }\n",
       "\n",
       "    .dataframe thead th {\n",
       "        text-align: right;\n",
       "    }\n",
       "</style>\n",
       "<table border=\"1\" class=\"dataframe\">\n",
       "  <thead>\n",
       "    <tr style=\"text-align: right;\">\n",
       "      <th></th>\n",
       "      <th>userid</th>\n",
       "      <th>version</th>\n",
       "      <th>sum_gamerounds</th>\n",
       "      <th>retention_1</th>\n",
       "      <th>retention_7</th>\n",
       "    </tr>\n",
       "  </thead>\n",
       "  <tbody>\n",
       "    <tr>\n",
       "      <th>0</th>\n",
       "      <td>116</td>\n",
       "      <td>gate_30</td>\n",
       "      <td>3</td>\n",
       "      <td>False</td>\n",
       "      <td>False</td>\n",
       "    </tr>\n",
       "    <tr>\n",
       "      <th>1</th>\n",
       "      <td>337</td>\n",
       "      <td>gate_30</td>\n",
       "      <td>38</td>\n",
       "      <td>True</td>\n",
       "      <td>False</td>\n",
       "    </tr>\n",
       "    <tr>\n",
       "      <th>2</th>\n",
       "      <td>377</td>\n",
       "      <td>gate_40</td>\n",
       "      <td>165</td>\n",
       "      <td>True</td>\n",
       "      <td>False</td>\n",
       "    </tr>\n",
       "    <tr>\n",
       "      <th>3</th>\n",
       "      <td>483</td>\n",
       "      <td>gate_40</td>\n",
       "      <td>1</td>\n",
       "      <td>False</td>\n",
       "      <td>False</td>\n",
       "    </tr>\n",
       "    <tr>\n",
       "      <th>4</th>\n",
       "      <td>488</td>\n",
       "      <td>gate_40</td>\n",
       "      <td>179</td>\n",
       "      <td>True</td>\n",
       "      <td>True</td>\n",
       "    </tr>\n",
       "  </tbody>\n",
       "</table>\n",
       "</div>"
      ],
      "text/plain": [
       "   userid  version  sum_gamerounds  retention_1  retention_7\n",
       "0     116  gate_30               3        False        False\n",
       "1     337  gate_30              38         True        False\n",
       "2     377  gate_40             165         True        False\n",
       "3     483  gate_40               1        False        False\n",
       "4     488  gate_40             179         True         True"
      ]
     },
     "execution_count": 2,
     "metadata": {},
     "output_type": "execute_result"
    }
   ],
   "source": [
    "# datos\n",
    "data=pd.read_csv('data/cookie_cats.csv')\n",
    "\n",
    "data.head()"
   ]
  },
  {
   "cell_type": "code",
   "execution_count": 3,
   "id": "f2e6147a",
   "metadata": {},
   "outputs": [
    {
     "data": {
      "text/html": [
       "<div>\n",
       "<style scoped>\n",
       "    .dataframe tbody tr th:only-of-type {\n",
       "        vertical-align: middle;\n",
       "    }\n",
       "\n",
       "    .dataframe tbody tr th {\n",
       "        vertical-align: top;\n",
       "    }\n",
       "\n",
       "    .dataframe thead th {\n",
       "        text-align: right;\n",
       "    }\n",
       "</style>\n",
       "<table border=\"1\" class=\"dataframe\">\n",
       "  <thead>\n",
       "    <tr style=\"text-align: right;\">\n",
       "      <th></th>\n",
       "      <th>userid</th>\n",
       "      <th>version</th>\n",
       "      <th>sum_gamerounds</th>\n",
       "      <th>retention_1</th>\n",
       "      <th>retention_7</th>\n",
       "    </tr>\n",
       "  </thead>\n",
       "  <tbody>\n",
       "    <tr>\n",
       "      <th>0</th>\n",
       "      <td>116</td>\n",
       "      <td>A</td>\n",
       "      <td>3</td>\n",
       "      <td>0</td>\n",
       "      <td>0</td>\n",
       "    </tr>\n",
       "    <tr>\n",
       "      <th>1</th>\n",
       "      <td>337</td>\n",
       "      <td>A</td>\n",
       "      <td>38</td>\n",
       "      <td>1</td>\n",
       "      <td>0</td>\n",
       "    </tr>\n",
       "    <tr>\n",
       "      <th>2</th>\n",
       "      <td>377</td>\n",
       "      <td>B</td>\n",
       "      <td>165</td>\n",
       "      <td>1</td>\n",
       "      <td>0</td>\n",
       "    </tr>\n",
       "    <tr>\n",
       "      <th>3</th>\n",
       "      <td>483</td>\n",
       "      <td>B</td>\n",
       "      <td>1</td>\n",
       "      <td>0</td>\n",
       "      <td>0</td>\n",
       "    </tr>\n",
       "    <tr>\n",
       "      <th>4</th>\n",
       "      <td>488</td>\n",
       "      <td>B</td>\n",
       "      <td>179</td>\n",
       "      <td>1</td>\n",
       "      <td>1</td>\n",
       "    </tr>\n",
       "  </tbody>\n",
       "</table>\n",
       "</div>"
      ],
      "text/plain": [
       "   userid version  sum_gamerounds  retention_1  retention_7\n",
       "0     116       A               3            0            0\n",
       "1     337       A              38            1            0\n",
       "2     377       B             165            1            0\n",
       "3     483       B               1            0            0\n",
       "4     488       B             179            1            1"
      ]
     },
     "execution_count": 3,
     "metadata": {},
     "output_type": "execute_result"
    }
   ],
   "source": [
    "# transformacion\n",
    "\n",
    "data.version=np.where(data.version=='gate_30', 'A', 'B')\n",
    "\n",
    "data.retention_1=np.where(data.retention_1==True, 1, 0)\n",
    "data.retention_7=np.where(data.retention_7==True, 1, 0)\n",
    "\n",
    "data.head()"
   ]
  },
  {
   "cell_type": "code",
   "execution_count": 4,
   "id": "38f422cb",
   "metadata": {},
   "outputs": [
    {
     "data": {
      "text/html": [
       "<div>\n",
       "<style scoped>\n",
       "    .dataframe tbody tr th:only-of-type {\n",
       "        vertical-align: middle;\n",
       "    }\n",
       "\n",
       "    .dataframe tbody tr th {\n",
       "        vertical-align: top;\n",
       "    }\n",
       "\n",
       "    .dataframe thead th {\n",
       "        text-align: right;\n",
       "    }\n",
       "</style>\n",
       "<table border=\"1\" class=\"dataframe\">\n",
       "  <thead>\n",
       "    <tr style=\"text-align: right;\">\n",
       "      <th></th>\n",
       "      <th>userid</th>\n",
       "      <th>version</th>\n",
       "      <th>sum_gamerounds</th>\n",
       "      <th>retention_1</th>\n",
       "      <th>retention_7</th>\n",
       "    </tr>\n",
       "  </thead>\n",
       "  <tbody>\n",
       "    <tr>\n",
       "      <th>0</th>\n",
       "      <td>6531033</td>\n",
       "      <td>A</td>\n",
       "      <td>35</td>\n",
       "      <td>0</td>\n",
       "      <td>0</td>\n",
       "    </tr>\n",
       "    <tr>\n",
       "      <th>1</th>\n",
       "      <td>8003009</td>\n",
       "      <td>A</td>\n",
       "      <td>4</td>\n",
       "      <td>0</td>\n",
       "      <td>0</td>\n",
       "    </tr>\n",
       "    <tr>\n",
       "      <th>2</th>\n",
       "      <td>5566807</td>\n",
       "      <td>A</td>\n",
       "      <td>23</td>\n",
       "      <td>1</td>\n",
       "      <td>0</td>\n",
       "    </tr>\n",
       "    <tr>\n",
       "      <th>3</th>\n",
       "      <td>64235</td>\n",
       "      <td>A</td>\n",
       "      <td>1</td>\n",
       "      <td>0</td>\n",
       "      <td>0</td>\n",
       "    </tr>\n",
       "    <tr>\n",
       "      <th>4</th>\n",
       "      <td>6210551</td>\n",
       "      <td>A</td>\n",
       "      <td>7</td>\n",
       "      <td>0</td>\n",
       "      <td>0</td>\n",
       "    </tr>\n",
       "  </tbody>\n",
       "</table>\n",
       "</div>"
      ],
      "text/plain": [
       "    userid version  sum_gamerounds  retention_1  retention_7\n",
       "0  6531033       A              35            0            0\n",
       "1  8003009       A               4            0            0\n",
       "2  5566807       A              23            1            0\n",
       "3    64235       A               1            0            0\n",
       "4  6210551       A               7            0            0"
      ]
     },
     "execution_count": 4,
     "metadata": {},
     "output_type": "execute_result"
    }
   ],
   "source": [
    "# muestreo\n",
    "control=data[data.version=='A'].sample(n=44000, random_state=42)\n",
    "\n",
    "tratamiento=data[data.version=='B'].sample(n=44000, random_state=42)\n",
    "\n",
    "ab_test=pd.concat([control, tratamiento], axis=0)\n",
    "\n",
    "ab_test.reset_index(drop=True, inplace=True)\n",
    "\n",
    "ab_test.head()"
   ]
  },
  {
   "cell_type": "code",
   "execution_count": 5,
   "id": "5b90c429",
   "metadata": {},
   "outputs": [
    {
     "name": "stdout",
     "output_type": "stream",
     "text": [
      "Tasas 0.4484318181818182 0.44279545454545455\n"
     ]
    }
   ],
   "source": [
    "# testeo para retention_1\n",
    "\n",
    "# los datos son conocidos: impresiones, conversiones, control y test\n",
    "imps_ctrl, convs_ctrl= len(control), sum(control.retention_1)\n",
    "imps_test, convs_test= len(tratamiento), sum(tratamiento.retention_1)\n",
    "\n",
    "CR_ctrl=convs_ctrl/imps_ctrl\n",
    "CR_test=convs_test/imps_test\n",
    "\n",
    "print ('Tasas', CR_ctrl, CR_test)"
   ]
  },
  {
   "cell_type": "code",
   "execution_count": 6,
   "id": "51a002c3",
   "metadata": {},
   "outputs": [],
   "source": [
    "# se crean funciones beta\n",
    "# aprioris\n",
    "\n",
    "a_C, b_C = convs_ctrl+1, imps_ctrl-convs_ctrl+1\n",
    "a_T, b_T = convs_test+1, imps_test-convs_test+1\n",
    "\n",
    "beta_C=beta(a_C, b_C)  # control\n",
    "beta_T=beta(a_T, b_T)  # test"
   ]
  },
  {
   "cell_type": "code",
   "execution_count": 7,
   "id": "9980f2a2",
   "metadata": {},
   "outputs": [],
   "source": [
    "# diferencia normalizada de las medias de test y control\n",
    "\n",
    "salto=(beta_T.mean()-beta_C.mean())/beta_C.mean()"
   ]
  },
  {
   "cell_type": "code",
   "execution_count": 8,
   "id": "e74190d0",
   "metadata": {},
   "outputs": [],
   "source": [
    "prob=calc_prob(beta_T, beta_C)  # esta funcion es la clave"
   ]
  },
  {
   "cell_type": "code",
   "execution_count": 9,
   "id": "ff123f70",
   "metadata": {},
   "outputs": [
    {
     "name": "stdout",
     "output_type": "stream",
     "text": [
      "El test aumenta la tasa de conversion en un -1.26%,\n",
      "con una probabilidad del 4.63%\n",
      "0.4484318181818182 0.44279545454545455\n"
     ]
    },
    {
     "data": {
      "image/png": "[encoded data removed]",
      "text/plain": [
       "<Figure size 432x288 with 1 Axes>"
      ]
     },
     "metadata": {
      "needs_background": "light"
     },
     "output_type": "display_data"
    }
   ],
   "source": [
    "print (\n",
    "'''El test aumenta la tasa de conversion en un {:2.2f}%,\n",
    "con una probabilidad del {:2.2f}%'''\n",
    "    .format(salto*100, prob*100)\n",
    ")\n",
    "\n",
    "print (CR_ctrl, CR_test)\n",
    "plot([beta_C, beta_T], ['Control', 'Test'], linf=0.42, lsup=0.48)"
   ]
  },
  {
   "cell_type": "code",
   "execution_count": 10,
   "id": "05d08133",
   "metadata": {},
   "outputs": [],
   "source": [
    "# En este caso esta al reves, \n",
    "# por tanto el test disminuye la tasa de conversion \n",
    "#en un 1.26%,con una probabilidad del 95.37%"
   ]
  },
  {
   "cell_type": "code",
   "execution_count": 11,
   "id": "a048a711",
   "metadata": {},
   "outputs": [
    {
     "name": "stdout",
     "output_type": "stream",
     "text": [
      "Tasas 0.19011363636363637 0.18220454545454545\n"
     ]
    }
   ],
   "source": [
    "# testeo para retention_7\n",
    "\n",
    "# los datos son conocidos: impresiones, conversiones, control y test\n",
    "imps_ctrl, convs_ctrl= len(control), sum(control.retention_7)\n",
    "imps_test, convs_test= len(tratamiento), sum(tratamiento.retention_7)\n",
    "\n",
    "CR_ctrl=convs_ctrl/imps_ctrl\n",
    "CR_test=convs_test/imps_test\n",
    "\n",
    "print ('Tasas', CR_ctrl, CR_test)"
   ]
  },
  {
   "cell_type": "code",
   "execution_count": 12,
   "id": "07582cb9",
   "metadata": {},
   "outputs": [],
   "source": [
    "# se crean funciones beta\n",
    "# aprioris\n",
    "\n",
    "a_C, b_C = convs_ctrl+1, imps_ctrl-convs_ctrl+1\n",
    "a_T, b_T = convs_test+1, imps_test-convs_test+1\n",
    "\n",
    "beta_C=beta(a_C, b_C)  # control\n",
    "beta_T=beta(a_T, b_T)  # test"
   ]
  },
  {
   "cell_type": "code",
   "execution_count": 13,
   "id": "262f8b95",
   "metadata": {},
   "outputs": [],
   "source": [
    "# diferencia normalizada de las medias de test y control\n",
    "\n",
    "salto=(beta_T.mean()-beta_C.mean())/beta_C.mean()"
   ]
  },
  {
   "cell_type": "code",
   "execution_count": 14,
   "id": "f839c09b",
   "metadata": {},
   "outputs": [],
   "source": [
    "prob=calc_prob(beta_T, beta_C)  # esta funcion es la clave"
   ]
  },
  {
   "cell_type": "code",
   "execution_count": 15,
   "id": "b85b7153",
   "metadata": {},
   "outputs": [
    {
     "name": "stdout",
     "output_type": "stream",
     "text": [
      "El test aumenta la tasa de conversion en un -4.16%,\n",
      "con una probabilidad del 0.13%\n",
      "0.19011363636363637 0.18220454545454545\n"
     ]
    },
    {
     "data": {
      "image/png": "[encoded data removed]",
      "text/plain": [
       "<Figure size 432x288 with 1 Axes>"
      ]
     },
     "metadata": {
      "needs_background": "light"
     },
     "output_type": "display_data"
    }
   ],
   "source": [
    "print (\n",
    "'''El test aumenta la tasa de conversion en un {:2.2f}%,\n",
    "con una probabilidad del {:2.2f}%'''\n",
    "    .format(salto*100, prob*100)\n",
    ")\n",
    "\n",
    "print (CR_ctrl, CR_test)\n",
    "plot([beta_C, beta_T], ['Control', 'Test'], linf=0.17, lsup=0.21)"
   ]
  },
  {
   "cell_type": "code",
   "execution_count": 16,
   "id": "cooked-magnet",
   "metadata": {},
   "outputs": [],
   "source": [
    "# En este caso, igual que antes, esta al reves, \n",
    "# por tanto el test disminuye la tasa de conversion \n",
    "# en un 4.16%,con una probabilidad del 99.87%"
   ]
  }
 ],
 "metadata": {
  "finalized": {
   "timestamp": 1642857010293,
   "trusted": true
  },
  "kernelspec": {
   "display_name": "clase",
   "language": "python",
   "name": "clase"
  },
  "language_info": {
   "codemirror_mode": {
    "name": "ipython",
    "version": 3
   },
   "file_extension": ".py",
   "mimetype": "text/x-python",
   "name": "python",
   "nbconvert_exporter": "python",
   "pygments_lexer": "ipython3",
   "version": "3.9.7"
  },
  "toc": {
   "base_numbering": 1,
   "nav_menu": {},
   "number_sections": true,
   "sideBar": true,
   "skip_h1_title": false,
   "title_cell": "Table of Contents",
   "title_sidebar": "Contents",
   "toc_cell": true,
   "toc_position": {},
   "toc_section_display": true,
   "toc_window_display": false
  },
  "varInspector": {
   "cols": {
    "lenName": 16,
    "lenType": 16,
    "lenVar": 40
   },
   "kernels_config": {
    "python": {
     "delete_cmd_postfix": "",
     "delete_cmd_prefix": "del ",
     "library": "var_list.py",
     "varRefreshCmd": "print(var_dic_list())"
    },
    "r": {
     "delete_cmd_postfix": ") ",
     "delete_cmd_prefix": "rm(",
     "library": "var_list.r",
     "varRefreshCmd": "cat(var_dic_list()) "
    }
   },
   "types_to_exclude": [
    "module",
    "function",
    "builtin_function_or_method",
    "instance",
    "_Feature"
   ],
   "window_display": false
  }
 },
 "nbformat": 4,
 "nbformat_minor": 5
}
