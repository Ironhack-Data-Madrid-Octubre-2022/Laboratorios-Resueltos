{
 "cells": [
  {
   "cell_type": "markdown",
   "id": "angry-pearl",
   "metadata": {
    "toc": true
   },
   "source": [
    "<h1>Table of Contents<span class=\"tocSkip\"></span></h1>\n",
    "<div class=\"toc\"><ul class=\"toc-item\"><li><span><a href=\"#AB-Testing\" data-toc-modified-id=\"AB-Testing-1\"><span class=\"toc-item-num\">1&nbsp;&nbsp;</span>AB-Testing</a></span></li></ul></div>"
   ]
  },
  {
   "cell_type": "markdown",
   "id": "c92ba6e0",
   "metadata": {},
   "source": [
    "# AB-Testing\n",
    "\n",
    "![cats](images/cats.jpeg)\n",
    "\n",
    "\n",
    "Imaginad que somos los cientificos de datos de la empresa de videojuegos Tactile Entertainment. Los desarrolladores del juego Cookie Cats pretenden introducir un cambio en el juego para aumentar la retencion de los jugadores. En cierto nivel del juego los jugadores se encuentran una puerta que les obliga a esperar o a pagar la app. Actualmente la puerta se encuentra en nivel 30 y se pretende pasar al nivel 40, para comprobar la retencion a 1 y 7 dias. Antes de realizar el cambio definitivo en el juego se raliza un test AB.\n",
    "\n",
    "Los datos estan alojados en `data/cookie_cats.csv`. Nuestro grupo de control sera la version actual `gate_30` y el grupo de tratamiento sera la version `gate_40`. Debemos realizar el test para 1 dia de retencion `retention_1` y para 7 dias `retention_7`."
   ]
  },
  {
   "cell_type": "code",
   "execution_count": 1,
   "id": "ac3b2f52",
   "metadata": {},
   "outputs": [],
   "source": [
    "# librerias\n",
    "\n",
    "import pandas as pd\n",
    "import numpy as np\n",
    "\n",
    "from statsmodels.stats.proportion import proportions_ztest, proportion_confint\n",
    "from scipy.stats import norm, sem\n",
    "import statsmodels.stats.api as sms\n",
    "\n",
    "import pylab as plt"
   ]
  },
  {
   "cell_type": "code",
   "execution_count": 2,
   "id": "7fe515c2",
   "metadata": {},
   "outputs": [
    {
     "name": "stdout",
     "output_type": "stream",
     "text": [
      "<class 'pandas.core.frame.DataFrame'>\n",
      "RangeIndex: 90189 entries, 0 to 90188\n",
      "Data columns (total 5 columns):\n",
      " #   Column          Non-Null Count  Dtype \n",
      "---  ------          --------------  ----- \n",
      " 0   userid          90189 non-null  int64 \n",
      " 1   version         90189 non-null  object\n",
      " 2   sum_gamerounds  90189 non-null  int64 \n",
      " 3   retention_1     90189 non-null  bool  \n",
      " 4   retention_7     90189 non-null  bool  \n",
      "dtypes: bool(2), int64(2), object(1)\n",
      "memory usage: 2.2+ MB\n"
     ]
    }
   ],
   "source": [
    "# datos\n",
    "df = pd.read_csv('data/cookie_cats.csv')\n",
    "df.info()"
   ]
  },
  {
   "cell_type": "code",
   "execution_count": 3,
   "id": "8029ea03",
   "metadata": {},
   "outputs": [
    {
     "data": {
      "text/html": [
       "<div>\n",
       "<style scoped>\n",
       "    .dataframe tbody tr th:only-of-type {\n",
       "        vertical-align: middle;\n",
       "    }\n",
       "\n",
       "    .dataframe tbody tr th {\n",
       "        vertical-align: top;\n",
       "    }\n",
       "\n",
       "    .dataframe thead th {\n",
       "        text-align: right;\n",
       "    }\n",
       "</style>\n",
       "<table border=\"1\" class=\"dataframe\">\n",
       "  <thead>\n",
       "    <tr style=\"text-align: right;\">\n",
       "      <th></th>\n",
       "      <th>userid</th>\n",
       "      <th>version</th>\n",
       "      <th>sum_gamerounds</th>\n",
       "      <th>retention_1</th>\n",
       "      <th>retention_7</th>\n",
       "    </tr>\n",
       "  </thead>\n",
       "  <tbody>\n",
       "    <tr>\n",
       "      <th>0</th>\n",
       "      <td>116</td>\n",
       "      <td>gate_30</td>\n",
       "      <td>3</td>\n",
       "      <td>False</td>\n",
       "      <td>False</td>\n",
       "    </tr>\n",
       "    <tr>\n",
       "      <th>1</th>\n",
       "      <td>337</td>\n",
       "      <td>gate_30</td>\n",
       "      <td>38</td>\n",
       "      <td>True</td>\n",
       "      <td>False</td>\n",
       "    </tr>\n",
       "    <tr>\n",
       "      <th>2</th>\n",
       "      <td>377</td>\n",
       "      <td>gate_40</td>\n",
       "      <td>165</td>\n",
       "      <td>True</td>\n",
       "      <td>False</td>\n",
       "    </tr>\n",
       "    <tr>\n",
       "      <th>3</th>\n",
       "      <td>483</td>\n",
       "      <td>gate_40</td>\n",
       "      <td>1</td>\n",
       "      <td>False</td>\n",
       "      <td>False</td>\n",
       "    </tr>\n",
       "    <tr>\n",
       "      <th>4</th>\n",
       "      <td>488</td>\n",
       "      <td>gate_40</td>\n",
       "      <td>179</td>\n",
       "      <td>True</td>\n",
       "      <td>True</td>\n",
       "    </tr>\n",
       "  </tbody>\n",
       "</table>\n",
       "</div>"
      ],
      "text/plain": [
       "   userid  version  sum_gamerounds  retention_1  retention_7\n",
       "0     116  gate_30               3        False        False\n",
       "1     337  gate_30              38         True        False\n",
       "2     377  gate_40             165         True        False\n",
       "3     483  gate_40               1        False        False\n",
       "4     488  gate_40             179         True         True"
      ]
     },
     "execution_count": 3,
     "metadata": {},
     "output_type": "execute_result"
    }
   ],
   "source": [
    "df.head()"
   ]
  },
  {
   "cell_type": "code",
   "execution_count": 4,
   "id": "f2e6147a",
   "metadata": {},
   "outputs": [
    {
     "data": {
      "text/plain": [
       "90189"
      ]
     },
     "execution_count": 4,
     "metadata": {},
     "output_type": "execute_result"
    }
   ],
   "source": [
    "# transformacion\n",
    "len(df.userid.unique())"
   ]
  },
  {
   "cell_type": "code",
   "execution_count": 5,
   "id": "63e53a2c",
   "metadata": {},
   "outputs": [
    {
     "data": {
      "text/html": [
       "<div>\n",
       "<style scoped>\n",
       "    .dataframe tbody tr th:only-of-type {\n",
       "        vertical-align: middle;\n",
       "    }\n",
       "\n",
       "    .dataframe tbody tr th {\n",
       "        vertical-align: top;\n",
       "    }\n",
       "\n",
       "    .dataframe thead th {\n",
       "        text-align: right;\n",
       "    }\n",
       "</style>\n",
       "<table border=\"1\" class=\"dataframe\">\n",
       "  <thead>\n",
       "    <tr style=\"text-align: right;\">\n",
       "      <th></th>\n",
       "      <th>userid</th>\n",
       "      <th>version</th>\n",
       "      <th>sum_gamerounds</th>\n",
       "      <th>retention_1</th>\n",
       "      <th>retention_7</th>\n",
       "    </tr>\n",
       "  </thead>\n",
       "  <tbody>\n",
       "    <tr>\n",
       "      <th>0</th>\n",
       "      <td>116</td>\n",
       "      <td>A</td>\n",
       "      <td>3</td>\n",
       "      <td>False</td>\n",
       "      <td>False</td>\n",
       "    </tr>\n",
       "    <tr>\n",
       "      <th>1</th>\n",
       "      <td>337</td>\n",
       "      <td>A</td>\n",
       "      <td>38</td>\n",
       "      <td>True</td>\n",
       "      <td>False</td>\n",
       "    </tr>\n",
       "    <tr>\n",
       "      <th>2</th>\n",
       "      <td>377</td>\n",
       "      <td>B</td>\n",
       "      <td>165</td>\n",
       "      <td>True</td>\n",
       "      <td>False</td>\n",
       "    </tr>\n",
       "    <tr>\n",
       "      <th>3</th>\n",
       "      <td>483</td>\n",
       "      <td>B</td>\n",
       "      <td>1</td>\n",
       "      <td>False</td>\n",
       "      <td>False</td>\n",
       "    </tr>\n",
       "    <tr>\n",
       "      <th>4</th>\n",
       "      <td>488</td>\n",
       "      <td>B</td>\n",
       "      <td>179</td>\n",
       "      <td>True</td>\n",
       "      <td>True</td>\n",
       "    </tr>\n",
       "  </tbody>\n",
       "</table>\n",
       "</div>"
      ],
      "text/plain": [
       "   userid version  sum_gamerounds  retention_1  retention_7\n",
       "0     116       A               3        False        False\n",
       "1     337       A              38         True        False\n",
       "2     377       B             165         True        False\n",
       "3     483       B               1        False        False\n",
       "4     488       B             179         True         True"
      ]
     },
     "execution_count": 5,
     "metadata": {},
     "output_type": "execute_result"
    }
   ],
   "source": [
    "df.version = np.where(df.version=='gate_30', 'A','B')\n",
    "df.head()"
   ]
  },
  {
   "cell_type": "code",
   "execution_count": 6,
   "id": "d1d42b2e",
   "metadata": {},
   "outputs": [
    {
     "data": {
      "text/plain": [
       "B    45489\n",
       "A    44700\n",
       "Name: version, dtype: int64"
      ]
     },
     "execution_count": 6,
     "metadata": {},
     "output_type": "execute_result"
    }
   ],
   "source": [
    "df.version.value_counts()"
   ]
  },
  {
   "cell_type": "code",
   "execution_count": 11,
   "id": "38f422cb",
   "metadata": {},
   "outputs": [],
   "source": [
    "# muestreo\n",
    "control = df[df.version=='A']\n",
    "test = df[df.version=='B'].sample(44700, random_state=42)\n",
    "\n",
    "ab_test = pd.concat([control, test], axis =0)\n"
   ]
  },
  {
   "cell_type": "code",
   "execution_count": 12,
   "id": "5b82673b",
   "metadata": {},
   "outputs": [],
   "source": [
    "ab_test.reset_index(drop=True, inplace=True)"
   ]
  },
  {
   "cell_type": "code",
   "execution_count": 13,
   "id": "34b86059",
   "metadata": {},
   "outputs": [
    {
     "data": {
      "text/plain": [
       "A    44700\n",
       "B    44700\n",
       "Name: version, dtype: int64"
      ]
     },
     "execution_count": 13,
     "metadata": {},
     "output_type": "execute_result"
    }
   ],
   "source": [
    "ab_test.version.value_counts()"
   ]
  },
  {
   "cell_type": "code",
   "execution_count": 14,
   "id": "5b90c429",
   "metadata": {},
   "outputs": [],
   "source": [
    "# test for retention_1\n",
    "ctrl_ret1 = ab_test[ab_test.version == 'A']['retention_1']\n",
    "test_ret1 = ab_test[ab_test.version == 'B']['retention_1']"
   ]
  },
  {
   "cell_type": "code",
   "execution_count": 22,
   "id": "eb7d0b4a",
   "metadata": {},
   "outputs": [],
   "source": [
    "count_ctrl = ctrl_ret1.count()\n",
    "count_test = test_ret1.count()\n",
    "\n",
    "retention = [ctrl_ret1.sum(), test_ret1.sum()]\n",
    "\n",
    "observations = [count_ctrl, count_test]\n",
    "\n",
    "z_score, p_value = proportions_ztest(retention, observations)\n",
    "\n",
    "# confidence intervals\n",
    "\n",
    "(ctrl_ret1_a, test_ret1_a),(ctrl_ret1_b, test_ret1_b) = proportion_confint(retention, nobs=observations, alpha=0.05)"
   ]
  },
  {
   "cell_type": "code",
   "execution_count": 23,
   "id": "4c21bdaa",
   "metadata": {},
   "outputs": [
    {
     "name": "stdout",
     "output_type": "stream",
     "text": [
      "z-score: 1.69\n",
      "p-valor: 0.091\n",
      "Confidence Interval of 95% for control group: [0.444, 0.453]\n",
      "Confidence Interval of 95% for test group: [0.438, 0.447]\n"
     ]
    }
   ],
   "source": [
    "print(f'z-score: {z_score:.2f}')\n",
    "print(f'p-valor: {p_value:.3f}')\n",
    "print(f'Confidence Interval of 95% for control group: [{ctrl_ret1_a:.3f}, {ctrl_ret1_b:.3f}]')\n",
    "print(f'Confidence Interval of 95% for test group: [{test_ret1_a:.3f}, {test_ret1_b:.3f}]')"
   ]
  },
  {
   "cell_type": "code",
   "execution_count": 27,
   "id": "0fc4acdc",
   "metadata": {},
   "outputs": [
    {
     "data": {
      "text/plain": [
       "(version\n",
       " A    0.448188\n",
       " B    0.442573\n",
       " Name: retention_1, dtype: float64,\n",
       " version\n",
       " A    0.497314\n",
       " B    0.496697\n",
       " Name: retention_1, dtype: float64)"
      ]
     },
     "execution_count": 27,
     "metadata": {},
     "output_type": "execute_result"
    }
   ],
   "source": [
    "ab_test.groupby('version').retention_1.mean(), ab_test.groupby('version').retention_1.std()"
   ]
  },
  {
   "cell_type": "code",
   "execution_count": 32,
   "id": "b8aeec44",
   "metadata": {},
   "outputs": [
    {
     "data": {
      "image/png": "[encoded data removed]",
      "text/plain": [
       "<Figure size 432x288 with 1 Axes>"
      ]
     },
     "metadata": {
      "needs_background": "light"
     },
     "output_type": "display_data"
    }
   ],
   "source": [
    "retention_rate=ab_test.groupby('version')['retention_1']\n",
    "\n",
    "std=lambda x: np.std(x, ddof=0)                # std\n",
    "error_std= lambda x: sem(x, ddof=0)            # error estandar (std / sqrt(n))\n",
    "\n",
    "retention_rate=retention_rate.agg([np.mean, std, error_std])\n",
    "retention_rate.columns=['conversion_rate', 'std_deviation', 'std_error']\n",
    "\n",
    "\n",
    "retention_rate.style.format('{:.3f}')\n",
    "\n",
    "x=[i*.1 for i in range(-5, 15)]  \n",
    "\n",
    "control=[norm.pdf(x, retention_rate.iloc[0][0], retention_rate.iloc[0][1]) for x in x] \n",
    "\n",
    "test=[norm.pdf(x, retention_rate.iloc[1][0], retention_rate.iloc[1][1]) for x in x] \n",
    "\n",
    "plt.plot(x, control)\n",
    "plt.plot(x, test)\n",
    "plt.legend(['control', 'test']);"
   ]
  },
  {
   "cell_type": "code",
   "execution_count": 24,
   "id": "a048a711",
   "metadata": {},
   "outputs": [],
   "source": [
    "# test for retention_7\n",
    "ctrl_ret7 = ab_test[ab_test.version == 'A']['retention_7']\n",
    "test_ret7 = ab_test[ab_test.version == 'B']['retention_7']\n"
   ]
  },
  {
   "cell_type": "code",
   "execution_count": 25,
   "id": "55cb8643",
   "metadata": {},
   "outputs": [],
   "source": [
    "count_ctrl_7 = ctrl_ret7.count()\n",
    "count_test_7 = test_ret7.count()\n",
    "\n",
    "retention_7 = [ctrl_ret7.sum(), test_ret7.sum()]\n",
    "\n",
    "observations_7 = [count_ctrl_7, count_test_7]\n",
    "\n",
    "z_score_7, p_value_7 = proportions_ztest(retention_7, observations_7)\n",
    "\n",
    "# confidence intervals\n",
    "\n",
    "(ctrl_ret7_a, test_ret7_a),(ctrl_ret7_b, test_ret7_b) = proportion_confint(retention_7, nobs=observations_7, alpha=0.05)"
   ]
  },
  {
   "cell_type": "code",
   "execution_count": 26,
   "id": "bef493c2",
   "metadata": {},
   "outputs": [
    {
     "name": "stdout",
     "output_type": "stream",
     "text": [
      "z-score: 1.69\n",
      "p-valor: 0.091\n",
      "Confidence Interval of 95% for control group: [0.187, 0.194]\n",
      "Confidence Interval of 95% for test group: [0.179, 0.186]\n"
     ]
    }
   ],
   "source": [
    "print(f'z-score: {z_score:.2f}')\n",
    "print(f'p-valor: {p_value:.3f}')\n",
    "print(f'Confidence Interval of 95% for control group: [{ctrl_ret7_a:.3f}, {ctrl_ret7_b:.3f}]')\n",
    "print(f'Confidence Interval of 95% for test group: [{test_ret7_a:.3f}, {test_ret7_b:.3f}]')"
   ]
  },
  {
   "cell_type": "code",
   "execution_count": 29,
   "id": "918069bf",
   "metadata": {},
   "outputs": [
    {
     "data": {
      "text/plain": [
       "(version\n",
       " A    0.190201\n",
       " B    0.182438\n",
       " Name: retention_7, dtype: float64,\n",
       " version\n",
       " A    0.392464\n",
       " B    0.386210\n",
       " Name: retention_7, dtype: float64)"
      ]
     },
     "execution_count": 29,
     "metadata": {},
     "output_type": "execute_result"
    }
   ],
   "source": [
    "ab_test.groupby('version').retention_7.mean(), ab_test.groupby('version').retention_7.std()"
   ]
  },
  {
   "cell_type": "code",
   "execution_count": 33,
   "id": "8bbd1bc0",
   "metadata": {},
   "outputs": [
    {
     "data": {
      "image/png": "[encoded data removed]",
      "text/plain": [
       "<Figure size 432x288 with 1 Axes>"
      ]
     },
     "metadata": {
      "needs_background": "light"
     },
     "output_type": "display_data"
    }
   ],
   "source": [
    "retention_rate_7=ab_test.groupby('version')['retention_7']\n",
    "\n",
    "std=lambda x: np.std(x, ddof=0)                # std\n",
    "error_std= lambda x: sem(x, ddof=0)            # error estandar (std / sqrt(n))\n",
    "\n",
    "retention_rate_7 = retention_rate_7.agg([np.mean, std, error_std])\n",
    "retention_rate_7.columns = ['conversion_rate', 'std_deviation', 'std_error']\n",
    "\n",
    "\n",
    "retention_rate_7.style.format('{:.3f}')\n",
    "\n",
    "x=[i*.1 for i in range(-10, 15)]  \n",
    "\n",
    "control_7=[norm.pdf(x, retention_rate_7.iloc[0][0], retention_rate_7.iloc[0][1]) for x in x] \n",
    "\n",
    "test_7=[norm.pdf(x, retention_rate_7.iloc[1][0], retention_rate_7.iloc[1][1]) for x in x] \n",
    "\n",
    "plt.plot(x, control_7)\n",
    "plt.plot(x, test_7)\n",
    "plt.legend(['control', 'test']);"
   ]
  },
  {
   "cell_type": "markdown",
   "id": "e01a1dc4",
   "metadata": {},
   "source": [
    "## Conclusions\n",
    "\n"
   ]
  },
  {
   "cell_type": "markdown",
   "id": "39abbc54",
   "metadata": {},
   "source": [
    "    With this results we can say some thinks:\n",
    "        \n",
    "     - For retention 1 day we don´t find significantly differences, the retention rate are similar in both cases but little lower for gate 40\n",
    "     - For retention 7 days with a 95% of confidence interval we can drop the H0 hipothesis and says that the gate 40 option is working a little better than the gate 30 option."
   ]
  },
  {
   "cell_type": "code",
   "execution_count": null,
   "id": "6e9c5a6e",
   "metadata": {},
   "outputs": [],
   "source": []
  }
 ],
 "metadata": {
  "finalized": {
   "timestamp": 1642857010293,
   "trusted": true
  },
  "kernelspec": {
   "display_name": "IronHack",
   "language": "python",
   "name": "ironhack"
  },
  "language_info": {
   "codemirror_mode": {
    "name": "ipython",
    "version": 3
   },
   "file_extension": ".py",
   "mimetype": "text/x-python",
   "name": "python",
   "nbconvert_exporter": "python",
   "pygments_lexer": "ipython3",
   "version": "3.9.12"
  },
  "toc": {
   "base_numbering": 1,
   "nav_menu": {},
   "number_sections": true,
   "sideBar": true,
   "skip_h1_title": false,
   "title_cell": "Table of Contents",
   "title_sidebar": "Contents",
   "toc_cell": true,
   "toc_position": {},
   "toc_section_display": true,
   "toc_window_display": false
  },
  "varInspector": {
   "cols": {
    "lenName": 16,
    "lenType": 16,
    "lenVar": 40
   },
   "kernels_config": {
    "python": {
     "delete_cmd_postfix": "",
     "delete_cmd_prefix": "del ",
     "library": "var_list.py",
     "varRefreshCmd": "print(var_dic_list())"
    },
    "r": {
     "delete_cmd_postfix": ") ",
     "delete_cmd_prefix": "rm(",
     "library": "var_list.r",
     "varRefreshCmd": "cat(var_dic_list()) "
    }
   },
   "types_to_exclude": [
    "module",
    "function",
    "builtin_function_or_method",
    "instance",
    "_Feature"
   ],
   "window_display": false
  }
 },
 "nbformat": 4,
 "nbformat_minor": 5
}
