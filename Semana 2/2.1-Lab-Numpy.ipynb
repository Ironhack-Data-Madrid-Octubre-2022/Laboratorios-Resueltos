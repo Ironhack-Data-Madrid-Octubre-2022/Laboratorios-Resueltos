{
 "cells": [
  {
   "cell_type": "code",
   "execution_count": 1,
   "id": "9b868a48",
   "metadata": {},
   "outputs": [],
   "source": [
    "#1. Import the NUMPY package under the name np.\n",
    "import numpy as np"
   ]
  },
  {
   "cell_type": "code",
   "execution_count": 2,
   "id": "8f9a64c8",
   "metadata": {},
   "outputs": [
    {
     "name": "stdout",
     "output_type": "stream",
     "text": [
      "1.21.5\n",
      "blas_mkl_info:\n",
      "    libraries = ['mkl_rt']\n",
      "    library_dirs = ['C:/Users/tomas/anaconda3\\\\Library\\\\lib']\n",
      "    define_macros = [('SCIPY_MKL_H', None), ('HAVE_CBLAS', None)]\n",
      "    include_dirs = ['C:/Users/tomas/anaconda3\\\\Library\\\\include']\n",
      "blas_opt_info:\n",
      "    libraries = ['mkl_rt']\n",
      "    library_dirs = ['C:/Users/tomas/anaconda3\\\\Library\\\\lib']\n",
      "    define_macros = [('SCIPY_MKL_H', None), ('HAVE_CBLAS', None)]\n",
      "    include_dirs = ['C:/Users/tomas/anaconda3\\\\Library\\\\include']\n",
      "lapack_mkl_info:\n",
      "    libraries = ['mkl_rt']\n",
      "    library_dirs = ['C:/Users/tomas/anaconda3\\\\Library\\\\lib']\n",
      "    define_macros = [('SCIPY_MKL_H', None), ('HAVE_CBLAS', None)]\n",
      "    include_dirs = ['C:/Users/tomas/anaconda3\\\\Library\\\\include']\n",
      "lapack_opt_info:\n",
      "    libraries = ['mkl_rt']\n",
      "    library_dirs = ['C:/Users/tomas/anaconda3\\\\Library\\\\lib']\n",
      "    define_macros = [('SCIPY_MKL_H', None), ('HAVE_CBLAS', None)]\n",
      "    include_dirs = ['C:/Users/tomas/anaconda3\\\\Library\\\\include']\n",
      "Supported SIMD extensions in this NumPy install:\n",
      "    baseline = SSE,SSE2,SSE3\n",
      "    found = SSSE3,SSE41,POPCNT,SSE42,AVX,F16C,FMA3,AVX2\n",
      "    not found = AVX512F,AVX512CD,AVX512_SKX,AVX512_CLX,AVX512_CNL\n",
      "None\n"
     ]
    }
   ],
   "source": [
    "#2. Print the NUMPY version and the configuration.\n",
    "print(np.__version__)\n",
    "print(np.show_config())\n"
   ]
  },
  {
   "cell_type": "code",
   "execution_count": 3,
   "id": "efe2e2a5",
   "metadata": {},
   "outputs": [],
   "source": [
    "#3. Generate a 2x3x5 3-dimensional array with random values. Assign the array to variable \"a\"\n",
    "# Challenge: there are at least three easy ways that use numpy to generate random arrays. How many ways can you find?\n",
    "\n",
    "a = np.random.random((2,3,5))\n",
    "\n",
    "#np.random.rand(2,3,5) --> segunda forma\n",
    "#np.random.random_sample((2,3,5)) --> tercera forma"
   ]
  },
  {
   "cell_type": "code",
   "execution_count": 4,
   "id": "956d0154",
   "metadata": {},
   "outputs": [
    {
     "name": "stdout",
     "output_type": "stream",
     "text": [
      "Array a\n",
      "[[[0.587681   0.80677028 0.39080401 0.96088918 0.44157725]\n",
      "  [0.19909141 0.37752436 0.95344186 0.58556155 0.16211123]\n",
      "  [0.22092907 0.9367815  0.84420051 0.6641228  0.30988498]]\n",
      "\n",
      " [[0.97817235 0.41417727 0.27198213 0.83710788 0.14893243]\n",
      "  [0.85613217 0.49850991 0.31626021 0.09826318 0.02345857]\n",
      "  [0.3973168  0.09405959 0.96625316 0.01957828 0.99797748]]]\n"
     ]
    }
   ],
   "source": [
    "#4. Print a.\n",
    "print(\"Array a\")\n",
    "print (a)"
   ]
  },
  {
   "cell_type": "code",
   "execution_count": 5,
   "id": "cdf529e9",
   "metadata": {},
   "outputs": [],
   "source": [
    "#5. Create a 5x2x3 3-dimensional array with all values equaling 1.\n",
    "#Assign the array to variable \"b\" \n",
    "b = np.ones((5,2,3))"
   ]
  },
  {
   "cell_type": "code",
   "execution_count": 6,
   "id": "474d8897",
   "metadata": {},
   "outputs": [
    {
     "name": "stdout",
     "output_type": "stream",
     "text": [
      "Array b\n",
      "[[[1. 1. 1.]\n",
      "  [1. 1. 1.]]\n",
      "\n",
      " [[1. 1. 1.]\n",
      "  [1. 1. 1.]]\n",
      "\n",
      " [[1. 1. 1.]\n",
      "  [1. 1. 1.]]\n",
      "\n",
      " [[1. 1. 1.]\n",
      "  [1. 1. 1.]]\n",
      "\n",
      " [[1. 1. 1.]\n",
      "  [1. 1. 1.]]]\n"
     ]
    }
   ],
   "source": [
    "#6. Print b.\n",
    "print(\"Array b\")\n",
    "print(b)"
   ]
  },
  {
   "cell_type": "code",
   "execution_count": 7,
   "id": "4efea5b2",
   "metadata": {},
   "outputs": [
    {
     "name": "stdout",
     "output_type": "stream",
     "text": [
      "True\n",
      "30\n"
     ]
    }
   ],
   "source": [
    "#7. Do a and b have the same size? How do you prove that in Python code?\n",
    "\n",
    "print(a.size == b.size)\n",
    "print(a.size)\n",
    "#Ambos tienen 30"
   ]
  },
  {
   "cell_type": "code",
   "execution_count": 8,
   "id": "f7647c6e",
   "metadata": {},
   "outputs": [
    {
     "data": {
      "text/plain": [
       "'np.add(a,b)'"
      ]
     },
     "execution_count": 8,
     "metadata": {},
     "output_type": "execute_result"
    }
   ],
   "source": [
    "#8. Are you able to add a and b? Why or why not?\n",
    "\n",
    "\"\"\"np.add(a,b)\"\"\" #Comment the line to let the rest of the code run\n",
    "#It raises this error: ValueError: operands could not be broadcast together with shapes (2,3,5) (5,2,3) \n",
    "#We can't add them because they don't have the same shape(number of columns and number of rows) even if they have the same size(amount of data)\n"
   ]
  },
  {
   "cell_type": "code",
   "execution_count": 9,
   "id": "137184b2",
   "metadata": {},
   "outputs": [
    {
     "name": "stdout",
     "output_type": "stream",
     "text": [
      "Array b tras np.transpose\n",
      "[[[1. 1. 1. 1. 1.]\n",
      "  [1. 1. 1. 1. 1.]\n",
      "  [1. 1. 1. 1. 1.]]\n",
      "\n",
      " [[1. 1. 1. 1. 1.]\n",
      "  [1. 1. 1. 1. 1.]\n",
      "  [1. 1. 1. 1. 1.]]]\n"
     ]
    }
   ],
   "source": [
    "#9. Transpose b so that it has the same structure of a (i.e. become a 2x3x5 array). Assign the transposed array to varialbe \"c\".\n",
    "\n",
    "c = b.transpose(1,2,0) #This swaps the rows and columns of the matrix\n",
    "                        # In the argument we specify in wich order the axes are permuted\n",
    "print(\"Array b tras np.transpose\")\n",
    "print(c)"
   ]
  },
  {
   "cell_type": "code",
   "execution_count": 10,
   "id": "72c462cd",
   "metadata": {},
   "outputs": [
    {
     "data": {
      "text/plain": [
       "array([[[1.587681  , 1.80677028, 1.39080401, 1.96088918, 1.44157725],\n",
       "        [1.19909141, 1.37752436, 1.95344186, 1.58556155, 1.16211123],\n",
       "        [1.22092907, 1.9367815 , 1.84420051, 1.6641228 , 1.30988498]],\n",
       "\n",
       "       [[1.97817235, 1.41417727, 1.27198213, 1.83710788, 1.14893243],\n",
       "        [1.85613217, 1.49850991, 1.31626021, 1.09826318, 1.02345857],\n",
       "        [1.3973168 , 1.09405959, 1.96625316, 1.01957828, 1.99797748]]])"
      ]
     },
     "execution_count": 10,
     "metadata": {},
     "output_type": "execute_result"
    }
   ],
   "source": [
    "#10. Try to add a and c. Now it should work. Assign the sum to varialbe \"d\". But why does it work now?\n",
    "d = np.add(c,a)\n",
    "d"
   ]
  },
  {
   "cell_type": "code",
   "execution_count": 11,
   "id": "1ce8913b",
   "metadata": {},
   "outputs": [
    {
     "name": "stdout",
     "output_type": "stream",
     "text": [
      "[[[1.587681   1.80677028 1.39080401 1.96088918 1.44157725]\n",
      "  [1.19909141 1.37752436 1.95344186 1.58556155 1.16211123]\n",
      "  [1.22092907 1.9367815  1.84420051 1.6641228  1.30988498]]\n",
      "\n",
      " [[1.97817235 1.41417727 1.27198213 1.83710788 1.14893243]\n",
      "  [1.85613217 1.49850991 1.31626021 1.09826318 1.02345857]\n",
      "  [1.3973168  1.09405959 1.96625316 1.01957828 1.99797748]]]\n"
     ]
    }
   ],
   "source": [
    "#11. Print a and d. Notice the difference and relation of the two array in terms of the values? Explain.\n",
    "#When we transpose the \"b\" matrix to build \"c\" we end up with two matrix with the same shape. That's why we are able to sum them now.\n",
    "\n",
    "#It will also work if we use the *.reshape() method, but be careful because this method doesn't change the order of the axis but reorders the values to fit the given shape.\n",
    "\n",
    "print(d)"
   ]
  },
  {
   "cell_type": "code",
   "execution_count": 12,
   "id": "887574a8",
   "metadata": {},
   "outputs": [
    {
     "name": "stdout",
     "output_type": "stream",
     "text": [
      "Imprimo a * c\n",
      "[[[0.587681   0.80677028 0.39080401 0.96088918 0.44157725]\n",
      "  [0.19909141 0.37752436 0.95344186 0.58556155 0.16211123]\n",
      "  [0.22092907 0.9367815  0.84420051 0.6641228  0.30988498]]\n",
      "\n",
      " [[0.97817235 0.41417727 0.27198213 0.83710788 0.14893243]\n",
      "  [0.85613217 0.49850991 0.31626021 0.09826318 0.02345857]\n",
      "  [0.3973168  0.09405959 0.96625316 0.01957828 0.99797748]]]\n"
     ]
    }
   ],
   "source": [
    "#12. Multiply a and c. Assign the result to e.\n",
    "e = a * c\n",
    "print(\"Imprimo a * c\")\n",
    "print(e)"
   ]
  },
  {
   "cell_type": "code",
   "execution_count": 13,
   "id": "8363e02e",
   "metadata": {},
   "outputs": [
    {
     "name": "stdout",
     "output_type": "stream",
     "text": [
      "[[[ True  True  True  True  True]\n",
      "  [ True  True  True  True  True]\n",
      "  [ True  True  True  True  True]]\n",
      "\n",
      " [[ True  True  True  True  True]\n",
      "  [ True  True  True  True  True]\n",
      "  [ True  True  True  True  True]]]\n"
     ]
    }
   ],
   "source": [
    "#13. Does e equal to a? Why or why not?\n",
    "print(e == a)"
   ]
  },
  {
   "cell_type": "code",
   "execution_count": 14,
   "id": "447ca2f7",
   "metadata": {},
   "outputs": [
    {
     "name": "stdout",
     "output_type": "stream",
     "text": [
      "Máximo 1.997977484723776, mínimo 1.0195782794027253, media 1.511985080188174\n"
     ]
    }
   ],
   "source": [
    "#14. Identify the max, min, and mean values in d. Assign those values to variables \"d_max\", \"d_min\", and \"d_mean\"\n",
    "\n",
    "d_max = d.max()\n",
    "d_min = d.min()\n",
    "d_mean = d.mean()\n",
    "print(f\"Máximo {d_max}, mínimo {d_min}, media {d_mean}\")"
   ]
  },
  {
   "cell_type": "code",
   "execution_count": 15,
   "id": "bfbf76c9",
   "metadata": {},
   "outputs": [
    {
     "name": "stdout",
     "output_type": "stream",
     "text": [
      "[[[0.587681   0.80677028 0.39080401 0.96088918 0.44157725]\n",
      "  [0.19909141 0.37752436 0.95344186 0.58556155 0.16211123]\n",
      "  [0.22092907 0.9367815  0.84420051 0.6641228  0.30988498]]\n",
      "\n",
      " [[0.97817235 0.41417727 0.27198213 0.83710788 0.14893243]\n",
      "  [0.85613217 0.49850991 0.31626021 0.09826318 0.02345857]\n",
      "  [0.3973168  0.09405959 0.96625316 0.01957828 0.99797748]]]\n"
     ]
    }
   ],
   "source": [
    "#15. Now we want to label the values in d. First create an empty array \"f\" with the same shape (i.e. 2x3x5) as d using `np.empty`.\n",
    "f = np.empty ((2,3,5))\n",
    "print(f)\n",
    "\n",
    "        #Remember that np.empty() returns an array of uninitialized (arbitrary) data of the given shape, dtype, and order.\n",
    "        #not a matrix filled with zeros. For that we'll use np.zeros()"
   ]
  },
  {
   "cell_type": "code",
   "execution_count": 16,
   "id": "760788b6",
   "metadata": {},
   "outputs": [
    {
     "data": {
      "text/plain": [
       "array([[[ 75.,  75.,  25.,  75.,  25.],\n",
       "        [ 25.,  25.,  75.,  75.,  25.],\n",
       "        [ 25.,  75.,  75.,  75.,  25.]],\n",
       "\n",
       "       [[ 75.,  25.,  25.,  75.,  25.],\n",
       "        [ 75.,  25.,  25.,  25.,  25.],\n",
       "        [ 25.,  25.,  75.,   0., 100.]]])"
      ]
     },
     "execution_count": 16,
     "metadata": {},
     "output_type": "execute_result"
    }
   ],
   "source": [
    "\"\"\"\n",
    "#16. Populate the values in f. For each value in d, if it's larger than d_min but smaller than d_mean, assign 25 to the corresponding value in f.\n",
    "If a value in d is larger than d_mean but smaller than d_max, assign 75 to the corresponding value in f.\n",
    "If a value equals to d_mean, assign 50 to the corresponding value in f.\n",
    "Assign 0 to the corresponding value(s) in f for d_min in d.\n",
    "Assign 100 to the corresponding value(s) in f for d_max in d.\n",
    "In the end, f should have only the following values: 0, 25, 50, 75, and 100.\n",
    "Note: you don't have to use Numpy in this question.\n",
    "\"\"\"\n",
    "\n",
    "for a in range(f.shape[0]):\n",
    "        for b in range(f.shape[1]):#iterate through the length of axis 1\n",
    "                for c in range (f.shape[2]):#iterate through the length of axis 2\n",
    "                        if  d_min < d[a][b][c] < d_mean:\n",
    "                                f[a][b][c] = 25\n",
    "                        elif d_mean < d[a][b][c] < d_max:\n",
    "                                f[a][b][c] = 75\n",
    "                        elif d[a][b][c] == d_mean:\n",
    "                                f[a][b][c] = 50\n",
    "                        elif d[a][b][c] == d_min:\n",
    "                                f[a][b][c] = 0\n",
    "                        elif d[a][b][c] == d_max:\n",
    "                                f[a][b][c] = 100\n",
    "f"
   ]
  },
  {
   "cell_type": "code",
   "execution_count": 17,
   "id": "ca8b0854",
   "metadata": {},
   "outputs": [
    {
     "name": "stdout",
     "output_type": "stream",
     "text": [
      "[[[ 75.  75.  25.  75.  25.]\n",
      "  [ 25.  25.  75.  75.  25.]\n",
      "  [ 25.  75.  75.  75.  25.]]\n",
      "\n",
      " [[ 75.  25.  25.  75.  25.]\n",
      "  [ 75.  25.  25.  25.  25.]\n",
      "  [ 25.  25.  75.   0. 100.]]]\n",
      "My d -------------------------------------------------------------------------------------\n",
      "[[[1.587681   1.80677028 1.39080401 1.96088918 1.44157725]\n",
      "  [1.19909141 1.37752436 1.95344186 1.58556155 1.16211123]\n",
      "  [1.22092907 1.9367815  1.84420051 1.6641228  1.30988498]]\n",
      "\n",
      " [[1.97817235 1.41417727 1.27198213 1.83710788 1.14893243]\n",
      "  [1.85613217 1.49850991 1.31626021 1.09826318 1.02345857]\n",
      "  [1.3973168  1.09405959 1.96625316 1.01957828 1.99797748]]]\n",
      "My f -------------------------------------------------------------------------------------\n",
      "[[[ 75.  75.  25.  75.  25.]\n",
      "  [ 25.  25.  75.  75.  25.]\n",
      "  [ 25.  75.  75.  75.  25.]]\n",
      "\n",
      " [[ 75.  25.  25.  75.  25.]\n",
      "  [ 75.  25.  25.  25.  25.]\n",
      "  [ 25.  25.  75.   0. 100.]]]\n"
     ]
    }
   ],
   "source": [
    "print(f)\n",
    "\"\"\"\n",
    "#17. Print d and f. Do you have your expected f?\n",
    "For instance, if your d is:\n",
    "array([[[1.85836099, 1.67064465, 1.62576044, 1.40243961, 1.88454931],\n",
    "        [1.75354326, 1.69403643, 1.36729252, 1.61415071, 1.12104981],\n",
    "        [1.72201435, 1.1862918 , 1.87078449, 1.7726778 , 1.88180042]],\n",
    "       [[1.44747908, 1.31673383, 1.02000951, 1.52218947, 1.97066381],\n",
    "        [1.79129243, 1.74983003, 1.96028037, 1.85166831, 1.65450881],\n",
    "        [1.18068344, 1.9587381 , 1.00656599, 1.93402165, 1.73514584]]])\n",
    "Your f should be:\n",
    "array([[[ 75.,  75.,  75.,  25.,  75.],\n",
    "        [ 75.,  75.,  25.,  25.,  25.],\n",
    "        [ 75.,  25.,  75.,  75.,  75.]],\n",
    "       [[ 25.,  25.,  25.,  25., 100.],\n",
    "        [ 75.,  75.,  75.,  75.,  75.],\n",
    "        [ 25.,  75.,   0.,  75.,  75.]]])\n",
    "\"\"\"\n",
    "print(\"My d -------------------------------------------------------------------------------------\")\n",
    "print(d)\n",
    "\n",
    "print(\"My f -------------------------------------------------------------------------------------\")\n",
    "print(f)"
   ]
  },
  {
   "cell_type": "code",
   "execution_count": 18,
   "id": "3f4fe3af",
   "metadata": {},
   "outputs": [
    {
     "name": "stdout",
     "output_type": "stream",
     "text": [
      "[[['D' 'D' 'B' 'D' 'B']\n",
      "  ['B' 'B' 'D' 'D' 'B']\n",
      "  ['B' 'D' 'D' 'D' 'B']]\n",
      "\n",
      " [['D' 'B' 'B' 'D' 'B']\n",
      "  ['D' 'B' 'B' 'B' 'B']\n",
      "  ['B' 'B' 'D' 'A' 'E']]]\n"
     ]
    }
   ],
   "source": [
    "\"\"\"\n",
    "#18. Bonus question: instead of using numbers (i.e. 0, 25, 50, 75, and 100), how to use string values \n",
    "(\"A\", \"B\", \"C\", \"D\", and \"E\") to label the array elements? You are expecting the result to be:\n",
    "array([[[ 'D',  'D',  'D',  'B',  'D'],\n",
    "        [ 'D',  'D',  'B',  'B',  'B'],\n",
    "        [ 'D',  'B',  'D',  'D',  'D']],\n",
    "       [[ 'B',  'B',  'B',  'B',  'E'],\n",
    "        [ 'D',  'D',  'D',  'D',  'D'],\n",
    "        [ 'B',  'D',   'A',  'D', 'D']]])\n",
    "Again, you don't need Numpy in this question.\n",
    "# \"\"\"\n",
    "f = f.astype('str')\n",
    "for a in range (f.shape[0]):\n",
    "        for b in range (f.shape[1]):\n",
    "                for c in range (f.shape[2]):\n",
    "                        if  d_mean < d[a][b][c] < d_max:\n",
    "                                f[a][b][c] = 'D'\n",
    "                        elif d_min < d[a][b][c] < d_mean:\n",
    "                                f[a][b][c] = 'B'\n",
    "                        elif d[a][b][c] == d_mean:\n",
    "                                f[a][b][c] = 'C'\n",
    "                        elif d[a][b][c] == d_min:\n",
    "                                f[a][b][c] = 'A'\n",
    "                        elif d[a][b][c] == d_max:\n",
    "                                f[a][b][c] = 'E'\n",
    "\n",
    "print(f)"
   ]
  }
 ],
 "metadata": {
  "kernelspec": {
   "display_name": "Python 3 (ipykernel)",
   "language": "python",
   "name": "python3"
  },
  "language_info": {
   "codemirror_mode": {
    "name": "ipython",
    "version": 3
   },
   "file_extension": ".py",
   "mimetype": "text/x-python",
   "name": "python",
   "nbconvert_exporter": "python",
   "pygments_lexer": "ipython3",
   "version": "3.9.12"
  }
 },
 "nbformat": 4,
 "nbformat_minor": 5
}
