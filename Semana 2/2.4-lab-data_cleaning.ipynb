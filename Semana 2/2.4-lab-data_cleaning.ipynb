{
 "cells": [
  {
   "cell_type": "code",
   "execution_count": 1,
   "metadata": {
    "pycharm": {
     "name": "#%%\n"
    }
   },
   "outputs": [],
   "source": [
    "import numpy as np\n",
    "import pandas as pd"
   ]
  },
  {
   "cell_type": "code",
   "execution_count": 2,
   "metadata": {
    "pycharm": {
     "name": "#%%\n"
    }
   },
   "outputs": [
    {
     "name": "stderr",
     "output_type": "stream",
     "text": [
      "/var/folders/y_/_52qkxrx2mzfn2jljd0q7gy00000gn/T/ipykernel_8381/3473568431.py:3: DtypeWarning: Columns (70,71,72,73,74,76,79) have mixed types. Specify dtype option on import or set low_memory=False.\n",
      "  data = pd.read_csv('../data/vehicles_messy.csv')\n"
     ]
    }
   ],
   "source": [
    "#Load data from vehicles_messy.csv\n",
    "\n",
    "data = pd.read_csv('../data/vehicles_messy.csv')\n",
    "\n",
    "# Lanza un warning porque en determinadas columnas no ha podido inferir el tipo de dato.\n",
    "# Como no lo conozco de antemano, sigo adelante."
   ]
  },
  {
   "cell_type": "markdown",
   "metadata": {
    "pycharm": {
     "name": "#%% md\n"
    }
   },
   "source": [
    "# Examining Data for Potential Issues\n",
    "\n",
    "One of the first things we want to do is examine the data and look for any **potential issues**. Some of the things we are interested in identifying in the data at this stage include:\n",
    "\n",
    "- Missing values\n",
    "- Special characters\n",
    "- Incorrect values\n",
    "- Extreme values or outliers\n",
    "- Duplicate records\n",
    "- Incorrect data types\n",
    "\n",
    "The presence of these may cause problems when it's time to analyze the data, so we want to make sure we address them beforehand. We can start by visually inspecting the data using the `.head` method, which will show us the first 5 rows of data. "
   ]
  },
  {
   "cell_type": "code",
   "execution_count": 3,
   "metadata": {
    "pycharm": {
     "name": "#%%\n"
    }
   },
   "outputs": [
    {
     "data": {
      "text/plain": "   barrels08  barrelsA08  charge120  charge240  city08  city08U  cityA08  \\\n0  15.695714         0.0        0.0        0.0      19      0.0        0   \n1  29.964545         0.0        0.0        0.0       9      0.0        0   \n2  12.207778         0.0        0.0        0.0      23      0.0        0   \n3  29.964545         0.0        0.0        0.0      10      0.0        0   \n4  17.347895         0.0        0.0        0.0      17      0.0        0   \n\n   cityA08U  cityCD  cityE  ...  mfrCode  c240Dscr  charge240b  c240bDscr  \\\n0       0.0     0.0    0.0  ...      NaN       NaN         0.0        NaN   \n1       0.0     0.0    0.0  ...      NaN       NaN         0.0        NaN   \n2       0.0     0.0    0.0  ...      NaN       NaN         0.0        NaN   \n3       0.0     0.0    0.0  ...      NaN       NaN         0.0        NaN   \n4       0.0     0.0    0.0  ...      NaN       NaN         0.0        NaN   \n\n                      createdOn                    modifiedOn  startStop  \\\n0  Tue Jan 01 00:00:00 EST 2013  Tue Jan 01 00:00:00 EST 2013        NaN   \n1  Tue Jan 01 00:00:00 EST 2013  Tue Jan 01 00:00:00 EST 2013        NaN   \n2  Tue Jan 01 00:00:00 EST 2013  Tue Jan 01 00:00:00 EST 2013        NaN   \n3  Tue Jan 01 00:00:00 EST 2013  Tue Jan 01 00:00:00 EST 2013        NaN   \n4  Tue Jan 01 00:00:00 EST 2013  Tue Jan 01 00:00:00 EST 2013        NaN   \n\n   phevCity  phevHwy  phevComb  \n0         0        0         0  \n1         0        0         0  \n2         0        0         0  \n3         0        0         0  \n4         0        0         0  \n\n[5 rows x 83 columns]",
      "text/html": "<div>\n<style scoped>\n    .dataframe tbody tr th:only-of-type {\n        vertical-align: middle;\n    }\n\n    .dataframe tbody tr th {\n        vertical-align: top;\n    }\n\n    .dataframe thead th {\n        text-align: right;\n    }\n</style>\n<table border=\"1\" class=\"dataframe\">\n  <thead>\n    <tr style=\"text-align: right;\">\n      <th></th>\n      <th>barrels08</th>\n      <th>barrelsA08</th>\n      <th>charge120</th>\n      <th>charge240</th>\n      <th>city08</th>\n      <th>city08U</th>\n      <th>cityA08</th>\n      <th>cityA08U</th>\n      <th>cityCD</th>\n      <th>cityE</th>\n      <th>...</th>\n      <th>mfrCode</th>\n      <th>c240Dscr</th>\n      <th>charge240b</th>\n      <th>c240bDscr</th>\n      <th>createdOn</th>\n      <th>modifiedOn</th>\n      <th>startStop</th>\n      <th>phevCity</th>\n      <th>phevHwy</th>\n      <th>phevComb</th>\n    </tr>\n  </thead>\n  <tbody>\n    <tr>\n      <th>0</th>\n      <td>15.695714</td>\n      <td>0.0</td>\n      <td>0.0</td>\n      <td>0.0</td>\n      <td>19</td>\n      <td>0.0</td>\n      <td>0</td>\n      <td>0.0</td>\n      <td>0.0</td>\n      <td>0.0</td>\n      <td>...</td>\n      <td>NaN</td>\n      <td>NaN</td>\n      <td>0.0</td>\n      <td>NaN</td>\n      <td>Tue Jan 01 00:00:00 EST 2013</td>\n      <td>Tue Jan 01 00:00:00 EST 2013</td>\n      <td>NaN</td>\n      <td>0</td>\n      <td>0</td>\n      <td>0</td>\n    </tr>\n    <tr>\n      <th>1</th>\n      <td>29.964545</td>\n      <td>0.0</td>\n      <td>0.0</td>\n      <td>0.0</td>\n      <td>9</td>\n      <td>0.0</td>\n      <td>0</td>\n      <td>0.0</td>\n      <td>0.0</td>\n      <td>0.0</td>\n      <td>...</td>\n      <td>NaN</td>\n      <td>NaN</td>\n      <td>0.0</td>\n      <td>NaN</td>\n      <td>Tue Jan 01 00:00:00 EST 2013</td>\n      <td>Tue Jan 01 00:00:00 EST 2013</td>\n      <td>NaN</td>\n      <td>0</td>\n      <td>0</td>\n      <td>0</td>\n    </tr>\n    <tr>\n      <th>2</th>\n      <td>12.207778</td>\n      <td>0.0</td>\n      <td>0.0</td>\n      <td>0.0</td>\n      <td>23</td>\n      <td>0.0</td>\n      <td>0</td>\n      <td>0.0</td>\n      <td>0.0</td>\n      <td>0.0</td>\n      <td>...</td>\n      <td>NaN</td>\n      <td>NaN</td>\n      <td>0.0</td>\n      <td>NaN</td>\n      <td>Tue Jan 01 00:00:00 EST 2013</td>\n      <td>Tue Jan 01 00:00:00 EST 2013</td>\n      <td>NaN</td>\n      <td>0</td>\n      <td>0</td>\n      <td>0</td>\n    </tr>\n    <tr>\n      <th>3</th>\n      <td>29.964545</td>\n      <td>0.0</td>\n      <td>0.0</td>\n      <td>0.0</td>\n      <td>10</td>\n      <td>0.0</td>\n      <td>0</td>\n      <td>0.0</td>\n      <td>0.0</td>\n      <td>0.0</td>\n      <td>...</td>\n      <td>NaN</td>\n      <td>NaN</td>\n      <td>0.0</td>\n      <td>NaN</td>\n      <td>Tue Jan 01 00:00:00 EST 2013</td>\n      <td>Tue Jan 01 00:00:00 EST 2013</td>\n      <td>NaN</td>\n      <td>0</td>\n      <td>0</td>\n      <td>0</td>\n    </tr>\n    <tr>\n      <th>4</th>\n      <td>17.347895</td>\n      <td>0.0</td>\n      <td>0.0</td>\n      <td>0.0</td>\n      <td>17</td>\n      <td>0.0</td>\n      <td>0</td>\n      <td>0.0</td>\n      <td>0.0</td>\n      <td>0.0</td>\n      <td>...</td>\n      <td>NaN</td>\n      <td>NaN</td>\n      <td>0.0</td>\n      <td>NaN</td>\n      <td>Tue Jan 01 00:00:00 EST 2013</td>\n      <td>Tue Jan 01 00:00:00 EST 2013</td>\n      <td>NaN</td>\n      <td>0</td>\n      <td>0</td>\n      <td>0</td>\n    </tr>\n  </tbody>\n</table>\n<p>5 rows × 83 columns</p>\n</div>"
     },
     "execution_count": 3,
     "metadata": {},
     "output_type": "execute_result"
    }
   ],
   "source": [
    "data.head()"
   ]
  },
  {
   "cell_type": "markdown",
   "metadata": {
    "pycharm": {
     "name": "#%% md\n"
    }
   },
   "source": [
    "But how big actually is our dataframe??? Check it with `.shape` method"
   ]
  },
  {
   "cell_type": "code",
   "execution_count": 4,
   "metadata": {
    "pycharm": {
     "name": "#%%\n"
    }
   },
   "outputs": [
    {
     "data": {
      "text/plain": "(37843, 83)"
     },
     "execution_count": 4,
     "metadata": {},
     "output_type": "execute_result"
    }
   ],
   "source": [
    "data.shape"
   ]
  },
  {
   "cell_type": "markdown",
   "metadata": {
    "pycharm": {
     "name": "#%% md\n"
    }
   },
   "source": [
    "Let's dive a little more in the content of our data set. Is there any method that shows us the **column names**, its **data types** and number of **non-null values**?"
   ]
  },
  {
   "cell_type": "code",
   "execution_count": 5,
   "metadata": {
    "pycharm": {
     "name": "#%%\n"
    }
   },
   "outputs": [
    {
     "name": "stdout",
     "output_type": "stream",
     "text": [
      "<class 'pandas.core.frame.DataFrame'>\n",
      "RangeIndex: 37843 entries, 0 to 37842\n",
      "Data columns (total 83 columns):\n",
      " #   Column           Non-Null Count  Dtype  \n",
      "---  ------           --------------  -----  \n",
      " 0   barrels08        37843 non-null  float64\n",
      " 1   barrelsA08       37843 non-null  float64\n",
      " 2   charge120        37843 non-null  float64\n",
      " 3   charge240        37843 non-null  float64\n",
      " 4   city08           37843 non-null  int64  \n",
      " 5   city08U          37843 non-null  float64\n",
      " 6   cityA08          37843 non-null  int64  \n",
      " 7   cityA08U         37843 non-null  float64\n",
      " 8   cityCD           37843 non-null  float64\n",
      " 9   cityE            37843 non-null  float64\n",
      " 10  cityUF           37843 non-null  float64\n",
      " 11  co2              37843 non-null  int64  \n",
      " 12  co2A             37843 non-null  int64  \n",
      " 13  co2TailpipeAGpm  37843 non-null  float64\n",
      " 14  co2TailpipeGpm   37843 non-null  float64\n",
      " 15  comb08           37843 non-null  int64  \n",
      " 16  comb08U          37843 non-null  float64\n",
      " 17  combA08          37843 non-null  int64  \n",
      " 18  combA08U         37843 non-null  float64\n",
      " 19  combE            37843 non-null  float64\n",
      " 20  combinedCD       37843 non-null  float64\n",
      " 21  combinedUF       37843 non-null  float64\n",
      " 22  cylinders        37720 non-null  float64\n",
      " 23  displ            37723 non-null  float64\n",
      " 24  drive            36654 non-null  object \n",
      " 25  engId            37843 non-null  int64  \n",
      " 26  eng_dscr         22440 non-null  object \n",
      " 27  feScore          37843 non-null  int64  \n",
      " 28  fuelCost08       37843 non-null  int64  \n",
      " 29  fuelCostA08      37843 non-null  int64  \n",
      " 30  fuelType         37843 non-null  object \n",
      " 31  fuelType1        37843 non-null  object \n",
      " 32  ghgScore         37843 non-null  int64  \n",
      " 33  ghgScoreA        37843 non-null  int64  \n",
      " 34  highway08        37843 non-null  int64  \n",
      " 35  highway08U       37843 non-null  float64\n",
      " 36  highwayA08       37843 non-null  int64  \n",
      " 37  highwayA08U      37843 non-null  float64\n",
      " 38  highwayCD        37843 non-null  float64\n",
      " 39  highwayE         37843 non-null  float64\n",
      " 40  highwayUF        37843 non-null  float64\n",
      " 41  hlv              37843 non-null  int64  \n",
      " 42  hpv              37843 non-null  int64  \n",
      " 43  id               37843 non-null  int64  \n",
      " 44  lv2              37843 non-null  int64  \n",
      " 45  lv4              37843 non-null  int64  \n",
      " 46  make             37843 non-null  object \n",
      " 47  model            37843 non-null  object \n",
      " 48  mpgData          37843 non-null  object \n",
      " 49  phevBlended      37843 non-null  bool   \n",
      " 50  pv2              37843 non-null  int64  \n",
      " 51  pv4              37843 non-null  int64  \n",
      " 52  range            37843 non-null  int64  \n",
      " 53  rangeCity        37843 non-null  float64\n",
      " 54  rangeCityA       37843 non-null  float64\n",
      " 55  rangeHwy         37843 non-null  float64\n",
      " 56  rangeHwyA        37843 non-null  float64\n",
      " 57  trany            37832 non-null  object \n",
      " 58  UCity            37843 non-null  float64\n",
      " 59  UCityA           37843 non-null  float64\n",
      " 60  UHighway         37843 non-null  float64\n",
      " 61  UHighwayA        37843 non-null  float64\n",
      " 62  VClass           37843 non-null  object \n",
      " 63  year             37843 non-null  int64  \n",
      " 64  youSaveSpend     37843 non-null  int64  \n",
      " 65  guzzler          2281 non-null   object \n",
      " 66  trans_dscr       15047 non-null  object \n",
      " 67  tCharger         5186 non-null   object \n",
      " 68  sCharger         666 non-null    object \n",
      " 69  atvType          3072 non-null   object \n",
      " 70  fuelType2        1408 non-null   object \n",
      " 71  rangeA           1403 non-null   object \n",
      " 72  evMotor          562 non-null    object \n",
      " 73  mfrCode          7025 non-null   object \n",
      " 74  c240Dscr         37 non-null     object \n",
      " 75  charge240b       37843 non-null  float64\n",
      " 76  c240bDscr        36 non-null     object \n",
      " 77  createdOn        37843 non-null  object \n",
      " 78  modifiedOn       37843 non-null  object \n",
      " 79  startStop        6138 non-null   object \n",
      " 80  phevCity         37843 non-null  int64  \n",
      " 81  phevHwy          37843 non-null  int64  \n",
      " 82  phevComb         37843 non-null  int64  \n",
      "dtypes: bool(1), float64(32), int64(27), object(23)\n",
      "memory usage: 23.7+ MB\n"
     ]
    }
   ],
   "source": [
    "data.info()"
   ]
  },
  {
   "cell_type": "markdown",
   "metadata": {
    "pycharm": {
     "name": "#%% md\n"
    }
   },
   "source": [
    "# Missing Values\n",
    "\n",
    "From this initial view, we can see that our data set contains some columns that have missing values in them and others that seem to have a lot of zero values. \n",
    "\n",
    "Let's see how prevalent missing values are in our data. We can use the Pandas `.isnull()` method to check whether the value in each field is missing (*null*) and return either True or False for each field. \n",
    "\n",
    "We can use the `.sum()` method to total up the number of True values by column, and then we can add a condition using square brackets that will filter the data and show us only columns where the number of null values were greater than zero. "
   ]
  },
  {
   "cell_type": "markdown",
   "metadata": {
    "pycharm": {
     "name": "#%% md\n"
    }
   },
   "source": [
    "## Show the number of null values only of the columns that actually have null values"
   ]
  },
  {
   "cell_type": "code",
   "execution_count": 6,
   "outputs": [
    {
     "data": {
      "text/plain": "cylinders       123\ndispl           120\ndrive          1189\neng_dscr      15403\ntrany            11\nguzzler       35562\ntrans_dscr    22796\ntCharger      32657\nsCharger      37177\natvType       34771\nfuelType2     36435\nrangeA        36440\nevMotor       37281\nmfrCode       30818\nc240Dscr      37806\nc240bDscr     37807\nstartStop     31705\ndtype: int64"
     },
     "execution_count": 6,
     "metadata": {},
     "output_type": "execute_result"
    }
   ],
   "source": [
    "data.isna().sum()[data.isna().sum() > 0]"
   ],
   "metadata": {
    "collapsed": false,
    "pycharm": {
     "name": "#%%\n"
    }
   }
  },
  {
   "cell_type": "markdown",
   "metadata": {
    "pycharm": {
     "name": "#%% md\n"
    }
   },
   "source": [
    "We can see that some columns have relatively few null values while others have tens of thousands of nulls. For fields that have a lot of null values, you will often have to make a judgement call. If you don't think the information is going to be very useful to your analysis, then you would remove those columns from your data frame. "
   ]
  },
  {
   "cell_type": "markdown",
   "metadata": {
    "pycharm": {
     "name": "#%% md\n"
    }
   },
   "source": [
    "## Remove the columns that have more than 10,000 null values in them"
   ]
  },
  {
   "cell_type": "markdown",
   "metadata": {
    "pycharm": {
     "name": "#%% md\n"
    }
   },
   "source": [
    "In Pandas, we can do that using the drop method. For our purposes, let's remove the columns that have more than 10,000 null values in them. We will add these column names to a list, and then we will pass those columns to the drop method and indicate that we want columns (not rows) dropped by setting the axis parameter to 1. "
   ]
  },
  {
   "cell_type": "code",
   "execution_count": 7,
   "metadata": {
    "pycharm": {
     "name": "#%%\n"
    }
   },
   "outputs": [],
   "source": [
    "cols_to_drop = data.columns[data.isna().sum() > 10000]"
   ]
  },
  {
   "cell_type": "code",
   "execution_count": 8,
   "outputs": [
    {
     "data": {
      "text/plain": "(83,)"
     },
     "execution_count": 8,
     "metadata": {},
     "output_type": "execute_result"
    }
   ],
   "source": [
    "data.drop(cols_to_drop, axis=1, inplace=False)  # Me devuelve una vista de lo que quito pero NO se aplica\n",
    "\n",
    "data.columns.shape"
   ],
   "metadata": {
    "collapsed": false,
    "pycharm": {
     "name": "#%%\n"
    }
   }
  },
  {
   "cell_type": "code",
   "execution_count": 9,
   "outputs": [
    {
     "data": {
      "text/plain": "(70,)"
     },
     "execution_count": 9,
     "metadata": {},
     "output_type": "execute_result"
    }
   ],
   "source": [
    "data.drop(cols_to_drop, axis=1, inplace=True)  # Aplica la transformación\n",
    "\n",
    "data.columns.shape"
   ],
   "metadata": {
    "collapsed": false,
    "pycharm": {
     "name": "#%%\n"
    }
   }
  },
  {
   "cell_type": "markdown",
   "metadata": {
    "pycharm": {
     "name": "#%% md\n"
    }
   },
   "source": [
    "This leaves us with just a handful of remaining columns that have null values. Of the columns that remain, it looks like the cylinders column and the displ column have a similar number of nulls. Perhaps they are missing for similar reasons. We can investigate this by subsetting the data set and looking at just the records where displ is null and just the columns we think will be informative in allowing us to determine a reason."
   ]
  },
  {
   "cell_type": "code",
   "execution_count": 10,
   "outputs": [
    {
     "data": {
      "text/plain": "       cylinders  displ     fuelType\n7138         NaN    NaN  Electricity\n7139         NaN    NaN  Electricity\n8143         NaN    NaN  Electricity\n8144         NaN    NaN  Electricity\n8146         NaN    NaN  Electricity\n...          ...    ...          ...\n30969        NaN    NaN  Electricity\n30972        NaN    NaN  Electricity\n30973        NaN    NaN  Electricity\n30974        NaN    NaN  Electricity\n30975        NaN    NaN  Electricity\n\n[120 rows x 3 columns]",
      "text/html": "<div>\n<style scoped>\n    .dataframe tbody tr th:only-of-type {\n        vertical-align: middle;\n    }\n\n    .dataframe tbody tr th {\n        vertical-align: top;\n    }\n\n    .dataframe thead th {\n        text-align: right;\n    }\n</style>\n<table border=\"1\" class=\"dataframe\">\n  <thead>\n    <tr style=\"text-align: right;\">\n      <th></th>\n      <th>cylinders</th>\n      <th>displ</th>\n      <th>fuelType</th>\n    </tr>\n  </thead>\n  <tbody>\n    <tr>\n      <th>7138</th>\n      <td>NaN</td>\n      <td>NaN</td>\n      <td>Electricity</td>\n    </tr>\n    <tr>\n      <th>7139</th>\n      <td>NaN</td>\n      <td>NaN</td>\n      <td>Electricity</td>\n    </tr>\n    <tr>\n      <th>8143</th>\n      <td>NaN</td>\n      <td>NaN</td>\n      <td>Electricity</td>\n    </tr>\n    <tr>\n      <th>8144</th>\n      <td>NaN</td>\n      <td>NaN</td>\n      <td>Electricity</td>\n    </tr>\n    <tr>\n      <th>8146</th>\n      <td>NaN</td>\n      <td>NaN</td>\n      <td>Electricity</td>\n    </tr>\n    <tr>\n      <th>...</th>\n      <td>...</td>\n      <td>...</td>\n      <td>...</td>\n    </tr>\n    <tr>\n      <th>30969</th>\n      <td>NaN</td>\n      <td>NaN</td>\n      <td>Electricity</td>\n    </tr>\n    <tr>\n      <th>30972</th>\n      <td>NaN</td>\n      <td>NaN</td>\n      <td>Electricity</td>\n    </tr>\n    <tr>\n      <th>30973</th>\n      <td>NaN</td>\n      <td>NaN</td>\n      <td>Electricity</td>\n    </tr>\n    <tr>\n      <th>30974</th>\n      <td>NaN</td>\n      <td>NaN</td>\n      <td>Electricity</td>\n    </tr>\n    <tr>\n      <th>30975</th>\n      <td>NaN</td>\n      <td>NaN</td>\n      <td>Electricity</td>\n    </tr>\n  </tbody>\n</table>\n<p>120 rows × 3 columns</p>\n</div>"
     },
     "execution_count": 10,
     "metadata": {},
     "output_type": "execute_result"
    }
   ],
   "source": [
    "cols_to_explore = ['cylinders', 'displ', 'fuelType']\n",
    "\n",
    "data_to_check = data[cols_to_explore][data['displ'].isnull()]\n",
    "\n",
    "data_to_check  # Observo que casi todo son vehículos eléctricos"
   ],
   "metadata": {
    "collapsed": false,
    "pycharm": {
     "name": "#%%\n"
    }
   }
  },
  {
   "cell_type": "code",
   "execution_count": 11,
   "outputs": [
    {
     "name": "stderr",
     "output_type": "stream",
     "text": [
      "/var/folders/y_/_52qkxrx2mzfn2jljd0q7gy00000gn/T/ipykernel_8381/1328104755.py:1: UserWarning: Boolean Series key will be reindexed to match DataFrame index.\n",
      "  data_to_check[data['fuelType'] != 'Electricity']  # Hay dos registros que parecen erróneos\n"
     ]
    },
    {
     "data": {
      "text/plain": "       cylinders  displ fuelType\n21413        NaN    NaN  Regular\n21414        NaN    NaN  Regular",
      "text/html": "<div>\n<style scoped>\n    .dataframe tbody tr th:only-of-type {\n        vertical-align: middle;\n    }\n\n    .dataframe tbody tr th {\n        vertical-align: top;\n    }\n\n    .dataframe thead th {\n        text-align: right;\n    }\n</style>\n<table border=\"1\" class=\"dataframe\">\n  <thead>\n    <tr style=\"text-align: right;\">\n      <th></th>\n      <th>cylinders</th>\n      <th>displ</th>\n      <th>fuelType</th>\n    </tr>\n  </thead>\n  <tbody>\n    <tr>\n      <th>21413</th>\n      <td>NaN</td>\n      <td>NaN</td>\n      <td>Regular</td>\n    </tr>\n    <tr>\n      <th>21414</th>\n      <td>NaN</td>\n      <td>NaN</td>\n      <td>Regular</td>\n    </tr>\n  </tbody>\n</table>\n</div>"
     },
     "execution_count": 11,
     "metadata": {},
     "output_type": "execute_result"
    }
   ],
   "source": [
    "data_to_check[data['fuelType'] != 'Electricity']  # Hay dos registros que parecen erróneos\n",
    "\n",
    "# Puedes ignorar el warning, que tiene uer con que el resultado tiene menor dimensión que el DataFrame original\n",
    "# La documentación recomienda utilizar .loc"
   ],
   "metadata": {
    "collapsed": false,
    "pycharm": {
     "name": "#%%\n"
    }
   }
  },
  {
   "cell_type": "code",
   "execution_count": 12,
   "outputs": [
    {
     "data": {
      "text/plain": "       cylinders  displ fuelType\n21413        NaN    NaN  Regular\n21414        NaN    NaN  Regular",
      "text/html": "<div>\n<style scoped>\n    .dataframe tbody tr th:only-of-type {\n        vertical-align: middle;\n    }\n\n    .dataframe tbody tr th {\n        vertical-align: top;\n    }\n\n    .dataframe thead th {\n        text-align: right;\n    }\n</style>\n<table border=\"1\" class=\"dataframe\">\n  <thead>\n    <tr style=\"text-align: right;\">\n      <th></th>\n      <th>cylinders</th>\n      <th>displ</th>\n      <th>fuelType</th>\n    </tr>\n  </thead>\n  <tbody>\n    <tr>\n      <th>21413</th>\n      <td>NaN</td>\n      <td>NaN</td>\n      <td>Regular</td>\n    </tr>\n    <tr>\n      <th>21414</th>\n      <td>NaN</td>\n      <td>NaN</td>\n      <td>Regular</td>\n    </tr>\n  </tbody>\n</table>\n</div>"
     },
     "execution_count": 12,
     "metadata": {},
     "output_type": "execute_result"
    }
   ],
   "source": [
    "data_to_check.loc[data['fuelType'] != 'Electricity', :]  # Con .loc, mismo resultado pero sin warning"
   ],
   "metadata": {
    "collapsed": false,
    "pycharm": {
     "name": "#%%\n"
    }
   }
  },
  {
   "cell_type": "code",
   "execution_count": 13,
   "outputs": [
    {
     "data": {
      "text/plain": "Regular                        25076\nPremium                        10004\nGasoline or E85                 1204\nDiesel                          1101\nPremium or E85                   121\nElectricity                      120\nMidgrade                          74\nCNG                               60\nGasoline or natural gas           20\nPremium and Electricity           20\nPremium Gas or Electricity        17\nRegular Gas and Electricity       16\nGasoline or propane                8\nRegular Gas or Electricity         2\nName: fuelType, dtype: int64"
     },
     "execution_count": 13,
     "metadata": {},
     "output_type": "execute_result"
    }
   ],
   "source": [
    "data['fuelType'].value_counts()  # Veo que valores puede tomar 'fuelType' y cuantas filas contienen 'Regular'"
   ],
   "metadata": {
    "collapsed": false,
    "pycharm": {
     "name": "#%%\n"
    }
   }
  },
  {
   "cell_type": "code",
   "execution_count": 14,
   "outputs": [
    {
     "data": {
      "text/plain": "       barrels08  barrelsA08  charge120  charge240  city08  city08U  cityA08  \\\n21412  18.311667         0.0        0.0        0.0      16      0.0        0   \n21413  13.733750         0.0        0.0        0.0      22      0.0        0   \n21414  14.330870         0.0        0.0        0.0      21      0.0        0   \n21415  15.695714         0.0        0.0        0.0      19      0.0        0   \n\n       cityA08U  cityCD  cityE  ...  UHighwayA                  VClass  year  \\\n21412       0.0     0.0    0.0  ...        0.0  Standard Pickup Trucks  1995   \n21413       0.0     0.0    0.0  ...        0.0         Subcompact Cars  1985   \n21414       0.0     0.0    0.0  ...        0.0         Subcompact Cars  1985   \n21415       0.0     0.0    0.0  ...        0.0             Two Seaters  2010   \n\n       youSaveSpend  charge240b                     createdOn  \\\n21412         -2500         0.0  Tue Jan 01 00:00:00 EST 2013   \n21413          -250         0.0  Tue Jan 01 00:00:00 EST 2013   \n21414          -500         0.0  Tue Jan 01 00:00:00 EST 2013   \n21415         -3000         0.0  Tue Jan 01 00:00:00 EST 2013   \n\n                         modifiedOn  phevCity  phevHwy  phevComb  \n21412  Tue Jan 01 00:00:00 EST 2013         0        0         0  \n21413  Tue Jan 01 00:00:00 EST 2013         0        0         0  \n21414  Tue Jan 01 00:00:00 EST 2013         0        0         0  \n21415  Tue Jan 01 00:00:00 EST 2013         0        0         0  \n\n[4 rows x 70 columns]",
      "text/html": "<div>\n<style scoped>\n    .dataframe tbody tr th:only-of-type {\n        vertical-align: middle;\n    }\n\n    .dataframe tbody tr th {\n        vertical-align: top;\n    }\n\n    .dataframe thead th {\n        text-align: right;\n    }\n</style>\n<table border=\"1\" class=\"dataframe\">\n  <thead>\n    <tr style=\"text-align: right;\">\n      <th></th>\n      <th>barrels08</th>\n      <th>barrelsA08</th>\n      <th>charge120</th>\n      <th>charge240</th>\n      <th>city08</th>\n      <th>city08U</th>\n      <th>cityA08</th>\n      <th>cityA08U</th>\n      <th>cityCD</th>\n      <th>cityE</th>\n      <th>...</th>\n      <th>UHighwayA</th>\n      <th>VClass</th>\n      <th>year</th>\n      <th>youSaveSpend</th>\n      <th>charge240b</th>\n      <th>createdOn</th>\n      <th>modifiedOn</th>\n      <th>phevCity</th>\n      <th>phevHwy</th>\n      <th>phevComb</th>\n    </tr>\n  </thead>\n  <tbody>\n    <tr>\n      <th>21412</th>\n      <td>18.311667</td>\n      <td>0.0</td>\n      <td>0.0</td>\n      <td>0.0</td>\n      <td>16</td>\n      <td>0.0</td>\n      <td>0</td>\n      <td>0.0</td>\n      <td>0.0</td>\n      <td>0.0</td>\n      <td>...</td>\n      <td>0.0</td>\n      <td>Standard Pickup Trucks</td>\n      <td>1995</td>\n      <td>-2500</td>\n      <td>0.0</td>\n      <td>Tue Jan 01 00:00:00 EST 2013</td>\n      <td>Tue Jan 01 00:00:00 EST 2013</td>\n      <td>0</td>\n      <td>0</td>\n      <td>0</td>\n    </tr>\n    <tr>\n      <th>21413</th>\n      <td>13.733750</td>\n      <td>0.0</td>\n      <td>0.0</td>\n      <td>0.0</td>\n      <td>22</td>\n      <td>0.0</td>\n      <td>0</td>\n      <td>0.0</td>\n      <td>0.0</td>\n      <td>0.0</td>\n      <td>...</td>\n      <td>0.0</td>\n      <td>Subcompact Cars</td>\n      <td>1985</td>\n      <td>-250</td>\n      <td>0.0</td>\n      <td>Tue Jan 01 00:00:00 EST 2013</td>\n      <td>Tue Jan 01 00:00:00 EST 2013</td>\n      <td>0</td>\n      <td>0</td>\n      <td>0</td>\n    </tr>\n    <tr>\n      <th>21414</th>\n      <td>14.330870</td>\n      <td>0.0</td>\n      <td>0.0</td>\n      <td>0.0</td>\n      <td>21</td>\n      <td>0.0</td>\n      <td>0</td>\n      <td>0.0</td>\n      <td>0.0</td>\n      <td>0.0</td>\n      <td>...</td>\n      <td>0.0</td>\n      <td>Subcompact Cars</td>\n      <td>1985</td>\n      <td>-500</td>\n      <td>0.0</td>\n      <td>Tue Jan 01 00:00:00 EST 2013</td>\n      <td>Tue Jan 01 00:00:00 EST 2013</td>\n      <td>0</td>\n      <td>0</td>\n      <td>0</td>\n    </tr>\n    <tr>\n      <th>21415</th>\n      <td>15.695714</td>\n      <td>0.0</td>\n      <td>0.0</td>\n      <td>0.0</td>\n      <td>19</td>\n      <td>0.0</td>\n      <td>0</td>\n      <td>0.0</td>\n      <td>0.0</td>\n      <td>0.0</td>\n      <td>...</td>\n      <td>0.0</td>\n      <td>Two Seaters</td>\n      <td>2010</td>\n      <td>-3000</td>\n      <td>0.0</td>\n      <td>Tue Jan 01 00:00:00 EST 2013</td>\n      <td>Tue Jan 01 00:00:00 EST 2013</td>\n      <td>0</td>\n      <td>0</td>\n      <td>0</td>\n    </tr>\n  </tbody>\n</table>\n<p>4 rows × 70 columns</p>\n</div>"
     },
     "execution_count": 14,
     "metadata": {},
     "output_type": "execute_result"
    }
   ],
   "source": [
    "# Veo que las dos filas que parecen erróneas tienen tantos ceros\n",
    "# como la fila anterior y la siguiente. De momento decido mantenerlas\n",
    "data.iloc[21412:21416, :]"
   ],
   "metadata": {
    "collapsed": false,
    "pycharm": {
     "name": "#%%\n"
    }
   }
  },
  {
   "cell_type": "markdown",
   "metadata": {
    "pycharm": {
     "name": "#%% md\n"
    }
   },
   "source": [
    "## Create a new dataframe that shows only the row where `displ` is null. \n",
    "Keep only the columns you think are useful"
   ]
  },
  {
   "cell_type": "code",
   "execution_count": 15,
   "metadata": {
    "pycharm": {
     "name": "#%%\n"
    }
   },
   "outputs": [
    {
     "data": {
      "text/plain": "       barrels08  barrelsA08  charge120  charge240  city08   city08U  cityA08  \\\n7138       0.240         0.0        0.0        0.0      81    0.0000        0   \n7139       0.282         0.0        0.0        0.0      81    0.0000        0   \n8143       0.282         0.0        0.0        0.0      81    0.0000        0   \n8144       0.312         0.0        0.0        0.0      74    0.0000        0   \n8146       0.522         0.0        0.0        0.0      45    0.0000        0   \n...          ...         ...        ...        ...     ...       ...      ...   \n30969      0.192         0.0        0.0        4.0     120  119.6000        0   \n30972      0.204         0.0        0.0       10.0      98   97.5636        0   \n30973      0.192         0.0        0.0       12.0     101  101.4750        0   \n30974      0.210         0.0        0.0       12.0      92   92.4713        0   \n30975      0.216         0.0        0.0       12.0      91   91.2362        0   \n\n       cityA08U  cityCD    cityE  ...  UHighwayA  \\\n7138        0.0     0.0  41.0000  ...        0.0   \n7139        0.0     0.0  41.0000  ...        0.0   \n8143        0.0     0.0  41.0000  ...        0.0   \n8144        0.0     0.0  46.0000  ...        0.0   \n8146        0.0     0.0  75.0000  ...        0.0   \n...         ...     ...      ...  ...        ...   \n30969       0.0     0.0  28.1744  ...        0.0   \n30972       0.0     0.0  35.0000  ...        0.0   \n30973       0.0     0.0  33.0000  ...        0.0   \n30974       0.0     0.0  36.0000  ...        0.0   \n30975       0.0     0.0  37.0000  ...        0.0   \n\n                                   VClass  year  youSaveSpend  charge240b  \\\n7138               Midsize Station Wagons  2000          2750        0.00   \n7139          Sport Utility Vehicle - 2WD  2000          2250        0.00   \n8143          Sport Utility Vehicle - 2WD  2001          2250        0.00   \n8144                          Two Seaters  2001          1750        0.00   \n8146          Sport Utility Vehicle - 2WD  2001         -1750        0.00   \n...                                   ...   ...           ...         ...   \n30969                Small Station Wagons  2017          3750        0.00   \n30972                          Large Cars  2016          3500        3.75   \n30973                          Large Cars  2016          3750        3.75   \n30974                          Large Cars  2016          3250        4.75   \n30975  Standard Sport Utility Vehicle 4WD  2016          3250        4.75   \n\n                          createdOn                    modifiedOn  phevCity  \\\n7138   Tue Jan 01 00:00:00 EST 2013  Thu Jul 07 00:00:00 EDT 2016         0   \n7139   Tue Jan 01 00:00:00 EST 2013  Thu Jul 07 00:00:00 EDT 2016         0   \n8143   Tue Jan 01 00:00:00 EST 2013  Thu Jul 07 00:00:00 EDT 2016         0   \n8144   Tue Jan 01 00:00:00 EST 2013  Thu Jul 07 00:00:00 EDT 2016         0   \n8146   Tue Jan 01 00:00:00 EST 2013  Thu Jul 07 00:00:00 EDT 2016         0   \n...                             ...                           ...       ...   \n30969  Tue Sep 13 00:00:00 EDT 2016  Tue Sep 13 00:00:00 EDT 2016         0   \n30972  Tue Sep 13 00:00:00 EDT 2016  Tue Sep 13 00:00:00 EDT 2016         0   \n30973  Tue Sep 13 00:00:00 EDT 2016  Tue Sep 13 00:00:00 EDT 2016         0   \n30974  Tue Sep 13 00:00:00 EDT 2016  Tue Sep 13 00:00:00 EDT 2016         0   \n30975  Tue Sep 13 00:00:00 EDT 2016  Tue Sep 13 00:00:00 EDT 2016         0   \n\n       phevHwy  phevComb  \n7138         0         0  \n7139         0         0  \n8143         0         0  \n8144         0         0  \n8146         0         0  \n...        ...       ...  \n30969        0         0  \n30972        0         0  \n30973        0         0  \n30974        0         0  \n30975        0         0  \n\n[120 rows x 70 columns]",
      "text/html": "<div>\n<style scoped>\n    .dataframe tbody tr th:only-of-type {\n        vertical-align: middle;\n    }\n\n    .dataframe tbody tr th {\n        vertical-align: top;\n    }\n\n    .dataframe thead th {\n        text-align: right;\n    }\n</style>\n<table border=\"1\" class=\"dataframe\">\n  <thead>\n    <tr style=\"text-align: right;\">\n      <th></th>\n      <th>barrels08</th>\n      <th>barrelsA08</th>\n      <th>charge120</th>\n      <th>charge240</th>\n      <th>city08</th>\n      <th>city08U</th>\n      <th>cityA08</th>\n      <th>cityA08U</th>\n      <th>cityCD</th>\n      <th>cityE</th>\n      <th>...</th>\n      <th>UHighwayA</th>\n      <th>VClass</th>\n      <th>year</th>\n      <th>youSaveSpend</th>\n      <th>charge240b</th>\n      <th>createdOn</th>\n      <th>modifiedOn</th>\n      <th>phevCity</th>\n      <th>phevHwy</th>\n      <th>phevComb</th>\n    </tr>\n  </thead>\n  <tbody>\n    <tr>\n      <th>7138</th>\n      <td>0.240</td>\n      <td>0.0</td>\n      <td>0.0</td>\n      <td>0.0</td>\n      <td>81</td>\n      <td>0.0000</td>\n      <td>0</td>\n      <td>0.0</td>\n      <td>0.0</td>\n      <td>41.0000</td>\n      <td>...</td>\n      <td>0.0</td>\n      <td>Midsize Station Wagons</td>\n      <td>2000</td>\n      <td>2750</td>\n      <td>0.00</td>\n      <td>Tue Jan 01 00:00:00 EST 2013</td>\n      <td>Thu Jul 07 00:00:00 EDT 2016</td>\n      <td>0</td>\n      <td>0</td>\n      <td>0</td>\n    </tr>\n    <tr>\n      <th>7139</th>\n      <td>0.282</td>\n      <td>0.0</td>\n      <td>0.0</td>\n      <td>0.0</td>\n      <td>81</td>\n      <td>0.0000</td>\n      <td>0</td>\n      <td>0.0</td>\n      <td>0.0</td>\n      <td>41.0000</td>\n      <td>...</td>\n      <td>0.0</td>\n      <td>Sport Utility Vehicle - 2WD</td>\n      <td>2000</td>\n      <td>2250</td>\n      <td>0.00</td>\n      <td>Tue Jan 01 00:00:00 EST 2013</td>\n      <td>Thu Jul 07 00:00:00 EDT 2016</td>\n      <td>0</td>\n      <td>0</td>\n      <td>0</td>\n    </tr>\n    <tr>\n      <th>8143</th>\n      <td>0.282</td>\n      <td>0.0</td>\n      <td>0.0</td>\n      <td>0.0</td>\n      <td>81</td>\n      <td>0.0000</td>\n      <td>0</td>\n      <td>0.0</td>\n      <td>0.0</td>\n      <td>41.0000</td>\n      <td>...</td>\n      <td>0.0</td>\n      <td>Sport Utility Vehicle - 2WD</td>\n      <td>2001</td>\n      <td>2250</td>\n      <td>0.00</td>\n      <td>Tue Jan 01 00:00:00 EST 2013</td>\n      <td>Thu Jul 07 00:00:00 EDT 2016</td>\n      <td>0</td>\n      <td>0</td>\n      <td>0</td>\n    </tr>\n    <tr>\n      <th>8144</th>\n      <td>0.312</td>\n      <td>0.0</td>\n      <td>0.0</td>\n      <td>0.0</td>\n      <td>74</td>\n      <td>0.0000</td>\n      <td>0</td>\n      <td>0.0</td>\n      <td>0.0</td>\n      <td>46.0000</td>\n      <td>...</td>\n      <td>0.0</td>\n      <td>Two Seaters</td>\n      <td>2001</td>\n      <td>1750</td>\n      <td>0.00</td>\n      <td>Tue Jan 01 00:00:00 EST 2013</td>\n      <td>Thu Jul 07 00:00:00 EDT 2016</td>\n      <td>0</td>\n      <td>0</td>\n      <td>0</td>\n    </tr>\n    <tr>\n      <th>8146</th>\n      <td>0.522</td>\n      <td>0.0</td>\n      <td>0.0</td>\n      <td>0.0</td>\n      <td>45</td>\n      <td>0.0000</td>\n      <td>0</td>\n      <td>0.0</td>\n      <td>0.0</td>\n      <td>75.0000</td>\n      <td>...</td>\n      <td>0.0</td>\n      <td>Sport Utility Vehicle - 2WD</td>\n      <td>2001</td>\n      <td>-1750</td>\n      <td>0.00</td>\n      <td>Tue Jan 01 00:00:00 EST 2013</td>\n      <td>Thu Jul 07 00:00:00 EDT 2016</td>\n      <td>0</td>\n      <td>0</td>\n      <td>0</td>\n    </tr>\n    <tr>\n      <th>...</th>\n      <td>...</td>\n      <td>...</td>\n      <td>...</td>\n      <td>...</td>\n      <td>...</td>\n      <td>...</td>\n      <td>...</td>\n      <td>...</td>\n      <td>...</td>\n      <td>...</td>\n      <td>...</td>\n      <td>...</td>\n      <td>...</td>\n      <td>...</td>\n      <td>...</td>\n      <td>...</td>\n      <td>...</td>\n      <td>...</td>\n      <td>...</td>\n      <td>...</td>\n      <td>...</td>\n    </tr>\n    <tr>\n      <th>30969</th>\n      <td>0.192</td>\n      <td>0.0</td>\n      <td>0.0</td>\n      <td>4.0</td>\n      <td>120</td>\n      <td>119.6000</td>\n      <td>0</td>\n      <td>0.0</td>\n      <td>0.0</td>\n      <td>28.1744</td>\n      <td>...</td>\n      <td>0.0</td>\n      <td>Small Station Wagons</td>\n      <td>2017</td>\n      <td>3750</td>\n      <td>0.00</td>\n      <td>Tue Sep 13 00:00:00 EDT 2016</td>\n      <td>Tue Sep 13 00:00:00 EDT 2016</td>\n      <td>0</td>\n      <td>0</td>\n      <td>0</td>\n    </tr>\n    <tr>\n      <th>30972</th>\n      <td>0.204</td>\n      <td>0.0</td>\n      <td>0.0</td>\n      <td>10.0</td>\n      <td>98</td>\n      <td>97.5636</td>\n      <td>0</td>\n      <td>0.0</td>\n      <td>0.0</td>\n      <td>35.0000</td>\n      <td>...</td>\n      <td>0.0</td>\n      <td>Large Cars</td>\n      <td>2016</td>\n      <td>3500</td>\n      <td>3.75</td>\n      <td>Tue Sep 13 00:00:00 EDT 2016</td>\n      <td>Tue Sep 13 00:00:00 EDT 2016</td>\n      <td>0</td>\n      <td>0</td>\n      <td>0</td>\n    </tr>\n    <tr>\n      <th>30973</th>\n      <td>0.192</td>\n      <td>0.0</td>\n      <td>0.0</td>\n      <td>12.0</td>\n      <td>101</td>\n      <td>101.4750</td>\n      <td>0</td>\n      <td>0.0</td>\n      <td>0.0</td>\n      <td>33.0000</td>\n      <td>...</td>\n      <td>0.0</td>\n      <td>Large Cars</td>\n      <td>2016</td>\n      <td>3750</td>\n      <td>3.75</td>\n      <td>Tue Sep 13 00:00:00 EDT 2016</td>\n      <td>Tue Sep 13 00:00:00 EDT 2016</td>\n      <td>0</td>\n      <td>0</td>\n      <td>0</td>\n    </tr>\n    <tr>\n      <th>30974</th>\n      <td>0.210</td>\n      <td>0.0</td>\n      <td>0.0</td>\n      <td>12.0</td>\n      <td>92</td>\n      <td>92.4713</td>\n      <td>0</td>\n      <td>0.0</td>\n      <td>0.0</td>\n      <td>36.0000</td>\n      <td>...</td>\n      <td>0.0</td>\n      <td>Large Cars</td>\n      <td>2016</td>\n      <td>3250</td>\n      <td>4.75</td>\n      <td>Tue Sep 13 00:00:00 EDT 2016</td>\n      <td>Tue Sep 13 00:00:00 EDT 2016</td>\n      <td>0</td>\n      <td>0</td>\n      <td>0</td>\n    </tr>\n    <tr>\n      <th>30975</th>\n      <td>0.216</td>\n      <td>0.0</td>\n      <td>0.0</td>\n      <td>12.0</td>\n      <td>91</td>\n      <td>91.2362</td>\n      <td>0</td>\n      <td>0.0</td>\n      <td>0.0</td>\n      <td>37.0000</td>\n      <td>...</td>\n      <td>0.0</td>\n      <td>Standard Sport Utility Vehicle 4WD</td>\n      <td>2016</td>\n      <td>3250</td>\n      <td>4.75</td>\n      <td>Tue Sep 13 00:00:00 EDT 2016</td>\n      <td>Tue Sep 13 00:00:00 EDT 2016</td>\n      <td>0</td>\n      <td>0</td>\n      <td>0</td>\n    </tr>\n  </tbody>\n</table>\n<p>120 rows × 70 columns</p>\n</div>"
     },
     "execution_count": 15,
     "metadata": {},
     "output_type": "execute_result"
    }
   ],
   "source": [
    "# Utilizo .copy al generar subDataFrames para evitar futuros warnings relacionados con si son copias o vistas\n",
    "data_displ_null = data[data['displ'].isnull()].copy()\n",
    "\n",
    "data_displ_null"
   ]
  },
  {
   "cell_type": "code",
   "execution_count": 16,
   "outputs": [],
   "source": [
    "# Una columna constante no aporta nada así que me deshago de ella.\n",
    "data_displ_null.drop('displ', axis=1, inplace=True)"
   ],
   "metadata": {
    "collapsed": false,
    "pycharm": {
     "name": "#%%\n"
    }
   }
  },
  {
   "cell_type": "code",
   "execution_count": 17,
   "outputs": [
    {
     "data": {
      "text/plain": "False"
     },
     "execution_count": 17,
     "metadata": {},
     "output_type": "execute_result"
    }
   ],
   "source": [
    "'displ' in data_displ_null.columns  # Compruebo que he eliminado la columna"
   ],
   "metadata": {
    "collapsed": false,
    "pycharm": {
     "name": "#%%\n"
    }
   }
  },
  {
   "cell_type": "code",
   "execution_count": 18,
   "outputs": [
    {
     "data": {
      "text/plain": "['cylinders']"
     },
     "execution_count": 18,
     "metadata": {},
     "output_type": "execute_result"
    }
   ],
   "source": [
    "# Busco las columnas que son todo valores nulos\n",
    "cols_with_null = [col for col in data_displ_null.columns if data_displ_null[col].isnull().all()]\n",
    "\n",
    "cols_with_null"
   ],
   "metadata": {
    "collapsed": false,
    "pycharm": {
     "name": "#%%\n"
    }
   }
  },
  {
   "cell_type": "code",
   "execution_count": 19,
   "outputs": [
    {
     "data": {
      "text/plain": "Index(['barrels08', 'barrelsA08', 'charge120', 'charge240', 'city08',\n       'city08U', 'cityA08', 'cityA08U', 'cityCD', 'cityE', 'cityUF', 'co2',\n       'co2A', 'co2TailpipeAGpm', 'co2TailpipeGpm', 'comb08', 'comb08U',\n       'combA08', 'combA08U', 'combE', 'combinedCD', 'combinedUF', 'cylinders',\n       'engId', 'feScore', 'fuelCost08', 'fuelCostA08', 'ghgScore',\n       'ghgScoreA', 'highway08', 'highway08U', 'highwayA08', 'highwayA08U',\n       'highwayCD', 'highwayE', 'highwayUF', 'hlv', 'hpv', 'id', 'lv2', 'lv4',\n       'pv2', 'pv4', 'range', 'rangeCity', 'rangeCityA', 'rangeHwy',\n       'rangeHwyA', 'UCity', 'UCityA', 'UHighway', 'UHighwayA', 'year',\n       'youSaveSpend', 'charge240b', 'phevCity', 'phevHwy', 'phevComb'],\n      dtype='object')"
     },
     "execution_count": 19,
     "metadata": {},
     "output_type": "execute_result"
    }
   ],
   "source": [
    "# Localizo las columnas numéricas\n",
    "cols_numeric = data_displ_null.select_dtypes(include=[np.number]).columns\n",
    "\n",
    "cols_numeric"
   ],
   "metadata": {
    "collapsed": false,
    "pycharm": {
     "name": "#%%\n"
    }
   }
  },
  {
   "cell_type": "code",
   "execution_count": 20,
   "outputs": [
    {
     "data": {
      "text/plain": "['barrelsA08',\n 'charge120',\n 'charge240',\n 'city08U',\n 'cityA08',\n 'cityA08U',\n 'cityCD',\n 'cityE',\n 'cityUF',\n 'co2',\n 'co2TailpipeAGpm',\n 'co2TailpipeGpm',\n 'comb08U',\n 'combA08',\n 'combA08U',\n 'combE',\n 'combinedCD',\n 'combinedUF',\n 'engId',\n 'fuelCostA08',\n 'highway08U',\n 'highwayA08',\n 'highwayA08U',\n 'highwayCD',\n 'highwayE',\n 'highwayUF',\n 'hlv',\n 'hpv',\n 'lv2',\n 'lv4',\n 'pv2',\n 'pv4',\n 'range',\n 'rangeCity',\n 'rangeCityA',\n 'rangeHwy',\n 'rangeHwyA',\n 'UCityA',\n 'UHighwayA',\n 'charge240b',\n 'phevCity',\n 'phevHwy',\n 'phevComb']"
     },
     "execution_count": 20,
     "metadata": {},
     "output_type": "execute_result"
    }
   ],
   "source": [
    "# Busco en las columnas numéricas si alguna son todo ceros\n",
    "cols_with_zero = [col for col in cols_numeric if data_displ_null[col].all() == 0]\n",
    "\n",
    "cols_with_zero"
   ],
   "metadata": {
    "collapsed": false,
    "pycharm": {
     "name": "#%%\n"
    }
   }
  },
  {
   "cell_type": "code",
   "execution_count": 21,
   "outputs": [
    {
     "data": {
      "text/plain": "       barrels08  city08  co2A  comb08              drive  feScore  \\\n7138       0.240      81    -1      85                NaN       -1   \n7139       0.282      81    -1      72      2-Wheel Drive       -1   \n8143       0.282      81    -1      72      2-Wheel Drive       -1   \n8144       0.312      74    -1      65                NaN       -1   \n8146       0.522      45    -1      39      2-Wheel Drive       -1   \n...          ...     ...   ...     ...                ...      ...   \n30969      0.192     120    -1     105  Front-Wheel Drive       10   \n30972      0.204      98    -1      99   Rear-Wheel Drive       10   \n30973      0.192     101    -1     104    All-Wheel Drive       10   \n30974      0.210      92    -1      98    All-Wheel Drive       10   \n30975      0.216      91    -1      93    All-Wheel Drive       10   \n\n       fuelCost08     fuelType    fuelType1  ghgScore  ...  mpgData  \\\n7138          800  Electricity  Electricity        -1  ...        N   \n7139          900  Electricity  Electricity        -1  ...        N   \n8143          900  Electricity  Electricity        -1  ...        N   \n8144         1000  Electricity  Electricity        -1  ...        N   \n8146         1700  Electricity  Electricity        -1  ...        N   \n...           ...          ...          ...       ...  ...      ...   \n30969         600  Electricity  Electricity        10  ...        N   \n30972         650  Electricity  Electricity        10  ...        N   \n30973         600  Electricity  Electricity        10  ...        N   \n30974         700  Electricity  Electricity        10  ...        N   \n30975         700  Electricity  Electricity        10  ...        N   \n\n       phevBlended           trany     UCity  UHighway  \\\n7138         False             NaN  116.2069  129.6154   \n7139         False             NaN  116.2069   91.0811   \n8143         False             NaN  116.2069   91.0811   \n8144         False             NaN  105.3125   82.1951   \n8146         False             NaN   62.4074   46.8056   \n...            ...             ...       ...       ...   \n30969        False  Automatic (A1)  170.9000  131.4000   \n30972        False  Automatic (A1)  132.2000  136.9000   \n30973        False  Automatic (A1)  137.5000  144.6000   \n30974        False  Automatic (A1)  125.3000  141.6000   \n30975        False  Automatic (A1)  124.3000  128.4000   \n\n                                   VClass  year youSaveSpend  \\\n7138               Midsize Station Wagons  2000         2750   \n7139          Sport Utility Vehicle - 2WD  2000         2250   \n8143          Sport Utility Vehicle - 2WD  2001         2250   \n8144                          Two Seaters  2001         1750   \n8146          Sport Utility Vehicle - 2WD  2001        -1750   \n...                                   ...   ...          ...   \n30969                Small Station Wagons  2017         3750   \n30972                          Large Cars  2016         3500   \n30973                          Large Cars  2016         3750   \n30974                          Large Cars  2016         3250   \n30975  Standard Sport Utility Vehicle 4WD  2016         3250   \n\n                          createdOn                    modifiedOn  \n7138   Tue Jan 01 00:00:00 EST 2013  Thu Jul 07 00:00:00 EDT 2016  \n7139   Tue Jan 01 00:00:00 EST 2013  Thu Jul 07 00:00:00 EDT 2016  \n8143   Tue Jan 01 00:00:00 EST 2013  Thu Jul 07 00:00:00 EDT 2016  \n8144   Tue Jan 01 00:00:00 EST 2013  Thu Jul 07 00:00:00 EDT 2016  \n8146   Tue Jan 01 00:00:00 EST 2013  Thu Jul 07 00:00:00 EDT 2016  \n...                             ...                           ...  \n30969  Tue Sep 13 00:00:00 EDT 2016  Tue Sep 13 00:00:00 EDT 2016  \n30972  Tue Sep 13 00:00:00 EDT 2016  Tue Sep 13 00:00:00 EDT 2016  \n30973  Tue Sep 13 00:00:00 EDT 2016  Tue Sep 13 00:00:00 EDT 2016  \n30974  Tue Sep 13 00:00:00 EDT 2016  Tue Sep 13 00:00:00 EDT 2016  \n30975  Tue Sep 13 00:00:00 EDT 2016  Tue Sep 13 00:00:00 EDT 2016  \n\n[120 rows x 25 columns]",
      "text/html": "<div>\n<style scoped>\n    .dataframe tbody tr th:only-of-type {\n        vertical-align: middle;\n    }\n\n    .dataframe tbody tr th {\n        vertical-align: top;\n    }\n\n    .dataframe thead th {\n        text-align: right;\n    }\n</style>\n<table border=\"1\" class=\"dataframe\">\n  <thead>\n    <tr style=\"text-align: right;\">\n      <th></th>\n      <th>barrels08</th>\n      <th>city08</th>\n      <th>co2A</th>\n      <th>comb08</th>\n      <th>drive</th>\n      <th>feScore</th>\n      <th>fuelCost08</th>\n      <th>fuelType</th>\n      <th>fuelType1</th>\n      <th>ghgScore</th>\n      <th>...</th>\n      <th>mpgData</th>\n      <th>phevBlended</th>\n      <th>trany</th>\n      <th>UCity</th>\n      <th>UHighway</th>\n      <th>VClass</th>\n      <th>year</th>\n      <th>youSaveSpend</th>\n      <th>createdOn</th>\n      <th>modifiedOn</th>\n    </tr>\n  </thead>\n  <tbody>\n    <tr>\n      <th>7138</th>\n      <td>0.240</td>\n      <td>81</td>\n      <td>-1</td>\n      <td>85</td>\n      <td>NaN</td>\n      <td>-1</td>\n      <td>800</td>\n      <td>Electricity</td>\n      <td>Electricity</td>\n      <td>-1</td>\n      <td>...</td>\n      <td>N</td>\n      <td>False</td>\n      <td>NaN</td>\n      <td>116.2069</td>\n      <td>129.6154</td>\n      <td>Midsize Station Wagons</td>\n      <td>2000</td>\n      <td>2750</td>\n      <td>Tue Jan 01 00:00:00 EST 2013</td>\n      <td>Thu Jul 07 00:00:00 EDT 2016</td>\n    </tr>\n    <tr>\n      <th>7139</th>\n      <td>0.282</td>\n      <td>81</td>\n      <td>-1</td>\n      <td>72</td>\n      <td>2-Wheel Drive</td>\n      <td>-1</td>\n      <td>900</td>\n      <td>Electricity</td>\n      <td>Electricity</td>\n      <td>-1</td>\n      <td>...</td>\n      <td>N</td>\n      <td>False</td>\n      <td>NaN</td>\n      <td>116.2069</td>\n      <td>91.0811</td>\n      <td>Sport Utility Vehicle - 2WD</td>\n      <td>2000</td>\n      <td>2250</td>\n      <td>Tue Jan 01 00:00:00 EST 2013</td>\n      <td>Thu Jul 07 00:00:00 EDT 2016</td>\n    </tr>\n    <tr>\n      <th>8143</th>\n      <td>0.282</td>\n      <td>81</td>\n      <td>-1</td>\n      <td>72</td>\n      <td>2-Wheel Drive</td>\n      <td>-1</td>\n      <td>900</td>\n      <td>Electricity</td>\n      <td>Electricity</td>\n      <td>-1</td>\n      <td>...</td>\n      <td>N</td>\n      <td>False</td>\n      <td>NaN</td>\n      <td>116.2069</td>\n      <td>91.0811</td>\n      <td>Sport Utility Vehicle - 2WD</td>\n      <td>2001</td>\n      <td>2250</td>\n      <td>Tue Jan 01 00:00:00 EST 2013</td>\n      <td>Thu Jul 07 00:00:00 EDT 2016</td>\n    </tr>\n    <tr>\n      <th>8144</th>\n      <td>0.312</td>\n      <td>74</td>\n      <td>-1</td>\n      <td>65</td>\n      <td>NaN</td>\n      <td>-1</td>\n      <td>1000</td>\n      <td>Electricity</td>\n      <td>Electricity</td>\n      <td>-1</td>\n      <td>...</td>\n      <td>N</td>\n      <td>False</td>\n      <td>NaN</td>\n      <td>105.3125</td>\n      <td>82.1951</td>\n      <td>Two Seaters</td>\n      <td>2001</td>\n      <td>1750</td>\n      <td>Tue Jan 01 00:00:00 EST 2013</td>\n      <td>Thu Jul 07 00:00:00 EDT 2016</td>\n    </tr>\n    <tr>\n      <th>8146</th>\n      <td>0.522</td>\n      <td>45</td>\n      <td>-1</td>\n      <td>39</td>\n      <td>2-Wheel Drive</td>\n      <td>-1</td>\n      <td>1700</td>\n      <td>Electricity</td>\n      <td>Electricity</td>\n      <td>-1</td>\n      <td>...</td>\n      <td>N</td>\n      <td>False</td>\n      <td>NaN</td>\n      <td>62.4074</td>\n      <td>46.8056</td>\n      <td>Sport Utility Vehicle - 2WD</td>\n      <td>2001</td>\n      <td>-1750</td>\n      <td>Tue Jan 01 00:00:00 EST 2013</td>\n      <td>Thu Jul 07 00:00:00 EDT 2016</td>\n    </tr>\n    <tr>\n      <th>...</th>\n      <td>...</td>\n      <td>...</td>\n      <td>...</td>\n      <td>...</td>\n      <td>...</td>\n      <td>...</td>\n      <td>...</td>\n      <td>...</td>\n      <td>...</td>\n      <td>...</td>\n      <td>...</td>\n      <td>...</td>\n      <td>...</td>\n      <td>...</td>\n      <td>...</td>\n      <td>...</td>\n      <td>...</td>\n      <td>...</td>\n      <td>...</td>\n      <td>...</td>\n      <td>...</td>\n    </tr>\n    <tr>\n      <th>30969</th>\n      <td>0.192</td>\n      <td>120</td>\n      <td>-1</td>\n      <td>105</td>\n      <td>Front-Wheel Drive</td>\n      <td>10</td>\n      <td>600</td>\n      <td>Electricity</td>\n      <td>Electricity</td>\n      <td>10</td>\n      <td>...</td>\n      <td>N</td>\n      <td>False</td>\n      <td>Automatic (A1)</td>\n      <td>170.9000</td>\n      <td>131.4000</td>\n      <td>Small Station Wagons</td>\n      <td>2017</td>\n      <td>3750</td>\n      <td>Tue Sep 13 00:00:00 EDT 2016</td>\n      <td>Tue Sep 13 00:00:00 EDT 2016</td>\n    </tr>\n    <tr>\n      <th>30972</th>\n      <td>0.204</td>\n      <td>98</td>\n      <td>-1</td>\n      <td>99</td>\n      <td>Rear-Wheel Drive</td>\n      <td>10</td>\n      <td>650</td>\n      <td>Electricity</td>\n      <td>Electricity</td>\n      <td>10</td>\n      <td>...</td>\n      <td>N</td>\n      <td>False</td>\n      <td>Automatic (A1)</td>\n      <td>132.2000</td>\n      <td>136.9000</td>\n      <td>Large Cars</td>\n      <td>2016</td>\n      <td>3500</td>\n      <td>Tue Sep 13 00:00:00 EDT 2016</td>\n      <td>Tue Sep 13 00:00:00 EDT 2016</td>\n    </tr>\n    <tr>\n      <th>30973</th>\n      <td>0.192</td>\n      <td>101</td>\n      <td>-1</td>\n      <td>104</td>\n      <td>All-Wheel Drive</td>\n      <td>10</td>\n      <td>600</td>\n      <td>Electricity</td>\n      <td>Electricity</td>\n      <td>10</td>\n      <td>...</td>\n      <td>N</td>\n      <td>False</td>\n      <td>Automatic (A1)</td>\n      <td>137.5000</td>\n      <td>144.6000</td>\n      <td>Large Cars</td>\n      <td>2016</td>\n      <td>3750</td>\n      <td>Tue Sep 13 00:00:00 EDT 2016</td>\n      <td>Tue Sep 13 00:00:00 EDT 2016</td>\n    </tr>\n    <tr>\n      <th>30974</th>\n      <td>0.210</td>\n      <td>92</td>\n      <td>-1</td>\n      <td>98</td>\n      <td>All-Wheel Drive</td>\n      <td>10</td>\n      <td>700</td>\n      <td>Electricity</td>\n      <td>Electricity</td>\n      <td>10</td>\n      <td>...</td>\n      <td>N</td>\n      <td>False</td>\n      <td>Automatic (A1)</td>\n      <td>125.3000</td>\n      <td>141.6000</td>\n      <td>Large Cars</td>\n      <td>2016</td>\n      <td>3250</td>\n      <td>Tue Sep 13 00:00:00 EDT 2016</td>\n      <td>Tue Sep 13 00:00:00 EDT 2016</td>\n    </tr>\n    <tr>\n      <th>30975</th>\n      <td>0.216</td>\n      <td>91</td>\n      <td>-1</td>\n      <td>93</td>\n      <td>All-Wheel Drive</td>\n      <td>10</td>\n      <td>700</td>\n      <td>Electricity</td>\n      <td>Electricity</td>\n      <td>10</td>\n      <td>...</td>\n      <td>N</td>\n      <td>False</td>\n      <td>Automatic (A1)</td>\n      <td>124.3000</td>\n      <td>128.4000</td>\n      <td>Standard Sport Utility Vehicle 4WD</td>\n      <td>2016</td>\n      <td>3250</td>\n      <td>Tue Sep 13 00:00:00 EDT 2016</td>\n      <td>Tue Sep 13 00:00:00 EDT 2016</td>\n    </tr>\n  </tbody>\n</table>\n<p>120 rows × 25 columns</p>\n</div>"
     },
     "execution_count": 21,
     "metadata": {},
     "output_type": "execute_result"
    }
   ],
   "source": [
    "cols_to_drop = cols_with_null + cols_with_zero\n",
    "data_displ_null = data_displ_null.drop(cols_to_drop, axis=1).copy()\n",
    "\n",
    "data_displ_null"
   ],
   "metadata": {
    "collapsed": false,
    "pycharm": {
     "name": "#%%\n"
    }
   }
  },
  {
   "cell_type": "markdown",
   "metadata": {
    "pycharm": {
     "name": "#%% md\n"
    }
   },
   "source": [
    "## Fill nan values with the most appropriate technique \n",
    "*HINT: Electric cars do not have cylinders and can therefore not have any displacement*"
   ]
  },
  {
   "cell_type": "code",
   "execution_count": 22,
   "outputs": [
    {
     "data": {
      "text/plain": "cylinders     123\ndispl         120\ndrive        1189\ntrany          11\ndtype: int64"
     },
     "execution_count": 22,
     "metadata": {},
     "output_type": "execute_result"
    }
   ],
   "source": [
    "# Observo que columnas contienen nulos\n",
    "data.isna().sum()[data.isna().sum() > 0]"
   ],
   "metadata": {
    "collapsed": false,
    "pycharm": {
     "name": "#%%\n"
    }
   }
  },
  {
   "cell_type": "code",
   "execution_count": 23,
   "outputs": [
    {
     "name": "stdout",
     "output_type": "stream",
     "text": [
      "4.0     14486\n",
      "6.0     13184\n",
      "8.0      8293\n",
      "5.0       766\n",
      "12.0      569\n",
      "3.0       207\n",
      "10.0      153\n",
      "2.0        54\n",
      "16.0        8\n",
      "Name: cylinders, dtype: int64 \n",
      "\n",
      "\n",
      "2.0    3537\n",
      "3.0    2956\n",
      "2.5    2366\n",
      "2.4    1921\n",
      "1.8    1580\n",
      "       ... \n",
      "8.3       9\n",
      "7.4       4\n",
      "0.9       4\n",
      "0.6       3\n",
      "0.0       2\n",
      "Name: displ, Length: 66, dtype: int64 \n",
      "\n",
      "\n",
      "Front-Wheel Drive             13286\n",
      "Rear-Wheel Drive              12931\n",
      "4-Wheel or All-Wheel Drive     6648\n",
      "All-Wheel Drive                2057\n",
      "4-Wheel Drive                  1065\n",
      "2-Wheel Drive                   507\n",
      "Part-time 4-Wheel Drive         159\n",
      "2-Wheel Drive, Front              1\n",
      "Name: drive, dtype: int64 \n",
      "\n",
      "\n",
      "Automatic 4-spd                     11042\n",
      "Manual 5-spd                         8311\n",
      "Automatic 3-spd                      3151\n",
      "Automatic (S6)                       2638\n",
      "Manual 6-spd                         2429\n",
      "Automatic 5-spd                      2184\n",
      "Manual 4-spd                         1483\n",
      "Automatic 6-spd                      1432\n",
      "Automatic (S8)                        960\n",
      "Automatic (S5)                        824\n",
      "Automatic (variable gear ratios)      681\n",
      "Automatic 7-spd                       663\n",
      "Automatic (S7)                        261\n",
      "Auto(AM-S7)                           256\n",
      "Automatic 8-spd                       243\n",
      "Automatic (S4)                        233\n",
      "Auto(AM7)                             160\n",
      "Auto(AV-S6)                           145\n",
      "Auto(AM6)                             110\n",
      "Automatic (A1)                        109\n",
      "Auto(AM-S6)                            92\n",
      "Automatic 9-spd                        90\n",
      "Manual 3-spd                           77\n",
      "Manual 7-spd                           68\n",
      "Auto(AV-S7)                            63\n",
      "Auto(AV-S8)                            26\n",
      "Automatic (S9)                         26\n",
      "Manual 4-spd Doubled                   17\n",
      "Auto(AM5)                              12\n",
      "Automatic (AV-S6)                       9\n",
      "Auto(AM-S8)                             6\n",
      "Auto(AM8)                               5\n",
      "Automatic (AV)                          4\n",
      "Automatic (A6)                          4\n",
      "Manual(M7)                              3\n",
      "Auto(L4)                                2\n",
      "Auto(L3)                                2\n",
      "Automatic (AM5)                         2\n",
      "Auto (AV)                               2\n",
      "Auto(A1)                                1\n",
      "Automatic (AM6)                         1\n",
      "Automatic 6spd                          1\n",
      "Auto (AV-S8)                            1\n",
      "Auto (AV-S6)                            1\n",
      "Manual 5 spd                            1\n",
      "Auto(AM-S9)                             1\n",
      "Name: trany, dtype: int64 \n",
      "\n",
      "\n"
     ]
    }
   ],
   "source": [
    "# Observo que valores toman y cual es la distribución para decidir como relleno los nulos\n",
    "cols_to_explore = data.isna().sum()[data.isna().sum() > 0].index\n",
    "\n",
    "for col in cols_to_explore:\n",
    "    print(data[col].value_counts(), '\\n\\n')"
   ],
   "metadata": {
    "collapsed": false,
    "pycharm": {
     "name": "#%%\n"
    }
   }
  },
  {
   "cell_type": "code",
   "execution_count": 24,
   "outputs": [
    {
     "data": {
      "text/plain": "   barrels08  barrelsA08  charge120  charge240  city08  city08U  cityA08  \\\n0  15.695714         0.0        0.0        0.0      19      0.0        0   \n1  29.964545         0.0        0.0        0.0       9      0.0        0   \n2  12.207778         0.0        0.0        0.0      23      0.0        0   \n3  29.964545         0.0        0.0        0.0      10      0.0        0   \n4  17.347895         0.0        0.0        0.0      17      0.0        0   \n5  14.982273         0.0        0.0        0.0      21      0.0        0   \n6  13.184400         0.0        0.0        0.0      22      0.0        0   \n7  13.733750         0.0        0.0        0.0      23      0.0        0   \n8  12.677308         0.0        0.0        0.0      23      0.0        0   \n9  13.184400         0.0        0.0        0.0      23      0.0        0   \n\n   cityA08U  cityCD  cityE  ...  UHighwayA           VClass  year  \\\n0       0.0     0.0    0.0  ...        0.0      Two Seaters  1985   \n1       0.0     0.0    0.0  ...        0.0      Two Seaters  1985   \n2       0.0     0.0    0.0  ...        0.0  Subcompact Cars  1985   \n3       0.0     0.0    0.0  ...        0.0             Vans  1985   \n4       0.0     0.0    0.0  ...        0.0     Compact Cars  1993   \n5       0.0     0.0    0.0  ...        0.0     Compact Cars  1993   \n6       0.0     0.0    0.0  ...        0.0     Compact Cars  1993   \n7       0.0     0.0    0.0  ...        0.0     Compact Cars  1993   \n8       0.0     0.0    0.0  ...        0.0     Compact Cars  1993   \n9       0.0     0.0    0.0  ...        0.0     Compact Cars  1993   \n\n   youSaveSpend  charge240b                     createdOn  \\\n0         -1250         0.0  Tue Jan 01 00:00:00 EST 2013   \n1         -8500         0.0  Tue Jan 01 00:00:00 EST 2013   \n2           500         0.0  Tue Jan 01 00:00:00 EST 2013   \n3         -8500         0.0  Tue Jan 01 00:00:00 EST 2013   \n4         -4000         0.0  Tue Jan 01 00:00:00 EST 2013   \n5          -750         0.0  Tue Jan 01 00:00:00 EST 2013   \n6             0         0.0  Tue Jan 01 00:00:00 EST 2013   \n7          -250         0.0  Tue Jan 01 00:00:00 EST 2013   \n8           250         0.0  Tue Jan 01 00:00:00 EST 2013   \n9             0         0.0  Tue Jan 01 00:00:00 EST 2013   \n\n                     modifiedOn  phevCity  phevHwy  phevComb  \n0  Tue Jan 01 00:00:00 EST 2013         0        0         0  \n1  Tue Jan 01 00:00:00 EST 2013         0        0         0  \n2  Tue Jan 01 00:00:00 EST 2013         0        0         0  \n3  Tue Jan 01 00:00:00 EST 2013         0        0         0  \n4  Tue Jan 01 00:00:00 EST 2013         0        0         0  \n5  Tue Jan 01 00:00:00 EST 2013         0        0         0  \n6  Tue Jan 01 00:00:00 EST 2013         0        0         0  \n7  Tue Jan 01 00:00:00 EST 2013         0        0         0  \n8  Tue Jan 01 00:00:00 EST 2013         0        0         0  \n9  Tue Jan 01 00:00:00 EST 2013         0        0         0  \n\n[10 rows x 70 columns]",
      "text/html": "<div>\n<style scoped>\n    .dataframe tbody tr th:only-of-type {\n        vertical-align: middle;\n    }\n\n    .dataframe tbody tr th {\n        vertical-align: top;\n    }\n\n    .dataframe thead th {\n        text-align: right;\n    }\n</style>\n<table border=\"1\" class=\"dataframe\">\n  <thead>\n    <tr style=\"text-align: right;\">\n      <th></th>\n      <th>barrels08</th>\n      <th>barrelsA08</th>\n      <th>charge120</th>\n      <th>charge240</th>\n      <th>city08</th>\n      <th>city08U</th>\n      <th>cityA08</th>\n      <th>cityA08U</th>\n      <th>cityCD</th>\n      <th>cityE</th>\n      <th>...</th>\n      <th>UHighwayA</th>\n      <th>VClass</th>\n      <th>year</th>\n      <th>youSaveSpend</th>\n      <th>charge240b</th>\n      <th>createdOn</th>\n      <th>modifiedOn</th>\n      <th>phevCity</th>\n      <th>phevHwy</th>\n      <th>phevComb</th>\n    </tr>\n  </thead>\n  <tbody>\n    <tr>\n      <th>0</th>\n      <td>15.695714</td>\n      <td>0.0</td>\n      <td>0.0</td>\n      <td>0.0</td>\n      <td>19</td>\n      <td>0.0</td>\n      <td>0</td>\n      <td>0.0</td>\n      <td>0.0</td>\n      <td>0.0</td>\n      <td>...</td>\n      <td>0.0</td>\n      <td>Two Seaters</td>\n      <td>1985</td>\n      <td>-1250</td>\n      <td>0.0</td>\n      <td>Tue Jan 01 00:00:00 EST 2013</td>\n      <td>Tue Jan 01 00:00:00 EST 2013</td>\n      <td>0</td>\n      <td>0</td>\n      <td>0</td>\n    </tr>\n    <tr>\n      <th>1</th>\n      <td>29.964545</td>\n      <td>0.0</td>\n      <td>0.0</td>\n      <td>0.0</td>\n      <td>9</td>\n      <td>0.0</td>\n      <td>0</td>\n      <td>0.0</td>\n      <td>0.0</td>\n      <td>0.0</td>\n      <td>...</td>\n      <td>0.0</td>\n      <td>Two Seaters</td>\n      <td>1985</td>\n      <td>-8500</td>\n      <td>0.0</td>\n      <td>Tue Jan 01 00:00:00 EST 2013</td>\n      <td>Tue Jan 01 00:00:00 EST 2013</td>\n      <td>0</td>\n      <td>0</td>\n      <td>0</td>\n    </tr>\n    <tr>\n      <th>2</th>\n      <td>12.207778</td>\n      <td>0.0</td>\n      <td>0.0</td>\n      <td>0.0</td>\n      <td>23</td>\n      <td>0.0</td>\n      <td>0</td>\n      <td>0.0</td>\n      <td>0.0</td>\n      <td>0.0</td>\n      <td>...</td>\n      <td>0.0</td>\n      <td>Subcompact Cars</td>\n      <td>1985</td>\n      <td>500</td>\n      <td>0.0</td>\n      <td>Tue Jan 01 00:00:00 EST 2013</td>\n      <td>Tue Jan 01 00:00:00 EST 2013</td>\n      <td>0</td>\n      <td>0</td>\n      <td>0</td>\n    </tr>\n    <tr>\n      <th>3</th>\n      <td>29.964545</td>\n      <td>0.0</td>\n      <td>0.0</td>\n      <td>0.0</td>\n      <td>10</td>\n      <td>0.0</td>\n      <td>0</td>\n      <td>0.0</td>\n      <td>0.0</td>\n      <td>0.0</td>\n      <td>...</td>\n      <td>0.0</td>\n      <td>Vans</td>\n      <td>1985</td>\n      <td>-8500</td>\n      <td>0.0</td>\n      <td>Tue Jan 01 00:00:00 EST 2013</td>\n      <td>Tue Jan 01 00:00:00 EST 2013</td>\n      <td>0</td>\n      <td>0</td>\n      <td>0</td>\n    </tr>\n    <tr>\n      <th>4</th>\n      <td>17.347895</td>\n      <td>0.0</td>\n      <td>0.0</td>\n      <td>0.0</td>\n      <td>17</td>\n      <td>0.0</td>\n      <td>0</td>\n      <td>0.0</td>\n      <td>0.0</td>\n      <td>0.0</td>\n      <td>...</td>\n      <td>0.0</td>\n      <td>Compact Cars</td>\n      <td>1993</td>\n      <td>-4000</td>\n      <td>0.0</td>\n      <td>Tue Jan 01 00:00:00 EST 2013</td>\n      <td>Tue Jan 01 00:00:00 EST 2013</td>\n      <td>0</td>\n      <td>0</td>\n      <td>0</td>\n    </tr>\n    <tr>\n      <th>5</th>\n      <td>14.982273</td>\n      <td>0.0</td>\n      <td>0.0</td>\n      <td>0.0</td>\n      <td>21</td>\n      <td>0.0</td>\n      <td>0</td>\n      <td>0.0</td>\n      <td>0.0</td>\n      <td>0.0</td>\n      <td>...</td>\n      <td>0.0</td>\n      <td>Compact Cars</td>\n      <td>1993</td>\n      <td>-750</td>\n      <td>0.0</td>\n      <td>Tue Jan 01 00:00:00 EST 2013</td>\n      <td>Tue Jan 01 00:00:00 EST 2013</td>\n      <td>0</td>\n      <td>0</td>\n      <td>0</td>\n    </tr>\n    <tr>\n      <th>6</th>\n      <td>13.184400</td>\n      <td>0.0</td>\n      <td>0.0</td>\n      <td>0.0</td>\n      <td>22</td>\n      <td>0.0</td>\n      <td>0</td>\n      <td>0.0</td>\n      <td>0.0</td>\n      <td>0.0</td>\n      <td>...</td>\n      <td>0.0</td>\n      <td>Compact Cars</td>\n      <td>1993</td>\n      <td>0</td>\n      <td>0.0</td>\n      <td>Tue Jan 01 00:00:00 EST 2013</td>\n      <td>Tue Jan 01 00:00:00 EST 2013</td>\n      <td>0</td>\n      <td>0</td>\n      <td>0</td>\n    </tr>\n    <tr>\n      <th>7</th>\n      <td>13.733750</td>\n      <td>0.0</td>\n      <td>0.0</td>\n      <td>0.0</td>\n      <td>23</td>\n      <td>0.0</td>\n      <td>0</td>\n      <td>0.0</td>\n      <td>0.0</td>\n      <td>0.0</td>\n      <td>...</td>\n      <td>0.0</td>\n      <td>Compact Cars</td>\n      <td>1993</td>\n      <td>-250</td>\n      <td>0.0</td>\n      <td>Tue Jan 01 00:00:00 EST 2013</td>\n      <td>Tue Jan 01 00:00:00 EST 2013</td>\n      <td>0</td>\n      <td>0</td>\n      <td>0</td>\n    </tr>\n    <tr>\n      <th>8</th>\n      <td>12.677308</td>\n      <td>0.0</td>\n      <td>0.0</td>\n      <td>0.0</td>\n      <td>23</td>\n      <td>0.0</td>\n      <td>0</td>\n      <td>0.0</td>\n      <td>0.0</td>\n      <td>0.0</td>\n      <td>...</td>\n      <td>0.0</td>\n      <td>Compact Cars</td>\n      <td>1993</td>\n      <td>250</td>\n      <td>0.0</td>\n      <td>Tue Jan 01 00:00:00 EST 2013</td>\n      <td>Tue Jan 01 00:00:00 EST 2013</td>\n      <td>0</td>\n      <td>0</td>\n      <td>0</td>\n    </tr>\n    <tr>\n      <th>9</th>\n      <td>13.184400</td>\n      <td>0.0</td>\n      <td>0.0</td>\n      <td>0.0</td>\n      <td>23</td>\n      <td>0.0</td>\n      <td>0</td>\n      <td>0.0</td>\n      <td>0.0</td>\n      <td>0.0</td>\n      <td>...</td>\n      <td>0.0</td>\n      <td>Compact Cars</td>\n      <td>1993</td>\n      <td>0</td>\n      <td>0.0</td>\n      <td>Tue Jan 01 00:00:00 EST 2013</td>\n      <td>Tue Jan 01 00:00:00 EST 2013</td>\n      <td>0</td>\n      <td>0</td>\n      <td>0</td>\n    </tr>\n  </tbody>\n</table>\n<p>10 rows × 70 columns</p>\n</div>"
     },
     "execution_count": 24,
     "metadata": {},
     "output_type": "execute_result"
    }
   ],
   "source": [
    "data.head(10)"
   ],
   "metadata": {
    "collapsed": false,
    "pycharm": {
     "name": "#%%\n"
    }
   }
  },
  {
   "cell_type": "code",
   "execution_count": 25,
   "outputs": [],
   "source": [
    "\"\"\"\n",
    "cylinders: relleno nulos con la mediana (valor más sólido), si son eléctricos relleno con 0\n",
    "\n",
    "displ: relleno nulos con la mediana (valor más sólido), si son eléctricos relleno con 0\n",
    "\n",
    "drive: observo que los registros están ordenados por modelo de coche y asumo que un mismo modelo solo se fabrica con\n",
    "un modo de tracción por lo que relleno con el último valor conocido (forwardfill)\n",
    "\n",
    "trany: solo tengo 11 valores nulos y en este caso puede tomar muchos valores distintos para un mismo modelo (manual\n",
    "5V, manual 6V, secuencial, automático...) decido rellenar con 'Unknown'\n",
    "\"\"\"\n",
    "\n",
    "# Lo aplico primero para no tener en cuenta los eléctricos al calcular la mediana\n",
    "data['cylinders'][data['fuelType'] != 'Electricity'].fillna(data['cylinders'].median(), inplace=True)\n",
    "data['displ'][data['fuelType'] != 'Electricity'].fillna(data['cylinders'].median(), inplace=True)\n",
    "\n",
    "data['drive'].fillna(method='ffill', inplace=True)\n",
    "\n",
    "# Puedo hacer la asignación en varias columnas a la vez\n",
    "data.fillna(value={'cylinders': 0,\n",
    "                   'displ': 0,\n",
    "                   'trany': 'unknown'}, inplace=True);"
   ],
   "metadata": {
    "collapsed": false,
    "pycharm": {
     "name": "#%%\n"
    }
   }
  },
  {
   "cell_type": "code",
   "execution_count": 26,
   "outputs": [
    {
     "data": {
      "text/plain": "Series([], dtype: int64)"
     },
     "execution_count": 26,
     "metadata": {},
     "output_type": "execute_result"
    }
   ],
   "source": [
    "# Compruebo los nulos\n",
    "data.isna().sum()[data.isna().sum() > 0]"
   ],
   "metadata": {
    "collapsed": false,
    "pycharm": {
     "name": "#%%\n"
    }
   }
  },
  {
   "cell_type": "markdown",
   "metadata": {
    "pycharm": {
     "name": "#%% md\n"
    }
   },
   "source": [
    "## Bonus: \n",
    "Now that we have filled in those null values, there are only two columns in the data set that still have null values: trany and drive. Use what you have learned in this section to investigate and potentially fill in the remaining null values."
   ]
  },
  {
   "cell_type": "code",
   "execution_count": 27,
   "metadata": {
    "pycharm": {
     "name": "#%%\n"
    }
   },
   "outputs": [],
   "source": [
    "# Resuelto en el apartado anterior"
   ]
  },
  {
   "cell_type": "markdown",
   "metadata": {
    "pycharm": {
     "name": "#%% md\n"
    }
   },
   "source": [
    "# Incorrect Values\n",
    "\n",
    "In addition to null values, we also want to try to identify any values that seem incorrect. For example, in the previous section, we learned that a vehicle without cylinders should not have displacement and vice versa. Let's check to see if there are any cases that violate these rules."
   ]
  },
  {
   "cell_type": "code",
   "execution_count": 28,
   "metadata": {
    "pycharm": {
     "name": "#%%\n"
    }
   },
   "outputs": [
    {
     "data": {
      "text/plain": "       cylinders  displ\n21506        0.0    1.3",
      "text/html": "<div>\n<style scoped>\n    .dataframe tbody tr th:only-of-type {\n        vertical-align: middle;\n    }\n\n    .dataframe tbody tr th {\n        vertical-align: top;\n    }\n\n    .dataframe thead th {\n        text-align: right;\n    }\n</style>\n<table border=\"1\" class=\"dataframe\">\n  <thead>\n    <tr style=\"text-align: right;\">\n      <th></th>\n      <th>cylinders</th>\n      <th>displ</th>\n    </tr>\n  </thead>\n  <tbody>\n    <tr>\n      <th>21506</th>\n      <td>0.0</td>\n      <td>1.3</td>\n    </tr>\n  </tbody>\n</table>\n</div>"
     },
     "execution_count": 28,
     "metadata": {},
     "output_type": "execute_result"
    }
   ],
   "source": [
    "data.loc[(data['cylinders'] == 0) & (data['displ'] != 0), :][['cylinders', 'displ']]"
   ]
  },
  {
   "cell_type": "code",
   "execution_count": 29,
   "outputs": [
    {
     "data": {
      "text/plain": "Empty DataFrame\nColumns: [cylinders, displ]\nIndex: []",
      "text/html": "<div>\n<style scoped>\n    .dataframe tbody tr th:only-of-type {\n        vertical-align: middle;\n    }\n\n    .dataframe tbody tr th {\n        vertical-align: top;\n    }\n\n    .dataframe thead th {\n        text-align: right;\n    }\n</style>\n<table border=\"1\" class=\"dataframe\">\n  <thead>\n    <tr style=\"text-align: right;\">\n      <th></th>\n      <th>cylinders</th>\n      <th>displ</th>\n    </tr>\n  </thead>\n  <tbody>\n  </tbody>\n</table>\n</div>"
     },
     "execution_count": 29,
     "metadata": {},
     "output_type": "execute_result"
    }
   ],
   "source": [
    "data.loc[(data['cylinders'] != 0) & (data['displ'] == 0), :][['cylinders', 'displ']]"
   ],
   "metadata": {
    "collapsed": false,
    "pycharm": {
     "name": "#%%\n"
    }
   }
  },
  {
   "cell_type": "markdown",
   "metadata": {
    "pycharm": {
     "name": "#%% md\n"
    }
   },
   "source": [
    "Is there any row that seems to have strange values?"
   ]
  },
  {
   "cell_type": "code",
   "execution_count": 30,
   "metadata": {
    "pycharm": {
     "name": "#%%\n"
    }
   },
   "outputs": [
    {
     "data": {
      "text/plain": "barrels08                        18.311667\nbarrelsA08                             0.0\ncharge120                              0.0\ncharge240                              0.0\ncity08                                  15\n                          ...             \ncreatedOn     Tue Jan 01 00:00:00 EST 2013\nmodifiedOn    Tue Jan 01 00:00:00 EST 2013\nphevCity                                 0\nphevHwy                                  0\nphevComb                                 0\nName: 21506, Length: 70, dtype: object"
     },
     "execution_count": 30,
     "metadata": {},
     "output_type": "execute_result"
    }
   ],
   "source": [
    "data.iloc[21506, :]"
   ]
  },
  {
   "cell_type": "code",
   "execution_count": 31,
   "outputs": [],
   "source": [
    "# El registro 21506 refleja un vehículo de gasolina que no tiene cilindros y tiene desplazamiento.\n",
    "# No se trata de un error, se trata del motor renesis (motor Wankel) de Mazda\n",
    "# https://thumbs.gfycat.com/PlayfulKindheartedAfricanpiedkingfisher-mobile.mp4"
   ],
   "metadata": {
    "collapsed": false,
    "pycharm": {
     "name": "#%%\n"
    }
   }
  },
  {
   "cell_type": "markdown",
   "metadata": {
    "pycharm": {
     "name": "#%% md\n"
    }
   },
   "source": [
    "Here we have identified a vehicle with a regular gasoline engine that reportedly does not have any cylinders but does have a value for displacement. "
   ]
  },
  {
   "cell_type": "markdown",
   "metadata": {
    "pycharm": {
     "name": "#%% md\n"
    }
   },
   "source": [
    "The way we would correct this would be to either perform some domain research or ask a domain expert to find out how many actual cylinders this vehicle had. Alternatively, you can also try to look at similar vehicles in the data set and determine the most likely value for this field."
   ]
  },
  {
   "cell_type": "markdown",
   "metadata": {
    "pycharm": {
     "name": "#%% md\n"
    }
   },
   "source": [
    "## Check similar rows"
   ]
  },
  {
   "cell_type": "code",
   "execution_count": 32,
   "metadata": {
    "pycharm": {
     "name": "#%%\n"
    }
   },
   "outputs": [
    {
     "data": {
      "text/plain": "Empty DataFrame\nColumns: [barrels08, barrelsA08, charge120, charge240, city08, city08U, cityA08, cityA08U, cityCD, cityE, cityUF, co2, co2A, co2TailpipeAGpm, co2TailpipeGpm, comb08, comb08U, combA08, combA08U, combE, combinedCD, combinedUF, cylinders, displ, drive, engId, feScore, fuelCost08, fuelCostA08, fuelType, fuelType1, ghgScore, ghgScoreA, highway08, highway08U, highwayA08, highwayA08U, highwayCD, highwayE, highwayUF, hlv, hpv, id, lv2, lv4, make, model, mpgData, phevBlended, pv2, pv4, range, rangeCity, rangeCityA, rangeHwy, rangeHwyA, trany, UCity, UCityA, UHighway, UHighwayA, VClass, year, youSaveSpend, charge240b, createdOn, modifiedOn, phevCity, phevHwy, phevComb]\nIndex: []\n\n[0 rows x 70 columns]",
      "text/html": "<div>\n<style scoped>\n    .dataframe tbody tr th:only-of-type {\n        vertical-align: middle;\n    }\n\n    .dataframe tbody tr th {\n        vertical-align: top;\n    }\n\n    .dataframe thead th {\n        text-align: right;\n    }\n</style>\n<table border=\"1\" class=\"dataframe\">\n  <thead>\n    <tr style=\"text-align: right;\">\n      <th></th>\n      <th>barrels08</th>\n      <th>barrelsA08</th>\n      <th>charge120</th>\n      <th>charge240</th>\n      <th>city08</th>\n      <th>city08U</th>\n      <th>cityA08</th>\n      <th>cityA08U</th>\n      <th>cityCD</th>\n      <th>cityE</th>\n      <th>...</th>\n      <th>UHighwayA</th>\n      <th>VClass</th>\n      <th>year</th>\n      <th>youSaveSpend</th>\n      <th>charge240b</th>\n      <th>createdOn</th>\n      <th>modifiedOn</th>\n      <th>phevCity</th>\n      <th>phevHwy</th>\n      <th>phevComb</th>\n    </tr>\n  </thead>\n  <tbody>\n  </tbody>\n</table>\n<p>0 rows × 70 columns</p>\n</div>"
     },
     "execution_count": 32,
     "metadata": {},
     "output_type": "execute_result"
    }
   ],
   "source": [
    "data[data.duplicated() == True]"
   ]
  },
  {
   "cell_type": "markdown",
   "metadata": {
    "pycharm": {
     "name": "#%% md\n"
    }
   },
   "source": [
    "Suppose that using one of the aforementioned methods, we found out that this vehicle actually has a 4 cylinder engine. Update that specific value in the data frame."
   ]
  },
  {
   "cell_type": "code",
   "execution_count": 33,
   "outputs": [
    {
     "data": {
      "text/plain": "21506    0.0\nName: cylinders, dtype: float64"
     },
     "execution_count": 33,
     "metadata": {},
     "output_type": "execute_result"
    }
   ],
   "source": [
    "data.loc[(data['model'] == 'RX-7') & (data['cylinders'] == 0), 'cylinders']  # Localizo el registro"
   ],
   "metadata": {
    "collapsed": false,
    "pycharm": {
     "name": "#%%\n"
    }
   }
  },
  {
   "cell_type": "code",
   "execution_count": 34,
   "metadata": {
    "pycharm": {
     "name": "#%%\n"
    }
   },
   "outputs": [],
   "source": [
    "data.loc[(data['model'] == 'RX-7') & (data['cylinders'] == 0), 'cylinders'] = 4.0  # Reasigno el valor"
   ]
  },
  {
   "cell_type": "code",
   "execution_count": 35,
   "outputs": [
    {
     "data": {
      "text/plain": "4.0"
     },
     "execution_count": 35,
     "metadata": {},
     "output_type": "execute_result"
    }
   ],
   "source": [
    "# Localizo el índice de la columna y uso iloc para acceder por índices al valor\n",
    "list(data.columns).index('cylinders')\n",
    "data.iloc[21506, 22]"
   ],
   "metadata": {
    "collapsed": false,
    "pycharm": {
     "name": "#%%\n"
    }
   }
  },
  {
   "cell_type": "markdown",
   "metadata": {
    "pycharm": {
     "name": "#%% md\n"
    }
   },
   "source": [
    "## Bonus: \n",
    " Try to find other values that might be incorrect in the data set based on what you know about automobiles and correct them."
   ]
  },
  {
   "cell_type": "code",
   "execution_count": 36,
   "metadata": {
    "pycharm": {
     "name": "#%%\n"
    }
   },
   "outputs": [],
   "source": [
    "#your code"
   ]
  },
  {
   "cell_type": "markdown",
   "metadata": {
    "pycharm": {
     "name": "#%% md\n"
    }
   },
   "source": [
    "# Low Variance Columns\n",
    "\n",
    "When analyzing data, we want the fields we are working with to be informative, and we will want to strip away any columns that don't have a lot of value to us. One easy way to do this is to identify columns that have low variance, where the majority of the values in the column are the same. Since there is not a lot of variability in these columns, they have the potential to not be as informative as columns that have a variety of different values in them.\n",
    "\n",
    "Let's try to identify columns where at least 90% of the values are the same so that we can remove them from our data set. To do this, we are going to create an empty list called low_variance that will eventually contain the names of columns that fit our criteria.\n",
    "\n",
    "We will then write a for loop that will take the minimum and the 90th percentile value for all the numeric columns in our data set (identified via the _get_numeric_data method). If the 90th percentile and the minimum are equal to each other, that means that at least 90% of the values in that column are the same and we will append that column name to our low_variance list."
   ]
  },
  {
   "cell_type": "code",
   "execution_count": 37,
   "outputs": [
    {
     "data": {
      "text/plain": "dtype('bool')"
     },
     "execution_count": 37,
     "metadata": {},
     "output_type": "execute_result"
    }
   ],
   "source": [
    "# investigando el DataFrame localizao que una columna es booleana\n",
    "data['phevBlended'].dtype"
   ],
   "metadata": {
    "collapsed": false,
    "pycharm": {
     "name": "#%%\n"
    }
   }
  },
  {
   "cell_type": "code",
   "execution_count": 38,
   "outputs": [],
   "source": [
    "# Selecciono las columnas numéricas o booleanas (1 o 0)\n",
    "cols_numeric = data.select_dtypes(include=[np.number, bool]).columns"
   ],
   "metadata": {
    "collapsed": false,
    "pycharm": {
     "name": "#%%\n"
    }
   }
  },
  {
   "cell_type": "code",
   "execution_count": 39,
   "outputs": [],
   "source": [
    "# transformo True y False en 1 y 0\n",
    "data['phevBlended'] = data['phevBlended'].astype(int)"
   ],
   "metadata": {
    "collapsed": false,
    "pycharm": {
     "name": "#%%\n"
    }
   }
  },
  {
   "cell_type": "code",
   "execution_count": 40,
   "outputs": [
    {
     "data": {
      "text/plain": "34"
     },
     "execution_count": 40,
     "metadata": {},
     "output_type": "execute_result"
    }
   ],
   "source": [
    "# Localizo las columnas con baja varianza\n",
    "low_variance = []\n",
    "\n",
    "for col in data._get_numeric_data().columns:\n",
    "\n",
    "    if data[col].min() == data[col].quantile(.9):\n",
    "        low_variance.append(col)\n",
    "\n",
    "len(low_variance)"
   ],
   "metadata": {
    "collapsed": false,
    "pycharm": {
     "name": "#%%\n"
    }
   }
  },
  {
   "cell_type": "markdown",
   "source": [
    "This returned 34 columns that we could potentially eliminate due to not having high enough variability to be informative. Of course, before we do this, we should check the values that do exist in these fields to confirm that they are not very informative. Once they have been checked, we can use the the drop method like we did earlier in this lesson to remove those columns from our data frame.\n",
    "\n"
   ],
   "metadata": {
    "collapsed": false,
    "pycharm": {
     "name": "#%% md\n"
    }
   }
  },
  {
   "cell_type": "markdown",
   "source": [
    "## Use the the drop method like we did earlier in this lesson to remove the non informative columns from our data frame."
   ],
   "metadata": {
    "collapsed": false,
    "pycharm": {
     "name": "#%% md\n"
    }
   }
  },
  {
   "cell_type": "code",
   "execution_count": 41,
   "outputs": [
    {
     "data": {
      "text/plain": "(37843, 70)"
     },
     "execution_count": 41,
     "metadata": {},
     "output_type": "execute_result"
    }
   ],
   "source": [
    "data.shape"
   ],
   "metadata": {
    "collapsed": false,
    "pycharm": {
     "name": "#%%\n"
    }
   }
  },
  {
   "cell_type": "code",
   "execution_count": 42,
   "outputs": [],
   "source": [
    "data.drop(low_variance, axis=1, inplace=True)"
   ],
   "metadata": {
    "collapsed": false,
    "pycharm": {
     "name": "#%%\n"
    }
   }
  },
  {
   "cell_type": "code",
   "execution_count": 43,
   "outputs": [
    {
     "data": {
      "text/plain": "(37843, 36)"
     },
     "execution_count": 43,
     "metadata": {},
     "output_type": "execute_result"
    }
   ],
   "source": [
    "data.shape"
   ],
   "metadata": {
    "collapsed": false,
    "pycharm": {
     "name": "#%%\n"
    }
   }
  },
  {
   "cell_type": "markdown",
   "source": [
    "# Extreme Values and Outliers\n",
    "\n",
    "Now that we have removed low variance columns, we should look for outliers, or extreme values, in the columns that remain. These outliers can influence our aggregations when we are analyzing data later, so we want to make sure we address them during our data cleaning stage.\n",
    "\n",
    "A common method for identifying outliers is one that leverages the interquartile range (IQR). Once the IQR is calculated, it is multiplied by a constant (typically 1.5) and lower and upper bounds are established at:\n",
    "\n",
    "    25th Percentile - (IQR x 1.5)\n",
    "    75th Percentile + (IQR x 1.5)\n",
    "\n",
    "Any values outside this range are potential outliers and should be investigated.\n",
    "\n",
    "Let's look at how we would do this for our data set using Python. We will use the Pandas describe function to easily calculate the 25th and 75th percentiles for every column and transpose the results so that we can easily reference the values in calculating the interquartile ranges.\n",
    "\n"
   ],
   "metadata": {
    "collapsed": false,
    "pycharm": {
     "name": "#%% md\n"
    }
   }
  },
  {
   "cell_type": "code",
   "execution_count": 44,
   "metadata": {
    "pycharm": {
     "name": "#%%\n"
    }
   },
   "outputs": [
    {
     "data": {
      "text/plain": "                  count          mean           std       min         25%  \\\nbarrels08       37843.0     17.532506      4.575950      0.06    14.33087   \ncity08          37843.0     17.941389      6.660360      6.00    15.00000   \ncity08U         37843.0      4.042737      9.645820      0.00     0.00000   \nco2             37843.0     61.503713    153.387715     -1.00    -1.00000   \nco2TailpipeGpm  37843.0    473.179736    122.188847      0.00   388.00000   \ncomb08          37843.0     20.195809      6.623444      7.00    17.00000   \ncomb08U         37843.0      4.549751     10.389994      0.00     0.00000   \ncylinders       37843.0      5.719446      1.778959      0.00     4.00000   \ndispl           37843.0      3.307658      1.371982      0.00     2.20000   \nengId           37843.0   8860.308961  17829.683477      0.00     0.00000   \nfeScore         37843.0     -0.035145      2.379584     -1.00    -1.00000   \nfuelCost08      37843.0   1882.060090    510.280408    550.00  1500.00000   \nghgScore        37843.0     -0.037206      2.374338     -1.00    -1.00000   \nhighway08       37843.0     24.104881      6.963192      9.00    20.00000   \nhighway08U      37843.0      5.438467     11.936327      0.00     0.00000   \nhlv             37843.0      2.026214      5.947989      0.00     0.00000   \nhpv             37843.0     10.424332     28.148770      0.00     0.00000   \nid              37843.0  19019.286235  11034.784855      1.00  9461.50000   \nlv2             37843.0      1.849219      4.429983      0.00     0.00000   \nlv4             37843.0      6.165658      9.743297      0.00     0.00000   \npv2             37843.0     13.696113     31.269930      0.00     0.00000   \npv4             37843.0     33.769125     45.914462      0.00     0.00000   \nUCity           37843.0     22.587229      9.350163      0.00    18.00000   \nUHighway        37843.0     33.619221     10.048326      0.00    27.10000   \nyear            37843.0   2000.064398     10.390588   1984.00  1990.00000   \nyouSaveSpend    37843.0  -2658.999022   2553.098329 -22250.00 -4250.00000   \n\n                         50%           75%           max           IQR  \nbarrels08          17.347895     20.600625     47.087143      6.269755  \ncity08             17.000000     20.000000    138.000000      5.000000  \ncity08U             0.000000      0.000000    138.304000      0.000000  \nco2                -1.000000     -1.000000    847.000000      0.000000  \nco2TailpipeGpm    467.736842    555.437500   1269.571429    167.437500  \ncomb08             19.000000     23.000000    124.000000      6.000000  \ncomb08U             0.000000      0.000000    124.360100      0.000000  \ncylinders           6.000000      6.000000     16.000000      2.000000  \ndispl               3.000000      4.300000      8.400000      2.100000  \nengId             211.000000   4505.000000  69102.000000   4505.000000  \nfeScore            -1.000000     -1.000000     10.000000      0.000000  \nfuelCost08       1850.000000   2200.000000   5800.000000    700.000000  \nghgScore           -1.000000     -1.000000     10.000000      0.000000  \nhighway08          24.000000     27.000000    111.000000      7.000000  \nhighway08U          0.000000      0.000000    111.370000      0.000000  \nhlv                 0.000000      0.000000     49.000000      0.000000  \nhpv                 0.000000      0.000000    195.000000      0.000000  \nid              18923.000000  28570.500000  38173.000000  19109.000000  \nlv2                 0.000000      0.000000     41.000000      0.000000  \nlv4                 0.000000     13.000000     55.000000     13.000000  \npv2                 0.000000      0.000000    194.000000      0.000000  \npv4                 0.000000     91.000000    192.000000     91.000000  \nUCity              21.000000     25.139300    197.577100      7.139300  \nUHighway           33.000000     38.109600    159.100000     11.009600  \nyear             2001.000000   2009.000000   2017.000000     19.000000  \nyouSaveSpend    -2500.000000   -750.000000   4000.000000   3500.000000  ",
      "text/html": "<div>\n<style scoped>\n    .dataframe tbody tr th:only-of-type {\n        vertical-align: middle;\n    }\n\n    .dataframe tbody tr th {\n        vertical-align: top;\n    }\n\n    .dataframe thead th {\n        text-align: right;\n    }\n</style>\n<table border=\"1\" class=\"dataframe\">\n  <thead>\n    <tr style=\"text-align: right;\">\n      <th></th>\n      <th>count</th>\n      <th>mean</th>\n      <th>std</th>\n      <th>min</th>\n      <th>25%</th>\n      <th>50%</th>\n      <th>75%</th>\n      <th>max</th>\n      <th>IQR</th>\n    </tr>\n  </thead>\n  <tbody>\n    <tr>\n      <th>barrels08</th>\n      <td>37843.0</td>\n      <td>17.532506</td>\n      <td>4.575950</td>\n      <td>0.06</td>\n      <td>14.33087</td>\n      <td>17.347895</td>\n      <td>20.600625</td>\n      <td>47.087143</td>\n      <td>6.269755</td>\n    </tr>\n    <tr>\n      <th>city08</th>\n      <td>37843.0</td>\n      <td>17.941389</td>\n      <td>6.660360</td>\n      <td>6.00</td>\n      <td>15.00000</td>\n      <td>17.000000</td>\n      <td>20.000000</td>\n      <td>138.000000</td>\n      <td>5.000000</td>\n    </tr>\n    <tr>\n      <th>city08U</th>\n      <td>37843.0</td>\n      <td>4.042737</td>\n      <td>9.645820</td>\n      <td>0.00</td>\n      <td>0.00000</td>\n      <td>0.000000</td>\n      <td>0.000000</td>\n      <td>138.304000</td>\n      <td>0.000000</td>\n    </tr>\n    <tr>\n      <th>co2</th>\n      <td>37843.0</td>\n      <td>61.503713</td>\n      <td>153.387715</td>\n      <td>-1.00</td>\n      <td>-1.00000</td>\n      <td>-1.000000</td>\n      <td>-1.000000</td>\n      <td>847.000000</td>\n      <td>0.000000</td>\n    </tr>\n    <tr>\n      <th>co2TailpipeGpm</th>\n      <td>37843.0</td>\n      <td>473.179736</td>\n      <td>122.188847</td>\n      <td>0.00</td>\n      <td>388.00000</td>\n      <td>467.736842</td>\n      <td>555.437500</td>\n      <td>1269.571429</td>\n      <td>167.437500</td>\n    </tr>\n    <tr>\n      <th>comb08</th>\n      <td>37843.0</td>\n      <td>20.195809</td>\n      <td>6.623444</td>\n      <td>7.00</td>\n      <td>17.00000</td>\n      <td>19.000000</td>\n      <td>23.000000</td>\n      <td>124.000000</td>\n      <td>6.000000</td>\n    </tr>\n    <tr>\n      <th>comb08U</th>\n      <td>37843.0</td>\n      <td>4.549751</td>\n      <td>10.389994</td>\n      <td>0.00</td>\n      <td>0.00000</td>\n      <td>0.000000</td>\n      <td>0.000000</td>\n      <td>124.360100</td>\n      <td>0.000000</td>\n    </tr>\n    <tr>\n      <th>cylinders</th>\n      <td>37843.0</td>\n      <td>5.719446</td>\n      <td>1.778959</td>\n      <td>0.00</td>\n      <td>4.00000</td>\n      <td>6.000000</td>\n      <td>6.000000</td>\n      <td>16.000000</td>\n      <td>2.000000</td>\n    </tr>\n    <tr>\n      <th>displ</th>\n      <td>37843.0</td>\n      <td>3.307658</td>\n      <td>1.371982</td>\n      <td>0.00</td>\n      <td>2.20000</td>\n      <td>3.000000</td>\n      <td>4.300000</td>\n      <td>8.400000</td>\n      <td>2.100000</td>\n    </tr>\n    <tr>\n      <th>engId</th>\n      <td>37843.0</td>\n      <td>8860.308961</td>\n      <td>17829.683477</td>\n      <td>0.00</td>\n      <td>0.00000</td>\n      <td>211.000000</td>\n      <td>4505.000000</td>\n      <td>69102.000000</td>\n      <td>4505.000000</td>\n    </tr>\n    <tr>\n      <th>feScore</th>\n      <td>37843.0</td>\n      <td>-0.035145</td>\n      <td>2.379584</td>\n      <td>-1.00</td>\n      <td>-1.00000</td>\n      <td>-1.000000</td>\n      <td>-1.000000</td>\n      <td>10.000000</td>\n      <td>0.000000</td>\n    </tr>\n    <tr>\n      <th>fuelCost08</th>\n      <td>37843.0</td>\n      <td>1882.060090</td>\n      <td>510.280408</td>\n      <td>550.00</td>\n      <td>1500.00000</td>\n      <td>1850.000000</td>\n      <td>2200.000000</td>\n      <td>5800.000000</td>\n      <td>700.000000</td>\n    </tr>\n    <tr>\n      <th>ghgScore</th>\n      <td>37843.0</td>\n      <td>-0.037206</td>\n      <td>2.374338</td>\n      <td>-1.00</td>\n      <td>-1.00000</td>\n      <td>-1.000000</td>\n      <td>-1.000000</td>\n      <td>10.000000</td>\n      <td>0.000000</td>\n    </tr>\n    <tr>\n      <th>highway08</th>\n      <td>37843.0</td>\n      <td>24.104881</td>\n      <td>6.963192</td>\n      <td>9.00</td>\n      <td>20.00000</td>\n      <td>24.000000</td>\n      <td>27.000000</td>\n      <td>111.000000</td>\n      <td>7.000000</td>\n    </tr>\n    <tr>\n      <th>highway08U</th>\n      <td>37843.0</td>\n      <td>5.438467</td>\n      <td>11.936327</td>\n      <td>0.00</td>\n      <td>0.00000</td>\n      <td>0.000000</td>\n      <td>0.000000</td>\n      <td>111.370000</td>\n      <td>0.000000</td>\n    </tr>\n    <tr>\n      <th>hlv</th>\n      <td>37843.0</td>\n      <td>2.026214</td>\n      <td>5.947989</td>\n      <td>0.00</td>\n      <td>0.00000</td>\n      <td>0.000000</td>\n      <td>0.000000</td>\n      <td>49.000000</td>\n      <td>0.000000</td>\n    </tr>\n    <tr>\n      <th>hpv</th>\n      <td>37843.0</td>\n      <td>10.424332</td>\n      <td>28.148770</td>\n      <td>0.00</td>\n      <td>0.00000</td>\n      <td>0.000000</td>\n      <td>0.000000</td>\n      <td>195.000000</td>\n      <td>0.000000</td>\n    </tr>\n    <tr>\n      <th>id</th>\n      <td>37843.0</td>\n      <td>19019.286235</td>\n      <td>11034.784855</td>\n      <td>1.00</td>\n      <td>9461.50000</td>\n      <td>18923.000000</td>\n      <td>28570.500000</td>\n      <td>38173.000000</td>\n      <td>19109.000000</td>\n    </tr>\n    <tr>\n      <th>lv2</th>\n      <td>37843.0</td>\n      <td>1.849219</td>\n      <td>4.429983</td>\n      <td>0.00</td>\n      <td>0.00000</td>\n      <td>0.000000</td>\n      <td>0.000000</td>\n      <td>41.000000</td>\n      <td>0.000000</td>\n    </tr>\n    <tr>\n      <th>lv4</th>\n      <td>37843.0</td>\n      <td>6.165658</td>\n      <td>9.743297</td>\n      <td>0.00</td>\n      <td>0.00000</td>\n      <td>0.000000</td>\n      <td>13.000000</td>\n      <td>55.000000</td>\n      <td>13.000000</td>\n    </tr>\n    <tr>\n      <th>pv2</th>\n      <td>37843.0</td>\n      <td>13.696113</td>\n      <td>31.269930</td>\n      <td>0.00</td>\n      <td>0.00000</td>\n      <td>0.000000</td>\n      <td>0.000000</td>\n      <td>194.000000</td>\n      <td>0.000000</td>\n    </tr>\n    <tr>\n      <th>pv4</th>\n      <td>37843.0</td>\n      <td>33.769125</td>\n      <td>45.914462</td>\n      <td>0.00</td>\n      <td>0.00000</td>\n      <td>0.000000</td>\n      <td>91.000000</td>\n      <td>192.000000</td>\n      <td>91.000000</td>\n    </tr>\n    <tr>\n      <th>UCity</th>\n      <td>37843.0</td>\n      <td>22.587229</td>\n      <td>9.350163</td>\n      <td>0.00</td>\n      <td>18.00000</td>\n      <td>21.000000</td>\n      <td>25.139300</td>\n      <td>197.577100</td>\n      <td>7.139300</td>\n    </tr>\n    <tr>\n      <th>UHighway</th>\n      <td>37843.0</td>\n      <td>33.619221</td>\n      <td>10.048326</td>\n      <td>0.00</td>\n      <td>27.10000</td>\n      <td>33.000000</td>\n      <td>38.109600</td>\n      <td>159.100000</td>\n      <td>11.009600</td>\n    </tr>\n    <tr>\n      <th>year</th>\n      <td>37843.0</td>\n      <td>2000.064398</td>\n      <td>10.390588</td>\n      <td>1984.00</td>\n      <td>1990.00000</td>\n      <td>2001.000000</td>\n      <td>2009.000000</td>\n      <td>2017.000000</td>\n      <td>19.000000</td>\n    </tr>\n    <tr>\n      <th>youSaveSpend</th>\n      <td>37843.0</td>\n      <td>-2658.999022</td>\n      <td>2553.098329</td>\n      <td>-22250.00</td>\n      <td>-4250.00000</td>\n      <td>-2500.000000</td>\n      <td>-750.000000</td>\n      <td>4000.000000</td>\n      <td>3500.000000</td>\n    </tr>\n  </tbody>\n</table>\n</div>"
     },
     "execution_count": 44,
     "metadata": {},
     "output_type": "execute_result"
    }
   ],
   "source": [
    "#Run this code\n",
    "stats = data.describe().transpose()\n",
    "stats['IQR'] = stats['75%'] - stats['25%']\n",
    "stats"
   ]
  },
  {
   "cell_type": "markdown",
   "metadata": {
    "pycharm": {
     "name": "#%% md\n"
    }
   },
   "source": [
    "We will then create an empty data frame called outliers with the same columns as our data set. Finally, we will loop through each column in the data calculating the lower and upper bounds, retrieving records where the value for that column falls outside the bounds we established, and appending those results to our outlier data frame."
   ]
  },
  {
   "cell_type": "code",
   "execution_count": 45,
   "metadata": {
    "pycharm": {
     "name": "#%%\n"
    }
   },
   "outputs": [
    {
     "name": "stderr",
     "output_type": "stream",
     "text": [
      "/var/folders/y_/_52qkxrx2mzfn2jljd0q7gy00000gn/T/ipykernel_8381/2419466631.py:12: FutureWarning: The frame.append method is deprecated and will be removed from pandas in a future version. Use pandas.concat instead.\n",
      "  outliers = outliers.append(results)\n",
      "/var/folders/y_/_52qkxrx2mzfn2jljd0q7gy00000gn/T/ipykernel_8381/2419466631.py:12: FutureWarning: The frame.append method is deprecated and will be removed from pandas in a future version. Use pandas.concat instead.\n",
      "  outliers = outliers.append(results)\n",
      "/var/folders/y_/_52qkxrx2mzfn2jljd0q7gy00000gn/T/ipykernel_8381/2419466631.py:12: FutureWarning: The frame.append method is deprecated and will be removed from pandas in a future version. Use pandas.concat instead.\n",
      "  outliers = outliers.append(results)\n",
      "/var/folders/y_/_52qkxrx2mzfn2jljd0q7gy00000gn/T/ipykernel_8381/2419466631.py:12: FutureWarning: The frame.append method is deprecated and will be removed from pandas in a future version. Use pandas.concat instead.\n",
      "  outliers = outliers.append(results)\n",
      "/var/folders/y_/_52qkxrx2mzfn2jljd0q7gy00000gn/T/ipykernel_8381/2419466631.py:12: FutureWarning: The frame.append method is deprecated and will be removed from pandas in a future version. Use pandas.concat instead.\n",
      "  outliers = outliers.append(results)\n",
      "/var/folders/y_/_52qkxrx2mzfn2jljd0q7gy00000gn/T/ipykernel_8381/2419466631.py:12: FutureWarning: The frame.append method is deprecated and will be removed from pandas in a future version. Use pandas.concat instead.\n",
      "  outliers = outliers.append(results)\n",
      "/var/folders/y_/_52qkxrx2mzfn2jljd0q7gy00000gn/T/ipykernel_8381/2419466631.py:12: FutureWarning: The frame.append method is deprecated and will be removed from pandas in a future version. Use pandas.concat instead.\n",
      "  outliers = outliers.append(results)\n",
      "/var/folders/y_/_52qkxrx2mzfn2jljd0q7gy00000gn/T/ipykernel_8381/2419466631.py:12: FutureWarning: The frame.append method is deprecated and will be removed from pandas in a future version. Use pandas.concat instead.\n",
      "  outliers = outliers.append(results)\n",
      "/var/folders/y_/_52qkxrx2mzfn2jljd0q7gy00000gn/T/ipykernel_8381/2419466631.py:12: FutureWarning: The frame.append method is deprecated and will be removed from pandas in a future version. Use pandas.concat instead.\n",
      "  outliers = outliers.append(results)\n",
      "/var/folders/y_/_52qkxrx2mzfn2jljd0q7gy00000gn/T/ipykernel_8381/2419466631.py:12: FutureWarning: The frame.append method is deprecated and will be removed from pandas in a future version. Use pandas.concat instead.\n",
      "  outliers = outliers.append(results)\n",
      "/var/folders/y_/_52qkxrx2mzfn2jljd0q7gy00000gn/T/ipykernel_8381/2419466631.py:12: FutureWarning: The frame.append method is deprecated and will be removed from pandas in a future version. Use pandas.concat instead.\n",
      "  outliers = outliers.append(results)\n",
      "/var/folders/y_/_52qkxrx2mzfn2jljd0q7gy00000gn/T/ipykernel_8381/2419466631.py:12: FutureWarning: The frame.append method is deprecated and will be removed from pandas in a future version. Use pandas.concat instead.\n",
      "  outliers = outliers.append(results)\n",
      "/var/folders/y_/_52qkxrx2mzfn2jljd0q7gy00000gn/T/ipykernel_8381/2419466631.py:12: FutureWarning: The frame.append method is deprecated and will be removed from pandas in a future version. Use pandas.concat instead.\n",
      "  outliers = outliers.append(results)\n",
      "/var/folders/y_/_52qkxrx2mzfn2jljd0q7gy00000gn/T/ipykernel_8381/2419466631.py:12: FutureWarning: The frame.append method is deprecated and will be removed from pandas in a future version. Use pandas.concat instead.\n",
      "  outliers = outliers.append(results)\n",
      "/var/folders/y_/_52qkxrx2mzfn2jljd0q7gy00000gn/T/ipykernel_8381/2419466631.py:12: FutureWarning: The frame.append method is deprecated and will be removed from pandas in a future version. Use pandas.concat instead.\n",
      "  outliers = outliers.append(results)\n",
      "/var/folders/y_/_52qkxrx2mzfn2jljd0q7gy00000gn/T/ipykernel_8381/2419466631.py:12: FutureWarning: The frame.append method is deprecated and will be removed from pandas in a future version. Use pandas.concat instead.\n",
      "  outliers = outliers.append(results)\n",
      "/var/folders/y_/_52qkxrx2mzfn2jljd0q7gy00000gn/T/ipykernel_8381/2419466631.py:12: FutureWarning: The frame.append method is deprecated and will be removed from pandas in a future version. Use pandas.concat instead.\n",
      "  outliers = outliers.append(results)\n",
      "/var/folders/y_/_52qkxrx2mzfn2jljd0q7gy00000gn/T/ipykernel_8381/2419466631.py:12: FutureWarning: The frame.append method is deprecated and will be removed from pandas in a future version. Use pandas.concat instead.\n",
      "  outliers = outliers.append(results)\n",
      "/var/folders/y_/_52qkxrx2mzfn2jljd0q7gy00000gn/T/ipykernel_8381/2419466631.py:12: FutureWarning: The frame.append method is deprecated and will be removed from pandas in a future version. Use pandas.concat instead.\n",
      "  outliers = outliers.append(results)\n",
      "/var/folders/y_/_52qkxrx2mzfn2jljd0q7gy00000gn/T/ipykernel_8381/2419466631.py:12: FutureWarning: The frame.append method is deprecated and will be removed from pandas in a future version. Use pandas.concat instead.\n",
      "  outliers = outliers.append(results)\n",
      "/var/folders/y_/_52qkxrx2mzfn2jljd0q7gy00000gn/T/ipykernel_8381/2419466631.py:12: FutureWarning: The frame.append method is deprecated and will be removed from pandas in a future version. Use pandas.concat instead.\n",
      "  outliers = outliers.append(results)\n",
      "/var/folders/y_/_52qkxrx2mzfn2jljd0q7gy00000gn/T/ipykernel_8381/2419466631.py:12: FutureWarning: The frame.append method is deprecated and will be removed from pandas in a future version. Use pandas.concat instead.\n",
      "  outliers = outliers.append(results)\n",
      "/var/folders/y_/_52qkxrx2mzfn2jljd0q7gy00000gn/T/ipykernel_8381/2419466631.py:12: FutureWarning: The frame.append method is deprecated and will be removed from pandas in a future version. Use pandas.concat instead.\n",
      "  outliers = outliers.append(results)\n",
      "/var/folders/y_/_52qkxrx2mzfn2jljd0q7gy00000gn/T/ipykernel_8381/2419466631.py:12: FutureWarning: The frame.append method is deprecated and will be removed from pandas in a future version. Use pandas.concat instead.\n",
      "  outliers = outliers.append(results)\n",
      "/var/folders/y_/_52qkxrx2mzfn2jljd0q7gy00000gn/T/ipykernel_8381/2419466631.py:12: FutureWarning: The frame.append method is deprecated and will be removed from pandas in a future version. Use pandas.concat instead.\n",
      "  outliers = outliers.append(results)\n",
      "/var/folders/y_/_52qkxrx2mzfn2jljd0q7gy00000gn/T/ipykernel_8381/2419466631.py:12: FutureWarning: The frame.append method is deprecated and will be removed from pandas in a future version. Use pandas.concat instead.\n",
      "  outliers = outliers.append(results)\n"
     ]
    },
    {
     "data": {
      "text/plain": "    barrels08 city08 city08U co2 co2TailpipeGpm comb08 comb08U cylinders  \\\n47     32.961      9     0.0  -1          888.7     10     0.0       8.0   \n58     32.961     10     0.0  -1          888.7     10     0.0       8.0   \n69     32.961     10     0.0  -1          888.7     10     0.0       8.0   \n80     32.961      9     0.0  -1          888.7     10     0.0       8.0   \n275    32.961      9     0.0  -1          888.7     10     0.0       8.0   \n\n    displ             drive  ... pv4            trany UCity UHighway  \\\n47    5.9  Rear-Wheel Drive  ...   0  Automatic 3-spd  11.0     15.0   \n58    5.2  Rear-Wheel Drive  ...   0  Automatic 3-spd  12.0     15.0   \n69    5.2  Rear-Wheel Drive  ...   0  Automatic 3-spd  12.0     15.0   \n80    5.9  Rear-Wheel Drive  ...   0  Automatic 3-spd  11.0     14.0   \n275   7.4  Rear-Wheel Drive  ...   0  Automatic 4-spd  11.0     16.0   \n\n                     VClass  year youSaveSpend                     createdOn  \\\n47                     Vans  1985       -10000  Tue Jan 01 00:00:00 EST 2013   \n58                     Vans  1985       -10000  Tue Jan 01 00:00:00 EST 2013   \n69                     Vans  1985       -10000  Tue Jan 01 00:00:00 EST 2013   \n80                     Vans  1985       -10000  Tue Jan 01 00:00:00 EST 2013   \n275  Standard Pickup Trucks  1993       -10000  Tue Jan 01 00:00:00 EST 2013   \n\n                       modifiedOn    Outlier  \n47   Tue Jan 01 00:00:00 EST 2013  barrels08  \n58   Tue Jan 01 00:00:00 EST 2013  barrels08  \n69   Tue Jan 01 00:00:00 EST 2013  barrels08  \n80   Tue Jan 01 00:00:00 EST 2013  barrels08  \n275  Tue Jan 01 00:00:00 EST 2013  barrels08  \n\n[5 rows x 37 columns]",
      "text/html": "<div>\n<style scoped>\n    .dataframe tbody tr th:only-of-type {\n        vertical-align: middle;\n    }\n\n    .dataframe tbody tr th {\n        vertical-align: top;\n    }\n\n    .dataframe thead th {\n        text-align: right;\n    }\n</style>\n<table border=\"1\" class=\"dataframe\">\n  <thead>\n    <tr style=\"text-align: right;\">\n      <th></th>\n      <th>barrels08</th>\n      <th>city08</th>\n      <th>city08U</th>\n      <th>co2</th>\n      <th>co2TailpipeGpm</th>\n      <th>comb08</th>\n      <th>comb08U</th>\n      <th>cylinders</th>\n      <th>displ</th>\n      <th>drive</th>\n      <th>...</th>\n      <th>pv4</th>\n      <th>trany</th>\n      <th>UCity</th>\n      <th>UHighway</th>\n      <th>VClass</th>\n      <th>year</th>\n      <th>youSaveSpend</th>\n      <th>createdOn</th>\n      <th>modifiedOn</th>\n      <th>Outlier</th>\n    </tr>\n  </thead>\n  <tbody>\n    <tr>\n      <th>47</th>\n      <td>32.961</td>\n      <td>9</td>\n      <td>0.0</td>\n      <td>-1</td>\n      <td>888.7</td>\n      <td>10</td>\n      <td>0.0</td>\n      <td>8.0</td>\n      <td>5.9</td>\n      <td>Rear-Wheel Drive</td>\n      <td>...</td>\n      <td>0</td>\n      <td>Automatic 3-spd</td>\n      <td>11.0</td>\n      <td>15.0</td>\n      <td>Vans</td>\n      <td>1985</td>\n      <td>-10000</td>\n      <td>Tue Jan 01 00:00:00 EST 2013</td>\n      <td>Tue Jan 01 00:00:00 EST 2013</td>\n      <td>barrels08</td>\n    </tr>\n    <tr>\n      <th>58</th>\n      <td>32.961</td>\n      <td>10</td>\n      <td>0.0</td>\n      <td>-1</td>\n      <td>888.7</td>\n      <td>10</td>\n      <td>0.0</td>\n      <td>8.0</td>\n      <td>5.2</td>\n      <td>Rear-Wheel Drive</td>\n      <td>...</td>\n      <td>0</td>\n      <td>Automatic 3-spd</td>\n      <td>12.0</td>\n      <td>15.0</td>\n      <td>Vans</td>\n      <td>1985</td>\n      <td>-10000</td>\n      <td>Tue Jan 01 00:00:00 EST 2013</td>\n      <td>Tue Jan 01 00:00:00 EST 2013</td>\n      <td>barrels08</td>\n    </tr>\n    <tr>\n      <th>69</th>\n      <td>32.961</td>\n      <td>10</td>\n      <td>0.0</td>\n      <td>-1</td>\n      <td>888.7</td>\n      <td>10</td>\n      <td>0.0</td>\n      <td>8.0</td>\n      <td>5.2</td>\n      <td>Rear-Wheel Drive</td>\n      <td>...</td>\n      <td>0</td>\n      <td>Automatic 3-spd</td>\n      <td>12.0</td>\n      <td>15.0</td>\n      <td>Vans</td>\n      <td>1985</td>\n      <td>-10000</td>\n      <td>Tue Jan 01 00:00:00 EST 2013</td>\n      <td>Tue Jan 01 00:00:00 EST 2013</td>\n      <td>barrels08</td>\n    </tr>\n    <tr>\n      <th>80</th>\n      <td>32.961</td>\n      <td>9</td>\n      <td>0.0</td>\n      <td>-1</td>\n      <td>888.7</td>\n      <td>10</td>\n      <td>0.0</td>\n      <td>8.0</td>\n      <td>5.9</td>\n      <td>Rear-Wheel Drive</td>\n      <td>...</td>\n      <td>0</td>\n      <td>Automatic 3-spd</td>\n      <td>11.0</td>\n      <td>14.0</td>\n      <td>Vans</td>\n      <td>1985</td>\n      <td>-10000</td>\n      <td>Tue Jan 01 00:00:00 EST 2013</td>\n      <td>Tue Jan 01 00:00:00 EST 2013</td>\n      <td>barrels08</td>\n    </tr>\n    <tr>\n      <th>275</th>\n      <td>32.961</td>\n      <td>9</td>\n      <td>0.0</td>\n      <td>-1</td>\n      <td>888.7</td>\n      <td>10</td>\n      <td>0.0</td>\n      <td>8.0</td>\n      <td>7.4</td>\n      <td>Rear-Wheel Drive</td>\n      <td>...</td>\n      <td>0</td>\n      <td>Automatic 4-spd</td>\n      <td>11.0</td>\n      <td>16.0</td>\n      <td>Standard Pickup Trucks</td>\n      <td>1993</td>\n      <td>-10000</td>\n      <td>Tue Jan 01 00:00:00 EST 2013</td>\n      <td>Tue Jan 01 00:00:00 EST 2013</td>\n      <td>barrels08</td>\n    </tr>\n  </tbody>\n</table>\n<p>5 rows × 37 columns</p>\n</div>"
     },
     "execution_count": 45,
     "metadata": {},
     "output_type": "execute_result"
    }
   ],
   "source": [
    "#Run this code\n",
    "outliers = pd.DataFrame(columns=data.columns)\n",
    "\n",
    "for col in stats.index:\n",
    "    iqr = stats.at[col, 'IQR']\n",
    "    cutoff = iqr*1.5\n",
    "    lower = stats.at[col, '25%'] - cutoff\n",
    "    upper = stats.at[col, '75%'] + cutoff\n",
    "    results = data[(data[col] < lower) |\n",
    "                   (data[col] > upper)].copy()\n",
    "    results['Outlier'] = col\n",
    "    outliers = outliers.append(results)\n",
    "\n",
    "outliers.head()"
   ]
  },
  {
   "cell_type": "markdown",
   "metadata": {
    "pycharm": {
     "name": "#%% md\n"
    }
   },
   "source": [
    "Our outliers data frame should now be populated with records that you can investigate further and determine whether they should be kept in the data or dropped. The Outlier column we added before appending the results for the column to the outliers data frame will let you know what column in each record contained the outlier. If you find that this method is returning too many results, you can be more stringent with your cutoff criteria (e.g. increasing the constant by which you multiply the IQR to 3 instead of 1.5)."
   ]
  },
  {
   "cell_type": "markdown",
   "metadata": {
    "pycharm": {
     "name": "#%% md\n"
    }
   },
   "source": [
    "# Data Type Correction\n",
    "\n",
    "One common problem that is often overlooked is incorrect data types. This typically occurs when there is a numeric variable that should actually be represented as a categorical variable. "
   ]
  },
  {
   "cell_type": "markdown",
   "metadata": {
    "pycharm": {
     "name": "#%% md\n"
    }
   },
   "source": [
    "## Check the data type of each column"
   ]
  },
  {
   "cell_type": "code",
   "execution_count": 46,
   "outputs": [
    {
     "name": "stdout",
     "output_type": "stream",
     "text": [
      "<class 'pandas.core.frame.DataFrame'>\n",
      "RangeIndex: 37843 entries, 0 to 37842\n",
      "Data columns (total 36 columns):\n",
      " #   Column          Non-Null Count  Dtype  \n",
      "---  ------          --------------  -----  \n",
      " 0   barrels08       37843 non-null  float64\n",
      " 1   city08          37843 non-null  int64  \n",
      " 2   city08U         37843 non-null  float64\n",
      " 3   co2             37843 non-null  int64  \n",
      " 4   co2TailpipeGpm  37843 non-null  float64\n",
      " 5   comb08          37843 non-null  int64  \n",
      " 6   comb08U         37843 non-null  float64\n",
      " 7   cylinders       37843 non-null  float64\n",
      " 8   displ           37843 non-null  float64\n",
      " 9   drive           37843 non-null  object \n",
      " 10  engId           37843 non-null  int64  \n",
      " 11  feScore         37843 non-null  int64  \n",
      " 12  fuelCost08      37843 non-null  int64  \n",
      " 13  fuelType        37843 non-null  object \n",
      " 14  fuelType1       37843 non-null  object \n",
      " 15  ghgScore        37843 non-null  int64  \n",
      " 16  highway08       37843 non-null  int64  \n",
      " 17  highway08U      37843 non-null  float64\n",
      " 18  hlv             37843 non-null  int64  \n",
      " 19  hpv             37843 non-null  int64  \n",
      " 20  id              37843 non-null  int64  \n",
      " 21  lv2             37843 non-null  int64  \n",
      " 22  lv4             37843 non-null  int64  \n",
      " 23  make            37843 non-null  object \n",
      " 24  model           37843 non-null  object \n",
      " 25  mpgData         37843 non-null  object \n",
      " 26  pv2             37843 non-null  int64  \n",
      " 27  pv4             37843 non-null  int64  \n",
      " 28  trany           37843 non-null  object \n",
      " 29  UCity           37843 non-null  float64\n",
      " 30  UHighway        37843 non-null  float64\n",
      " 31  VClass          37843 non-null  object \n",
      " 32  year            37843 non-null  int64  \n",
      " 33  youSaveSpend    37843 non-null  int64  \n",
      " 34  createdOn       37843 non-null  object \n",
      " 35  modifiedOn      37843 non-null  object \n",
      "dtypes: float64(9), int64(17), object(10)\n",
      "memory usage: 10.4+ MB\n"
     ]
    }
   ],
   "source": [
    "data.info()"
   ],
   "metadata": {
    "collapsed": false,
    "pycharm": {
     "name": "#%%\n"
    }
   }
  },
  {
   "cell_type": "markdown",
   "metadata": {
    "pycharm": {
     "name": "#%% md\n"
    }
   },
   "source": [
    "## Cleaning years\n",
    "Do you think column year is a continuous variable? Would you change it onto another dtype?"
   ]
  },
  {
   "cell_type": "code",
   "execution_count": 47,
   "outputs": [
    {
     "data": {
      "text/plain": "0       1985-01-01\n1       1985-01-01\n2       1985-01-01\n3       1985-01-01\n4       1993-01-01\n           ...    \n37838   1993-01-01\n37839   1993-01-01\n37840   1993-01-01\n37841   1993-01-01\n37842   1993-01-01\nName: year, Length: 37843, dtype: datetime64[ns]"
     },
     "execution_count": 47,
     "metadata": {},
     "output_type": "execute_result"
    }
   ],
   "source": [
    "pd.to_datetime(data['year'], format='%Y')"
   ],
   "metadata": {
    "collapsed": false,
    "pycharm": {
     "name": "#%%\n"
    }
   }
  },
  {
   "cell_type": "code",
   "execution_count": 48,
   "outputs": [
    {
     "data": {
      "text/plain": "0    1985\n1    1985\n2    1985\n3    1985\n4    1993\nName: year, dtype: int64"
     },
     "execution_count": 48,
     "metadata": {},
     "output_type": "execute_result"
    }
   ],
   "source": [
    "data['year'].head()"
   ],
   "metadata": {
    "collapsed": false,
    "pycharm": {
     "name": "#%%\n"
    }
   }
  },
  {
   "cell_type": "markdown",
   "metadata": {
    "pycharm": {
     "name": "#%% md\n"
    }
   },
   "source": [
    "You can apply this technique to any column whose data type you would like to change."
   ]
  },
  {
   "cell_type": "code",
   "execution_count": 49,
   "metadata": {
    "pycharm": {
     "name": "#%%\n"
    }
   },
   "outputs": [
    {
     "name": "stderr",
     "output_type": "stream",
     "text": [
      "/opt/anaconda3/envs/mabatalla_2022/lib/python3.9/site-packages/dateutil/parser/_parser.py:1207: UnknownTimezoneWarning: tzname EST identified but not understood.  Pass `tzinfos` argument in order to correctly return a timezone-aware datetime.  In a future version, this will raise an exception.\n",
      "  warnings.warn(\"tzname {tzname} identified but not understood.  \"\n",
      "/opt/anaconda3/envs/mabatalla_2022/lib/python3.9/site-packages/dateutil/parser/_parser.py:1207: UnknownTimezoneWarning: tzname EDT identified but not understood.  Pass `tzinfos` argument in order to correctly return a timezone-aware datetime.  In a future version, this will raise an exception.\n",
      "  warnings.warn(\"tzname {tzname} identified but not understood.  \"\n"
     ]
    }
   ],
   "source": [
    "data[['createdOn', 'modifiedOn']] = data[['createdOn', 'modifiedOn']].astype('datetime64[ns]')\n",
    "# Puedes ignorar el warning que aparece porque algunas zonas horarias no se han podido inferir\n",
    "# Puedes leer más al respecto en este post\n",
    "# https://stackoverflow.com/questions/51206500/how-to-convert-a-string-datetime-with-unknown-timezone-to-timestamp-in-python"
   ]
  },
  {
   "cell_type": "code",
   "execution_count": 50,
   "outputs": [
    {
     "data": {
      "text/plain": "   barrels08  city08  city08U  co2  co2TailpipeGpm  comb08  comb08U  \\\n0  15.695714      19      0.0   -1      423.190476      21      0.0   \n1  29.964545       9      0.0   -1      807.909091      11      0.0   \n2  12.207778      23      0.0   -1      329.148148      27      0.0   \n3  29.964545      10      0.0   -1      807.909091      11      0.0   \n4  17.347895      17      0.0   -1      467.736842      19      0.0   \n\n   cylinders  displ                       drive  ...  pv2  pv4  \\\n0        4.0    2.0            Rear-Wheel Drive  ...    0    0   \n1       12.0    4.9            Rear-Wheel Drive  ...    0    0   \n2        4.0    2.2           Front-Wheel Drive  ...    0    0   \n3        8.0    5.2            Rear-Wheel Drive  ...    0    0   \n4        4.0    2.2  4-Wheel or All-Wheel Drive  ...    0   90   \n\n             trany    UCity UHighway           VClass  year  youSaveSpend  \\\n0     Manual 5-spd  23.3333  35.0000      Two Seaters  1985         -1250   \n1     Manual 5-spd  11.0000  19.0000      Two Seaters  1985         -8500   \n2     Manual 5-spd  29.0000  47.0000  Subcompact Cars  1985           500   \n3  Automatic 3-spd  12.2222  16.6667             Vans  1985         -8500   \n4     Manual 5-spd  21.0000  32.0000     Compact Cars  1993         -4000   \n\n   createdOn  modifiedOn  \n0 2013-01-01  2013-01-01  \n1 2013-01-01  2013-01-01  \n2 2013-01-01  2013-01-01  \n3 2013-01-01  2013-01-01  \n4 2013-01-01  2013-01-01  \n\n[5 rows x 36 columns]",
      "text/html": "<div>\n<style scoped>\n    .dataframe tbody tr th:only-of-type {\n        vertical-align: middle;\n    }\n\n    .dataframe tbody tr th {\n        vertical-align: top;\n    }\n\n    .dataframe thead th {\n        text-align: right;\n    }\n</style>\n<table border=\"1\" class=\"dataframe\">\n  <thead>\n    <tr style=\"text-align: right;\">\n      <th></th>\n      <th>barrels08</th>\n      <th>city08</th>\n      <th>city08U</th>\n      <th>co2</th>\n      <th>co2TailpipeGpm</th>\n      <th>comb08</th>\n      <th>comb08U</th>\n      <th>cylinders</th>\n      <th>displ</th>\n      <th>drive</th>\n      <th>...</th>\n      <th>pv2</th>\n      <th>pv4</th>\n      <th>trany</th>\n      <th>UCity</th>\n      <th>UHighway</th>\n      <th>VClass</th>\n      <th>year</th>\n      <th>youSaveSpend</th>\n      <th>createdOn</th>\n      <th>modifiedOn</th>\n    </tr>\n  </thead>\n  <tbody>\n    <tr>\n      <th>0</th>\n      <td>15.695714</td>\n      <td>19</td>\n      <td>0.0</td>\n      <td>-1</td>\n      <td>423.190476</td>\n      <td>21</td>\n      <td>0.0</td>\n      <td>4.0</td>\n      <td>2.0</td>\n      <td>Rear-Wheel Drive</td>\n      <td>...</td>\n      <td>0</td>\n      <td>0</td>\n      <td>Manual 5-spd</td>\n      <td>23.3333</td>\n      <td>35.0000</td>\n      <td>Two Seaters</td>\n      <td>1985</td>\n      <td>-1250</td>\n      <td>2013-01-01</td>\n      <td>2013-01-01</td>\n    </tr>\n    <tr>\n      <th>1</th>\n      <td>29.964545</td>\n      <td>9</td>\n      <td>0.0</td>\n      <td>-1</td>\n      <td>807.909091</td>\n      <td>11</td>\n      <td>0.0</td>\n      <td>12.0</td>\n      <td>4.9</td>\n      <td>Rear-Wheel Drive</td>\n      <td>...</td>\n      <td>0</td>\n      <td>0</td>\n      <td>Manual 5-spd</td>\n      <td>11.0000</td>\n      <td>19.0000</td>\n      <td>Two Seaters</td>\n      <td>1985</td>\n      <td>-8500</td>\n      <td>2013-01-01</td>\n      <td>2013-01-01</td>\n    </tr>\n    <tr>\n      <th>2</th>\n      <td>12.207778</td>\n      <td>23</td>\n      <td>0.0</td>\n      <td>-1</td>\n      <td>329.148148</td>\n      <td>27</td>\n      <td>0.0</td>\n      <td>4.0</td>\n      <td>2.2</td>\n      <td>Front-Wheel Drive</td>\n      <td>...</td>\n      <td>0</td>\n      <td>0</td>\n      <td>Manual 5-spd</td>\n      <td>29.0000</td>\n      <td>47.0000</td>\n      <td>Subcompact Cars</td>\n      <td>1985</td>\n      <td>500</td>\n      <td>2013-01-01</td>\n      <td>2013-01-01</td>\n    </tr>\n    <tr>\n      <th>3</th>\n      <td>29.964545</td>\n      <td>10</td>\n      <td>0.0</td>\n      <td>-1</td>\n      <td>807.909091</td>\n      <td>11</td>\n      <td>0.0</td>\n      <td>8.0</td>\n      <td>5.2</td>\n      <td>Rear-Wheel Drive</td>\n      <td>...</td>\n      <td>0</td>\n      <td>0</td>\n      <td>Automatic 3-spd</td>\n      <td>12.2222</td>\n      <td>16.6667</td>\n      <td>Vans</td>\n      <td>1985</td>\n      <td>-8500</td>\n      <td>2013-01-01</td>\n      <td>2013-01-01</td>\n    </tr>\n    <tr>\n      <th>4</th>\n      <td>17.347895</td>\n      <td>17</td>\n      <td>0.0</td>\n      <td>-1</td>\n      <td>467.736842</td>\n      <td>19</td>\n      <td>0.0</td>\n      <td>4.0</td>\n      <td>2.2</td>\n      <td>4-Wheel or All-Wheel Drive</td>\n      <td>...</td>\n      <td>0</td>\n      <td>90</td>\n      <td>Manual 5-spd</td>\n      <td>21.0000</td>\n      <td>32.0000</td>\n      <td>Compact Cars</td>\n      <td>1993</td>\n      <td>-4000</td>\n      <td>2013-01-01</td>\n      <td>2013-01-01</td>\n    </tr>\n  </tbody>\n</table>\n<p>5 rows × 36 columns</p>\n</div>"
     },
     "execution_count": 50,
     "metadata": {},
     "output_type": "execute_result"
    }
   ],
   "source": [
    "data.head()"
   ],
   "metadata": {
    "collapsed": false,
    "pycharm": {
     "name": "#%%\n"
    }
   }
  },
  {
   "cell_type": "markdown",
   "metadata": {
    "pycharm": {
     "name": "#%% md\n"
    }
   },
   "source": [
    "# Cleaning Text and Removing Special Characters\n",
    "\n",
    "The presence of special characters in our fields has the potential to make analyzing our data challenging. Imagine not being able to perform calculations on a numeric field because it was currently represented as an object data type due to the fact that it had a dollar sign ($) in it. \n",
    "\n",
    "Similarly, imagine having a categorical field where you could not group records that belong in the same group together because in one field you are grouping by, terms that refer to the same thing are sometimes hyphenated. In cases like this, it is necessary to remove special characters so that we can properly analyze the data.\n",
    "\n",
    "In our vehicles data set, the trany field has several special characters (parentheses, hyphens, etc.). Check the unique values and clean the column.\n",
    "\n",
    "hint: check the `replace` function"
   ]
  },
  {
   "cell_type": "code",
   "execution_count": 51,
   "metadata": {
    "pycharm": {
     "name": "#%%\n"
    }
   },
   "outputs": [
    {
     "data": {
      "text/plain": "array(['Manual 5-spd', 'Automatic 3-spd', 'Automatic 4-spd',\n       'Automatic 5-spd', 'Manual 4-spd', 'Manual 3-spd', 'Manual 6-spd',\n       'Automatic (S5)', 'Automatic (variable gear ratios)',\n       'Automatic 6-spd', 'Automatic (S6)', 'unknown', 'Automatic (S4)',\n       'Automatic 7-spd', 'Automatic (S7)', 'Automatic (S8)',\n       'Automatic (AM5)', 'Auto(AM6)', 'Auto(AV-S7)', 'Automatic (A6)',\n       'Automatic (AV-S6)', 'Auto(AM7)', 'Manual 4-spd Doubled',\n       'Manual 5 spd', 'Automatic (AM6)', 'Manual 7-spd', 'Auto(L4)',\n       'Auto(L3)', 'Automatic (AV)', 'Auto (AV-S6)', 'Auto(AM5)',\n       'Auto(AV-S6)', 'Auto (AV-S8)', 'Automatic 8-spd', 'Auto(AV-S8)',\n       'Automatic (A1)', 'Auto (AV)', 'Auto(AM-S6)', 'Auto(AM-S7)',\n       'Automatic 6spd', 'Automatic 9-spd', 'Automatic (S9)',\n       'Auto(AM-S8)', 'Auto(A1)', 'Auto(AM8)', 'Manual(M7)',\n       'Auto(AM-S9)'], dtype=object)"
     },
     "execution_count": 51,
     "metadata": {},
     "output_type": "execute_result"
    }
   ],
   "source": [
    "data['trany'].unique()"
   ]
  },
  {
   "cell_type": "code",
   "execution_count": 52,
   "metadata": {
    "pycharm": {
     "name": "#%%\n"
    }
   },
   "outputs": [],
   "source": [
    "data['trany'].replace(to_replace=r'[()]', value=' ', regex=True, inplace=True)\n",
    "data['trany'].replace(to_replace=r'[-]|(spd)', value='', regex=True, inplace=True)\n",
    "data['trany'].replace(to_replace=r'(AutoAV)|(AutoAM)|(Auto AV)|(Auto AM)|(Automatic AV)|(Automatic AM)',\n",
    "                      value='Automatic ', regex=True, inplace=True)\n",
    "data['trany'].replace(to_replace=r'( AV)|( AM)', value=' ', regex=True, inplace=True)\n",
    "data['trany'].replace(to_replace=r'( S)|( A)|( M)', value=' ', regex=True, inplace=True)\n",
    "data['trany'].replace(to_replace=r'(Auto L)|(Auto )', value='Automatic ', regex=True, inplace=True)\n",
    "\n",
    "data['trany'].replace(to_replace=r'\\s{2}', value=' ', regex=True, inplace=True)\n",
    "data['trany'].replace(to_replace=r'\\s+$', value='', regex=True, inplace=True)"
   ]
  },
  {
   "cell_type": "code",
   "execution_count": 53,
   "outputs": [
    {
     "data": {
      "text/plain": "array(['Manual 5', 'Automatic 3', 'Automatic 4', 'Automatic 5',\n       'Manual 4', 'Manual 3', 'Manual 6',\n       'Automatic variable gear ratios', 'Automatic 6', 'unknown',\n       'Automatic 7', 'Automatic 8', 'Manual 4 Doubled', 'Manual 7',\n       'Automatic', 'Automatic 1', 'Automatic 9'], dtype=object)"
     },
     "execution_count": 53,
     "metadata": {},
     "output_type": "execute_result"
    }
   ],
   "source": [
    "data['trany'].unique()"
   ],
   "metadata": {
    "collapsed": false,
    "pycharm": {
     "name": "#%%\n"
    }
   }
  },
  {
   "cell_type": "markdown",
   "source": [
    "As you can see, we now have no special characters, consistent naming, and proper spacing. We started out with 47 unique values in this column, and using this technique, we were able to reduce the number of unique values to 39.\n",
    "\n",
    "\n",
    "\n",
    "# Finding and Removing Duplicates\n",
    "\n",
    "The final topic we are going to cover in this lab is how to identify and remove duplicate rows (or rows that refer to the same entity) in our data. When trying to identify duplicates, we will use the columns (or attributes) of the data to help us determine what entities are similar enough to be considered the same entity. We want to start with all the columns we currently have available to us and work our way toward a lesser number of attributes in an intuitive fashion. In this process, the act of dropping duplicated records is easy, but identifying the correct attributes for comparison and which records to drop is sometimes quite challenging.\n",
    "\n",
    "The first thing we will do is attempt to drop any duplicate records, considering all the columns we currently have in the data set.\n",
    "\n",
    "Pandas provides us with the ability to do that via the `drop_duplicates method`."
   ],
   "metadata": {
    "collapsed": false,
    "pycharm": {
     "name": "#%% md\n"
    }
   }
  },
  {
   "cell_type": "markdown",
   "source": [
    "## Drop duplicate rows that are completely equal"
   ],
   "metadata": {
    "collapsed": false,
    "pycharm": {
     "name": "#%% md\n"
    }
   }
  },
  {
   "cell_type": "code",
   "execution_count": 54,
   "outputs": [
    {
     "data": {
      "text/plain": "(37843, 36)"
     },
     "execution_count": 54,
     "metadata": {},
     "output_type": "execute_result"
    }
   ],
   "source": [
    "data.shape"
   ],
   "metadata": {
    "collapsed": false,
    "pycharm": {
     "name": "#%%\n"
    }
   }
  },
  {
   "cell_type": "code",
   "execution_count": 55,
   "outputs": [],
   "source": [
    "data = data.drop_duplicates()"
   ],
   "metadata": {
    "collapsed": false,
    "pycharm": {
     "name": "#%%\n"
    }
   }
  },
  {
   "cell_type": "code",
   "execution_count": 56,
   "outputs": [
    {
     "data": {
      "text/plain": "(37843, 36)"
     },
     "execution_count": 56,
     "metadata": {},
     "output_type": "execute_result"
    }
   ],
   "source": [
    "data.shape"
   ],
   "metadata": {
    "collapsed": false,
    "pycharm": {
     "name": "#%%\n"
    }
   }
  },
  {
   "cell_type": "markdown",
   "source": [
    "This tells us that there were no records that matched exactly across all columns. However, if we reduce the number of columns in our data that we are interested in, we can try again and have a higher likelihood of finding duplicate records."
   ],
   "metadata": {
    "collapsed": false,
    "pycharm": {
     "name": "#%% md\n"
    }
   }
  },
  {
   "cell_type": "markdown",
   "source": [
    "## Select a subset of columns, remove all other columns, and then use the drop_duplicates method to drop any duplicate records based on the remaining columns."
   ],
   "metadata": {
    "collapsed": false,
    "pycharm": {
     "name": "#%% md\n"
    }
   }
  },
  {
   "cell_type": "code",
   "execution_count": 57,
   "outputs": [
    {
     "data": {
      "text/plain": "(37843, 36)"
     },
     "execution_count": 57,
     "metadata": {},
     "output_type": "execute_result"
    }
   ],
   "source": [
    "before = data.shape[0]\n",
    "\n",
    "data.shape"
   ],
   "metadata": {
    "collapsed": false,
    "pycharm": {
     "name": "#%%\n"
    }
   }
  },
  {
   "cell_type": "code",
   "execution_count": 58,
   "outputs": [],
   "source": [
    "data.drop(data.iloc[:, 5:7], axis=1, inplace=True)"
   ],
   "metadata": {
    "collapsed": false,
    "pycharm": {
     "name": "#%%\n"
    }
   }
  },
  {
   "cell_type": "code",
   "execution_count": 59,
   "outputs": [
    {
     "data": {
      "text/plain": "       barrels08  city08  city08U  co2  co2TailpipeGpm  cylinders  displ  \\\n0      15.695714      19      0.0   -1      423.190476        4.0    2.0   \n1      29.964545       9      0.0   -1      807.909091       12.0    4.9   \n2      12.207778      23      0.0   -1      329.148148        4.0    2.2   \n3      29.964545      10      0.0   -1      807.909091        8.0    5.2   \n4      17.347895      17      0.0   -1      467.736842        4.0    2.2   \n...          ...     ...      ...  ...             ...        ...    ...   \n37838  14.982273      19      0.0   -1      403.954545        4.0    2.2   \n37839  14.330870      20      0.0   -1      386.391304        4.0    2.2   \n37840  15.695714      18      0.0   -1      423.190476        4.0    2.2   \n37841  15.695714      18      0.0   -1      423.190476        4.0    2.2   \n37842  18.311667      16      0.0   -1      493.722222        4.0    2.2   \n\n                            drive  engId  feScore  ...  pv2 pv4        trany  \\\n0                Rear-Wheel Drive   9011       -1  ...    0   0     Manual 5   \n1                Rear-Wheel Drive  22020       -1  ...    0   0     Manual 5   \n2               Front-Wheel Drive   2100       -1  ...    0   0     Manual 5   \n3                Rear-Wheel Drive   2850       -1  ...    0   0  Automatic 3   \n4      4-Wheel or All-Wheel Drive  66031       -1  ...    0  90     Manual 5   \n...                           ...    ...      ...  ...  ...  ..          ...   \n37838           Front-Wheel Drive  66030       -1  ...    0  90  Automatic 4   \n37839           Front-Wheel Drive  66030       -1  ...    0  90     Manual 5   \n37840  4-Wheel or All-Wheel Drive  66030       -1  ...    0  90  Automatic 4   \n37841  4-Wheel or All-Wheel Drive  66030       -1  ...    0  90     Manual 5   \n37842  4-Wheel or All-Wheel Drive  66031       -1  ...    0  90  Automatic 4   \n\n         UCity  UHighway           VClass  year  youSaveSpend  createdOn  \\\n0      23.3333   35.0000      Two Seaters  1985         -1250 2013-01-01   \n1      11.0000   19.0000      Two Seaters  1985         -8500 2013-01-01   \n2      29.0000   47.0000  Subcompact Cars  1985           500 2013-01-01   \n3      12.2222   16.6667             Vans  1985         -8500 2013-01-01   \n4      21.0000   32.0000     Compact Cars  1993         -4000 2013-01-01   \n...        ...       ...              ...   ...           ...        ...   \n37838  24.0000   37.0000     Compact Cars  1993          -750 2013-01-01   \n37839  25.0000   39.0000     Compact Cars  1993          -500 2013-01-01   \n37840  23.0000   34.0000     Compact Cars  1993         -1250 2013-01-01   \n37841  23.0000   34.0000     Compact Cars  1993         -1250 2013-01-01   \n37842  20.0000   29.0000     Compact Cars  1993         -4500 2013-01-01   \n\n       modifiedOn  \n0      2013-01-01  \n1      2013-01-01  \n2      2013-01-01  \n3      2013-01-01  \n4      2013-01-01  \n...           ...  \n37838  2013-01-01  \n37839  2013-01-01  \n37840  2013-01-01  \n37841  2013-01-01  \n37842  2013-01-01  \n\n[37843 rows x 34 columns]",
      "text/html": "<div>\n<style scoped>\n    .dataframe tbody tr th:only-of-type {\n        vertical-align: middle;\n    }\n\n    .dataframe tbody tr th {\n        vertical-align: top;\n    }\n\n    .dataframe thead th {\n        text-align: right;\n    }\n</style>\n<table border=\"1\" class=\"dataframe\">\n  <thead>\n    <tr style=\"text-align: right;\">\n      <th></th>\n      <th>barrels08</th>\n      <th>city08</th>\n      <th>city08U</th>\n      <th>co2</th>\n      <th>co2TailpipeGpm</th>\n      <th>cylinders</th>\n      <th>displ</th>\n      <th>drive</th>\n      <th>engId</th>\n      <th>feScore</th>\n      <th>...</th>\n      <th>pv2</th>\n      <th>pv4</th>\n      <th>trany</th>\n      <th>UCity</th>\n      <th>UHighway</th>\n      <th>VClass</th>\n      <th>year</th>\n      <th>youSaveSpend</th>\n      <th>createdOn</th>\n      <th>modifiedOn</th>\n    </tr>\n  </thead>\n  <tbody>\n    <tr>\n      <th>0</th>\n      <td>15.695714</td>\n      <td>19</td>\n      <td>0.0</td>\n      <td>-1</td>\n      <td>423.190476</td>\n      <td>4.0</td>\n      <td>2.0</td>\n      <td>Rear-Wheel Drive</td>\n      <td>9011</td>\n      <td>-1</td>\n      <td>...</td>\n      <td>0</td>\n      <td>0</td>\n      <td>Manual 5</td>\n      <td>23.3333</td>\n      <td>35.0000</td>\n      <td>Two Seaters</td>\n      <td>1985</td>\n      <td>-1250</td>\n      <td>2013-01-01</td>\n      <td>2013-01-01</td>\n    </tr>\n    <tr>\n      <th>1</th>\n      <td>29.964545</td>\n      <td>9</td>\n      <td>0.0</td>\n      <td>-1</td>\n      <td>807.909091</td>\n      <td>12.0</td>\n      <td>4.9</td>\n      <td>Rear-Wheel Drive</td>\n      <td>22020</td>\n      <td>-1</td>\n      <td>...</td>\n      <td>0</td>\n      <td>0</td>\n      <td>Manual 5</td>\n      <td>11.0000</td>\n      <td>19.0000</td>\n      <td>Two Seaters</td>\n      <td>1985</td>\n      <td>-8500</td>\n      <td>2013-01-01</td>\n      <td>2013-01-01</td>\n    </tr>\n    <tr>\n      <th>2</th>\n      <td>12.207778</td>\n      <td>23</td>\n      <td>0.0</td>\n      <td>-1</td>\n      <td>329.148148</td>\n      <td>4.0</td>\n      <td>2.2</td>\n      <td>Front-Wheel Drive</td>\n      <td>2100</td>\n      <td>-1</td>\n      <td>...</td>\n      <td>0</td>\n      <td>0</td>\n      <td>Manual 5</td>\n      <td>29.0000</td>\n      <td>47.0000</td>\n      <td>Subcompact Cars</td>\n      <td>1985</td>\n      <td>500</td>\n      <td>2013-01-01</td>\n      <td>2013-01-01</td>\n    </tr>\n    <tr>\n      <th>3</th>\n      <td>29.964545</td>\n      <td>10</td>\n      <td>0.0</td>\n      <td>-1</td>\n      <td>807.909091</td>\n      <td>8.0</td>\n      <td>5.2</td>\n      <td>Rear-Wheel Drive</td>\n      <td>2850</td>\n      <td>-1</td>\n      <td>...</td>\n      <td>0</td>\n      <td>0</td>\n      <td>Automatic 3</td>\n      <td>12.2222</td>\n      <td>16.6667</td>\n      <td>Vans</td>\n      <td>1985</td>\n      <td>-8500</td>\n      <td>2013-01-01</td>\n      <td>2013-01-01</td>\n    </tr>\n    <tr>\n      <th>4</th>\n      <td>17.347895</td>\n      <td>17</td>\n      <td>0.0</td>\n      <td>-1</td>\n      <td>467.736842</td>\n      <td>4.0</td>\n      <td>2.2</td>\n      <td>4-Wheel or All-Wheel Drive</td>\n      <td>66031</td>\n      <td>-1</td>\n      <td>...</td>\n      <td>0</td>\n      <td>90</td>\n      <td>Manual 5</td>\n      <td>21.0000</td>\n      <td>32.0000</td>\n      <td>Compact Cars</td>\n      <td>1993</td>\n      <td>-4000</td>\n      <td>2013-01-01</td>\n      <td>2013-01-01</td>\n    </tr>\n    <tr>\n      <th>...</th>\n      <td>...</td>\n      <td>...</td>\n      <td>...</td>\n      <td>...</td>\n      <td>...</td>\n      <td>...</td>\n      <td>...</td>\n      <td>...</td>\n      <td>...</td>\n      <td>...</td>\n      <td>...</td>\n      <td>...</td>\n      <td>...</td>\n      <td>...</td>\n      <td>...</td>\n      <td>...</td>\n      <td>...</td>\n      <td>...</td>\n      <td>...</td>\n      <td>...</td>\n      <td>...</td>\n    </tr>\n    <tr>\n      <th>37838</th>\n      <td>14.982273</td>\n      <td>19</td>\n      <td>0.0</td>\n      <td>-1</td>\n      <td>403.954545</td>\n      <td>4.0</td>\n      <td>2.2</td>\n      <td>Front-Wheel Drive</td>\n      <td>66030</td>\n      <td>-1</td>\n      <td>...</td>\n      <td>0</td>\n      <td>90</td>\n      <td>Automatic 4</td>\n      <td>24.0000</td>\n      <td>37.0000</td>\n      <td>Compact Cars</td>\n      <td>1993</td>\n      <td>-750</td>\n      <td>2013-01-01</td>\n      <td>2013-01-01</td>\n    </tr>\n    <tr>\n      <th>37839</th>\n      <td>14.330870</td>\n      <td>20</td>\n      <td>0.0</td>\n      <td>-1</td>\n      <td>386.391304</td>\n      <td>4.0</td>\n      <td>2.2</td>\n      <td>Front-Wheel Drive</td>\n      <td>66030</td>\n      <td>-1</td>\n      <td>...</td>\n      <td>0</td>\n      <td>90</td>\n      <td>Manual 5</td>\n      <td>25.0000</td>\n      <td>39.0000</td>\n      <td>Compact Cars</td>\n      <td>1993</td>\n      <td>-500</td>\n      <td>2013-01-01</td>\n      <td>2013-01-01</td>\n    </tr>\n    <tr>\n      <th>37840</th>\n      <td>15.695714</td>\n      <td>18</td>\n      <td>0.0</td>\n      <td>-1</td>\n      <td>423.190476</td>\n      <td>4.0</td>\n      <td>2.2</td>\n      <td>4-Wheel or All-Wheel Drive</td>\n      <td>66030</td>\n      <td>-1</td>\n      <td>...</td>\n      <td>0</td>\n      <td>90</td>\n      <td>Automatic 4</td>\n      <td>23.0000</td>\n      <td>34.0000</td>\n      <td>Compact Cars</td>\n      <td>1993</td>\n      <td>-1250</td>\n      <td>2013-01-01</td>\n      <td>2013-01-01</td>\n    </tr>\n    <tr>\n      <th>37841</th>\n      <td>15.695714</td>\n      <td>18</td>\n      <td>0.0</td>\n      <td>-1</td>\n      <td>423.190476</td>\n      <td>4.0</td>\n      <td>2.2</td>\n      <td>4-Wheel or All-Wheel Drive</td>\n      <td>66030</td>\n      <td>-1</td>\n      <td>...</td>\n      <td>0</td>\n      <td>90</td>\n      <td>Manual 5</td>\n      <td>23.0000</td>\n      <td>34.0000</td>\n      <td>Compact Cars</td>\n      <td>1993</td>\n      <td>-1250</td>\n      <td>2013-01-01</td>\n      <td>2013-01-01</td>\n    </tr>\n    <tr>\n      <th>37842</th>\n      <td>18.311667</td>\n      <td>16</td>\n      <td>0.0</td>\n      <td>-1</td>\n      <td>493.722222</td>\n      <td>4.0</td>\n      <td>2.2</td>\n      <td>4-Wheel or All-Wheel Drive</td>\n      <td>66031</td>\n      <td>-1</td>\n      <td>...</td>\n      <td>0</td>\n      <td>90</td>\n      <td>Automatic 4</td>\n      <td>20.0000</td>\n      <td>29.0000</td>\n      <td>Compact Cars</td>\n      <td>1993</td>\n      <td>-4500</td>\n      <td>2013-01-01</td>\n      <td>2013-01-01</td>\n    </tr>\n  </tbody>\n</table>\n<p>37843 rows × 34 columns</p>\n</div>"
     },
     "execution_count": 59,
     "metadata": {},
     "output_type": "execute_result"
    }
   ],
   "source": [
    "data.drop_duplicates()"
   ],
   "metadata": {
    "collapsed": false,
    "pycharm": {
     "name": "#%%\n"
    }
   }
  },
  {
   "cell_type": "code",
   "execution_count": 60,
   "outputs": [
    {
     "data": {
      "text/plain": "(37843, 34)"
     },
     "execution_count": 60,
     "metadata": {},
     "output_type": "execute_result"
    }
   ],
   "source": [
    "after = data.shape[0]\n",
    "\n",
    "data.shape"
   ],
   "metadata": {
    "collapsed": false,
    "pycharm": {
     "name": "#%%\n"
    }
   }
  },
  {
   "cell_type": "code",
   "execution_count": 61,
   "outputs": [
    {
     "name": "stdout",
     "output_type": "stream",
     "text": [
      "Number of duplicate records dropped:  0\n"
     ]
    }
   ],
   "source": [
    "print('Number of duplicate records dropped: ', str(before - after))"
   ],
   "metadata": {
    "collapsed": false,
    "pycharm": {
     "name": "#%%\n"
    }
   }
  },
  {
   "cell_type": "markdown",
   "source": [
    "# Export clean dataset\n",
    "Export your bright new clean dataset into a csv file and store it in data folder."
   ],
   "metadata": {
    "collapsed": false,
    "pycharm": {
     "name": "#%% md\n"
    }
   }
  },
  {
   "cell_type": "code",
   "execution_count": 62,
   "outputs": [],
   "source": [
    "data.to_csv('../data/vehicles_clean.csv', index=False)"
   ],
   "metadata": {
    "collapsed": false,
    "pycharm": {
     "name": "#%%\n"
    }
   }
  },
  {
   "cell_type": "code",
   "execution_count": 63,
   "outputs": [
    {
     "data": {
      "text/plain": "   barrels08  city08  city08U  co2  co2TailpipeGpm  cylinders  displ  \\\n0  15.695714      19      0.0   -1      423.190476        4.0    2.0   \n1  29.964545       9      0.0   -1      807.909091       12.0    4.9   \n2  12.207778      23      0.0   -1      329.148148        4.0    2.2   \n3  29.964545      10      0.0   -1      807.909091        8.0    5.2   \n4  17.347895      17      0.0   -1      467.736842        4.0    2.2   \n\n                        drive  engId  feScore  ...  pv2 pv4        trany  \\\n0            Rear-Wheel Drive   9011       -1  ...    0   0     Manual 5   \n1            Rear-Wheel Drive  22020       -1  ...    0   0     Manual 5   \n2           Front-Wheel Drive   2100       -1  ...    0   0     Manual 5   \n3            Rear-Wheel Drive   2850       -1  ...    0   0  Automatic 3   \n4  4-Wheel or All-Wheel Drive  66031       -1  ...    0  90     Manual 5   \n\n     UCity  UHighway           VClass  year  youSaveSpend   createdOn  \\\n0  23.3333   35.0000      Two Seaters  1985         -1250  2013-01-01   \n1  11.0000   19.0000      Two Seaters  1985         -8500  2013-01-01   \n2  29.0000   47.0000  Subcompact Cars  1985           500  2013-01-01   \n3  12.2222   16.6667             Vans  1985         -8500  2013-01-01   \n4  21.0000   32.0000     Compact Cars  1993         -4000  2013-01-01   \n\n   modifiedOn  \n0  2013-01-01  \n1  2013-01-01  \n2  2013-01-01  \n3  2013-01-01  \n4  2013-01-01  \n\n[5 rows x 34 columns]",
      "text/html": "<div>\n<style scoped>\n    .dataframe tbody tr th:only-of-type {\n        vertical-align: middle;\n    }\n\n    .dataframe tbody tr th {\n        vertical-align: top;\n    }\n\n    .dataframe thead th {\n        text-align: right;\n    }\n</style>\n<table border=\"1\" class=\"dataframe\">\n  <thead>\n    <tr style=\"text-align: right;\">\n      <th></th>\n      <th>barrels08</th>\n      <th>city08</th>\n      <th>city08U</th>\n      <th>co2</th>\n      <th>co2TailpipeGpm</th>\n      <th>cylinders</th>\n      <th>displ</th>\n      <th>drive</th>\n      <th>engId</th>\n      <th>feScore</th>\n      <th>...</th>\n      <th>pv2</th>\n      <th>pv4</th>\n      <th>trany</th>\n      <th>UCity</th>\n      <th>UHighway</th>\n      <th>VClass</th>\n      <th>year</th>\n      <th>youSaveSpend</th>\n      <th>createdOn</th>\n      <th>modifiedOn</th>\n    </tr>\n  </thead>\n  <tbody>\n    <tr>\n      <th>0</th>\n      <td>15.695714</td>\n      <td>19</td>\n      <td>0.0</td>\n      <td>-1</td>\n      <td>423.190476</td>\n      <td>4.0</td>\n      <td>2.0</td>\n      <td>Rear-Wheel Drive</td>\n      <td>9011</td>\n      <td>-1</td>\n      <td>...</td>\n      <td>0</td>\n      <td>0</td>\n      <td>Manual 5</td>\n      <td>23.3333</td>\n      <td>35.0000</td>\n      <td>Two Seaters</td>\n      <td>1985</td>\n      <td>-1250</td>\n      <td>2013-01-01</td>\n      <td>2013-01-01</td>\n    </tr>\n    <tr>\n      <th>1</th>\n      <td>29.964545</td>\n      <td>9</td>\n      <td>0.0</td>\n      <td>-1</td>\n      <td>807.909091</td>\n      <td>12.0</td>\n      <td>4.9</td>\n      <td>Rear-Wheel Drive</td>\n      <td>22020</td>\n      <td>-1</td>\n      <td>...</td>\n      <td>0</td>\n      <td>0</td>\n      <td>Manual 5</td>\n      <td>11.0000</td>\n      <td>19.0000</td>\n      <td>Two Seaters</td>\n      <td>1985</td>\n      <td>-8500</td>\n      <td>2013-01-01</td>\n      <td>2013-01-01</td>\n    </tr>\n    <tr>\n      <th>2</th>\n      <td>12.207778</td>\n      <td>23</td>\n      <td>0.0</td>\n      <td>-1</td>\n      <td>329.148148</td>\n      <td>4.0</td>\n      <td>2.2</td>\n      <td>Front-Wheel Drive</td>\n      <td>2100</td>\n      <td>-1</td>\n      <td>...</td>\n      <td>0</td>\n      <td>0</td>\n      <td>Manual 5</td>\n      <td>29.0000</td>\n      <td>47.0000</td>\n      <td>Subcompact Cars</td>\n      <td>1985</td>\n      <td>500</td>\n      <td>2013-01-01</td>\n      <td>2013-01-01</td>\n    </tr>\n    <tr>\n      <th>3</th>\n      <td>29.964545</td>\n      <td>10</td>\n      <td>0.0</td>\n      <td>-1</td>\n      <td>807.909091</td>\n      <td>8.0</td>\n      <td>5.2</td>\n      <td>Rear-Wheel Drive</td>\n      <td>2850</td>\n      <td>-1</td>\n      <td>...</td>\n      <td>0</td>\n      <td>0</td>\n      <td>Automatic 3</td>\n      <td>12.2222</td>\n      <td>16.6667</td>\n      <td>Vans</td>\n      <td>1985</td>\n      <td>-8500</td>\n      <td>2013-01-01</td>\n      <td>2013-01-01</td>\n    </tr>\n    <tr>\n      <th>4</th>\n      <td>17.347895</td>\n      <td>17</td>\n      <td>0.0</td>\n      <td>-1</td>\n      <td>467.736842</td>\n      <td>4.0</td>\n      <td>2.2</td>\n      <td>4-Wheel or All-Wheel Drive</td>\n      <td>66031</td>\n      <td>-1</td>\n      <td>...</td>\n      <td>0</td>\n      <td>90</td>\n      <td>Manual 5</td>\n      <td>21.0000</td>\n      <td>32.0000</td>\n      <td>Compact Cars</td>\n      <td>1993</td>\n      <td>-4000</td>\n      <td>2013-01-01</td>\n      <td>2013-01-01</td>\n    </tr>\n  </tbody>\n</table>\n<p>5 rows × 34 columns</p>\n</div>"
     },
     "execution_count": 63,
     "metadata": {},
     "output_type": "execute_result"
    }
   ],
   "source": [
    "df = pd.read_csv('../data/vehicles_clean.csv')\n",
    "\n",
    "df.head()"
   ],
   "metadata": {
    "collapsed": false,
    "pycharm": {
     "name": "#%%\n"
    }
   }
  }
 ],
 "metadata": {
  "kernelspec": {
   "display_name": "Python 3",
   "language": "python",
   "name": "python3"
  },
  "language_info": {
   "codemirror_mode": {
    "name": "ipython",
    "version": 3
   },
   "file_extension": ".py",
   "mimetype": "text/x-python",
   "name": "python",
   "nbconvert_exporter": "python",
   "pygments_lexer": "ipython3",
   "version": "3.8.5"
  },
  "toc": {
   "base_numbering": 1,
   "nav_menu": {},
   "number_sections": true,
   "sideBar": true,
   "skip_h1_title": false,
   "title_cell": "Table of Contents",
   "title_sidebar": "Contents",
   "toc_cell": true,
   "toc_position": {},
   "toc_section_display": true,
   "toc_window_display": false
  },
  "varInspector": {
   "cols": {
    "lenName": 16,
    "lenType": 16,
    "lenVar": 40
   },
   "kernels_config": {
    "python": {
     "delete_cmd_postfix": "",
     "delete_cmd_prefix": "del ",
     "library": "var_list.py",
     "varRefreshCmd": "print(var_dic_list())"
    },
    "r": {
     "delete_cmd_postfix": ") ",
     "delete_cmd_prefix": "rm(",
     "library": "var_list.r",
     "varRefreshCmd": "cat(var_dic_list()) "
    }
   },
   "types_to_exclude": [
    "module",
    "function",
    "builtin_function_or_method",
    "instance",
    "_Feature"
   ],
   "window_display": false
  }
 },
 "nbformat": 4,
 "nbformat_minor": 2
}